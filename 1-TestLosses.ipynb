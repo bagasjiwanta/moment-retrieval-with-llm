{
 "cells": [
  {
   "cell_type": "code",
   "execution_count": 12,
   "id": "85d084ae",
   "metadata": {},
   "outputs": [],
   "source": [
    "from torch import tensor\n",
    "import torch\n",
    "import torch.nn as nn \n",
    "import torch.functional as F"
   ]
  },
  {
   "cell_type": "markdown",
   "id": "82897d03",
   "metadata": {},
   "source": [
    "# Cross Entropy Loss"
   ]
  },
  {
   "cell_type": "code",
   "execution_count": 8,
   "id": "260b21b3",
   "metadata": {},
   "outputs": [],
   "source": [
    "batch_size = 4\n",
    "vocab_size = 32\n",
    "input_size = 16\n",
    "weights = torch.rand((input_size, vocab_size))\n",
    "inputs = torch.rand((batch_size, input_size))\n",
    "bias = torch.rand((1, vocab_size))"
   ]
  },
  {
   "cell_type": "code",
   "execution_count": 9,
   "id": "8f8724f1",
   "metadata": {},
   "outputs": [],
   "source": [
    "outputs = inputs @ weights + bias"
   ]
  },
  {
   "cell_type": "code",
   "execution_count": 11,
   "id": "555898da",
   "metadata": {},
   "outputs": [
    {
     "data": {
      "text/plain": [
       "(torch.Size([4, 16]),\n",
       " torch.Size([16, 32]),\n",
       " torch.Size([1, 32]),\n",
       " torch.Size([4, 32]))"
      ]
     },
     "execution_count": 11,
     "metadata": {},
     "output_type": "execute_result"
    }
   ],
   "source": [
    "inputs.shape, weights.shape, bias.shape, outputs.shape"
   ]
  },
  {
   "cell_type": "code",
   "execution_count": 18,
   "id": "5978a29c",
   "metadata": {},
   "outputs": [
    {
     "data": {
      "text/plain": [
       "tensor([121.7445, 125.9949, 153.5376, 106.9565])"
      ]
     },
     "execution_count": 18,
     "metadata": {},
     "output_type": "execute_result"
    }
   ],
   "source": [
    "# output cannot be guaranteed to have sum = 1\n",
    "outputs.sum(dim=1)"
   ]
  },
  {
   "cell_type": "code",
   "execution_count": 23,
   "id": "80d9818c",
   "metadata": {},
   "outputs": [],
   "source": [
    "softmax = nn.Softmax(dim=1)\n",
    "yhat = softmax(outputs)"
   ]
  },
  {
   "cell_type": "code",
   "execution_count": 24,
   "id": "b13a27ad",
   "metadata": {},
   "outputs": [
    {
     "data": {
      "text/plain": [
       "tensor([1.0000, 1.0000, 1.0000, 1.0000])"
      ]
     },
     "execution_count": 24,
     "metadata": {},
     "output_type": "execute_result"
    }
   ],
   "source": [
    "yhat.sum(dim=1)"
   ]
  },
  {
   "cell_type": "code",
   "execution_count": 25,
   "id": "da63d893",
   "metadata": {},
   "outputs": [
    {
     "data": {
      "text/plain": [
       "tensor([0.0134, 0.0360, 0.0161, 0.0542, 0.0118, 0.0264, 0.0199, 0.0169, 0.0150,\n",
       "        0.0517, 0.0660, 0.0251, 0.0423, 0.1195, 0.0241, 0.0482, 0.0204, 0.0201,\n",
       "        0.0086, 0.0194, 0.0086, 0.1258, 0.0123, 0.0131, 0.0094, 0.0069, 0.0623,\n",
       "        0.0238, 0.0212, 0.0139, 0.0371, 0.0103])"
      ]
     },
     "execution_count": 25,
     "metadata": {},
     "output_type": "execute_result"
    }
   ],
   "source": [
    "yhat[0]"
   ]
  },
  {
   "cell_type": "code",
   "execution_count": 17,
   "id": "637c6f30",
   "metadata": {},
   "outputs": [
    {
     "data": {
      "text/plain": [
       "tensor([121.7445, 125.9949, 153.5376, 106.9565])"
      ]
     },
     "execution_count": 17,
     "metadata": {},
     "output_type": "execute_result"
    }
   ],
   "source": [
    "outputs.sum(dim=1)"
   ]
  },
  {
   "cell_type": "code",
   "execution_count": 2,
   "id": "d9dcc7de",
   "metadata": {},
   "outputs": [],
   "source": [
    "pred_bbox = tensor([[1,1,1,1,0,0,0,0,0,0,0,0,0,1,1,1,1,1,1,0,0]])\n",
    "test_bbox = tensor([[0,0,1,1,1,1,1,1,0,0,0,0,1,1,0,0,0,0,0,0,0]])\n",
    "\n",
    "pred_span = tensor([[0, 4], [13, 19]])\n",
    "test_span = tensor([[2, 8], [12, 14]])"
   ]
  },
  {
   "cell_type": "code",
   "execution_count": 1,
   "id": "9e06dafd",
   "metadata": {},
   "outputs": [
    {
     "name": "stdout",
     "output_type": "stream",
     "text": [
      "Gradient shape (should be same as logits): torch.Size([2, 30, 255])\n",
      "Gradients computed: True\n"
     ]
    }
   ],
   "source": [
    "import torch\n",
    "import torch.nn as nn\n",
    "\n",
    "# Settings\n",
    "batch_size = 2\n",
    "seq_len = 30\n",
    "vocab_size = 255\n",
    "\n",
    "# Simulated logits output from a model: [batch_size, seq_len, vocab_size]\n",
    "logits = torch.randn(batch_size, seq_len, vocab_size, requires_grad=True)\n",
    "\n",
    "# Simulated target labels: [batch_size, seq_len]\n",
    "# Each value is an integer in the range [0, vocab_size)\n",
    "targets = torch.randint(0, vocab_size, (batch_size, seq_len))\n",
    "\n",
    "# Reshape for CrossEntropyLoss: it expects input of shape [N, C] and target [N]\n",
    "logits_reshaped = logits.view(-1, vocab_size)\n",
    "targets_reshaped = targets.view(-1)\n",
    "\n",
    "# Define loss function\n",
    "criterion = nn.CrossEntropyLoss()\n",
    "\n",
    "# Compute loss\n",
    "loss = criterion(logits_reshaped, targets_reshaped)\n",
    "\n",
    "# Backward pass to compute gradients\n",
    "loss.backward()\n",
    "\n",
    "# Check if gradients exist\n",
    "print(\"Gradient shape (should be same as logits):\", logits.grad.shape)\n",
    "print(\"Gradients computed:\", logits.grad is not None)\n"
   ]
  },
  {
   "cell_type": "code",
   "execution_count": 5,
   "id": "845c8d1e",
   "metadata": {},
   "outputs": [
    {
     "data": {
      "text/plain": [
       "torch.Size([2, 30, 255])"
      ]
     },
     "execution_count": 5,
     "metadata": {},
     "output_type": "execute_result"
    }
   ],
   "source": [
    "logits.grad.shape"
   ]
  },
  {
   "cell_type": "markdown",
   "id": "987023ec",
   "metadata": {},
   "source": [
    "# GIoU implementation from Moment-detr"
   ]
  },
  {
   "cell_type": "code",
   "execution_count": 3,
   "id": "41ca5423",
   "metadata": {},
   "outputs": [],
   "source": [
    "def print_vars(var_dict: dict):\n",
    "    for k, v in var_dict.items():\n",
    "        print(k, v, sep='\\n', end='\\n\\n')"
   ]
  },
  {
   "cell_type": "code",
   "execution_count": 10,
   "id": "3b2b056a",
   "metadata": {},
   "outputs": [],
   "source": [
    "def temporal_iou(spans1, spans2):\n",
    "    \"\"\"\n",
    "    Args:\n",
    "        spans1: (N, 2) torch.Tensor, each row defines a span [st, ed]\n",
    "        spans2: (M, 2) torch.Tensor, ...\n",
    "\n",
    "    Returns:\n",
    "        iou: (N, M) torch.Tensor\n",
    "        union: (N, M) torch.Tensor\n",
    "    >>> test_spans1 = torch.Tensor([[0, 0.2], [0.5, 1.0]])\n",
    "    >>> test_spans2 = torch.Tensor([[0, 0.3], [0., 1.0]])\n",
    "    >>> temporal_iou(test_spans1, test_spans2)\n",
    "    (tensor([[0.6667, 0.2000],\n",
    "         [0.0000, 0.5000]]),\n",
    "     tensor([[0.3000, 1.0000],\n",
    "             [0.8000, 1.0000]]))\n",
    "    \"\"\"\n",
    "    areas1 = spans1[:, 1] - spans1[:, 0]  # (N, )\n",
    "    areas2 = spans2[:, 1] - spans2[:, 0]  # (M, )\n",
    "    left = torch.max(spans1[:, None, 0], spans2[:, 0])  # (N, M)\n",
    "    right = torch.min(spans1[:, None, 1], spans2[:, 1])  # (N, M)\n",
    "    inter = (right - left).clamp(min=0)  # (N, M)\n",
    "    union = areas1[:, None] + areas2 - inter  # (N, M)\n",
    "    iou = inter / union\n",
    "    # print_vars(dict(spans1=spans1, spans2=spans2,\n",
    "    #     areas1=areas1, areas2=areas2, left=left, right=right, inter=inter, union=union, iou=iou,\n",
    "    # ))\n",
    "    # print_vars(dict(\n",
    "    #     sorcery1=spans1[:, None, 0], sorcery2=spans2[:, 0],\n",
    "    #     sorcery3=spans1[:, None, 1], sorcery4=spans2[:, 1]\n",
    "    # ))\n",
    "    return iou, union\n",
    "\n",
    "\n",
    "def generalized_temporal_iou(spans1, spans2):\n",
    "    \"\"\"\n",
    "    Generalized IoU from https://giou.stanford.edu/\n",
    "    Also reference to DETR implementation of generalized_box_iou\n",
    "    https://github.com/facebookresearch/detr/blob/master/util/box_ops.py#L40\n",
    "\n",
    "    Args:\n",
    "        spans1: (N, 2) torch.Tensor, each row defines a span in xx format [st, ed]\n",
    "        spans2: (M, 2) torch.Tensor, ...\n",
    "\n",
    "    Returns:\n",
    "        giou: (N, M) torch.Tensor\n",
    "\n",
    "    >>> test_spans1 = torch.Tensor([[0, 0.2], [0.5, 1.0]])\n",
    "    >>> test_spans2 = torch.Tensor([[0, 0.3], [0., 1.0]])\n",
    "    >>> generalized_temporal_iou(test_spans1, test_spans2)\n",
    "    tensor([[ 0.6667,  0.2000],\n",
    "        [-0.2000,  0.5000]])\n",
    "    \"\"\"\n",
    "    spans1 = spans1.float()\n",
    "    spans2 = spans2.float()\n",
    "    assert (spans1[:, 1] >= spans1[:, 0]).all()\n",
    "    assert (spans2[:, 1] >= spans2[:, 0]).all()\n",
    "    iou, union = temporal_iou(spans1, spans2)\n",
    "\n",
    "    left = torch.min(spans1[:, None, 0], spans2[:, 0])  # (N, M)\n",
    "    right = torch.max(spans1[:, None, 1], spans2[:, 1])  # (N, M)\n",
    "    enclosing_area = (right - left).clamp(min=0)  # (N, M)\n",
    "    print(f\"{enclosing_area=}\")\n",
    "    return iou - (enclosing_area - union) / enclosing_area\n"
   ]
  },
  {
   "cell_type": "code",
   "execution_count": 11,
   "id": "8915befb",
   "metadata": {},
   "outputs": [],
   "source": [
    "pred_bbox = tensor([[1,1,1,1,0,0,0,0,0,0,0,0,0,1,1,1,1,1,1,0,0]])\n",
    "test_bbox = tensor([[0,0,1,1,1,1,1,1,0,0,0,0,1,1,0,0,0,0,0,0,0]])"
   ]
  },
  {
   "cell_type": "code",
   "execution_count": 12,
   "id": "2700fc56",
   "metadata": {},
   "outputs": [
    {
     "data": {
      "text/plain": [
       "tensor([[0.0000, 0.2000],\n",
       "        [0.6500, 0.9500]], requires_grad=True)"
      ]
     },
     "execution_count": 12,
     "metadata": {},
     "output_type": "execute_result"
    }
   ],
   "source": [
    "pred_span = tensor([[0, 4], [13, 19]], dtype=torch.float32) / 20\n",
    "test_span = tensor([[2, 8], [12, 14]], dtype=torch.float32) / 20\n",
    "pred_span.requires_grad_()"
   ]
  },
  {
   "cell_type": "code",
   "execution_count": 14,
   "id": "d25ce971",
   "metadata": {},
   "outputs": [
    {
     "name": "stdout",
     "output_type": "stream",
     "text": [
      "enclosing_area=tensor([[0.4000, 0.7000],\n",
      "        [0.8500, 0.3500]], grad_fn=<ClampBackward1>)\n",
      "tensor([[-0.3125, -1.2500],\n",
      "        [ 1.4286,  0.2041]])\n"
     ]
    }
   ],
   "source": [
    "import torch\n",
    "\n",
    "# call your differentiable IoU/GIoU fn\n",
    "giou = generalized_temporal_iou(pred_span, test_span)  # shape (1,1)\n",
    "loss = (1 - torch.diag(giou)).mean()\n",
    "loss.backward()\n",
    "\n",
    "print(pred_span.grad)  # if this is all zeros, gradient died in the loop\n"
   ]
  },
  {
   "cell_type": "code",
   "execution_count": 69,
   "id": "fe23533f",
   "metadata": {},
   "outputs": [],
   "source": [
    "left = torch.max(\n",
    "    tensor([[ 0],\n",
    "            [13]]),\n",
    "    tensor([2, 12])\n",
    ")"
   ]
  },
  {
   "cell_type": "code",
   "execution_count": 68,
   "id": "d43bdb31",
   "metadata": {},
   "outputs": [],
   "source": [
    "right = torch.min(\n",
    "    tensor([[ 4],\n",
    "            [19]]),\n",
    "    tensor([8, 14])\n",
    ")"
   ]
  },
  {
   "cell_type": "code",
   "execution_count": 73,
   "id": "907727bd",
   "metadata": {},
   "outputs": [
    {
     "data": {
      "text/plain": [
       "(tensor([[ 4,  4],\n",
       "         [ 8, 14]]),\n",
       " tensor([[ 2, 12],\n",
       "         [13, 13]]),\n",
       " tensor([[ 2, -8],\n",
       "         [-5,  1]]))"
      ]
     },
     "execution_count": 73,
     "metadata": {},
     "output_type": "execute_result"
    }
   ],
   "source": [
    "right, left, (right-left)"
   ]
  },
  {
   "cell_type": "code",
   "execution_count": 66,
   "id": "c51ef5ad",
   "metadata": {},
   "outputs": [
    {
     "name": "stdout",
     "output_type": "stream",
     "text": [
      "spans1\n",
      "tensor([[ 0,  4],\n",
      "        [13, 19]])\n",
      "\n",
      "spans2\n",
      "tensor([[ 2,  8],\n",
      "        [12, 14]])\n",
      "\n",
      "areas1\n",
      "tensor([4, 6])\n",
      "\n",
      "areas2\n",
      "tensor([6, 2])\n",
      "\n",
      "left\n",
      "tensor([[ 2, 12],\n",
      "        [13, 13]])\n",
      "\n",
      "right\n",
      "tensor([[ 4,  4],\n",
      "        [ 8, 14]])\n",
      "\n",
      "inter\n",
      "tensor([[2, 0],\n",
      "        [0, 1]])\n",
      "\n",
      "union\n",
      "tensor([[ 8,  6],\n",
      "        [12,  7]])\n",
      "\n",
      "iou\n",
      "tensor([[0.2500, 0.0000],\n",
      "        [0.0000, 0.1429]])\n",
      "\n",
      "sorcery1\n",
      "tensor([[ 0],\n",
      "        [13]])\n",
      "\n",
      "sorcery2\n",
      "tensor([ 2, 12])\n",
      "\n",
      "sorcery3\n",
      "tensor([[ 4],\n",
      "        [19]])\n",
      "\n",
      "sorcery4\n",
      "tensor([ 8, 14])\n",
      "\n"
     ]
    },
    {
     "data": {
      "text/plain": [
       "(tensor([[0.2500, 0.0000],\n",
       "         [0.0000, 0.1429]]),\n",
       " tensor([[ 8,  6],\n",
       "         [12,  7]]))"
      ]
     },
     "execution_count": 66,
     "metadata": {},
     "output_type": "execute_result"
    }
   ],
   "source": [
    "temporal_iou(\n",
    "    pred_span, test_span\n",
    ")"
   ]
  },
  {
   "cell_type": "code",
   "execution_count": 75,
   "id": "0042f31a",
   "metadata": {},
   "outputs": [
    {
     "data": {
      "text/plain": [
       "tensor(0.1964)"
      ]
     },
     "execution_count": 75,
     "metadata": {},
     "output_type": "execute_result"
    }
   ],
   "source": [
    "torch.diag(tensor([[0.2500, 0.0000],\n",
    "         [0.0000, 0.1429]])).mean()"
   ]
  },
  {
   "cell_type": "code",
   "execution_count": 58,
   "id": "612e31fc",
   "metadata": {},
   "outputs": [
    {
     "name": "stdout",
     "output_type": "stream",
     "text": [
      "areas1\n",
      "tensor([4., 6.])\n",
      "\n",
      "areas2\n",
      "tensor([6., 2.])\n",
      "\n",
      "left\n",
      "tensor([[ 2., 12.],\n",
      "        [13., 13.]])\n",
      "\n",
      "right\n",
      "tensor([[ 4.,  4.],\n",
      "        [ 8., 14.]])\n",
      "\n",
      "inter\n",
      "tensor([[2., 0.],\n",
      "        [0., 1.]])\n",
      "\n",
      "union\n",
      "tensor([[ 8.,  6.],\n",
      "        [12.,  7.]])\n",
      "\n",
      "iou\n",
      "tensor([[0.2500, 0.0000],\n",
      "        [0.0000, 0.1429]])\n",
      "\n",
      "sorcery1\n",
      "tensor([[ 0.],\n",
      "        [13.]])\n",
      "\n",
      "sorcery2\n",
      "tensor([ 2., 12.])\n",
      "\n",
      "enclosing_area=tensor([[ 8., 14.],\n",
      "        [17.,  7.]])\n"
     ]
    },
    {
     "data": {
      "text/plain": [
       "tensor([[ 0.2500, -0.5714],\n",
       "        [-0.2941,  0.1429]])"
      ]
     },
     "execution_count": 58,
     "metadata": {},
     "output_type": "execute_result"
    }
   ],
   "source": [
    "giou_span = generalized_temporal_iou(pred_span, test_span)\n",
    "giou_span"
   ]
  },
  {
   "cell_type": "code",
   "execution_count": 20,
   "id": "1abdd621",
   "metadata": {},
   "outputs": [
    {
     "data": {
      "text/plain": [
       "(tensor([0.7500, 0.8571]), tensor(0.8036))"
      ]
     },
     "execution_count": 20,
     "metadata": {},
     "output_type": "execute_result"
    }
   ],
   "source": [
    "giou_loss_span = 1 - torch.diag(giou_span)\n",
    "giou_loss_span, giou_loss_span.mean()"
   ]
  },
  {
   "cell_type": "markdown",
   "id": "783efd05",
   "metadata": {},
   "source": [
    "# BBox Implementation"
   ]
  },
  {
   "cell_type": "code",
   "execution_count": 21,
   "id": "8b48a130",
   "metadata": {},
   "outputs": [],
   "source": [
    "def temporal_iou_bbox(masks1, masks2):\n",
    "    \"\"\"\n",
    "    Args:\n",
    "        masks1: (N, L) torch.Tensor with binary values (0 or 1)\n",
    "        masks2: (M, L) torch.Tensor with binary values (0 or 1)\n",
    "\n",
    "    Returns:\n",
    "        iou: (N, M) torch.Tensor\n",
    "        union: (N, M) torch.Tensor\n",
    "    \"\"\"\n",
    "    masks1 = masks1.float()\n",
    "    masks2 = masks2.float()\n",
    "\n",
    "    # (N, M, L) shape after broadcasting\n",
    "    intersection = (masks1[:, None, :] * masks2[None, :, :]).sum(dim=2)\n",
    "    area1 = masks1.sum(dim=1)  # (N,)\n",
    "    area2 = masks2.sum(dim=1)  # (M,)\n",
    "    union = area1[:, None] + area2[None, :] - intersection  # (N, M)\n",
    "\n",
    "    iou = intersection / union.clamp(min=1e-6)\n",
    "    return iou, union\n",
    "\n",
    "\n",
    "def generalized_temporal_iou_bbox(masks1, masks2):\n",
    "    \"\"\"\n",
    "    Generalized IoU for 1D segmentation masks.\n",
    "\n",
    "    Args:\n",
    "        masks1: (N, L) torch.Tensor with binary values (0 or 1)\n",
    "        masks2: (M, L) torch.Tensor with binary values (0 or 1)\n",
    "\n",
    "    Returns:\n",
    "        giou: (N, M) torch.Tensor\n",
    "    \"\"\"\n",
    "    masks1 = masks1.float()\n",
    "    masks2 = masks2.float()\n",
    "\n",
    "    iou, union = temporal_iou_bbox(masks1, masks2)\n",
    "\n",
    "    # Enclosing box: union of supports (non-zero positions)\n",
    "    # Find leftmost and rightmost 1s in either mask\n",
    "    N, L = masks1.shape\n",
    "    M = masks2.shape[0]\n",
    "\n",
    "    enclosing_area = torch.zeros((N, M), dtype=torch.float32)\n",
    "\n",
    "    for i in range(N):\n",
    "        idx1 = torch.where(masks1[i] > 0)[0]\n",
    "        if len(idx1) == 0:\n",
    "            continue\n",
    "        min1, max1 = idx1[0].item(), idx1[-1].item()\n",
    "        for j in range(M):\n",
    "            idx2 = torch.where(masks2[j] > 0)[0]\n",
    "            if len(idx2) == 0:\n",
    "                continue\n",
    "            min2, max2 = idx2[0].item(), idx2[-1].item()\n",
    "            left = min(min1, min2)\n",
    "            right = max(max1, max2)\n",
    "            enclosing_area[i, j] = right - left + 1  # +1 for inclusive span\n",
    "\n",
    "    giou = iou - (enclosing_area - union) / enclosing_area.clamp(min=1e-6)\n",
    "    return giou"
   ]
  },
  {
   "cell_type": "code",
   "execution_count": 93,
   "id": "c72cecc1",
   "metadata": {},
   "outputs": [
    {
     "name": "stdout",
     "output_type": "stream",
     "text": [
      "tensor([[-0.0506, -0.0506, -0.0506, -0.0833, -0.0833, -0.0833, -0.0833, -0.0833,\n",
      "         -0.0833, -0.0506, -0.0506, -0.0506, -0.0506, -0.0833, -0.0833, -0.0506,\n",
      "         -0.0506, -0.0506, -0.0506, -0.0506, -0.0506]])\n"
     ]
    }
   ],
   "source": [
    "import torch\n",
    "\n",
    "# toy continuous “mask” (not hard 0/1) so gradients can flow\n",
    "pred = torch.tensor([[0,0,0,0,0,0,1,1,1,1,1,0,0,0,0,1,1,0,0,0,0]], requires_grad=True, dtype=torch.float32)\n",
    "# treat test as fixed float mask\n",
    "test = torch.tensor([[0,0,0,1,1,1,1,1,1,0,0,0,0,1,1,0,0,0,0,0,0]], dtype=torch.float32)\n",
    "\n",
    "# call your differentiable IoU/GIoU fn\n",
    "giou = generalized_temporal_iou_bbox(pred, test)  # shape (1,1)\n",
    "loss = 1 - giou[0,0]\n",
    "loss.backward()\n",
    "\n",
    "print(pred.grad)  # if this is all zeros, gradient died in the loop\n"
   ]
  },
  {
   "cell_type": "code",
   "execution_count": 95,
   "id": "485bcab5",
   "metadata": {},
   "outputs": [
    {
     "data": {
      "text/plain": [
       "tensor([[0.8929]], grad_fn=<RsubBackward1>)"
      ]
     },
     "execution_count": 95,
     "metadata": {},
     "output_type": "execute_result"
    }
   ],
   "source": [
    "1- generalized_temporal_iou_bbox(pred, test)"
   ]
  },
  {
   "cell_type": "code",
   "execution_count": 22,
   "id": "e5618c8d",
   "metadata": {},
   "outputs": [
    {
     "data": {
      "text/plain": [
       "(tensor([[0.2000]]), tensor([[15.]]))"
      ]
     },
     "execution_count": 22,
     "metadata": {},
     "output_type": "execute_result"
    }
   ],
   "source": [
    "temporal_iou_bbox(pred_bbox, test_bbox)"
   ]
  },
  {
   "cell_type": "code",
   "execution_count": 26,
   "id": "9c01fade",
   "metadata": {},
   "outputs": [
    {
     "data": {
      "text/plain": [
       "tensor([[-0.0105]])"
      ]
     },
     "execution_count": 26,
     "metadata": {},
     "output_type": "execute_result"
    }
   ],
   "source": [
    "generalized_temporal_iou_bbox(pred_bbox, test_bbox)"
   ]
  },
  {
   "cell_type": "code",
   "execution_count": 13,
   "id": "a00c8419",
   "metadata": {},
   "outputs": [
    {
     "data": {
      "text/plain": [
       "tensor([1.0105])"
      ]
     },
     "execution_count": 13,
     "metadata": {},
     "output_type": "execute_result"
    }
   ],
   "source": [
    "1 - torch.diag(generalized_temporal_iou_bbox(pred_bbox, test_bbox))"
   ]
  },
  {
   "cell_type": "code",
   "execution_count": null,
   "id": "ad3baeda",
   "metadata": {},
   "outputs": [],
   "source": [
    "\n",
    "\n",
    "intersection = torch.sum(pred_bbox & test_bbox)\n",
    "area_pred = torch.sum(pred_bbox)\n",
    "area_test = torch.sum(test_bbox)\n",
    "union = area_pred + area_test - intersection\n"
   ]
  },
  {
   "cell_type": "code",
   "execution_count": null,
   "id": "ab99ecb5",
   "metadata": {},
   "outputs": [],
   "source": [
    "import numpy as np\n",
    "\n",
    "def giou_1d(pred, test):\n",
    "    pred = np.array(pred)\n",
    "    test = np.array(test)\n",
    "\n",
    "    intersection = np.sum(pred & test)\n",
    "    area_pred = np.sum(pred)\n",
    "    area_test = np.sum(test)\n",
    "    union = area_pred + area_test - intersection\n",
    "\n",
    "    if union == 0:\n",
    "        return 1.0  # Special case: empty pred and test\n",
    "\n",
    "    active_indices = np.where((pred + test) > 0)[0]\n",
    "    x1_c = active_indices[0]\n",
    "    x2_c = active_indices[-1]\n",
    "    area_c = x2_c - x1_c + 1\n",
    "\n",
    "    iou = intersection / union\n",
    "    giou = iou - (area_c - union) / area_c\n",
    "\n",
    "    return giou\n",
    "\n",
    "# Example\n",
    "pred_bbox = [1,1,1,1,1,1,1,1,0,0,0,0,0,0,0,0,0,0,0,0]\n",
    "test_bbox = [0,0,0,0,0,0,0,1,1,1,1,1,1,1,1,1,1,1,1,1]\n",
    "\n",
    "print(giou_1d(pred_bbox, test_bbox))\n"
   ]
  },
  {
   "cell_type": "code",
   "execution_count": null,
   "id": "1ef2a46a",
   "metadata": {},
   "outputs": [],
   "source": [
    "span_cxw_to_xx()"
   ]
  },
  {
   "cell_type": "code",
   "execution_count": null,
   "id": "6dcae9cc",
   "metadata": {},
   "outputs": [],
   "source": [
    "preds = torch.zeros((5, 40))\n",
    "tests = torch.zeros((5, 40))\n",
    "\n",
    "tests[0][1:8] = 1\n",
    "tests[0][]"
   ]
  },
  {
   "cell_type": "code",
   "execution_count": null,
   "id": "244a7ad7",
   "metadata": {},
   "outputs": [],
   "source": [
    "generalized_temporal_iou(\n",
    "    tensor([1,1,1,1,0,0,0,0,0,0,0,0,0,0,0,0,0,0]),\n",
    "    tensor([0,1,1,1,1,1,0,0,0,0,0,0,0,0,0,0,0,0])\n",
    ")"
   ]
  }
 ],
 "metadata": {
  "kernelspec": {
   "display_name": "env311",
   "language": "python",
   "name": "python3"
  },
  "language_info": {
   "codemirror_mode": {
    "name": "ipython",
    "version": 3
   },
   "file_extension": ".py",
   "mimetype": "text/x-python",
   "name": "python",
   "nbconvert_exporter": "python",
   "pygments_lexer": "ipython3",
   "version": "3.11.9"
  }
 },
 "nbformat": 4,
 "nbformat_minor": 5
}
