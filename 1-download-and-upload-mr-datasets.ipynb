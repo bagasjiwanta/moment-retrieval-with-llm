{
 "cells": [
  {
   "cell_type": "markdown",
   "id": "2ca6cb16-b144-46a7-a541-b154cea1e603",
   "metadata": {
    "jp-MarkdownHeadingCollapsed": true
   },
   "source": [
    "# Download QVHighlights and Charades-STA Dataset and Upload to HF and Kaggle\n",
    "\n",
    "1. Download each dataset\n",
    "2. Upload splits to HF and Kaggle"
   ]
  },
  {
   "cell_type": "markdown",
   "id": "c8aefad0-08b5-45d5-bb73-8dc6f2e808ff",
   "metadata": {},
   "source": [
    "## Install aria2, hf cli, and kaggle cli"
   ]
  },
  {
   "cell_type": "code",
   "execution_count": 5,
   "id": "90d1eff1-247f-4251-bfa4-c04804efb065",
   "metadata": {
    "scrolled": true
   },
   "outputs": [
    {
     "name": "stderr",
     "output_type": "stream",
     "text": [
      "\n",
      "WARNING: apt does not have a stable CLI interface. Use with caution in scripts.\n",
      "\n"
     ]
    },
    {
     "name": "stdout",
     "output_type": "stream",
     "text": [
      "Hit:1 http://security.ubuntu.com/ubuntu jammy-security InRelease\n",
      "Hit:2 https://developer.download.nvidia.com/compute/cuda/repos/ubuntu2204/x86_64  InRelease\n",
      "Hit:3 http://archive.ubuntu.com/ubuntu jammy InRelease\n",
      "Get:4 http://archive.ubuntu.com/ubuntu jammy-updates InRelease [128 kB]\n",
      "Hit:5 http://archive.ubuntu.com/ubuntu jammy-backports InRelease\n",
      "Fetched 128 kB in 1s (101 kB/s)\n",
      "Reading package lists...\n",
      "Building dependency tree...\n",
      "Reading state information...\n",
      "57 packages can be upgraded. Run 'apt list --upgradable' to see them.\n",
      "Reading package lists...\n",
      "Building dependency tree...\n",
      "Reading state information...\n",
      "software-properties-common is already the newest version (0.99.22.9).\n",
      "0 upgraded, 0 newly installed, 0 to remove and 57 not upgraded.\n"
     ]
    }
   ],
   "source": [
    "%%bash\n",
    "sudo apt update\n",
    "sudo apt-get install software-properties-common"
   ]
  },
  {
   "cell_type": "code",
   "execution_count": 11,
   "id": "c24f047f-6ef9-4090-a5e9-190b1bd0c91d",
   "metadata": {
    "scrolled": true
   },
   "outputs": [
    {
     "name": "stdout",
     "output_type": "stream",
     "text": [
      "Hit:1 https://developer.download.nvidia.com/compute/cuda/repos/ubuntu2204/x86_64  InRelease\n",
      "Hit:2 http://security.ubuntu.com/ubuntu jammy-security InRelease\n",
      "Hit:3 http://archive.ubuntu.com/ubuntu jammy InRelease\n",
      "Hit:4 http://archive.ubuntu.com/ubuntu jammy-updates InRelease\n",
      "Hit:5 http://archive.ubuntu.com/ubuntu jammy-backports InRelease\n",
      "Hit:6 https://ppa.launchpadcontent.net/savoury1/backports/ubuntu jammy InRelease\n",
      "Reading package lists...\n",
      "Reading package lists...\n",
      "Building dependency tree...\n",
      "Reading state information...\n",
      "The following additional packages will be installed:\n",
      "  libaria2-0 libc-ares2 libgmp10 libssh2-1\n",
      "The following NEW packages will be installed:\n",
      "  aria2 libaria2-0 libc-ares2 libssh2-1\n",
      "The following packages will be upgraded:\n",
      "  libgmp10\n",
      "1 upgraded, 4 newly installed, 0 to remove and 88 not upgraded.\n",
      "Need to get 1890 kB of archives.\n",
      "After this operation, 5967 kB of additional disk space will be used.\n",
      "Get:1 http://archive.ubuntu.com/ubuntu jammy-updates/main amd64 libc-ares2 amd64 1.18.1-1ubuntu0.22.04.3 [45.1 kB]\n",
      "Get:2 http://archive.ubuntu.com/ubuntu jammy/universe amd64 libssh2-1 amd64 1.10.0-3 [109 kB]\n",
      "Get:3 https://ppa.launchpadcontent.net/savoury1/backports/ubuntu jammy/main amd64 libgmp10 amd64 2:6.3.0+dfsg-2ubuntu4~22.04.sav0 [266 kB]\n",
      "Get:4 https://ppa.launchpadcontent.net/savoury1/backports/ubuntu jammy/main amd64 libaria2-0 amd64 1.37.0-0ubuntu1~22.04.sav0 [1078 kB]\n",
      "Get:5 https://ppa.launchpadcontent.net/savoury1/backports/ubuntu jammy/main amd64 aria2 amd64 1.37.0-0ubuntu1~22.04.sav0 [391 kB]\n"
     ]
    },
    {
     "name": "stderr",
     "output_type": "stream",
     "text": [
      "debconf: delaying package configuration, since apt-utils is not installed\n"
     ]
    },
    {
     "name": "stdout",
     "output_type": "stream",
     "text": [
      "Fetched 1890 kB in 1s (1587 kB/s)\n",
      "(Reading database ... 22951 files and directories currently installed.)\n",
      "Preparing to unpack .../libgmp10_2%3a6.3.0+dfsg-2ubuntu4~22.04.sav0_amd64.deb ...\n",
      "Unpacking libgmp10:amd64 (2:6.3.0+dfsg-2ubuntu4~22.04.sav0) over (2:6.2.1+dfsg-3ubuntu1) ...\n",
      "Setting up libgmp10:amd64 (2:6.3.0+dfsg-2ubuntu4~22.04.sav0) ...\n",
      "Selecting previously unselected package libc-ares2:amd64.\n",
      "(Reading database ... 22951 files and directories currently installed.)\n",
      "Preparing to unpack .../libc-ares2_1.18.1-1ubuntu0.22.04.3_amd64.deb ...\n",
      "Unpacking libc-ares2:amd64 (1.18.1-1ubuntu0.22.04.3) ...\n",
      "Selecting previously unselected package libssh2-1:amd64.\n",
      "Preparing to unpack .../libssh2-1_1.10.0-3_amd64.deb ...\n",
      "Unpacking libssh2-1:amd64 (1.10.0-3) ...\n",
      "Selecting previously unselected package libaria2-0:amd64.\n",
      "Preparing to unpack .../libaria2-0_1.37.0-0ubuntu1~22.04.sav0_amd64.deb ...\n",
      "Unpacking libaria2-0:amd64 (1.37.0-0ubuntu1~22.04.sav0) ...\n",
      "Selecting previously unselected package aria2.\n",
      "Preparing to unpack .../aria2_1.37.0-0ubuntu1~22.04.sav0_amd64.deb ...\n",
      "Unpacking aria2 (1.37.0-0ubuntu1~22.04.sav0) ...\n",
      "Setting up libc-ares2:amd64 (1.18.1-1ubuntu0.22.04.3) ...\n",
      "Setting up libssh2-1:amd64 (1.10.0-3) ...\n",
      "Setting up libaria2-0:amd64 (1.37.0-0ubuntu1~22.04.sav0) ...\n",
      "Setting up aria2 (1.37.0-0ubuntu1~22.04.sav0) ...\n",
      "Processing triggers for libc-bin (2.35-0ubuntu3.6) ...\n"
     ]
    }
   ],
   "source": [
    "%%bash\n",
    "# sudo add-apt-repository ppa:savoury1/backports\n",
    "sudo apt-get update\n",
    "sudo apt-get install aria2 -y"
   ]
  },
  {
   "cell_type": "code",
   "execution_count": 13,
   "id": "4264aba0-36f4-4935-b73f-34cd13f14e48",
   "metadata": {},
   "outputs": [
    {
     "name": "stdout",
     "output_type": "stream",
     "text": [
      "aria2 version 1.37.0\n",
      "Copyright (C) 2006, 2019 Tatsuhiro Tsujikawa\n",
      "\n",
      "This program is free software; you can redistribute it and/or modify\n",
      "it under the terms of the GNU General Public License as published by\n",
      "the Free Software Foundation; either version 2 of the License, or\n",
      "(at your option) any later version.\n",
      "\n",
      "This program is distributed in the hope that it will be useful,\n",
      "but WITHOUT ANY WARRANTY; without even the implied warranty of\n",
      "MERCHANTABILITY or FITNESS FOR A PARTICULAR PURPOSE.  See the\n",
      "GNU General Public License for more details.\n",
      "\n",
      "** Configuration **\n",
      "Enabled Features: Async DNS, BitTorrent, Firefox3 Cookie, GZip, HTTPS, Message Digest, Metalink, XML-RPC, SFTP\n",
      "Hash Algorithms: sha-1, sha-224, sha-256, sha-384, sha-512, md5, adler32\n",
      "Libraries: zlib/1.2.13 libxml2/2.9.13 sqlite3/3.37.2 GnuTLS/3.7.3 nettle GMP/6.3.0 c-ares/1.18.1 libssh2/1.10.0\n",
      "Compiler: gcc 11.4.0\n",
      "  built by  x86_64-pc-linux-gnu\n",
      "  on        Nov 21 2023 22:57:34\n",
      "System: Linux 6.8.0-57-generic #59~22.04.1-Ubuntu SMP PREEMPT_DYNAMIC Wed Mar 19 17:07:41 UTC 2 x86_64\n",
      "\n",
      "Report bugs to https://github.com/aria2/aria2/issues\n",
      "Visit https://aria2.github.io/\n"
     ]
    }
   ],
   "source": [
    "%%bash\n",
    "aria2c --version"
   ]
  },
  {
   "cell_type": "code",
   "execution_count": 25,
   "id": "70ecd6b1-7a5c-455f-85b9-e0c81b6db809",
   "metadata": {
    "scrolled": true
   },
   "outputs": [
    {
     "name": "stderr",
     "output_type": "stream",
     "text": [
      "\u001b[33mWARNING: Running pip as the 'root' user can result in broken permissions and conflicting behaviour with the system package manager, possibly rendering your system unusable.It is recommended to use a virtual environment instead: https://pip.pypa.io/warnings/venv. Use the --root-user-action option if you know what you are doing and want to suppress this warning.\u001b[0m\u001b[33m\n",
      "\u001b[0m"
     ]
    }
   ],
   "source": [
    "%%bash\n",
    "pip install -q -U \"huggingface_hub[cli]\"\n",
    "# login done in background"
   ]
  },
  {
   "cell_type": "code",
   "execution_count": 31,
   "id": "5d4a3d90-93e1-40f0-88e7-8eb79c894ed1",
   "metadata": {
    "scrolled": true
   },
   "outputs": [
    {
     "name": "stdout",
     "output_type": "stream",
     "text": [
      "Reading package lists...\n",
      "Building dependency tree...\n",
      "Reading state information...\n",
      "Suggested packages:\n",
      "  zip\n",
      "The following NEW packages will be installed:\n",
      "  unzip\n",
      "0 upgraded, 1 newly installed, 0 to remove and 88 not upgraded.\n",
      "Need to get 185 kB of archives.\n",
      "After this operation, 423 kB of additional disk space will be used.\n",
      "Get:1 https://ppa.launchpadcontent.net/savoury1/backports/ubuntu jammy/main amd64 unzip amd64 6.0-28ubuntu6~22.04.sav0 [185 kB]\n"
     ]
    },
    {
     "name": "stderr",
     "output_type": "stream",
     "text": [
      "debconf: delaying package configuration, since apt-utils is not installed\n"
     ]
    },
    {
     "name": "stdout",
     "output_type": "stream",
     "text": [
      "Fetched 185 kB in 2s (123 kB/s)\n",
      "Selecting previously unselected package unzip.\n",
      "(Reading database ... 23036 files and directories currently installed.)\n",
      "Preparing to unpack .../unzip_6.0-28ubuntu6~22.04.sav0_amd64.deb ...\n",
      "Unpacking unzip (6.0-28ubuntu6~22.04.sav0) ...\n",
      "Setting up unzip (6.0-28ubuntu6~22.04.sav0) ...\n",
      "Hit:1 https://developer.download.nvidia.com/compute/cuda/repos/ubuntu2204/x86_64  InRelease\n",
      "Hit:2 http://security.ubuntu.com/ubuntu jammy-security InRelease\n",
      "Hit:3 http://archive.ubuntu.com/ubuntu jammy InRelease\n",
      "Hit:4 http://archive.ubuntu.com/ubuntu jammy-updates InRelease\n",
      "Hit:5 http://archive.ubuntu.com/ubuntu jammy-backports InRelease\n",
      "Hit:6 https://ppa.launchpadcontent.net/savoury1/backports/ubuntu jammy InRelease\n",
      "Reading package lists...\n"
     ]
    }
   ],
   "source": [
    "%%bash\n",
    "apt-get install unzip\n",
    "apt-get update"
   ]
  },
  {
   "cell_type": "markdown",
   "id": "472f6849-afed-4233-9406-3a0e251825ff",
   "metadata": {},
   "source": [
    "# Download and process Charades-STA\n",
    "\n",
    "This is the smaller dataset of the two, let's process this one first\n",
    "\n",
    "URL: https://ai2-public-datasets.s3-us-west-2.amazonaws.com/charades/Charades_v1.zip\n",
    "\n",
    "Download using parallel connection (s=2) with max=2"
   ]
  },
  {
   "cell_type": "code",
   "execution_count": null,
   "id": "1e6092c3-3f77-424d-b7cd-405eca940c72",
   "metadata": {
    "scrolled": true
   },
   "outputs": [],
   "source": [
    "%%bash\n",
    "\n",
    "aria2c -x 2 -s 2 https://ai2-public-datasets.s3-us-west-2.amazonaws.com/charades/Charades_v1.zip"
   ]
  },
  {
   "cell_type": "code",
   "execution_count": null,
   "id": "c930abd6-9865-4375-93be-52f02bd21f93",
   "metadata": {
    "scrolled": true
   },
   "outputs": [],
   "source": [
    "%%bash\n",
    "\n",
    "mkdir -p Charades_v1\n",
    "unzip -q Charades_v1.zip -d Charades_v1/"
   ]
  },
  {
   "cell_type": "code",
   "execution_count": 68,
   "id": "e07a7678-7cdd-49cc-baf3-3040a24c5c78",
   "metadata": {},
   "outputs": [
    {
     "name": "stdout",
     "output_type": "stream",
     "text": [
      "9848\n"
     ]
    }
   ],
   "source": [
    "# total videos\n",
    "!ls -1 Charades_v1/Charades_v1 | wc -l"
   ]
  },
  {
   "cell_type": "code",
   "execution_count": 70,
   "id": "5819b59e-9f06-4ca5-ad69-c875933f9997",
   "metadata": {},
   "outputs": [],
   "source": [
    "!rm Charades_v1.zip"
   ]
  },
  {
   "cell_type": "markdown",
   "id": "95140c54-500e-454c-86f5-28422f36104e",
   "metadata": {},
   "source": [
    "### Test split"
   ]
  },
  {
   "cell_type": "code",
   "execution_count": 35,
   "id": "1a0fdc56-c25e-462d-bdb1-df4e69a6723a",
   "metadata": {},
   "outputs": [
    {
     "name": "stdout",
     "output_type": "stream",
     "text": [
      "--2025-04-22 09:03:17--  https://huggingface.co/datasets/jwnt4/charades-sta-test/resolve/main/charades_sta_test.txt\n",
      "Resolving huggingface.co (huggingface.co)... 3.161.213.11, 3.161.213.110, 3.161.213.58, ...\n",
      "Connecting to huggingface.co (huggingface.co)|3.161.213.11|:443... connected.\n",
      "HTTP request sent, awaiting response... 200 OK\n",
      "Length: 186686 (182K) [text/plain]\n",
      "Saving to: ‘charades_sta_test.txt’\n",
      "\n",
      "charades_sta_test.t 100%[===================>] 182.31K  --.-KB/s    in 0.01s   \n",
      "\n",
      "2025-04-22 09:03:17 (12.7 MB/s) - ‘charades_sta_test.txt’ saved [186686/186686]\n",
      "\n"
     ]
    }
   ],
   "source": [
    "!wget https://huggingface.co/datasets/jwnt4/charades-sta-test/resolve/main/charades_sta_test.txt"
   ]
  },
  {
   "cell_type": "code",
   "execution_count": 37,
   "id": "6c735955-b50d-4302-932a-33ebfa741faf",
   "metadata": {},
   "outputs": [],
   "source": [
    "with open('charades_sta_test.txt', 'r') as f:\n",
    "    charades_sta_test = f.read()"
   ]
  },
  {
   "cell_type": "code",
   "execution_count": 42,
   "id": "d80f2bca-a936-42f7-b07b-f7a2cdafc252",
   "metadata": {},
   "outputs": [
    {
     "name": "stderr",
     "output_type": "stream",
     "text": [
      "100%|██████████| 3720/3720 [00:00<00:00, 854573.93it/s]\n"
     ]
    }
   ],
   "source": [
    "from tqdm import tqdm\n",
    "test_videos = set()\n",
    "for lines in tqdm(charades_sta_test.strip().split('\\n')):\n",
    "    test_videos.add(lines[0:5])"
   ]
  },
  {
   "cell_type": "code",
   "execution_count": 43,
   "id": "fad3740a-e2eb-4cdb-a688-422cafaf032b",
   "metadata": {},
   "outputs": [
    {
     "data": {
      "text/plain": [
       "1334"
      ]
     },
     "execution_count": 43,
     "metadata": {},
     "output_type": "execute_result"
    }
   ],
   "source": [
    "len(test_videos)"
   ]
  },
  {
   "cell_type": "code",
   "execution_count": 44,
   "id": "68bc0ac7-6b32-4f09-9365-7262373830ca",
   "metadata": {},
   "outputs": [],
   "source": [
    "%%bash\n",
    "mkdir -p test/ train/"
   ]
  },
  {
   "cell_type": "code",
   "execution_count": 52,
   "id": "139f7891-53ac-4477-8a1e-896058695668",
   "metadata": {},
   "outputs": [
    {
     "name": "stderr",
     "output_type": "stream",
     "text": [
      "100%|██████████| 1334/1334 [00:01<00:00, 764.87it/s]\n"
     ]
    }
   ],
   "source": [
    "import shutil\n",
    "\n",
    "for vid in tqdm(test_videos):\n",
    "    if not os.path.isfile(f\"Charades_v1/Charades_v1/{vid}.mp4\"):\n",
    "        print(f'File Charades_v1/Charades_v1/{vid}.mp4 does not exists. Continuing')\n",
    "    shutil.copy2(f\"Charades_v1/Charades_v1/{vid}.mp4\", f\"test/{vid}.mp4\")"
   ]
  },
  {
   "cell_type": "code",
   "execution_count": 53,
   "id": "c12fe180-06cd-4efc-8097-142e48e64fda",
   "metadata": {},
   "outputs": [
    {
     "name": "stdout",
     "output_type": "stream",
     "text": [
      "6.3G\ttest\n"
     ]
    }
   ],
   "source": [
    "!du -sh test"
   ]
  },
  {
   "cell_type": "code",
   "execution_count": 56,
   "id": "c9e9ed7e-f8aa-4778-b462-46b20da5ca4a",
   "metadata": {},
   "outputs": [
    {
     "data": {
      "text/plain": [
       "'/home/videos.zip'"
      ]
     },
     "execution_count": 56,
     "metadata": {},
     "output_type": "execute_result"
    }
   ],
   "source": [
    "shutil.make_archive(\"videos\", \"zip\", \"test\")"
   ]
  },
  {
   "cell_type": "code",
   "execution_count": 60,
   "id": "cecb2f5b-a833-48ff-bbab-d6c35c2f39e2",
   "metadata": {},
   "outputs": [
    {
     "data": {
      "application/vnd.jupyter.widget-view+json": {
       "model_id": "cb87cdd321284d9786a80b9eea13e6a4",
       "version_major": 2,
       "version_minor": 0
      },
      "text/plain": [
       "videos.zip:   0%|          | 0.00/6.64G [00:00<?, ?B/s]"
      ]
     },
     "metadata": {},
     "output_type": "display_data"
    },
    {
     "data": {
      "text/plain": [
       "CommitInfo(commit_url='https://huggingface.co/datasets/jwnt4/charades-sta-test/commit/5090ce4c4d2e23152b7b3c9fe17bf7f754437bf6', commit_message='Upload videos.zip with huggingface_hub', commit_description='', oid='5090ce4c4d2e23152b7b3c9fe17bf7f754437bf6', pr_url=None, repo_url=RepoUrl('https://huggingface.co/datasets/jwnt4/charades-sta-test', endpoint='https://huggingface.co', repo_type='dataset', repo_id='jwnt4/charades-sta-test'), pr_revision=None, pr_num=None)"
      ]
     },
     "execution_count": 60,
     "metadata": {},
     "output_type": "execute_result"
    }
   ],
   "source": [
    "from huggingface_hub import HfApi\n",
    "api = HfApi()\n",
    "api.upload_file(\n",
    "    path_or_fileobj=\"videos.zip\",\n",
    "    path_in_repo=\"videos.zip\",\n",
    "    repo_id=\"jwnt4/charades-sta-test\",\n",
    "    repo_type=\"dataset\",\n",
    ")"
   ]
  },
  {
   "cell_type": "code",
   "execution_count": 63,
   "id": "6b47861b-40cd-4269-b9c7-0970c38504de",
   "metadata": {},
   "outputs": [],
   "source": [
    "%%bash\n",
    "rm -rf test\n",
    "rm videos.zip"
   ]
  },
  {
   "cell_type": "markdown",
   "id": "44feedc6-b807-4e34-a591-8c2032838675",
   "metadata": {},
   "source": [
    "### Training split"
   ]
  },
  {
   "cell_type": "code",
   "execution_count": 61,
   "id": "b259142b-a62e-4744-a83a-9f6126ce8be0",
   "metadata": {},
   "outputs": [
    {
     "name": "stderr",
     "output_type": "stream",
     "text": [
      "--2025-04-22 09:37:20--  https://huggingface.co/datasets/jwnt4/charades-sta-train/resolve/main/charades_sta_train.txt\n",
      "Resolving huggingface.co (huggingface.co)... 3.161.213.58, 3.161.213.11, 3.161.213.25, ...\n",
      "Connecting to huggingface.co (huggingface.co)|3.161.213.58|:443... connected.\n",
      "HTTP request sent, awaiting response... 200 OK\n",
      "Length: 622491 (608K) [text/plain]\n",
      "Saving to: ‘charades_sta_train.txt’\n",
      "\n",
      "     0K .......... .......... .......... .......... ..........  8% 12.5M 0s\n",
      "    50K .......... .......... .......... .......... .......... 16% 4.73M 0s\n",
      "   100K .......... .......... .......... .......... .......... 24% 32.4M 0s\n",
      "   150K .......... .......... .......... .......... .......... 32% 4.63M 0s\n",
      "   200K .......... .......... .......... .......... .......... 41% 44.9M 0s\n",
      "   250K .......... .......... .......... .......... .......... 49%  112M 0s\n",
      "   300K .......... .......... .......... .......... .......... 57% 93.5M 0s\n",
      "   350K .......... .......... .......... .......... .......... 65% 35.8M 0s\n",
      "   400K .......... .......... .......... .......... .......... 74% 86.8M 0s\n",
      "   450K .......... .......... .......... .......... .......... 82% 4.83M 0s\n",
      "   500K .......... .......... .......... .......... .......... 90% 84.5M 0s\n",
      "   550K .......... .......... .......... .......... .......... 98%  103M 0s\n",
      "   600K .......                                               100% 86.7M=0.04s\n",
      "\n",
      "2025-04-22 09:37:20 (14.3 MB/s) - ‘charades_sta_train.txt’ saved [622491/622491]\n",
      "\n"
     ]
    }
   ],
   "source": [
    "%%bash\n",
    "wget https://huggingface.co/datasets/jwnt4/charades-sta-train/resolve/main/charades_sta_train.txt"
   ]
  },
  {
   "cell_type": "code",
   "execution_count": 65,
   "id": "4b9a29c4-eb79-4e1e-8f48-28a528004454",
   "metadata": {},
   "outputs": [
    {
     "name": "stderr",
     "output_type": "stream",
     "text": [
      "100%|██████████| 12408/12408 [00:00<00:00, 1230038.38it/s]\n"
     ]
    }
   ],
   "source": [
    "with open('charades_sta_train.txt', 'r') as f:\n",
    "    charades_sta_train = f.read()\n",
    "\n",
    "train_videos = set()\n",
    "for lines in tqdm(charades_sta_train.strip().split('\\n')):\n",
    "    train_videos.add(lines[0:5])"
   ]
  },
  {
   "cell_type": "code",
   "execution_count": 66,
   "id": "3e1b51d7-da05-4b6e-aba6-1ca5826a86f3",
   "metadata": {},
   "outputs": [
    {
     "data": {
      "text/plain": [
       "5338"
      ]
     },
     "execution_count": 66,
     "metadata": {},
     "output_type": "execute_result"
    }
   ],
   "source": [
    "len(train_videos)"
   ]
  },
  {
   "cell_type": "code",
   "execution_count": 71,
   "id": "96faef45-2016-470a-8f60-3b8431c64645",
   "metadata": {},
   "outputs": [
    {
     "name": "stderr",
     "output_type": "stream",
     "text": [
      "100%|██████████| 5338/5338 [00:08<00:00, 597.95it/s]\n"
     ]
    }
   ],
   "source": [
    "for vid in tqdm(train_videos):\n",
    "    if not os.path.isfile(f\"Charades_v1/Charades_v1/{vid}.mp4\"):\n",
    "        print(f'File Charades_v1/Charades_v1/{vid}.mp4 does not exists. Continuing')\n",
    "    shutil.copy2(f\"Charades_v1/Charades_v1/{vid}.mp4\", f\"train/{vid}.mp4\")"
   ]
  },
  {
   "cell_type": "code",
   "execution_count": 72,
   "id": "ffd9f319-b047-46c2-a0da-328f10c25a98",
   "metadata": {},
   "outputs": [
    {
     "name": "stdout",
     "output_type": "stream",
     "text": [
      "33G\ttrain\n"
     ]
    }
   ],
   "source": [
    "!du -sh train"
   ]
  },
  {
   "cell_type": "code",
   "execution_count": 73,
   "id": "7bc8ce88-347a-4800-8f49-0c24e9cee689",
   "metadata": {},
   "outputs": [
    {
     "data": {
      "text/plain": [
       "'/home/videos.zip'"
      ]
     },
     "execution_count": 73,
     "metadata": {},
     "output_type": "execute_result"
    }
   ],
   "source": [
    "shutil.make_archive(\"videos\", \"zip\", \"train\")"
   ]
  },
  {
   "cell_type": "code",
   "execution_count": 74,
   "id": "ab2e5508-31e9-436a-a11c-8a6cb1832f46",
   "metadata": {},
   "outputs": [
    {
     "data": {
      "application/vnd.jupyter.widget-view+json": {
       "model_id": "bd1f50e0d3c049dca24ae2cbd81e9fec",
       "version_major": 2,
       "version_minor": 0
      },
      "text/plain": [
       "videos.zip:   0%|          | 0.00/34.8G [00:00<?, ?B/s]"
      ]
     },
     "metadata": {},
     "output_type": "display_data"
    },
    {
     "data": {
      "text/plain": [
       "CommitInfo(commit_url='https://huggingface.co/datasets/jwnt4/charades-sta-train/commit/23fc8ef8a505251019edd74a75709b9f8a7d842f', commit_message='Upload videos.zip with huggingface_hub', commit_description='', oid='23fc8ef8a505251019edd74a75709b9f8a7d842f', pr_url=None, repo_url=RepoUrl('https://huggingface.co/datasets/jwnt4/charades-sta-train', endpoint='https://huggingface.co', repo_type='dataset', repo_id='jwnt4/charades-sta-train'), pr_revision=None, pr_num=None)"
      ]
     },
     "execution_count": 74,
     "metadata": {},
     "output_type": "execute_result"
    }
   ],
   "source": [
    "from huggingface_hub import HfApi\n",
    "api = HfApi()\n",
    "api.upload_file(\n",
    "    path_or_fileobj=\"videos.zip\",\n",
    "    path_in_repo=\"videos.zip\",\n",
    "    repo_id=\"jwnt4/charades-sta-train\",\n",
    "    repo_type=\"dataset\",\n",
    ")"
   ]
  },
  {
   "cell_type": "code",
   "execution_count": 79,
   "id": "995cbec4-0fe4-44b7-ae17-e2946dab0eb1",
   "metadata": {},
   "outputs": [
    {
     "name": "stdout",
     "output_type": "stream",
     "text": [
      "112K\t.\n"
     ]
    }
   ],
   "source": [
    "%%bash\n",
    "rm -rf Charades_v1 train\n",
    "rm videos.zip charades_sta_test.txt charades_sta_train.txt\n",
    "du -sh ."
   ]
  },
  {
   "cell_type": "markdown",
   "id": "1b5769e7-2f57-4737-8c82-5329ab235aef",
   "metadata": {},
   "source": [
    "# QVHighlights dataset"
   ]
  },
  {
   "cell_type": "code",
   "execution_count": 104,
   "id": "0337b193-5f7b-4d8f-9826-220aa6e32a67",
   "metadata": {
    "scrolled": true
   },
   "outputs": [
    {
     "name": "stderr",
     "output_type": "stream",
     "text": [
      "--2025-04-22 11:14:45--  https://raw.githubusercontent.com/jayleicn/moment_detr/main/data/highlight_test_release.jsonl\n",
      "Resolving raw.githubusercontent.com (raw.githubusercontent.com)... 185.199.108.133, 185.199.109.133, 185.199.110.133, ...\n",
      "Connecting to raw.githubusercontent.com (raw.githubusercontent.com)|185.199.108.133|:443... connected.\n",
      "HTTP request sent, awaiting response... 200 OK\n",
      "Length: 204566 (200K) [text/plain]\n",
      "Saving to: ‘highlight_test_release.jsonl’\n",
      "\n",
      "     0K .......... .......... .......... .......... .......... 25% 16.4M 0s\n",
      "    50K .......... .......... .......... .......... .......... 50% 23.6M 0s\n",
      "   100K .......... .......... .......... .......... .......... 75% 70.7M 0s\n",
      "   150K .......... .......... .......... .......... ......... 100%  110M=0.006s\n",
      "\n",
      "2025-04-22 11:14:45 (31.6 MB/s) - ‘highlight_test_release.jsonl’ saved [204566/204566]\n",
      "\n",
      "--2025-04-22 11:14:45--  https://raw.githubusercontent.com/jayleicn/moment_detr/main/data/highlight_val_release.jsonl\n",
      "Resolving raw.githubusercontent.com (raw.githubusercontent.com)... 185.199.108.133, 185.199.109.133, 185.199.110.133, ...\n",
      "Connecting to raw.githubusercontent.com (raw.githubusercontent.com)|185.199.108.133|:443... connected.\n",
      "HTTP request sent, awaiting response... 200 OK\n",
      "Length: 821101 (802K) [text/plain]\n",
      "Saving to: ‘highlight_val_release.jsonl’\n",
      "\n",
      "     0K .......... .......... .......... .......... ..........  6% 16.7M 0s\n",
      "    50K .......... .......... .......... .......... .......... 12% 12.7M 0s\n",
      "   100K .......... .......... .......... .......... .......... 18% 7.10M 0s\n",
      "   150K .......... .......... .......... .......... .......... 24% 8.11M 0s\n",
      "   200K .......... .......... .......... .......... .......... 31% 10.6M 0s\n",
      "   250K .......... .......... .......... .......... .......... 37% 14.5M 0s\n",
      "   300K .......... .......... .......... .......... .......... 43% 48.9M 0s\n",
      "   350K .......... .......... .......... .......... .......... 49% 12.4M 0s\n",
      "   400K .......... .......... .......... .......... .......... 56% 12.8M 0s\n",
      "   450K .......... .......... .......... .......... .......... 62% 18.0M 0s\n",
      "   500K .......... .......... .......... .......... .......... 68%  103M 0s\n",
      "   550K .......... .......... .......... .......... .......... 74% 20.0M 0s\n",
      "   600K .......... .......... .......... .......... .......... 81% 24.4M 0s\n",
      "   650K .......... .......... .......... .......... .......... 87% 35.0M 0s\n",
      "   700K .......... .......... .......... .......... .......... 93% 39.6M 0s\n",
      "   750K .......... .......... .......... .......... .......... 99% 80.1M 0s\n",
      "   800K .                                                     100% 3.46T=0.05s\n",
      "\n",
      "2025-04-22 11:14:45 (16.6 MB/s) - ‘highlight_val_release.jsonl’ saved [821101/821101]\n",
      "\n",
      "--2025-04-22 11:14:45--  https://raw.githubusercontent.com/jayleicn/moment_detr/main/data/highlight_train_release.jsonl\n",
      "Resolving raw.githubusercontent.com (raw.githubusercontent.com)... 185.199.108.133, 185.199.109.133, 185.199.110.133, ...\n",
      "Connecting to raw.githubusercontent.com (raw.githubusercontent.com)|185.199.108.133|:443... connected.\n",
      "HTTP request sent, awaiting response... 200 OK\n",
      "Length: 3956580 (3.8M) [text/plain]\n",
      "Saving to: ‘highlight_train_release.jsonl’\n",
      "\n",
      "     0K .......... .......... .......... .......... ..........  1% 18.0M 0s\n",
      "    50K .......... .......... .......... .......... ..........  2% 22.9M 0s\n",
      "   100K .......... .......... .......... .......... ..........  3% 88.8M 0s\n",
      "   150K .......... .......... .......... .......... ..........  5%  114M 0s\n",
      "   200K .......... .......... .......... .......... ..........  6% 30.4M 0s\n",
      "   250K .......... .......... .......... .......... ..........  7%  110M 0s\n",
      "   300K .......... .......... .......... .......... ..........  9%  111M 0s\n",
      "   350K .......... .......... .......... .......... .......... 10%  114M 0s\n",
      "   400K .......... .......... .......... .......... .......... 11% 99.7M 0s\n",
      "   450K .......... .......... .......... .......... .......... 12%  114M 0s\n",
      "   500K .......... .......... .......... .......... .......... 14%  119M 0s\n",
      "   550K .......... .......... .......... .......... .......... 15%  115M 0s\n",
      "   600K .......... .......... .......... .......... .......... 16%  107M 0s\n",
      "   650K .......... .......... .......... .......... .......... 18%  114M 0s\n",
      "   700K .......... .......... .......... .......... .......... 19% 98.6M 0s\n",
      "   750K .......... .......... .......... .......... .......... 20%  109M 0s\n",
      "   800K .......... .......... .......... .......... .......... 21% 98.3M 0s\n",
      "   850K .......... .......... .......... .......... .......... 23%  114M 0s\n",
      "   900K .......... .......... .......... .......... .......... 24%  109M 0s\n",
      "   950K .......... .......... .......... .......... .......... 25%  109M 0s\n",
      "  1000K .......... .......... .......... .......... .......... 27% 93.8M 0s\n",
      "  1050K .......... .......... .......... .......... .......... 28%  112M 0s\n",
      "  1100K .......... .......... .......... .......... .......... 29%  105M 0s\n",
      "  1150K .......... .......... .......... .......... .......... 31%  112M 0s\n",
      "  1200K .......... .......... .......... .......... .......... 32% 86.2M 0s\n",
      "  1250K .......... .......... .......... .......... .......... 33%  111M 0s\n",
      "  1300K .......... .......... .......... .......... .......... 34%  102M 0s\n",
      "  1350K .......... .......... .......... .......... .......... 36%  111M 0s\n",
      "  1400K .......... .......... .......... .......... .......... 37% 94.6M 0s\n",
      "  1450K .......... .......... .......... .......... .......... 38%  105M 0s\n",
      "  1500K .......... .......... .......... .......... .......... 40%  185M 0s\n",
      "  1550K .......... .......... .......... .......... .......... 41%  170M 0s\n",
      "  1600K .......... .......... .......... .......... .......... 42%  150M 0s\n",
      "  1650K .......... .......... .......... .......... .......... 43%  187M 0s\n",
      "  1700K .......... .......... .......... .......... .......... 45%  177M 0s\n",
      "  1750K .......... .......... .......... .......... .......... 46%  185M 0s\n",
      "  1800K .......... .......... .......... .......... .......... 47%  165M 0s\n",
      "  1850K .......... .......... .......... .......... .......... 49%  187M 0s\n",
      "  1900K .......... .......... .......... .......... .......... 50%  174M 0s\n",
      "  1950K .......... .......... .......... .......... .......... 51%  187M 0s\n",
      "  2000K .......... .......... .......... .......... .......... 53%  157M 0s\n",
      "  2050K .......... .......... .......... .......... .......... 54%  188M 0s\n",
      "  2100K .......... .......... .......... .......... .......... 55%  182M 0s\n",
      "  2150K .......... .......... .......... .......... .......... 56%  175M 0s\n",
      "  2200K .......... .......... .......... .......... .......... 58%  144M 0s\n",
      "  2250K .......... .......... .......... .......... .......... 59%  172M 0s\n",
      "  2300K .......... .......... .......... .......... .......... 60%  178M 0s\n",
      "  2350K .......... .......... .......... .......... .......... 62%  171M 0s\n",
      "  2400K .......... .......... .......... .......... .......... 63%  147M 0s\n",
      "  2450K .......... .......... .......... .......... .......... 64%  177M 0s\n",
      "  2500K .......... .......... .......... .......... .......... 65%  179M 0s\n",
      "  2550K .......... .......... .......... .......... .......... 67%  177M 0s\n",
      "  2600K .......... .......... .......... .......... .......... 68%  155M 0s\n",
      "  2650K .......... .......... .......... .......... .......... 69%  166M 0s\n",
      "  2700K .......... .......... .......... .......... .......... 71%  179M 0s\n",
      "  2750K .......... .......... .......... .......... .......... 72%  176M 0s\n",
      "  2800K .......... .......... .......... .......... .......... 73%  149M 0s\n",
      "  2850K .......... .......... .......... .......... .......... 75%  181M 0s\n",
      "  2900K .......... .......... .......... .......... .......... 76%  167M 0s\n",
      "  2950K .......... .......... .......... .......... .......... 77%  175M 0s\n",
      "  3000K .......... .......... .......... .......... .......... 78%  162M 0s\n",
      "  3050K .......... .......... .......... .......... .......... 80%  179M 0s\n",
      "  3100K .......... .......... .......... .......... .......... 81%  175M 0s\n",
      "  3150K .......... .......... .......... .......... .......... 82%  181M 0s\n",
      "  3200K .......... .......... .......... .......... .......... 84%  152M 0s\n",
      "  3250K .......... .......... .......... .......... .......... 85%  212M 0s\n",
      "  3300K .......... .......... .......... .......... .......... 86%  262M 0s\n",
      "  3350K .......... .......... .......... .......... .......... 87%  271M 0s\n",
      "  3400K .......... .......... .......... .......... .......... 89%  246M 0s\n",
      "  3450K .......... .......... .......... .......... .......... 90%  275M 0s\n",
      "  3500K .......... .......... .......... .......... .......... 91%  273M 0s\n",
      "  3550K .......... .......... .......... .......... .......... 93%  271M 0s\n",
      "  3600K .......... .......... .......... .......... .......... 94%  223M 0s\n",
      "  3650K .......... .......... .......... .......... .......... 95%  202M 0s\n",
      "  3700K .......... .......... .......... .......... .......... 97%  273M 0s\n",
      "  3750K .......... .......... .......... .......... .......... 98%  275M 0s\n",
      "  3800K .......... .......... .......... .......... .......... 99%  245M 0s\n",
      "  3850K .......... ...                                        100%  312M=0.03s\n",
      "\n",
      "2025-04-22 11:14:46 (121 MB/s) - ‘highlight_train_release.jsonl’ saved [3956580/3956580]\n",
      "\n"
     ]
    }
   ],
   "source": [
    "%%bash\n",
    "wget https://raw.githubusercontent.com/jayleicn/moment_detr/main/data/highlight_test_release.jsonl -O highlight_test_release.jsonl\n",
    "wget https://raw.githubusercontent.com/jayleicn/moment_detr/main/data/highlight_val_release.jsonl -O highlight_val_release.jsonl\n",
    "wget https://raw.githubusercontent.com/jayleicn/moment_detr/main/data/highlight_train_release.jsonl -O highlight_train_release.jsonl"
   ]
  },
  {
   "cell_type": "code",
   "execution_count": 22,
   "id": "a0b94c22-8194-4bf9-9641-91cf5ae1669a",
   "metadata": {},
   "outputs": [],
   "source": [
    "import json\n",
    "import os\n",
    "\n",
    "def convert_jsonl_to_json(input_jsonl_file, output_json_folder):\n",
    "    # Ensure the output folder exists\n",
    "    os.makedirs(output_json_folder, exist_ok=True)\n",
    "    \n",
    "    # Determine the output JSON filename\n",
    "    base_name = os.path.splitext(os.path.basename(input_jsonl_file))[0]\n",
    "    output_json_file = os.path.join(output_json_folder, base_name + '.json')\n",
    "    \n",
    "    # Read the JSONL file and aggregate the data\n",
    "    data = []\n",
    "    with open(input_jsonl_file, 'r') as jsonl_file:\n",
    "        for line_number, line in enumerate(jsonl_file, start=1):\n",
    "            line = line.strip()\n",
    "            if not line:  # Skip empty lines\n",
    "                continue\n",
    "            try:\n",
    "                data.append(json.loads(line))\n",
    "            except json.JSONDecodeError as e:\n",
    "                print(f\"Error decoding JSON on line {line_number}: {e}\")\n",
    "                continue\n",
    "    \n",
    "    # Write to the JSON file\n",
    "    with open(output_json_file, 'w') as json_file:\n",
    "        json.dump(data, json_file)\n",
    "    \n",
    "    print(f\"Converted {input_jsonl_file} to {output_json_file}\")"
   ]
  },
  {
   "cell_type": "code",
   "execution_count": 23,
   "id": "3e73fb30-4fed-46b2-9b3d-74416b2a8b56",
   "metadata": {},
   "outputs": [
    {
     "name": "stdout",
     "output_type": "stream",
     "text": [
      "Converted highlight_test_release.jsonl to ./highlight_test_release.json\n",
      "Converted highlight_val_release.jsonl to ./highlight_val_release.json\n",
      "Converted highlight_train_release.jsonl to ./highlight_train_release.json\n"
     ]
    }
   ],
   "source": [
    "convert_jsonl_to_json('highlight_test_release.jsonl', './')\n",
    "convert_jsonl_to_json('highlight_val_release.jsonl', './')\n",
    "convert_jsonl_to_json('highlight_train_release.jsonl', './')"
   ]
  },
  {
   "cell_type": "code",
   "execution_count": 96,
   "id": "3772f2a8-cdad-46ab-867b-d26ade2a7110",
   "metadata": {
    "scrolled": true
   },
   "outputs": [
    {
     "name": "stdout",
     "output_type": "stream",
     "text": [
      "\n",
      "04/22 10:29:51 [\u001b[1;32mNOTICE\u001b[0m] Downloading 1 item(s)\n",
      "[#bd67e4 78MiB/133GiB(0%) CN:4 DL:110MiB ETA:20m37s]\n",
      "[#bd67e4 231MiB/133GiB(0%) CN:4 DL:136MiB ETA:16m44s]\n",
      "[#bd67e4 386MiB/133GiB(0%) CN:4 DL:143MiB ETA:15m49s]\n",
      "[#bd67e4 542MiB/133GiB(0%) CN:4 DL:147MiB ETA:15m25s]\n",
      "[#bd67e4 697MiB/133GiB(0%) CN:4 DL:149MiB ETA:15m12s]\n",
      "[#bd67e4 853MiB/133GiB(0%) CN:4 DL:150MiB ETA:15m3s]\n",
      "[#bd67e4 0.9GiB/133GiB(0%) CN:4 DL:151MiB ETA:14m59s]\n",
      "[#bd67e4 1.1GiB/133GiB(0%) CN:4 DL:151MiB ETA:14m54s]\n",
      "[#bd67e4 1.2GiB/133GiB(0%) CN:4 DL:152MiB ETA:14m51s]\n",
      "[#bd67e4 1.4GiB/133GiB(1%) CN:4 DL:152MiB ETA:14m48s]\n",
      "[#bd67e4 1.5GiB/133GiB(1%) CN:4 DL:152MiB ETA:14m47s]\n",
      "[#bd67e4 1.6GiB/133GiB(1%) CN:4 DL:148MiB ETA:15m14s]\n",
      "[#bd67e4 1.7GiB/133GiB(1%) CN:4 DL:144MiB ETA:15m37s]\n",
      "[#bd67e4 1.9GiB/133GiB(1%) CN:4 DL:144MiB ETA:15m34s]\n",
      "[#bd67e4 2.0GiB/133GiB(1%) CN:4 DL:144MiB ETA:15m33s]\n",
      "[#bd67e4 2.2GiB/133GiB(1%) CN:4 DL:146MiB ETA:15m20s]\n",
      "[#bd67e4 2.4GiB/133GiB(1%) CN:4 DL:147MiB ETA:15m10s]\n",
      "[#bd67e4 2.5GiB/133GiB(1%) CN:4 DL:148MiB ETA:15m2s]\n",
      "[#bd67e4 2.7GiB/133GiB(2%) CN:4 DL:149MiB ETA:14m55s]\n",
      "[#bd67e4 2.8GiB/133GiB(2%) CN:4 DL:150MiB ETA:14m49s]\n",
      "[#bd67e4 3.0GiB/133GiB(2%) CN:4 DL:157MiB ETA:14m10s]\n",
      "[#bd67e4 3.2GiB/133GiB(2%) CN:4 DL:161MiB ETA:13m46s]\n",
      "[#bd67e4 3.3GiB/133GiB(2%) CN:4 DL:164MiB ETA:13m31s]\n",
      "[#bd67e4 3.5GiB/133GiB(2%) CN:4 DL:165MiB ETA:13m27s]\n",
      "[#bd67e4 3.6GiB/133GiB(2%) CN:4 DL:165MiB ETA:13m26s]\n",
      "[#bd67e4 3.8GiB/133GiB(2%) CN:4 DL:164MiB ETA:13m29s]\n",
      "[#bd67e4 4.0GiB/133GiB(2%) CN:4 DL:165MiB ETA:13m25s]\n",
      "[#bd67e4 4.1GiB/133GiB(3%) CN:4 DL:165MiB ETA:13m22s]\n",
      "[#bd67e4 4.3GiB/133GiB(3%) CN:4 DL:165MiB ETA:13m20s]\n",
      "[#bd67e4 4.5GiB/133GiB(3%) CN:4 DL:166MiB ETA:13m15s]\n",
      "[#bd67e4 4.6GiB/133GiB(3%) CN:4 DL:166MiB ETA:13m13s]\n",
      "[#bd67e4 4.8GiB/133GiB(3%) CN:4 DL:166MiB ETA:13m11s]\n",
      "[#bd67e4 4.9GiB/133GiB(3%) CN:4 DL:165MiB ETA:13m15s]\n",
      "[#bd67e4 5.1GiB/133GiB(3%) CN:4 DL:165MiB ETA:13m16s]\n",
      "[#bd67e4 5.2GiB/133GiB(3%) CN:4 DL:165MiB ETA:13m15s]\n",
      "[#bd67e4 5.4GiB/133GiB(4%) CN:4 DL:164MiB ETA:13m18s]\n",
      "[#bd67e4 5.5GiB/133GiB(4%) CN:4 DL:163MiB ETA:13m21s]\n",
      "[#bd67e4 5.7GiB/133GiB(4%) CN:4 DL:162MiB ETA:13m25s]\n",
      "[#bd67e4 5.9GiB/133GiB(4%) CN:4 DL:162MiB ETA:13m26s]\n",
      "[#bd67e4 6.0GiB/133GiB(4%) CN:4 DL:162MiB ETA:13m27s]\n",
      "[#bd67e4 6.2GiB/133GiB(4%) CN:4 DL:161MiB ETA:13m28s]\n",
      "[#bd67e4 6.3GiB/133GiB(4%) CN:4 DL:161MiB ETA:13m27s]\n",
      "[#bd67e4 6.5GiB/133GiB(4%) CN:4 DL:161MiB ETA:13m26s]\n",
      "[#bd67e4 6.6GiB/133GiB(5%) CN:4 DL:161MiB ETA:13m24s]\n",
      "[#bd67e4 6.8GiB/133GiB(5%) CN:4 DL:161MiB ETA:13m23s]\n",
      "[#bd67e4 7.0GiB/133GiB(5%) CN:4 DL:161MiB ETA:13m22s]\n",
      "[#bd67e4 7.1GiB/133GiB(5%) CN:4 DL:162MiB ETA:13m20s]\n",
      "[#bd67e4 7.3GiB/133GiB(5%) CN:4 DL:162MiB ETA:13m17s]\n",
      "[#bd67e4 7.4GiB/133GiB(5%) CN:4 DL:160MiB ETA:13m24s]\n",
      "[#bd67e4 7.5GiB/133GiB(5%) CN:4 DL:156MiB ETA:13m45s]\n",
      "[#bd67e4 7.6GiB/133GiB(5%) CN:4 DL:151MiB ETA:14m12s]\n",
      "[#bd67e4 7.8GiB/133GiB(5%) CN:4 DL:149MiB ETA:14m21s]\n",
      "[#bd67e4 7.9GiB/133GiB(5%) CN:4 DL:149MiB ETA:14m20s]\n",
      "[#bd67e4 8.1GiB/133GiB(6%) CN:4 DL:150MiB ETA:14m17s]\n",
      "[#bd67e4 8.3GiB/133GiB(6%) CN:4 DL:149MiB ETA:14m17s]\n",
      "[#bd67e4 8.4GiB/133GiB(6%) CN:4 DL:149MiB ETA:14m20s]\n",
      "[#bd67e4 8.6GiB/133GiB(6%) CN:4 DL:148MiB ETA:14m21s]\n",
      "[#bd67e4 8.7GiB/133GiB(6%) CN:4 DL:149MiB ETA:14m16s]\n",
      "[#bd67e4 8.9GiB/133GiB(6%) CN:4 DL:154MiB ETA:13m49s]\n",
      "[#bd67e4 9.1GiB/133GiB(6%) CN:4 DL:160MiB ETA:13m18s]\n",
      " *** Download Progress Summary as of Tue Apr 22 10:30:52 2025 *** \n",
      "===============================================================================\n",
      "[#bd67e4 9.1GiB/133GiB(6%) CN:4 DL:145MiB ETA:14m38s]\n",
      "FILE: /home/qvhilights_videos.tar.gz\n",
      "-------------------------------------------------------------------------------\n",
      "\n",
      "[#bd67e4 9.1GiB/133GiB(6%) CN:4 DL:145MiB ETA:14m38s]\n",
      "[#bd67e4 9.3GiB/133GiB(6%) CN:4 DL:146MiB ETA:14m29s]\n",
      "[#bd67e4 9.5GiB/133GiB(7%) CN:4 DL:146MiB ETA:14m28s]\n",
      "[#bd67e4 9.6GiB/133GiB(7%) CN:4 DL:147MiB ETA:14m21s]\n",
      "[#bd67e4 9.8GiB/133GiB(7%) CN:4 DL:149MiB ETA:14m11s]\n",
      "[#bd67e4 10GiB/133GiB(7%) CN:4 DL:149MiB ETA:14m7s]\n",
      "[#bd67e4 10GiB/133GiB(7%) CN:4 DL:149MiB ETA:14m7s]\n",
      "[#bd67e4 10GiB/133GiB(7%) CN:4 DL:149MiB ETA:14m8s]\n",
      "[#bd67e4 10GiB/133GiB(7%) CN:4 DL:149MiB ETA:14m5s]\n",
      "[#bd67e4 10GiB/133GiB(7%) CN:4 DL:168MiB ETA:12m28s]\n",
      "[#bd67e4 10GiB/133GiB(8%) CN:4 DL:166MiB ETA:12m38s]\n",
      "[#bd67e4 10GiB/133GiB(8%) CN:4 DL:165MiB ETA:12m38s]\n",
      "[#bd67e4 11GiB/133GiB(8%) CN:4 DL:166MiB ETA:12m36s]\n",
      "[#bd67e4 11GiB/133GiB(8%) CN:4 DL:166MiB ETA:12m35s]\n",
      "[#bd67e4 11GiB/133GiB(8%) CN:4 DL:166MiB ETA:12m35s]\n",
      "[#bd67e4 11GiB/133GiB(8%) CN:4 DL:167MiB ETA:12m28s]\n",
      "[#bd67e4 11GiB/133GiB(8%) CN:4 DL:168MiB ETA:12m22s]\n",
      "[#bd67e4 11GiB/133GiB(8%) CN:4 DL:169MiB ETA:12m17s]\n",
      "[#bd67e4 12GiB/133GiB(9%) CN:4 DL:168MiB ETA:12m18s]\n",
      "[#bd67e4 12GiB/133GiB(9%) CN:4 DL:168MiB ETA:12m18s]\n",
      "[#bd67e4 12GiB/133GiB(9%) CN:4 DL:170MiB ETA:12m7s]\n",
      "[#bd67e4 12GiB/133GiB(9%) CN:4 DL:165MiB ETA:12m29s]\n",
      "[#bd67e4 12GiB/133GiB(9%) CN:4 DL:162MiB ETA:12m44s]\n",
      "[#bd67e4 12GiB/133GiB(9%) CN:4 DL:162MiB ETA:12m44s]\n",
      "[#bd67e4 13GiB/133GiB(9%) CN:4 DL:160MiB ETA:12m48s]\n",
      "[#bd67e4 13GiB/133GiB(9%) CN:4 DL:160MiB ETA:12m52s]\n",
      "[#bd67e4 13GiB/133GiB(9%) CN:4 DL:159MiB ETA:12m54s]\n",
      "[#bd67e4 13GiB/133GiB(10%) CN:4 DL:158MiB ETA:12m55s]\n",
      "[#bd67e4 13GiB/133GiB(10%) CN:4 DL:158MiB ETA:12m55s]\n",
      "[#bd67e4 13GiB/133GiB(10%) CN:4 DL:158MiB ETA:12m54s]\n",
      "[#bd67e4 13GiB/133GiB(10%) CN:4 DL:160MiB ETA:12m46s]\n",
      "[#bd67e4 14GiB/133GiB(10%) CN:4 DL:164MiB ETA:12m26s]\n",
      "[#bd67e4 14GiB/133GiB(10%) CN:4 DL:167MiB ETA:12m12s]\n",
      "[#bd67e4 14GiB/133GiB(10%) CN:4 DL:167MiB ETA:12m11s]\n",
      "[#bd67e4 14GiB/133GiB(10%) CN:4 DL:167MiB ETA:12m8s]\n",
      "[#bd67e4 14GiB/133GiB(11%) CN:4 DL:167MiB ETA:12m6s]\n",
      "[#bd67e4 14GiB/133GiB(11%) CN:4 DL:167MiB ETA:12m5s]\n",
      "[#bd67e4 15GiB/133GiB(11%) CN:4 DL:167MiB ETA:12m3s]\n",
      "[#bd67e4 15GiB/133GiB(11%) CN:4 DL:168MiB ETA:12m1s]\n",
      "[#bd67e4 15GiB/133GiB(11%) CN:4 DL:167MiB ETA:12m5s]\n",
      "[#bd67e4 15GiB/133GiB(11%) CN:4 DL:164MiB ETA:12m14s]\n",
      "[#bd67e4 15GiB/133GiB(11%) CN:4 DL:164MiB ETA:12m14s]\n",
      "[#bd67e4 15GiB/133GiB(11%) CN:4 DL:164MiB ETA:12m13s]\n",
      "[#bd67e4 16GiB/133GiB(11%) CN:4 DL:163MiB ETA:12m15s]\n",
      "[#bd67e4 16GiB/133GiB(12%) CN:4 DL:163MiB ETA:12m17s]\n",
      "[#bd67e4 16GiB/133GiB(12%) CN:4 DL:163MiB ETA:12m17s]\n",
      "[#bd67e4 16GiB/133GiB(12%) CN:4 DL:162MiB ETA:12m19s]\n",
      "[#bd67e4 16GiB/133GiB(12%) CN:4 DL:162MiB ETA:12m17s]\n",
      "[#bd67e4 16GiB/133GiB(12%) CN:4 DL:162MiB ETA:12m19s]\n",
      "[#bd67e4 17GiB/133GiB(12%) CN:4 DL:163MiB ETA:12m11s]\n",
      "[#bd67e4 17GiB/133GiB(12%) CN:4 DL:164MiB ETA:12m4s]\n",
      "[#bd67e4 17GiB/133GiB(12%) CN:4 DL:165MiB ETA:12m3s]\n",
      "[#bd67e4 17GiB/133GiB(13%) CN:4 DL:164MiB ETA:12m3s]\n",
      "[#bd67e4 17GiB/133GiB(13%) CN:4 DL:164MiB ETA:12m1s]\n",
      "[#bd67e4 17GiB/133GiB(13%) CN:4 DL:164MiB ETA:12m]\n",
      "[#bd67e4 17GiB/133GiB(13%) CN:4 DL:165MiB ETA:11m58s]\n",
      "[#bd67e4 18GiB/133GiB(13%) CN:4 DL:164MiB ETA:11m59s]\n",
      "[#bd67e4 18GiB/133GiB(13%) CN:4 DL:164MiB ETA:12m1s]\n",
      "[#bd67e4 18GiB/133GiB(13%) CN:4 DL:164MiB ETA:11m58s]\n",
      "[#bd67e4 18GiB/133GiB(13%) CN:4 DL:164MiB ETA:11m59s]\n",
      "[#bd67e4 18GiB/133GiB(13%) CN:4 DL:153MiB ETA:12m47s]\n",
      " *** Download Progress Summary as of Tue Apr 22 10:31:53 2025 *** \n",
      "===============================================================================\n",
      "[#bd67e4 18GiB/133GiB(14%) CN:4 DL:154MiB ETA:12m42s]\n",
      "FILE: /home/qvhilights_videos.tar.gz\n",
      "-------------------------------------------------------------------------------\n",
      "\n",
      "[#bd67e4 18GiB/133GiB(14%) CN:4 DL:154MiB ETA:12m42s]\n",
      "[#bd67e4 19GiB/133GiB(14%) CN:4 DL:154MiB ETA:12m39s]\n",
      "[#bd67e4 19GiB/133GiB(14%) CN:4 DL:155MiB ETA:12m37s]\n",
      "[#bd67e4 19GiB/133GiB(14%) CN:4 DL:154MiB ETA:12m36s]\n",
      "[#bd67e4 19GiB/133GiB(14%) CN:4 DL:154MiB ETA:12m36s]\n",
      "[#bd67e4 19GiB/133GiB(14%) CN:4 DL:154MiB ETA:12m35s]\n",
      "[#bd67e4 19GiB/133GiB(14%) CN:4 DL:154MiB ETA:12m35s]\n",
      "[#bd67e4 19GiB/133GiB(14%) CN:4 DL:155MiB ETA:12m31s]\n",
      "[#bd67e4 20GiB/133GiB(15%) CN:4 DL:165MiB ETA:11m42s]\n",
      "[#bd67e4 20GiB/133GiB(15%) CN:4 DL:162MiB ETA:11m53s]\n",
      "[#bd67e4 20GiB/133GiB(15%) CN:4 DL:162MiB ETA:11m57s]\n",
      "[#bd67e4 20GiB/133GiB(15%) CN:4 DL:161MiB ETA:11m57s]\n",
      "[#bd67e4 20GiB/133GiB(15%) CN:4 DL:161MiB ETA:11m56s]\n",
      "[#bd67e4 20GiB/133GiB(15%) CN:4 DL:159MiB ETA:12m5s]\n",
      "[#bd67e4 21GiB/133GiB(15%) CN:4 DL:157MiB ETA:12m15s]\n",
      "[#bd67e4 21GiB/133GiB(15%) CN:4 DL:157MiB ETA:12m14s]\n",
      "[#bd67e4 21GiB/133GiB(15%) CN:4 DL:157MiB ETA:12m13s]\n",
      "[#bd67e4 21GiB/133GiB(16%) CN:4 DL:157MiB ETA:12m12s]\n",
      "[#bd67e4 21GiB/133GiB(16%) CN:4 DL:157MiB ETA:12m11s]\n",
      "[#bd67e4 21GiB/133GiB(16%) CN:4 DL:159MiB ETA:11m59s]\n",
      "[#bd67e4 21GiB/133GiB(16%) CN:4 DL:157MiB ETA:12m5s]\n",
      "[#bd67e4 22GiB/133GiB(16%) CN:4 DL:157MiB ETA:12m8s]\n",
      "[#bd67e4 22GiB/133GiB(16%) CN:4 DL:156MiB ETA:12m10s]\n",
      "[#bd67e4 22GiB/133GiB(16%) CN:4 DL:158MiB ETA:12m2s]\n",
      "[#bd67e4 22GiB/133GiB(16%) CN:4 DL:160MiB ETA:11m51s]\n",
      "[#bd67e4 22GiB/133GiB(16%) CN:4 DL:159MiB ETA:11m54s]\n",
      "[#bd67e4 22GiB/133GiB(17%) CN:4 DL:158MiB ETA:11m57s]\n",
      "[#bd67e4 23GiB/133GiB(17%) CN:4 DL:157MiB ETA:11m58s]\n",
      "[#bd67e4 23GiB/133GiB(17%) CN:4 DL:157MiB ETA:11m58s]\n",
      "[#bd67e4 23GiB/133GiB(17%) CN:4 DL:157MiB ETA:11m58s]\n",
      "[#bd67e4 23GiB/133GiB(17%) CN:4 DL:157MiB ETA:11m55s]\n",
      "[#bd67e4 23GiB/133GiB(17%) CN:4 DL:158MiB ETA:11m54s]\n",
      "[#bd67e4 23GiB/133GiB(17%) CN:4 DL:157MiB ETA:11m54s]\n",
      "[#bd67e4 23GiB/133GiB(17%) CN:4 DL:158MiB ETA:11m51s]\n",
      "[#bd67e4 24GiB/133GiB(17%) CN:4 DL:158MiB ETA:11m50s]\n",
      "[#bd67e4 24GiB/133GiB(18%) CN:4 DL:158MiB ETA:11m48s]\n",
      "[#bd67e4 24GiB/133GiB(18%) CN:4 DL:158MiB ETA:11m46s]\n",
      "[#bd67e4 24GiB/133GiB(18%) CN:4 DL:158MiB ETA:11m46s]\n",
      "[#bd67e4 24GiB/133GiB(18%) CN:4 DL:158MiB ETA:11m43s]\n",
      "[#bd67e4 24GiB/133GiB(18%) CN:4 DL:158MiB ETA:11m42s]\n",
      "[#bd67e4 25GiB/133GiB(18%) CN:4 DL:159MiB ETA:11m39s]\n",
      "[#bd67e4 25GiB/133GiB(18%) CN:4 DL:159MiB ETA:11m39s]\n",
      "[#bd67e4 25GiB/133GiB(18%) CN:4 DL:156MiB ETA:11m49s]\n",
      "[#bd67e4 25GiB/133GiB(18%) CN:4 DL:153MiB ETA:12m1s]\n",
      "[#bd67e4 25GiB/133GiB(19%) CN:4 DL:154MiB ETA:11m59s]\n",
      "[#bd67e4 25GiB/133GiB(19%) CN:4 DL:154MiB ETA:11m57s]\n",
      "[#bd67e4 25GiB/133GiB(19%) CN:4 DL:154MiB ETA:11m53s]\n",
      "[#bd67e4 26GiB/133GiB(19%) CN:4 DL:154MiB ETA:11m53s]\n",
      "[#bd67e4 26GiB/133GiB(19%) CN:4 DL:154MiB ETA:11m52s]\n",
      "[#bd67e4 26GiB/133GiB(19%) CN:4 DL:154MiB ETA:11m51s]\n",
      "[#bd67e4 26GiB/133GiB(19%) CN:4 DL:154MiB ETA:11m50s]\n",
      "[#bd67e4 26GiB/133GiB(19%) CN:4 DL:155MiB ETA:11m44s]\n",
      "[#bd67e4 26GiB/133GiB(20%) CN:4 DL:159MiB ETA:11m28s]\n",
      "[#bd67e4 26GiB/133GiB(20%) CN:4 DL:160MiB ETA:11m22s]\n",
      "[#bd67e4 27GiB/133GiB(20%) CN:4 DL:160MiB ETA:11m19s]\n",
      "[#bd67e4 27GiB/133GiB(20%) CN:4 DL:160MiB ETA:11m19s]\n",
      "[#bd67e4 27GiB/133GiB(20%) CN:4 DL:160MiB ETA:11m20s]\n",
      "[#bd67e4 27GiB/133GiB(20%) CN:4 DL:160MiB ETA:11m18s]\n",
      "[#bd67e4 27GiB/133GiB(20%) CN:4 DL:161MiB ETA:11m11s]\n",
      "[#bd67e4 27GiB/133GiB(20%) CN:4 DL:160MiB ETA:11m17s]\n",
      "[#bd67e4 28GiB/133GiB(20%) CN:4 DL:161MiB ETA:11m8s]\n",
      " *** Download Progress Summary as of Tue Apr 22 10:32:53 2025 *** \n",
      "===============================================================================\n",
      "[#bd67e4 28GiB/133GiB(21%) CN:4 DL:162MiB ETA:11m6s]\n",
      "FILE: /home/qvhilights_videos.tar.gz\n",
      "-------------------------------------------------------------------------------\n",
      "\n",
      "[#bd67e4 28GiB/133GiB(21%) CN:4 DL:162MiB ETA:11m6s]\n",
      "[#bd67e4 28GiB/133GiB(21%) CN:4 DL:162MiB ETA:11m6s]\n",
      "[#bd67e4 28GiB/133GiB(21%) CN:4 DL:162MiB ETA:11m3s]\n",
      "[#bd67e4 28GiB/133GiB(21%) CN:4 DL:161MiB ETA:11m6s]\n",
      "[#bd67e4 28GiB/133GiB(21%) CN:4 DL:161MiB ETA:11m4s]\n",
      "[#bd67e4 29GiB/133GiB(21%) CN:4 DL:161MiB ETA:11m2s]\n",
      "[#bd67e4 29GiB/133GiB(21%) CN:4 DL:161MiB ETA:11m3s]\n",
      "[#bd67e4 29GiB/133GiB(21%) CN:4 DL:161MiB ETA:11m3s]\n",
      "[#bd67e4 29GiB/133GiB(22%) CN:4 DL:160MiB ETA:11m7s]\n",
      "[#bd67e4 29GiB/133GiB(22%) CN:4 DL:158MiB ETA:11m12s]\n",
      "[#bd67e4 29GiB/133GiB(22%) CN:4 DL:159MiB ETA:11m7s]\n",
      "[#bd67e4 29GiB/133GiB(22%) CN:4 DL:160MiB ETA:11m2s]\n",
      "[#bd67e4 30GiB/133GiB(22%) CN:4 DL:161MiB ETA:10m56s]\n",
      "[#bd67e4 30GiB/133GiB(22%) CN:4 DL:162MiB ETA:10m53s]\n",
      "[#bd67e4 30GiB/133GiB(22%) CN:4 DL:162MiB ETA:10m49s]\n",
      "[#bd67e4 30GiB/133GiB(22%) CN:4 DL:163MiB ETA:10m48s]\n",
      "[#bd67e4 30GiB/133GiB(22%) CN:4 DL:163MiB ETA:10m47s]\n",
      "[#bd67e4 30GiB/133GiB(23%) CN:4 DL:163MiB ETA:10m45s]\n",
      "[#bd67e4 31GiB/133GiB(23%) CN:4 DL:166MiB ETA:10m31s]\n",
      "[#bd67e4 31GiB/133GiB(23%) CN:4 DL:165MiB ETA:10m34s]\n",
      "[#bd67e4 31GiB/133GiB(23%) CN:4 DL:165MiB ETA:10m34s]\n",
      "[#bd67e4 31GiB/133GiB(23%) CN:4 DL:165MiB ETA:10m32s]\n",
      "[#bd67e4 31GiB/133GiB(23%) CN:4 DL:165MiB ETA:10m33s]\n",
      "[#bd67e4 31GiB/133GiB(23%) CN:4 DL:163MiB ETA:10m38s]\n",
      "[#bd67e4 32GiB/133GiB(23%) CN:4 DL:162MiB ETA:10m41s]\n",
      "[#bd67e4 32GiB/133GiB(24%) CN:4 DL:161MiB ETA:10m42s]\n",
      "[#bd67e4 32GiB/133GiB(24%) CN:4 DL:161MiB ETA:10m44s]\n",
      "[#bd67e4 32GiB/133GiB(24%) CN:4 DL:160MiB ETA:10m46s]\n",
      "[#bd67e4 32GiB/133GiB(24%) CN:4 DL:160MiB ETA:10m47s]\n",
      "[#bd67e4 32GiB/133GiB(24%) CN:4 DL:158MiB ETA:10m53s]\n",
      "[#bd67e4 32GiB/133GiB(24%) CN:4 DL:156MiB ETA:10m58s]\n",
      "[#bd67e4 33GiB/133GiB(24%) CN:4 DL:155MiB ETA:11m1s]\n",
      "[#bd67e4 33GiB/133GiB(24%) CN:4 DL:156MiB ETA:10m59s]\n",
      "[#bd67e4 33GiB/133GiB(24%) CN:4 DL:156MiB ETA:10m56s]\n",
      "[#bd67e4 33GiB/133GiB(25%) CN:4 DL:157MiB ETA:10m52s]\n",
      "[#bd67e4 33GiB/133GiB(25%) CN:4 DL:157MiB ETA:10m51s]\n",
      "[#bd67e4 33GiB/133GiB(25%) CN:4 DL:157MiB ETA:10m51s]\n",
      "[#bd67e4 34GiB/133GiB(25%) CN:4 DL:157MiB ETA:10m48s]\n",
      "[#bd67e4 34GiB/133GiB(25%) CN:4 DL:158MiB ETA:10m45s]\n",
      "[#bd67e4 34GiB/133GiB(25%) CN:4 DL:158MiB ETA:10m42s]\n",
      "[#bd67e4 34GiB/133GiB(25%) CN:4 DL:158MiB ETA:10m40s]\n",
      "[#bd67e4 34GiB/133GiB(25%) CN:4 DL:159MiB ETA:10m38s]\n",
      "[#bd67e4 34GiB/133GiB(25%) CN:4 DL:159MiB ETA:10m35s]\n",
      "[#bd67e4 34GiB/133GiB(26%) CN:4 DL:159MiB ETA:10m34s]\n",
      "[#bd67e4 35GiB/133GiB(26%) CN:4 DL:159MiB ETA:10m33s]\n",
      "[#bd67e4 35GiB/133GiB(26%) CN:4 DL:159MiB ETA:10m33s]\n",
      "[#bd67e4 35GiB/133GiB(26%) CN:4 DL:159MiB ETA:10m31s]\n",
      "[#bd67e4 35GiB/133GiB(26%) CN:4 DL:160MiB ETA:10m26s]\n",
      "[#bd67e4 35GiB/133GiB(26%) CN:4 DL:161MiB ETA:10m24s]\n",
      "[#bd67e4 35GiB/133GiB(26%) CN:4 DL:161MiB ETA:10m22s]\n",
      "[#bd67e4 36GiB/133GiB(26%) CN:4 DL:161MiB ETA:10m19s]\n",
      "[#bd67e4 36GiB/133GiB(27%) CN:4 DL:161MiB ETA:10m17s]\n",
      "[#bd67e4 36GiB/133GiB(27%) CN:4 DL:162MiB ETA:10m15s]\n",
      "[#bd67e4 36GiB/133GiB(27%) CN:4 DL:162MiB ETA:10m14s]\n",
      "[#bd67e4 36GiB/133GiB(27%) CN:4 DL:162MiB ETA:10m12s]\n",
      "[#bd67e4 36GiB/133GiB(27%) CN:4 DL:162MiB ETA:10m9s]\n",
      "[#bd67e4 36GiB/133GiB(27%) CN:4 DL:162MiB ETA:10m10s]\n",
      "[#bd67e4 37GiB/133GiB(27%) CN:4 DL:162MiB ETA:10m11s]\n",
      "[#bd67e4 37GiB/133GiB(27%) CN:4 DL:161MiB ETA:10m11s]\n",
      " *** Download Progress Summary as of Tue Apr 22 10:33:57 2025 *** \n",
      "===============================================================================\n",
      "[#bd67e4 37GiB/133GiB(27%) CN:4 DL:71MiB ETA:22m55s]\n",
      "FILE: /home/qvhilights_videos.tar.gz\n",
      "-------------------------------------------------------------------------------\n",
      "\n",
      "[#bd67e4 37GiB/133GiB(27%) CN:4 DL:71MiB ETA:22m55s]\n",
      "[#bd67e4 37GiB/133GiB(27%) CN:4 DL:68MiB ETA:23m58s]\n",
      "[#bd67e4 37GiB/133GiB(28%) CN:4 DL:65MiB ETA:25m]\n",
      "[#bd67e4 37GiB/133GiB(28%) CN:4 DL:64MiB ETA:25m31s]\n",
      "[#bd67e4 37GiB/133GiB(28%) CN:4 DL:62MiB ETA:26m]\n",
      "[#bd67e4 38GiB/133GiB(28%) CN:4 DL:140MiB ETA:11m37s]\n",
      "[#bd67e4 38GiB/133GiB(28%) CN:4 DL:139MiB ETA:11m40s]\n",
      "[#bd67e4 38GiB/133GiB(28%) CN:4 DL:140MiB ETA:11m36s]\n",
      "[#bd67e4 38GiB/133GiB(28%) CN:4 DL:141MiB ETA:11m30s]\n",
      "[#bd67e4 38GiB/133GiB(28%) CN:4 DL:142MiB ETA:11m26s]\n",
      "[#bd67e4 38GiB/133GiB(28%) CN:4 DL:142MiB ETA:11m25s]\n",
      "[#bd67e4 38GiB/133GiB(29%) CN:4 DL:143MiB ETA:11m16s]\n",
      "[#bd67e4 39GiB/133GiB(29%) CN:4 DL:145MiB ETA:11m7s]\n",
      "[#bd67e4 39GiB/133GiB(29%) CN:4 DL:146MiB ETA:11m3s]\n",
      "[#bd67e4 39GiB/133GiB(29%) CN:4 DL:146MiB ETA:11m]\n",
      "[#bd67e4 39GiB/133GiB(29%) CN:4 DL:148MiB ETA:10m51s]\n",
      "[#bd67e4 39GiB/133GiB(29%) CN:4 DL:152MiB ETA:10m34s]\n",
      "[#bd67e4 39GiB/133GiB(29%) CN:4 DL:154MiB ETA:10m23s]\n",
      "[#bd67e4 39GiB/133GiB(29%) CN:4 DL:156MiB ETA:10m14s]\n",
      "[#bd67e4 40GiB/133GiB(29%) CN:4 DL:158MiB ETA:10m6s]\n",
      "[#bd67e4 40GiB/133GiB(30%) CN:4 DL:160MiB ETA:9m57s]\n",
      "[#bd67e4 40GiB/133GiB(30%) CN:4 DL:162MiB ETA:9m50s]\n",
      "[#bd67e4 40GiB/133GiB(30%) CN:4 DL:163MiB ETA:9m44s]\n",
      "[#bd67e4 40GiB/133GiB(30%) CN:4 DL:164MiB ETA:9m39s]\n",
      "[#bd67e4 40GiB/133GiB(30%) CN:4 DL:165MiB ETA:9m34s]\n",
      "[#bd67e4 41GiB/133GiB(30%) CN:4 DL:165MiB ETA:9m35s]\n",
      "[#bd67e4 41GiB/133GiB(30%) CN:4 DL:164MiB ETA:9m37s]\n",
      "[#bd67e4 41GiB/133GiB(30%) CN:4 DL:163MiB ETA:9m40s]\n",
      "[#bd67e4 41GiB/133GiB(31%) CN:4 DL:162MiB ETA:9m40s]\n",
      "[#bd67e4 41GiB/133GiB(31%) CN:4 DL:163MiB ETA:9m39s]\n",
      "[#bd67e4 41GiB/133GiB(31%) CN:4 DL:163MiB ETA:9m37s]\n",
      "[#bd67e4 42GiB/133GiB(31%) CN:4 DL:163MiB ETA:9m35s]\n",
      "[#bd67e4 42GiB/133GiB(31%) CN:4 DL:163MiB ETA:9m33s]\n",
      "[#bd67e4 42GiB/133GiB(31%) CN:4 DL:164MiB ETA:9m31s]\n",
      "[#bd67e4 42GiB/133GiB(31%) CN:4 DL:164MiB ETA:9m27s]\n",
      "[#bd67e4 42GiB/133GiB(31%) CN:4 DL:165MiB ETA:9m25s]\n",
      "[#bd67e4 42GiB/133GiB(31%) CN:4 DL:165MiB ETA:9m23s]\n",
      "[#bd67e4 42GiB/133GiB(32%) CN:4 DL:166MiB ETA:9m19s]\n",
      "[#bd67e4 43GiB/133GiB(32%) CN:4 DL:166MiB ETA:9m17s]\n",
      "[#bd67e4 43GiB/133GiB(32%) CN:4 DL:166MiB ETA:9m16s]\n",
      "[#bd67e4 43GiB/133GiB(32%) CN:4 DL:166MiB ETA:9m16s]\n",
      "[#bd67e4 43GiB/133GiB(32%) CN:4 DL:166MiB ETA:9m16s]\n",
      "[#bd67e4 43GiB/133GiB(32%) CN:4 DL:166MiB ETA:9m15s]\n",
      "[#bd67e4 43GiB/133GiB(32%) CN:4 DL:165MiB ETA:9m14s]\n",
      "[#bd67e4 44GiB/133GiB(32%) CN:4 DL:166MiB ETA:9m13s]\n",
      "[#bd67e4 44GiB/133GiB(33%) CN:4 DL:166MiB ETA:9m11s]\n",
      "[#bd67e4 44GiB/133GiB(33%) CN:4 DL:166MiB ETA:9m10s]\n",
      "[#bd67e4 44GiB/133GiB(33%) CN:4 DL:166MiB ETA:9m9s]\n",
      "[#bd67e4 44GiB/133GiB(33%) CN:4 DL:166MiB ETA:9m9s]\n",
      "[#bd67e4 44GiB/133GiB(33%) CN:4 DL:165MiB ETA:9m8s]\n",
      "[#bd67e4 45GiB/133GiB(33%) CN:4 DL:166MiB ETA:9m7s]\n",
      "[#bd67e4 45GiB/133GiB(33%) CN:4 DL:166MiB ETA:9m5s]\n",
      "[#bd67e4 45GiB/133GiB(33%) CN:4 DL:165MiB ETA:9m6s]\n",
      "[#bd67e4 45GiB/133GiB(34%) CN:4 DL:165MiB ETA:9m6s]\n",
      "[#bd67e4 45GiB/133GiB(34%) CN:4 DL:164MiB ETA:9m7s]\n",
      "[#bd67e4 45GiB/133GiB(34%) CN:4 DL:164MiB ETA:9m7s]\n",
      "[#bd67e4 45GiB/133GiB(34%) CN:4 DL:145MiB ETA:10m18s]\n",
      "[#bd67e4 46GiB/133GiB(34%) CN:4 DL:145MiB ETA:10m20s]\n",
      "[#bd67e4 46GiB/133GiB(34%) CN:4 DL:142MiB ETA:10m28s]\n",
      "[#bd67e4 46GiB/133GiB(34%) CN:4 DL:140MiB ETA:10m38s]\n",
      "[#bd67e4 46GiB/133GiB(34%) CN:4 DL:137MiB ETA:10m49s]\n",
      " *** Download Progress Summary as of Tue Apr 22 10:34:57 2025 *** \n",
      "===============================================================================\n",
      "[#bd67e4 46GiB/133GiB(34%) CN:4 DL:135MiB ETA:10m58s]\n",
      "FILE: /home/qvhilights_videos.tar.gz\n",
      "-------------------------------------------------------------------------------\n",
      "\n",
      "[#bd67e4 46GiB/133GiB(34%) CN:4 DL:135MiB ETA:10m58s]\n",
      "[#bd67e4 46GiB/133GiB(34%) CN:4 DL:133MiB ETA:11m6s]\n",
      "[#bd67e4 46GiB/133GiB(35%) CN:4 DL:132MiB ETA:11m12s]\n",
      "[#bd67e4 47GiB/133GiB(35%) CN:4 DL:130MiB ETA:11m20s]\n",
      "[#bd67e4 47GiB/133GiB(35%) CN:4 DL:146MiB ETA:10m6s]\n",
      "[#bd67e4 47GiB/133GiB(35%) CN:4 DL:145MiB ETA:10m10s]\n",
      "[#bd67e4 47GiB/133GiB(35%) CN:4 DL:145MiB ETA:10m9s]\n",
      "[#bd67e4 47GiB/133GiB(35%) CN:4 DL:146MiB ETA:10m2s]\n",
      "[#bd67e4 47GiB/133GiB(35%) CN:4 DL:148MiB ETA:9m54s]\n",
      "[#bd67e4 47GiB/133GiB(35%) CN:4 DL:149MiB ETA:9m47s]\n",
      "[#bd67e4 48GiB/133GiB(35%) CN:4 DL:152MiB ETA:9m36s]\n",
      "[#bd67e4 48GiB/133GiB(36%) CN:4 DL:155MiB ETA:9m24s]\n",
      "[#bd67e4 48GiB/133GiB(36%) CN:4 DL:158MiB ETA:9m13s]\n",
      "[#bd67e4 48GiB/133GiB(36%) CN:4 DL:160MiB ETA:9m5s]\n",
      "[#bd67e4 48GiB/133GiB(36%) CN:4 DL:162MiB ETA:8m57s]\n",
      "[#bd67e4 48GiB/133GiB(36%) CN:4 DL:165MiB ETA:8m47s]\n",
      "[#bd67e4 49GiB/133GiB(36%) CN:4 DL:161MiB ETA:8m58s]\n",
      "[#bd67e4 49GiB/133GiB(36%) CN:4 DL:157MiB ETA:9m10s]\n",
      "[#bd67e4 49GiB/133GiB(36%) CN:4 DL:156MiB ETA:9m14s]\n",
      "[#bd67e4 49GiB/133GiB(36%) CN:4 DL:155MiB ETA:9m15s]\n",
      "[#bd67e4 49GiB/133GiB(37%) CN:4 DL:154MiB ETA:9m18s]\n",
      "[#bd67e4 49GiB/133GiB(37%) CN:4 DL:153MiB ETA:9m23s]\n",
      "[#bd67e4 49GiB/133GiB(37%) CN:4 DL:151MiB ETA:9m28s]\n",
      "[#bd67e4 50GiB/133GiB(37%) CN:4 DL:151MiB ETA:9m28s]\n",
      "[#bd67e4 50GiB/133GiB(37%) CN:4 DL:150MiB ETA:9m30s]\n",
      "[#bd67e4 50GiB/133GiB(37%) CN:4 DL:150MiB ETA:9m26s]\n",
      "[#bd67e4 50GiB/133GiB(37%) CN:4 DL:154MiB ETA:9m12s]\n",
      "[#bd67e4 50GiB/133GiB(37%) CN:4 DL:158MiB ETA:8m56s]\n",
      "[#bd67e4 50GiB/133GiB(37%) CN:4 DL:160MiB ETA:8m51s]\n",
      "[#bd67e4 50GiB/133GiB(38%) CN:4 DL:160MiB ETA:8m48s]\n",
      "[#bd67e4 51GiB/133GiB(38%) CN:4 DL:161MiB ETA:8m46s]\n",
      "[#bd67e4 51GiB/133GiB(38%) CN:4 DL:161MiB ETA:8m43s]\n",
      "[#bd67e4 51GiB/133GiB(38%) CN:4 DL:162MiB ETA:8m40s]\n",
      "[#bd67e4 51GiB/133GiB(38%) CN:4 DL:162MiB ETA:8m37s]\n",
      "[#bd67e4 51GiB/133GiB(38%) CN:4 DL:163MiB ETA:8m35s]\n",
      "[#bd67e4 51GiB/133GiB(38%) CN:4 DL:163MiB ETA:8m32s]\n",
      "[#bd67e4 52GiB/133GiB(38%) CN:4 DL:164MiB ETA:8m29s]\n",
      "[#bd67e4 52GiB/133GiB(39%) CN:4 DL:165MiB ETA:8m26s]\n",
      "[#bd67e4 52GiB/133GiB(39%) CN:4 DL:165MiB ETA:8m24s]\n",
      "[#bd67e4 52GiB/133GiB(39%) CN:4 DL:165MiB ETA:8m23s]\n",
      "[#bd67e4 52GiB/133GiB(39%) CN:4 DL:165MiB ETA:8m21s]\n",
      "[#bd67e4 52GiB/133GiB(39%) CN:4 DL:166MiB ETA:8m19s]\n",
      "[#bd67e4 53GiB/133GiB(39%) CN:4 DL:166MiB ETA:8m18s]\n",
      "[#bd67e4 53GiB/133GiB(39%) CN:4 DL:166MiB ETA:8m17s]\n",
      "[#bd67e4 53GiB/133GiB(39%) CN:4 DL:166MiB ETA:8m16s]\n",
      "[#bd67e4 53GiB/133GiB(39%) CN:4 DL:165MiB ETA:8m16s]\n",
      "[#bd67e4 53GiB/133GiB(40%) CN:4 DL:165MiB ETA:8m15s]\n",
      "[#bd67e4 53GiB/133GiB(40%) CN:4 DL:165MiB ETA:8m14s]\n",
      "[#bd67e4 53GiB/133GiB(40%) CN:4 DL:165MiB ETA:8m14s]\n",
      "[#bd67e4 54GiB/133GiB(40%) CN:4 DL:165MiB ETA:8m14s]\n",
      "[#bd67e4 54GiB/133GiB(40%) CN:4 DL:165MiB ETA:8m13s]\n",
      "[#bd67e4 54GiB/133GiB(40%) CN:4 DL:165MiB ETA:8m12s]\n",
      "[#bd67e4 54GiB/133GiB(40%) CN:4 DL:164MiB ETA:8m11s]\n",
      "[#bd67e4 54GiB/133GiB(40%) CN:4 DL:165MiB ETA:8m10s]\n",
      "[#bd67e4 54GiB/133GiB(41%) CN:4 DL:165MiB ETA:8m6s]\n",
      "[#bd67e4 55GiB/133GiB(41%) CN:4 DL:154MiB ETA:8m41s]\n",
      "[#bd67e4 55GiB/133GiB(41%) CN:4 DL:156MiB ETA:8m33s]\n",
      "[#bd67e4 55GiB/133GiB(41%) CN:4 DL:156MiB ETA:8m33s]\n",
      "[#bd67e4 55GiB/133GiB(41%) CN:4 DL:156MiB ETA:8m31s]\n",
      "[#bd67e4 55GiB/133GiB(41%) CN:4 DL:156MiB ETA:8m30s]\n",
      "[#bd67e4 55GiB/133GiB(41%) CN:4 DL:156MiB ETA:8m30s]\n",
      " *** Download Progress Summary as of Tue Apr 22 10:35:58 2025 *** \n",
      "===============================================================================\n",
      "[#bd67e4 56GiB/133GiB(41%) CN:4 DL:156MiB ETA:8m30s]\n",
      "FILE: /home/qvhilights_videos.tar.gz\n",
      "-------------------------------------------------------------------------------\n",
      "\n",
      "[#bd67e4 56GiB/133GiB(41%) CN:4 DL:156MiB ETA:8m30s]\n",
      "[#bd67e4 56GiB/133GiB(41%) CN:4 DL:155MiB ETA:8m30s]\n",
      "[#bd67e4 56GiB/133GiB(42%) CN:4 DL:155MiB ETA:8m29s]\n",
      "[#bd67e4 56GiB/133GiB(42%) CN:4 DL:166MiB ETA:7m54s]\n",
      "[#bd67e4 56GiB/133GiB(42%) CN:4 DL:164MiB ETA:8m]\n",
      "[#bd67e4 56GiB/133GiB(42%) CN:4 DL:162MiB ETA:8m7s]\n",
      "[#bd67e4 56GiB/133GiB(42%) CN:4 DL:162MiB ETA:8m5s]\n",
      "[#bd67e4 57GiB/133GiB(42%) CN:4 DL:162MiB ETA:8m3s]\n",
      "[#bd67e4 57GiB/133GiB(42%) CN:4 DL:162MiB ETA:8m2s]\n",
      "[#bd67e4 57GiB/133GiB(42%) CN:4 DL:162MiB ETA:8m2s]\n",
      "[#bd67e4 57GiB/133GiB(43%) CN:4 DL:161MiB ETA:8m2s]\n",
      "[#bd67e4 57GiB/133GiB(43%) CN:4 DL:162MiB ETA:8m]\n",
      "[#bd67e4 57GiB/133GiB(43%) CN:4 DL:162MiB ETA:7m59s]\n",
      "[#bd67e4 58GiB/133GiB(43%) CN:4 DL:162MiB ETA:7m58s]\n",
      "[#bd67e4 58GiB/133GiB(43%) CN:4 DL:165MiB ETA:7m49s]\n",
      "[#bd67e4 58GiB/133GiB(43%) CN:4 DL:164MiB ETA:7m48s]\n",
      "[#bd67e4 58GiB/133GiB(43%) CN:4 DL:164MiB ETA:7m48s]\n",
      "[#bd67e4 58GiB/133GiB(43%) CN:4 DL:164MiB ETA:7m46s]\n",
      "[#bd67e4 58GiB/133GiB(43%) CN:4 DL:164MiB ETA:7m46s]\n",
      "[#bd67e4 59GiB/133GiB(44%) CN:4 DL:164MiB ETA:7m44s]\n",
      "[#bd67e4 59GiB/133GiB(44%) CN:4 DL:165MiB ETA:7m43s]\n",
      "[#bd67e4 59GiB/133GiB(44%) CN:4 DL:164MiB ETA:7m42s]\n",
      "[#bd67e4 59GiB/133GiB(44%) CN:4 DL:165MiB ETA:7m41s]\n",
      "[#bd67e4 59GiB/133GiB(44%) CN:4 DL:165MiB ETA:7m40s]\n",
      "[#bd67e4 59GiB/133GiB(44%) CN:4 DL:165MiB ETA:7m39s]\n",
      "[#bd67e4 59GiB/133GiB(44%) CN:4 DL:165MiB ETA:7m37s]\n",
      "[#bd67e4 60GiB/133GiB(44%) CN:4 DL:165MiB ETA:7m35s]\n",
      "[#bd67e4 60GiB/133GiB(45%) CN:4 DL:165MiB ETA:7m34s]\n",
      "[#bd67e4 60GiB/133GiB(45%) CN:4 DL:165MiB ETA:7m32s]\n",
      "[#bd67e4 60GiB/133GiB(45%) CN:4 DL:166MiB ETA:7m31s]\n",
      "[#bd67e4 60GiB/133GiB(45%) CN:4 DL:166MiB ETA:7m29s]\n",
      "[#bd67e4 60GiB/133GiB(45%) CN:4 DL:166MiB ETA:7m27s]\n",
      "[#bd67e4 61GiB/133GiB(45%) CN:4 DL:167MiB ETA:7m25s]\n",
      "[#bd67e4 61GiB/133GiB(45%) CN:4 DL:167MiB ETA:7m24s]\n",
      "[#bd67e4 61GiB/133GiB(45%) CN:4 DL:167MiB ETA:7m23s]\n",
      "[#bd67e4 61GiB/133GiB(46%) CN:4 DL:167MiB ETA:7m22s]\n",
      "[#bd67e4 61GiB/133GiB(46%) CN:4 DL:167MiB ETA:7m21s]\n",
      "[#bd67e4 61GiB/133GiB(46%) CN:4 DL:167MiB ETA:7m20s]\n",
      "[#bd67e4 62GiB/133GiB(46%) CN:4 DL:167MiB ETA:7m20s]\n",
      "[#bd67e4 62GiB/133GiB(46%) CN:4 DL:167MiB ETA:7m18s]\n",
      "[#bd67e4 62GiB/133GiB(46%) CN:4 DL:167MiB ETA:7m18s]\n",
      "[#bd67e4 62GiB/133GiB(46%) CN:4 DL:166MiB ETA:7m18s]\n",
      "[#bd67e4 62GiB/133GiB(46%) CN:4 DL:166MiB ETA:7m18s]\n",
      "[#bd67e4 62GiB/133GiB(46%) CN:4 DL:165MiB ETA:7m19s]\n",
      "[#bd67e4 63GiB/133GiB(47%) CN:4 DL:165MiB ETA:7m18s]\n",
      "[#bd67e4 63GiB/133GiB(47%) CN:4 DL:165MiB ETA:7m17s]\n",
      "[#bd67e4 63GiB/133GiB(47%) CN:4 DL:165MiB ETA:7m16s]\n",
      "[#bd67e4 63GiB/133GiB(47%) CN:4 DL:165MiB ETA:7m15s]\n",
      "[#bd67e4 63GiB/133GiB(47%) CN:4 DL:164MiB ETA:7m16s]\n",
      "[#bd67e4 63GiB/133GiB(47%) CN:4 DL:164MiB ETA:7m15s]\n",
      "[#bd67e4 63GiB/133GiB(47%) CN:4 DL:164MiB ETA:7m14s]\n",
      "[#bd67e4 64GiB/133GiB(47%) CN:4 DL:165MiB ETA:7m12s]\n",
      "[#bd67e4 64GiB/133GiB(48%) CN:4 DL:165MiB ETA:7m9s]\n",
      "[#bd67e4 64GiB/133GiB(48%) CN:4 DL:165MiB ETA:7m8s]\n",
      "[#bd67e4 64GiB/133GiB(48%) CN:4 DL:163MiB ETA:7m14s]\n",
      "[#bd67e4 64GiB/133GiB(48%) CN:4 DL:164MiB ETA:7m8s]\n",
      "[#bd67e4 64GiB/133GiB(48%) CN:4 DL:165MiB ETA:7m6s]\n",
      "[#bd67e4 65GiB/133GiB(48%) CN:4 DL:166MiB ETA:7m3s]\n",
      "[#bd67e4 65GiB/133GiB(48%) CN:4 DL:165MiB ETA:7m3s]\n",
      "[#bd67e4 65GiB/133GiB(48%) CN:4 DL:165MiB ETA:7m2s]\n",
      "[#bd67e4 65GiB/133GiB(49%) CN:4 DL:165MiB ETA:7m2s]\n",
      " *** Download Progress Summary as of Tue Apr 22 10:36:58 2025 *** \n",
      "===============================================================================\n",
      "[#bd67e4 65GiB/133GiB(49%) CN:4 DL:164MiB ETA:7m2s]\n",
      "FILE: /home/qvhilights_videos.tar.gz\n",
      "-------------------------------------------------------------------------------\n",
      "\n",
      "[#bd67e4 65GiB/133GiB(49%) CN:4 DL:164MiB ETA:7m2s]\n",
      "[#bd67e4 65GiB/133GiB(49%) CN:4 DL:164MiB ETA:7m2s]\n",
      "[#bd67e4 66GiB/133GiB(49%) CN:4 DL:164MiB ETA:7m1s]\n",
      "[#bd67e4 66GiB/133GiB(49%) CN:4 DL:164MiB ETA:7m1s]\n",
      "[#bd67e4 66GiB/133GiB(49%) CN:4 DL:161MiB ETA:7m6s]\n",
      "[#bd67e4 66GiB/133GiB(49%) CN:4 DL:159MiB ETA:7m11s]\n",
      "[#bd67e4 66GiB/133GiB(49%) CN:4 DL:160MiB ETA:7m9s]\n",
      "[#bd67e4 66GiB/133GiB(49%) CN:4 DL:159MiB ETA:7m10s]\n",
      "[#bd67e4 66GiB/133GiB(50%) CN:4 DL:158MiB ETA:7m11s]\n",
      "[#bd67e4 67GiB/133GiB(50%) CN:4 DL:158MiB ETA:7m10s]\n",
      "[#bd67e4 67GiB/133GiB(50%) CN:4 DL:158MiB ETA:7m11s]\n",
      "[#bd67e4 67GiB/133GiB(50%) CN:4 DL:157MiB ETA:7m12s]\n",
      "[#bd67e4 67GiB/133GiB(50%) CN:4 DL:156MiB ETA:7m12s]\n",
      "[#bd67e4 67GiB/133GiB(50%) CN:4 DL:159MiB ETA:7m4s]\n",
      "[#bd67e4 67GiB/133GiB(50%) CN:4 DL:158MiB ETA:7m5s]\n",
      "[#bd67e4 68GiB/133GiB(50%) CN:4 DL:158MiB ETA:7m3s]\n",
      "[#bd67e4 68GiB/133GiB(50%) CN:4 DL:158MiB ETA:7m3s]\n",
      "[#bd67e4 68GiB/133GiB(51%) CN:4 DL:158MiB ETA:7m2s]\n",
      "[#bd67e4 68GiB/133GiB(51%) CN:4 DL:159MiB ETA:7m]\n",
      "[#bd67e4 68GiB/133GiB(51%) CN:4 DL:159MiB ETA:6m59s]\n",
      "[#bd67e4 68GiB/133GiB(51%) CN:4 DL:159MiB ETA:6m56s]\n",
      "[#bd67e4 69GiB/133GiB(51%) CN:4 DL:160MiB ETA:6m54s]\n",
      "[#bd67e4 69GiB/133GiB(51%) CN:4 DL:161MiB ETA:6m51s]\n",
      "[#bd67e4 69GiB/133GiB(51%) CN:4 DL:161MiB ETA:6m48s]\n",
      "[#bd67e4 69GiB/133GiB(51%) CN:4 DL:162MiB ETA:6m45s]\n",
      "[#bd67e4 69GiB/133GiB(52%) CN:4 DL:163MiB ETA:6m42s]\n",
      "[#bd67e4 69GiB/133GiB(52%) CN:4 DL:163MiB ETA:6m40s]\n",
      "[#bd67e4 69GiB/133GiB(52%) CN:4 DL:164MiB ETA:6m37s]\n",
      "[#bd67e4 70GiB/133GiB(52%) CN:4 DL:165MiB ETA:6m35s]\n",
      "[#bd67e4 70GiB/133GiB(52%) CN:4 DL:165MiB ETA:6m33s]\n",
      "[#bd67e4 70GiB/133GiB(52%) CN:4 DL:165MiB ETA:6m31s]\n",
      "[#bd67e4 70GiB/133GiB(52%) CN:4 DL:165MiB ETA:6m32s]\n",
      "[#bd67e4 70GiB/133GiB(52%) CN:4 DL:165MiB ETA:6m29s]\n",
      "[#bd67e4 70GiB/133GiB(52%) CN:4 DL:165MiB ETA:6m28s]\n",
      "[#bd67e4 71GiB/133GiB(53%) CN:4 DL:165MiB ETA:6m27s]\n",
      "[#bd67e4 71GiB/133GiB(53%) CN:4 DL:165MiB ETA:6m26s]\n",
      "[#bd67e4 71GiB/133GiB(53%) CN:4 DL:165MiB ETA:6m26s]\n",
      "[#bd67e4 71GiB/133GiB(53%) CN:4 DL:165MiB ETA:6m25s]\n",
      "[#bd67e4 71GiB/133GiB(53%) CN:4 DL:164MiB ETA:6m26s]\n",
      "[#bd67e4 71GiB/133GiB(53%) CN:4 DL:164MiB ETA:6m26s]\n",
      "[#bd67e4 72GiB/133GiB(53%) CN:4 DL:164MiB ETA:6m24s]\n",
      "[#bd67e4 72GiB/133GiB(53%) CN:4 DL:164MiB ETA:6m23s]\n",
      "[#bd67e4 72GiB/133GiB(54%) CN:4 DL:164MiB ETA:6m22s]\n",
      "[#bd67e4 72GiB/133GiB(54%) CN:4 DL:164MiB ETA:6m21s]\n",
      "[#bd67e4 72GiB/133GiB(54%) CN:4 DL:164MiB ETA:6m21s]\n",
      "[#bd67e4 72GiB/133GiB(54%) CN:4 DL:164MiB ETA:6m20s]\n",
      "[#bd67e4 72GiB/133GiB(54%) CN:4 DL:164MiB ETA:6m19s]\n",
      "[#bd67e4 73GiB/133GiB(54%) CN:4 DL:164MiB ETA:6m18s]\n",
      "[#bd67e4 73GiB/133GiB(54%) CN:4 DL:164MiB ETA:6m16s]\n",
      "[#bd67e4 73GiB/133GiB(54%) CN:4 DL:165MiB ETA:6m13s]\n",
      "[#bd67e4 73GiB/133GiB(55%) CN:4 DL:165MiB ETA:6m12s]\n",
      "[#bd67e4 73GiB/133GiB(55%) CN:4 DL:166MiB ETA:6m10s]\n",
      "[#bd67e4 73GiB/133GiB(55%) CN:4 DL:166MiB ETA:6m9s]\n",
      "[#bd67e4 74GiB/133GiB(55%) CN:4 DL:166MiB ETA:6m7s]\n",
      "[#bd67e4 74GiB/133GiB(55%) CN:4 DL:166MiB ETA:6m5s]\n",
      "[#bd67e4 74GiB/133GiB(55%) CN:4 DL:166MiB ETA:6m5s]\n",
      "[#bd67e4 74GiB/133GiB(55%) CN:4 DL:167MiB ETA:6m3s]\n",
      "[#bd67e4 74GiB/133GiB(55%) CN:4 DL:167MiB ETA:6m]\n",
      "[#bd67e4 74GiB/133GiB(55%) CN:4 DL:167MiB ETA:6m1s]\n",
      "[#bd67e4 75GiB/133GiB(56%) CN:4 DL:167MiB ETA:6m]\n",
      "[#bd67e4 75GiB/133GiB(56%) CN:4 DL:167MiB ETA:5m59s]\n",
      " *** Download Progress Summary as of Tue Apr 22 10:37:59 2025 *** \n",
      "===============================================================================\n",
      "[#bd67e4 75GiB/133GiB(56%) CN:4 DL:166MiB ETA:5m59s]\n",
      "FILE: /home/qvhilights_videos.tar.gz\n",
      "-------------------------------------------------------------------------------\n",
      "\n",
      "[#bd67e4 75GiB/133GiB(56%) CN:4 DL:166MiB ETA:5m59s]\n",
      "[#bd67e4 75GiB/133GiB(56%) CN:4 DL:166MiB ETA:5m57s]\n",
      "[#bd67e4 75GiB/133GiB(56%) CN:4 DL:166MiB ETA:5m57s]\n",
      "[#bd67e4 75GiB/133GiB(56%) CN:4 DL:163MiB ETA:6m2s]\n",
      "[#bd67e4 76GiB/133GiB(56%) CN:4 DL:164MiB ETA:6m]\n",
      "[#bd67e4 76GiB/133GiB(56%) CN:4 DL:163MiB ETA:6m]\n",
      "[#bd67e4 76GiB/133GiB(57%) CN:4 DL:163MiB ETA:5m59s]\n",
      "[#bd67e4 76GiB/133GiB(57%) CN:4 DL:163MiB ETA:5m58s]\n",
      "[#bd67e4 76GiB/133GiB(57%) CN:4 DL:164MiB ETA:5m56s]\n",
      "[#bd67e4 76GiB/133GiB(57%) CN:4 DL:163MiB ETA:5m56s]\n",
      "[#bd67e4 77GiB/133GiB(57%) CN:4 DL:163MiB ETA:5m55s]\n",
      "[#bd67e4 77GiB/133GiB(57%) CN:4 DL:163MiB ETA:5m55s]\n",
      "[#bd67e4 77GiB/133GiB(57%) CN:4 DL:164MiB ETA:5m52s]\n",
      "[#bd67e4 77GiB/133GiB(57%) CN:4 DL:166MiB ETA:5m47s]\n",
      "[#bd67e4 77GiB/133GiB(57%) CN:4 DL:165MiB ETA:5m48s]\n",
      "[#bd67e4 77GiB/133GiB(58%) CN:4 DL:164MiB ETA:5m48s]\n",
      "[#bd67e4 77GiB/133GiB(58%) CN:4 DL:165MiB ETA:5m46s]\n",
      "[#bd67e4 78GiB/133GiB(58%) CN:4 DL:164MiB ETA:5m46s]\n",
      "[#bd67e4 78GiB/133GiB(58%) CN:4 DL:164MiB ETA:5m45s]\n",
      "[#bd67e4 78GiB/133GiB(58%) CN:4 DL:164MiB ETA:5m44s]\n",
      "[#bd67e4 78GiB/133GiB(58%) CN:4 DL:164MiB ETA:5m43s]\n",
      "[#bd67e4 78GiB/133GiB(58%) CN:4 DL:165MiB ETA:5m41s]\n",
      "[#bd67e4 78GiB/133GiB(58%) CN:4 DL:165MiB ETA:5m40s]\n",
      "[#bd67e4 79GiB/133GiB(59%) CN:4 DL:165MiB ETA:5m38s]\n",
      "[#bd67e4 79GiB/133GiB(59%) CN:4 DL:165MiB ETA:5m37s]\n",
      "[#bd67e4 79GiB/133GiB(59%) CN:4 DL:165MiB ETA:5m37s]\n",
      "[#bd67e4 79GiB/133GiB(59%) CN:4 DL:164MiB ETA:5m37s]\n",
      "[#bd67e4 79GiB/133GiB(59%) CN:4 DL:164MiB ETA:5m37s]\n",
      "[#bd67e4 79GiB/133GiB(59%) CN:4 DL:163MiB ETA:5m37s]\n",
      "[#bd67e4 80GiB/133GiB(59%) CN:4 DL:163MiB ETA:5m36s]\n",
      "[#bd67e4 80GiB/133GiB(59%) CN:4 DL:163MiB ETA:5m35s]\n",
      "[#bd67e4 80GiB/133GiB(60%) CN:4 DL:163MiB ETA:5m34s]\n",
      "[#bd67e4 80GiB/133GiB(60%) CN:4 DL:163MiB ETA:5m33s]\n",
      "[#bd67e4 80GiB/133GiB(60%) CN:4 DL:163MiB ETA:5m33s]\n",
      "[#bd67e4 80GiB/133GiB(60%) CN:4 DL:164MiB ETA:5m31s]\n",
      "[#bd67e4 80GiB/133GiB(60%) CN:4 DL:164MiB ETA:5m29s]\n",
      "[#bd67e4 81GiB/133GiB(60%) CN:4 DL:164MiB ETA:5m27s]\n",
      "[#bd67e4 81GiB/133GiB(60%) CN:4 DL:165MiB ETA:5m26s]\n",
      "[#bd67e4 81GiB/133GiB(60%) CN:4 DL:165MiB ETA:5m23s]\n",
      "[#bd67e4 81GiB/133GiB(60%) CN:4 DL:165MiB ETA:5m23s]\n",
      "[#bd67e4 81GiB/133GiB(61%) CN:4 DL:165MiB ETA:5m22s]\n",
      "[#bd67e4 81GiB/133GiB(61%) CN:4 DL:165MiB ETA:5m21s]\n",
      "[#bd67e4 82GiB/133GiB(61%) CN:4 DL:165MiB ETA:5m19s]\n",
      "[#bd67e4 82GiB/133GiB(61%) CN:4 DL:165MiB ETA:5m18s]\n",
      "[#bd67e4 82GiB/133GiB(61%) CN:4 DL:165MiB ETA:5m18s]\n",
      "[#bd67e4 82GiB/133GiB(61%) CN:4 DL:165MiB ETA:5m17s]\n",
      "[#bd67e4 82GiB/133GiB(61%) CN:4 DL:165MiB ETA:5m16s]\n",
      "[#bd67e4 82GiB/133GiB(61%) CN:4 DL:165MiB ETA:5m16s]\n",
      "[#bd67e4 83GiB/133GiB(62%) CN:4 DL:164MiB ETA:5m16s]\n",
      "[#bd67e4 83GiB/133GiB(62%) CN:4 DL:164MiB ETA:5m15s]\n",
      "[#bd67e4 83GiB/133GiB(62%) CN:4 DL:164MiB ETA:5m15s]\n",
      "[#bd67e4 83GiB/133GiB(62%) CN:4 DL:163MiB ETA:5m14s]\n",
      "[#bd67e4 83GiB/133GiB(62%) CN:4 DL:163MiB ETA:5m14s]\n",
      "[#bd67e4 83GiB/133GiB(62%) CN:4 DL:163MiB ETA:5m12s]\n",
      "[#bd67e4 83GiB/133GiB(62%) CN:4 DL:150MiB ETA:5m40s]\n",
      "[#bd67e4 84GiB/133GiB(62%) CN:4 DL:149MiB ETA:5m41s]\n",
      "[#bd67e4 84GiB/133GiB(62%) CN:4 DL:148MiB ETA:5m43s]\n",
      "[#bd67e4 84GiB/133GiB(62%) CN:4 DL:147MiB ETA:5m42s]\n",
      "[#bd67e4 84GiB/133GiB(63%) CN:4 DL:146MiB ETA:5m44s]\n",
      "[#bd67e4 84GiB/133GiB(63%) CN:4 DL:145MiB ETA:5m45s]\n",
      "[#bd67e4 84GiB/133GiB(63%) CN:4 DL:145MiB ETA:5m46s]\n",
      " *** Download Progress Summary as of Tue Apr 22 10:38:59 2025 *** \n",
      "===============================================================================\n",
      "[#bd67e4 84GiB/133GiB(63%) CN:4 DL:143MiB ETA:5m48s]\n",
      "FILE: /home/qvhilights_videos.tar.gz\n",
      "-------------------------------------------------------------------------------\n",
      "\n",
      "[#bd67e4 84GiB/133GiB(63%) CN:4 DL:143MiB ETA:5m48s]\n",
      "[#bd67e4 85GiB/133GiB(63%) CN:4 DL:142MiB ETA:5m50s]\n",
      "[#bd67e4 85GiB/133GiB(63%) CN:4 DL:155MiB ETA:5m20s]\n",
      "[#bd67e4 85GiB/133GiB(63%) CN:4 DL:152MiB ETA:5m25s]\n",
      "[#bd67e4 85GiB/133GiB(63%) CN:4 DL:151MiB ETA:5m26s]\n",
      "[#bd67e4 85GiB/133GiB(63%) CN:4 DL:151MiB ETA:5m26s]\n",
      "[#bd67e4 85GiB/133GiB(64%) CN:4 DL:152MiB ETA:5m23s]\n",
      "[#bd67e4 85GiB/133GiB(64%) CN:4 DL:152MiB ETA:5m20s]\n",
      "[#bd67e4 86GiB/133GiB(64%) CN:4 DL:152MiB ETA:5m20s]\n",
      "[#bd67e4 86GiB/133GiB(64%) CN:4 DL:153MiB ETA:5m16s]\n",
      "[#bd67e4 86GiB/133GiB(64%) CN:4 DL:154MiB ETA:5m13s]\n",
      "[#bd67e4 86GiB/133GiB(64%) CN:4 DL:155MiB ETA:5m10s]\n",
      "[#bd67e4 86GiB/133GiB(64%) CN:4 DL:156MiB ETA:5m8s]\n",
      "[#bd67e4 86GiB/133GiB(64%) CN:4 DL:157MiB ETA:5m5s]\n",
      "[#bd67e4 87GiB/133GiB(65%) CN:4 DL:158MiB ETA:5m2s]\n",
      "[#bd67e4 87GiB/133GiB(65%) CN:4 DL:158MiB ETA:5m1s]\n",
      "[#bd67e4 87GiB/133GiB(65%) CN:4 DL:158MiB ETA:5m]\n",
      "[#bd67e4 87GiB/133GiB(65%) CN:4 DL:157MiB ETA:5m]\n",
      "[#bd67e4 87GiB/133GiB(65%) CN:4 DL:158MiB ETA:4m59s]\n",
      "[#bd67e4 87GiB/133GiB(65%) CN:4 DL:157MiB ETA:4m58s]\n",
      "[#bd67e4 87GiB/133GiB(65%) CN:4 DL:157MiB ETA:4m58s]\n",
      "[#bd67e4 88GiB/133GiB(65%) CN:4 DL:157MiB ETA:4m58s]\n",
      "[#bd67e4 88GiB/133GiB(65%) CN:4 DL:157MiB ETA:4m57s]\n",
      "[#bd67e4 88GiB/133GiB(66%) CN:4 DL:157MiB ETA:4m56s]\n",
      "[#bd67e4 88GiB/133GiB(66%) CN:4 DL:157MiB ETA:4m54s]\n",
      "[#bd67e4 88GiB/133GiB(66%) CN:4 DL:157MiB ETA:4m53s]\n",
      "[#bd67e4 88GiB/133GiB(66%) CN:4 DL:157MiB ETA:4m51s]\n",
      "[#bd67e4 89GiB/133GiB(66%) CN:4 DL:158MiB ETA:4m50s]\n",
      "[#bd67e4 89GiB/133GiB(66%) CN:4 DL:158MiB ETA:4m49s]\n",
      "[#bd67e4 89GiB/133GiB(66%) CN:4 DL:158MiB ETA:4m47s]\n",
      "[#bd67e4 89GiB/133GiB(66%) CN:4 DL:158MiB ETA:4m46s]\n",
      "[#bd67e4 89GiB/133GiB(66%) CN:4 DL:159MiB ETA:4m44s]\n",
      "[#bd67e4 89GiB/133GiB(67%) CN:4 DL:159MiB ETA:4m42s]\n",
      "[#bd67e4 89GiB/133GiB(67%) CN:4 DL:160MiB ETA:4m40s]\n",
      "[#bd67e4 90GiB/133GiB(67%) CN:4 DL:160MiB ETA:4m38s]\n",
      "[#bd67e4 90GiB/133GiB(67%) CN:4 DL:161MiB ETA:4m36s]\n",
      "[#bd67e4 90GiB/133GiB(67%) CN:4 DL:161MiB ETA:4m35s]\n",
      "[#bd67e4 90GiB/133GiB(67%) CN:4 DL:161MiB ETA:4m34s]\n",
      "[#bd67e4 90GiB/133GiB(67%) CN:4 DL:161MiB ETA:4m33s]\n",
      "[#bd67e4 90GiB/133GiB(67%) CN:4 DL:162MiB ETA:4m31s]\n",
      "[#bd67e4 91GiB/133GiB(68%) CN:4 DL:162MiB ETA:4m30s]\n",
      "[#bd67e4 91GiB/133GiB(68%) CN:4 DL:161MiB ETA:4m30s]\n",
      "[#bd67e4 91GiB/133GiB(68%) CN:4 DL:160MiB ETA:4m30s]\n",
      "[#bd67e4 91GiB/133GiB(68%) CN:4 DL:160MiB ETA:4m29s]\n",
      "[#bd67e4 91GiB/133GiB(68%) CN:4 DL:160MiB ETA:4m28s]\n",
      "[#bd67e4 91GiB/133GiB(68%) CN:4 DL:160MiB ETA:4m27s]\n",
      "[#bd67e4 91GiB/133GiB(68%) CN:4 DL:161MiB ETA:4m25s]\n",
      "[#bd67e4 92GiB/133GiB(68%) CN:4 DL:162MiB ETA:4m23s]\n",
      "[#bd67e4 92GiB/133GiB(68%) CN:4 DL:162MiB ETA:4m21s]\n",
      "[#bd67e4 92GiB/133GiB(69%) CN:4 DL:163MiB ETA:4m19s]\n",
      "[#bd67e4 92GiB/133GiB(69%) CN:4 DL:163MiB ETA:4m18s]\n",
      "[#bd67e4 92GiB/133GiB(69%) CN:4 DL:164MiB ETA:4m16s]\n",
      "[#bd67e4 92GiB/133GiB(69%) CN:4 DL:164MiB ETA:4m14s]\n",
      "[#bd67e4 93GiB/133GiB(69%) CN:4 DL:158MiB ETA:4m24s]\n",
      "[#bd67e4 93GiB/133GiB(69%) CN:4 DL:160MiB ETA:4m19s]\n",
      "[#bd67e4 93GiB/133GiB(69%) CN:4 DL:160MiB ETA:4m19s]\n",
      "[#bd67e4 93GiB/133GiB(69%) CN:4 DL:159MiB ETA:4m18s]\n",
      "[#bd67e4 93GiB/133GiB(69%) CN:4 DL:159MiB ETA:4m17s]\n",
      "[#bd67e4 93GiB/133GiB(70%) CN:4 DL:159MiB ETA:4m17s]\n",
      "[#bd67e4 94GiB/133GiB(70%) CN:4 DL:159MiB ETA:4m16s]\n",
      "[#bd67e4 94GiB/133GiB(70%) CN:4 DL:159MiB ETA:4m14s]\n",
      " *** Download Progress Summary as of Tue Apr 22 10:39:59 2025 *** \n",
      "===============================================================================\n",
      "[#bd67e4 94GiB/133GiB(70%) CN:4 DL:159MiB ETA:4m13s]\n",
      "FILE: /home/qvhilights_videos.tar.gz\n",
      "-------------------------------------------------------------------------------\n",
      "\n",
      "[#bd67e4 94GiB/133GiB(70%) CN:4 DL:159MiB ETA:4m13s]\n",
      "[#bd67e4 94GiB/133GiB(70%) CN:4 DL:160MiB ETA:4m11s]\n",
      "[#bd67e4 94GiB/133GiB(70%) CN:4 DL:164MiB ETA:4m4s]\n",
      "[#bd67e4 94GiB/133GiB(70%) CN:4 DL:162MiB ETA:4m6s]\n",
      "[#bd67e4 94GiB/133GiB(70%) CN:4 DL:162MiB ETA:4m5s]\n",
      "[#bd67e4 95GiB/133GiB(71%) CN:4 DL:162MiB ETA:4m4s]\n",
      "[#bd67e4 95GiB/133GiB(71%) CN:4 DL:162MiB ETA:4m3s]\n",
      "[#bd67e4 95GiB/133GiB(71%) CN:4 DL:161MiB ETA:4m3s]\n",
      "[#bd67e4 95GiB/133GiB(71%) CN:4 DL:161MiB ETA:4m3s]\n",
      "[#bd67e4 95GiB/133GiB(71%) CN:4 DL:160MiB ETA:4m2s]\n",
      "[#bd67e4 95GiB/133GiB(71%) CN:4 DL:160MiB ETA:4m2s]\n",
      "[#bd67e4 96GiB/133GiB(71%) CN:4 DL:160MiB ETA:4m1s]\n",
      "[#bd67e4 96GiB/133GiB(71%) CN:4 DL:162MiB ETA:3m57s]\n",
      "[#bd67e4 96GiB/133GiB(71%) CN:4 DL:162MiB ETA:3m55s]\n",
      "[#bd67e4 96GiB/133GiB(72%) CN:4 DL:158MiB ETA:4m1s]\n",
      "[#bd67e4 96GiB/133GiB(72%) CN:4 DL:153MiB ETA:4m8s]\n",
      "[#bd67e4 96GiB/133GiB(72%) CN:4 DL:151MiB ETA:4m10s]\n",
      "[#bd67e4 96GiB/133GiB(72%) CN:4 DL:151MiB ETA:4m9s]\n",
      "[#bd67e4 97GiB/133GiB(72%) CN:4 DL:152MiB ETA:4m6s]\n",
      "[#bd67e4 97GiB/133GiB(72%) CN:4 DL:152MiB ETA:4m6s]\n",
      "[#bd67e4 97GiB/133GiB(72%) CN:4 DL:152MiB ETA:4m5s]\n",
      "[#bd67e4 97GiB/133GiB(72%) CN:4 DL:151MiB ETA:4m5s]\n",
      "[#bd67e4 97GiB/133GiB(72%) CN:4 DL:151MiB ETA:4m4s]\n",
      "[#bd67e4 97GiB/133GiB(73%) CN:4 DL:154MiB ETA:3m58s]\n",
      "[#bd67e4 97GiB/133GiB(73%) CN:4 DL:159MiB ETA:3m50s]\n",
      "[#bd67e4 98GiB/133GiB(73%) CN:4 DL:162MiB ETA:3m45s]\n",
      "[#bd67e4 98GiB/133GiB(73%) CN:4 DL:162MiB ETA:3m44s]\n",
      "[#bd67e4 98GiB/133GiB(73%) CN:4 DL:161MiB ETA:3m44s]\n",
      "[#bd67e4 98GiB/133GiB(73%) CN:4 DL:161MiB ETA:3m43s]\n",
      "[#bd67e4 98GiB/133GiB(73%) CN:4 DL:160MiB ETA:3m43s]\n",
      "[#bd67e4 98GiB/133GiB(73%) CN:4 DL:161MiB ETA:3m42s]\n",
      "[#bd67e4 99GiB/133GiB(74%) CN:4 DL:160MiB ETA:3m41s]\n",
      "[#bd67e4 99GiB/133GiB(74%) CN:4 DL:159MiB ETA:3m42s]\n",
      "[#bd67e4 99GiB/133GiB(74%) CN:4 DL:159MiB ETA:3m41s]\n",
      "[#bd67e4 99GiB/133GiB(74%) CN:4 DL:159MiB ETA:3m40s]\n",
      "[#bd67e4 99GiB/133GiB(74%) CN:4 DL:159MiB ETA:3m39s]\n",
      "[#bd67e4 99GiB/133GiB(74%) CN:4 DL:159MiB ETA:3m38s]\n",
      "[#bd67e4 100GiB/133GiB(74%) CN:4 DL:159MiB ETA:3m37s]\n",
      "[#bd67e4 100GiB/133GiB(74%) CN:4 DL:158MiB ETA:3m38s]\n",
      "[#bd67e4 100GiB/133GiB(74%) CN:4 DL:155MiB ETA:3m41s]\n",
      "[#bd67e4 100GiB/133GiB(75%) CN:4 DL:155MiB ETA:3m39s]\n",
      "[#bd67e4 100GiB/133GiB(75%) CN:4 DL:156MiB ETA:3m37s]\n",
      "[#bd67e4 100GiB/133GiB(75%) CN:4 DL:156MiB ETA:3m36s]\n",
      "[#bd67e4 100GiB/133GiB(75%) CN:4 DL:157MiB ETA:3m34s]\n",
      "[#bd67e4 101GiB/133GiB(75%) CN:4 DL:157MiB ETA:3m33s]\n",
      "[#bd67e4 101GiB/133GiB(75%) CN:4 DL:157MiB ETA:3m32s]\n",
      "[#bd67e4 101GiB/133GiB(75%) CN:4 DL:157MiB ETA:3m31s]\n",
      "[#bd67e4 101GiB/133GiB(75%) CN:4 DL:158MiB ETA:3m28s]\n",
      "[#bd67e4 101GiB/133GiB(75%) CN:4 DL:161MiB ETA:3m24s]\n",
      "[#bd67e4 101GiB/133GiB(76%) CN:4 DL:160MiB ETA:3m23s]\n",
      "[#bd67e4 101GiB/133GiB(76%) CN:4 DL:161MiB ETA:3m22s]\n",
      "[#bd67e4 102GiB/133GiB(76%) CN:4 DL:160MiB ETA:3m22s]\n",
      "[#bd67e4 102GiB/133GiB(76%) CN:4 DL:160MiB ETA:3m21s]\n",
      "[#bd67e4 102GiB/133GiB(76%) CN:4 DL:160MiB ETA:3m20s]\n",
      "[#bd67e4 102GiB/133GiB(76%) CN:4 DL:160MiB ETA:3m19s]\n",
      "[#bd67e4 102GiB/133GiB(76%) CN:4 DL:159MiB ETA:3m19s]\n",
      "[#bd67e4 102GiB/133GiB(76%) CN:4 DL:159MiB ETA:3m18s]\n",
      "[#bd67e4 103GiB/133GiB(76%) CN:4 DL:159MiB ETA:3m17s]\n",
      "[#bd67e4 103GiB/133GiB(77%) CN:4 DL:160MiB ETA:3m15s]\n",
      "[#bd67e4 103GiB/133GiB(77%) CN:4 DL:160MiB ETA:3m14s]\n",
      "[#bd67e4 103GiB/133GiB(77%) CN:4 DL:159MiB ETA:3m14s]\n",
      " *** Download Progress Summary as of Tue Apr 22 10:41:00 2025 *** \n",
      "===============================================================================\n",
      "[#bd67e4 103GiB/133GiB(77%) CN:4 DL:159MiB ETA:3m13s]\n",
      "FILE: /home/qvhilights_videos.tar.gz\n",
      "-------------------------------------------------------------------------------\n",
      "\n",
      "[#bd67e4 103GiB/133GiB(77%) CN:4 DL:159MiB ETA:3m13s]\n",
      "[#bd67e4 103GiB/133GiB(77%) CN:4 DL:159MiB ETA:3m13s]\n",
      "[#bd67e4 103GiB/133GiB(77%) CN:4 DL:156MiB ETA:3m15s]\n",
      "[#bd67e4 104GiB/133GiB(77%) CN:4 DL:156MiB ETA:3m15s]\n",
      "[#bd67e4 104GiB/133GiB(77%) CN:4 DL:156MiB ETA:3m13s]\n",
      "[#bd67e4 104GiB/133GiB(78%) CN:4 DL:155MiB ETA:3m13s]\n",
      "[#bd67e4 104GiB/133GiB(78%) CN:4 DL:155MiB ETA:3m12s]\n",
      "[#bd67e4 104GiB/133GiB(78%) CN:4 DL:152MiB ETA:3m15s]\n",
      "[#bd67e4 104GiB/133GiB(78%) CN:4 DL:150MiB ETA:3m17s]\n",
      "[#bd67e4 104GiB/133GiB(78%) CN:4 DL:150MiB ETA:3m16s]\n",
      "[#bd67e4 105GiB/133GiB(78%) CN:4 DL:150MiB ETA:3m15s]\n",
      "[#bd67e4 105GiB/133GiB(78%) CN:4 DL:150MiB ETA:3m14s]\n",
      "[#bd67e4 105GiB/133GiB(78%) CN:4 DL:152MiB ETA:3m10s]\n",
      "[#bd67e4 105GiB/133GiB(78%) CN:4 DL:152MiB ETA:3m9s]\n",
      "[#bd67e4 105GiB/133GiB(78%) CN:4 DL:152MiB ETA:3m9s]\n",
      "[#bd67e4 105GiB/133GiB(79%) CN:4 DL:151MiB ETA:3m8s]\n",
      "[#bd67e4 106GiB/133GiB(79%) CN:4 DL:152MiB ETA:3m7s]\n",
      "[#bd67e4 106GiB/133GiB(79%) CN:4 DL:155MiB ETA:3m2s]\n",
      "[#bd67e4 106GiB/133GiB(79%) CN:4 DL:157MiB ETA:2m59s]\n",
      "[#bd67e4 106GiB/133GiB(79%) CN:4 DL:157MiB ETA:2m58s]\n",
      "[#bd67e4 106GiB/133GiB(79%) CN:4 DL:157MiB ETA:2m57s]\n",
      "[#bd67e4 106GiB/133GiB(79%) CN:4 DL:156MiB ETA:2m56s]\n",
      "[#bd67e4 106GiB/133GiB(79%) CN:4 DL:152MiB ETA:3m]\n",
      "[#bd67e4 107GiB/133GiB(79%) CN:4 DL:149MiB ETA:3m3s]\n",
      "[#bd67e4 107GiB/133GiB(80%) CN:4 DL:149MiB ETA:3m2s]\n",
      "[#bd67e4 107GiB/133GiB(80%) CN:4 DL:150MiB ETA:3m]\n",
      "[#bd67e4 107GiB/133GiB(80%) CN:4 DL:150MiB ETA:2m59s]\n",
      "[#bd67e4 107GiB/133GiB(80%) CN:4 DL:150MiB ETA:2m58s]\n",
      "[#bd67e4 107GiB/133GiB(80%) CN:4 DL:150MiB ETA:2m57s]\n",
      "[#bd67e4 107GiB/133GiB(80%) CN:4 DL:150MiB ETA:2m56s]\n",
      "[#bd67e4 108GiB/133GiB(80%) CN:4 DL:150MiB ETA:2m54s]\n",
      "[#bd67e4 108GiB/133GiB(80%) CN:4 DL:152MiB ETA:2m51s]\n",
      "[#bd67e4 108GiB/133GiB(80%) CN:4 DL:156MiB ETA:2m46s]\n",
      "[#bd67e4 108GiB/133GiB(81%) CN:4 DL:158MiB ETA:2m43s]\n",
      "[#bd67e4 108GiB/133GiB(81%) CN:4 DL:158MiB ETA:2m42s]\n",
      "[#bd67e4 108GiB/133GiB(81%) CN:4 DL:158MiB ETA:2m41s]\n",
      "[#bd67e4 109GiB/133GiB(81%) CN:4 DL:158MiB ETA:2m40s]\n",
      "[#bd67e4 109GiB/133GiB(81%) CN:4 DL:158MiB ETA:2m39s]\n",
      "[#bd67e4 109GiB/133GiB(81%) CN:4 DL:158MiB ETA:2m38s]\n",
      "[#bd67e4 109GiB/133GiB(81%) CN:4 DL:158MiB ETA:2m37s]\n",
      "[#bd67e4 109GiB/133GiB(81%) CN:4 DL:158MiB ETA:2m36s]\n",
      "[#bd67e4 109GiB/133GiB(82%) CN:4 DL:158MiB ETA:2m35s]\n",
      "[#bd67e4 109GiB/133GiB(82%) CN:4 DL:158MiB ETA:2m34s]\n",
      "[#bd67e4 110GiB/133GiB(82%) CN:4 DL:158MiB ETA:2m33s]\n",
      "[#bd67e4 110GiB/133GiB(82%) CN:4 DL:159MiB ETA:2m31s]\n",
      "[#bd67e4 110GiB/133GiB(82%) CN:4 DL:159MiB ETA:2m30s]\n",
      "[#bd67e4 110GiB/133GiB(82%) CN:4 DL:159MiB ETA:2m29s]\n",
      "[#bd67e4 110GiB/133GiB(82%) CN:4 DL:160MiB ETA:2m27s]\n",
      "[#bd67e4 110GiB/133GiB(82%) CN:4 DL:160MiB ETA:2m26s]\n",
      "[#bd67e4 111GiB/133GiB(82%) CN:4 DL:161MiB ETA:2m24s]\n",
      "[#bd67e4 111GiB/133GiB(83%) CN:4 DL:162MiB ETA:2m22s]\n",
      "[#bd67e4 111GiB/133GiB(83%) CN:4 DL:162MiB ETA:2m21s]\n",
      "[#bd67e4 111GiB/133GiB(83%) CN:4 DL:150MiB ETA:2m32s]\n",
      "[#bd67e4 111GiB/133GiB(83%) CN:4 DL:152MiB ETA:2m29s]\n",
      "[#bd67e4 111GiB/133GiB(83%) CN:4 DL:152MiB ETA:2m27s]\n",
      "[#bd67e4 111GiB/133GiB(83%) CN:4 DL:152MiB ETA:2m26s]\n",
      "[#bd67e4 112GiB/133GiB(83%) CN:4 DL:152MiB ETA:2m26s]\n",
      "[#bd67e4 112GiB/133GiB(83%) CN:4 DL:151MiB ETA:2m25s]\n",
      "[#bd67e4 112GiB/133GiB(84%) CN:4 DL:151MiB ETA:2m24s]\n",
      "[#bd67e4 112GiB/133GiB(84%) CN:4 DL:151MiB ETA:2m23s]\n",
      " *** Download Progress Summary as of Tue Apr 22 10:42:00 2025 *** \n",
      "===============================================================================\n",
      "[#bd67e4 112GiB/133GiB(84%) CN:4 DL:151MiB ETA:2m22s]\n",
      "FILE: /home/qvhilights_videos.tar.gz\n",
      "-------------------------------------------------------------------------------\n",
      "\n",
      "[#bd67e4 112GiB/133GiB(84%) CN:4 DL:151MiB ETA:2m22s]\n",
      "[#bd67e4 112GiB/133GiB(84%) CN:4 DL:151MiB ETA:2m21s]\n",
      "[#bd67e4 113GiB/133GiB(84%) CN:4 DL:159MiB ETA:2m13s]\n",
      "[#bd67e4 113GiB/133GiB(84%) CN:4 DL:159MiB ETA:2m12s]\n",
      "[#bd67e4 113GiB/133GiB(84%) CN:4 DL:159MiB ETA:2m11s]\n",
      "[#bd67e4 113GiB/133GiB(84%) CN:4 DL:159MiB ETA:2m10s]\n",
      "[#bd67e4 113GiB/133GiB(84%) CN:4 DL:159MiB ETA:2m9s]\n",
      "[#bd67e4 113GiB/133GiB(85%) CN:4 DL:159MiB ETA:2m8s]\n",
      "[#bd67e4 114GiB/133GiB(85%) CN:4 DL:159MiB ETA:2m7s]\n",
      "[#bd67e4 114GiB/133GiB(85%) CN:4 DL:159MiB ETA:2m6s]\n",
      "[#bd67e4 114GiB/133GiB(85%) CN:4 DL:159MiB ETA:2m5s]\n",
      "[#bd67e4 114GiB/133GiB(85%) CN:4 DL:159MiB ETA:2m4s]\n",
      "[#bd67e4 114GiB/133GiB(85%) CN:4 DL:162MiB ETA:2m1s]\n",
      "[#bd67e4 114GiB/133GiB(85%) CN:4 DL:158MiB ETA:2m3s]\n",
      "[#bd67e4 114GiB/133GiB(85%) CN:4 DL:155MiB ETA:2m5s]\n",
      "[#bd67e4 114GiB/133GiB(85%) CN:4 DL:150MiB ETA:2m8s]\n",
      "[#bd67e4 115GiB/133GiB(86%) CN:4 DL:148MiB ETA:2m8s]\n",
      "[#bd67e4 115GiB/133GiB(86%) CN:4 DL:149MiB ETA:2m7s]\n",
      "[#bd67e4 115GiB/133GiB(86%) CN:4 DL:149MiB ETA:2m6s]\n",
      "[#bd67e4 115GiB/133GiB(86%) CN:4 DL:149MiB ETA:2m5s]\n",
      "[#bd67e4 115GiB/133GiB(86%) CN:4 DL:149MiB ETA:2m4s]\n",
      "[#bd67e4 115GiB/133GiB(86%) CN:4 DL:149MiB ETA:2m2s]\n",
      "[#bd67e4 116GiB/133GiB(86%) CN:4 DL:150MiB ETA:2m]\n",
      "[#bd67e4 116GiB/133GiB(86%) CN:4 DL:155MiB ETA:1m56s]\n",
      "[#bd67e4 116GiB/133GiB(86%) CN:4 DL:158MiB ETA:1m53s]\n",
      "[#bd67e4 116GiB/133GiB(87%) CN:4 DL:162MiB ETA:1m49s]\n",
      "[#bd67e4 116GiB/133GiB(87%) CN:4 DL:162MiB ETA:1m47s]\n",
      "[#bd67e4 116GiB/133GiB(87%) CN:4 DL:162MiB ETA:1m47s]\n",
      "[#bd67e4 117GiB/133GiB(87%) CN:4 DL:162MiB ETA:1m46s]\n",
      "[#bd67e4 117GiB/133GiB(87%) CN:4 DL:162MiB ETA:1m45s]\n",
      "[#bd67e4 117GiB/133GiB(87%) CN:4 DL:162MiB ETA:1m44s]\n",
      "[#bd67e4 117GiB/133GiB(87%) CN:4 DL:162MiB ETA:1m43s]\n",
      "[#bd67e4 117GiB/133GiB(87%) CN:4 DL:162MiB ETA:1m42s]\n",
      "[#bd67e4 117GiB/133GiB(88%) CN:4 DL:162MiB ETA:1m41s]\n",
      "[#bd67e4 117GiB/133GiB(88%) CN:4 DL:162MiB ETA:1m40s]\n",
      "[#bd67e4 118GiB/133GiB(88%) CN:4 DL:162MiB ETA:1m39s]\n",
      "[#bd67e4 118GiB/133GiB(88%) CN:4 DL:161MiB ETA:1m38s]\n",
      "[#bd67e4 118GiB/133GiB(88%) CN:4 DL:161MiB ETA:1m37s]\n",
      "[#bd67e4 118GiB/133GiB(88%) CN:4 DL:161MiB ETA:1m37s]\n",
      "[#bd67e4 118GiB/133GiB(88%) CN:4 DL:160MiB ETA:1m36s]\n",
      "[#bd67e4 118GiB/133GiB(88%) CN:4 DL:160MiB ETA:1m35s]\n",
      "[#bd67e4 119GiB/133GiB(88%) CN:4 DL:159MiB ETA:1m35s]\n",
      "[#bd67e4 119GiB/133GiB(89%) CN:4 DL:158MiB ETA:1m34s]\n",
      "[#bd67e4 119GiB/133GiB(89%) CN:4 DL:157MiB ETA:1m34s]\n",
      "[#bd67e4 119GiB/133GiB(89%) CN:4 DL:157MiB ETA:1m33s]\n",
      "[#bd67e4 119GiB/133GiB(89%) CN:4 DL:157MiB ETA:1m32s]\n",
      "[#bd67e4 119GiB/133GiB(89%) CN:4 DL:156MiB ETA:1m31s]\n",
      "[#bd67e4 119GiB/133GiB(89%) CN:4 DL:157MiB ETA:1m30s]\n",
      "[#bd67e4 120GiB/133GiB(89%) CN:4 DL:156MiB ETA:1m29s]\n",
      "[#bd67e4 120GiB/133GiB(89%) CN:4 DL:156MiB ETA:1m29s]\n",
      "[#bd67e4 120GiB/133GiB(89%) CN:4 DL:156MiB ETA:1m27s]\n",
      "[#bd67e4 120GiB/133GiB(90%) CN:4 DL:157MiB ETA:1m26s]\n",
      "[#bd67e4 120GiB/133GiB(90%) CN:4 DL:149MiB ETA:1m30s]\n",
      "[#bd67e4 120GiB/133GiB(90%) CN:4 DL:151MiB ETA:1m28s]\n",
      "[#bd67e4 120GiB/133GiB(90%) CN:4 DL:150MiB ETA:1m27s]\n",
      "[#bd67e4 121GiB/133GiB(90%) CN:4 DL:151MiB ETA:1m25s]\n",
      "[#bd67e4 121GiB/133GiB(90%) CN:4 DL:151MiB ETA:1m24s]\n",
      "[#bd67e4 121GiB/133GiB(90%) CN:4 DL:151MiB ETA:1m23s]\n",
      "[#bd67e4 121GiB/133GiB(90%) CN:4 DL:151MiB ETA:1m22s]\n",
      "[#bd67e4 121GiB/133GiB(90%) CN:4 DL:152MiB ETA:1m21s]\n",
      "[#bd67e4 121GiB/133GiB(91%) CN:4 DL:152MiB ETA:1m20s]\n",
      " *** Download Progress Summary as of Tue Apr 22 10:43:01 2025 *** \n",
      "===============================================================================\n",
      "[#bd67e4 122GiB/133GiB(91%) CN:4 DL:152MiB ETA:1m19s]\n",
      "FILE: /home/qvhilights_videos.tar.gz\n",
      "-------------------------------------------------------------------------------\n",
      "\n",
      "[#bd67e4 122GiB/133GiB(91%) CN:4 DL:152MiB ETA:1m19s]\n",
      "[#bd67e4 122GiB/133GiB(91%) CN:4 DL:156MiB ETA:1m16s]\n",
      "[#bd67e4 122GiB/133GiB(91%) CN:4 DL:156MiB ETA:1m15s]\n",
      "[#bd67e4 122GiB/133GiB(91%) CN:4 DL:156MiB ETA:1m14s]\n",
      "[#bd67e4 122GiB/133GiB(91%) CN:4 DL:156MiB ETA:1m13s]\n",
      "[#bd67e4 122GiB/133GiB(91%) CN:4 DL:156MiB ETA:1m12s]\n",
      "[#bd67e4 122GiB/133GiB(91%) CN:4 DL:156MiB ETA:1m11s]\n",
      "[#bd67e4 123GiB/133GiB(91%) CN:4 DL:156MiB ETA:1m10s]\n",
      "[#bd67e4 123GiB/133GiB(92%) CN:4 DL:156MiB ETA:1m9s]\n",
      "[#bd67e4 123GiB/133GiB(92%) CN:4 DL:156MiB ETA:1m8s]\n",
      "[#bd67e4 123GiB/133GiB(92%) CN:4 DL:156MiB ETA:1m7s]\n",
      "[#bd67e4 123GiB/133GiB(92%) CN:4 DL:158MiB ETA:1m5s]\n",
      "[#bd67e4 123GiB/133GiB(92%) CN:4 DL:155MiB ETA:1m5s]\n",
      "[#bd67e4 123GiB/133GiB(92%) CN:4 DL:151MiB ETA:1m6s]\n",
      "[#bd67e4 124GiB/133GiB(92%) CN:4 DL:146MiB ETA:1m8s]\n",
      "[#bd67e4 124GiB/133GiB(92%) CN:4 DL:146MiB ETA:1m7s]\n",
      "[#bd67e4 124GiB/133GiB(92%) CN:4 DL:146MiB ETA:1m6s]\n",
      "[#bd67e4 124GiB/133GiB(93%) CN:4 DL:146MiB ETA:1m4s]\n",
      "[#bd67e4 124GiB/133GiB(93%) CN:4 DL:146MiB ETA:1m4s]\n",
      "[#bd67e4 124GiB/133GiB(93%) CN:4 DL:146MiB ETA:1m2s]\n",
      "[#bd67e4 125GiB/133GiB(93%) CN:4 DL:146MiB ETA:1m1s]\n",
      "[#bd67e4 125GiB/133GiB(93%) CN:4 DL:148MiB ETA:59s]\n",
      "[#bd67e4 125GiB/133GiB(93%) CN:4 DL:152MiB ETA:57s]\n",
      "[#bd67e4 125GiB/133GiB(93%) CN:4 DL:156MiB ETA:54s]\n",
      "[#bd67e4 125GiB/133GiB(93%) CN:4 DL:159MiB ETA:53s]\n",
      "[#bd67e4 125GiB/133GiB(93%) CN:4 DL:158MiB ETA:52s]\n",
      "[#bd67e4 125GiB/133GiB(94%) CN:4 DL:158MiB ETA:51s]\n",
      "[#bd67e4 126GiB/133GiB(94%) CN:4 DL:158MiB ETA:50s]\n",
      "[#bd67e4 126GiB/133GiB(94%) CN:4 DL:158MiB ETA:49s]\n",
      "[#bd67e4 126GiB/133GiB(94%) CN:4 DL:158MiB ETA:48s]\n",
      "[#bd67e4 126GiB/133GiB(94%) CN:4 DL:158MiB ETA:47s]\n",
      "[#bd67e4 126GiB/133GiB(94%) CN:4 DL:159MiB ETA:46s]\n",
      "[#bd67e4 126GiB/133GiB(94%) CN:4 DL:159MiB ETA:44s]\n",
      "[#bd67e4 127GiB/133GiB(94%) CN:4 DL:159MiB ETA:43s]\n",
      "[#bd67e4 127GiB/133GiB(95%) CN:4 DL:160MiB ETA:42s]\n",
      "[#bd67e4 127GiB/133GiB(95%) CN:4 DL:161MiB ETA:41s]\n",
      "[#bd67e4 127GiB/133GiB(95%) CN:4 DL:161MiB ETA:40s]\n",
      "[#bd67e4 127GiB/133GiB(95%) CN:4 DL:161MiB ETA:39s]\n",
      "[#bd67e4 127GiB/133GiB(95%) CN:4 DL:161MiB ETA:38s]\n",
      "[#bd67e4 127GiB/133GiB(95%) CN:4 DL:161MiB ETA:37s]\n",
      "[#bd67e4 128GiB/133GiB(95%) CN:4 DL:160MiB ETA:36s]\n",
      "[#bd67e4 128GiB/133GiB(95%) CN:4 DL:160MiB ETA:35s]\n",
      "[#bd67e4 128GiB/133GiB(95%) CN:4 DL:160MiB ETA:34s]\n",
      "[#bd67e4 128GiB/133GiB(96%) CN:4 DL:159MiB ETA:34s]\n",
      "[#bd67e4 128GiB/133GiB(96%) CN:4 DL:159MiB ETA:32s]\n",
      "[#bd67e4 128GiB/133GiB(96%) CN:4 DL:160MiB ETA:31s]\n",
      "[#bd67e4 129GiB/133GiB(96%) CN:4 DL:160MiB ETA:30s]\n",
      "[#bd67e4 129GiB/133GiB(96%) CN:4 DL:160MiB ETA:29s]\n",
      "[#bd67e4 129GiB/133GiB(96%) CN:4 DL:160MiB ETA:28s]\n",
      "[#bd67e4 129GiB/133GiB(96%) CN:4 DL:160MiB ETA:27s]\n",
      "[#bd67e4 129GiB/133GiB(96%) CN:4 DL:160MiB ETA:26s]\n",
      "[#bd67e4 129GiB/133GiB(96%) CN:4 DL:161MiB ETA:25s]\n",
      "[#bd67e4 129GiB/133GiB(97%) CN:4 DL:158MiB ETA:25s]\n",
      "[#bd67e4 130GiB/133GiB(97%) CN:4 DL:158MiB ETA:24s]\n",
      "[#bd67e4 130GiB/133GiB(97%) CN:4 DL:158MiB ETA:23s]\n",
      "[#bd67e4 130GiB/133GiB(97%) CN:4 DL:158MiB ETA:22s]\n",
      "[#bd67e4 130GiB/133GiB(97%) CN:4 DL:158MiB ETA:21s]\n",
      "[#bd67e4 130GiB/133GiB(97%) CN:4 DL:158MiB ETA:20s]\n",
      "[#bd67e4 130GiB/133GiB(97%) CN:4 DL:159MiB ETA:19s]\n",
      "[#bd67e4 131GiB/133GiB(97%) CN:4 DL:159MiB ETA:18s]\n",
      "[#bd67e4 131GiB/133GiB(98%) CN:4 DL:159MiB ETA:17s]\n",
      " *** Download Progress Summary as of Tue Apr 22 10:44:01 2025 *** \n",
      "===============================================================================\n",
      "[#bd67e4 131GiB/133GiB(98%) CN:4 DL:158MiB ETA:16s]\n",
      "FILE: /home/qvhilights_videos.tar.gz\n",
      "-------------------------------------------------------------------------------\n",
      "\n",
      "[#bd67e4 131GiB/133GiB(98%) CN:4 DL:158MiB ETA:16s]\n",
      "[#bd67e4 131GiB/133GiB(98%) CN:4 DL:160MiB ETA:15s]\n",
      "[#bd67e4 131GiB/133GiB(98%) CN:4 DL:159MiB ETA:14s]\n",
      "[#bd67e4 131GiB/133GiB(98%) CN:4 DL:159MiB ETA:13s]\n",
      "[#bd67e4 131GiB/133GiB(98%) CN:4 DL:159MiB ETA:12s]\n",
      "[#bd67e4 132GiB/133GiB(98%) CN:4 DL:158MiB ETA:11s]\n",
      "[#bd67e4 132GiB/133GiB(98%) CN:4 DL:158MiB ETA:10s]\n",
      "[#bd67e4 132GiB/133GiB(98%) CN:4 DL:156MiB ETA:9s]\n",
      "[#bd67e4 132GiB/133GiB(99%) CN:4 DL:154MiB ETA:8s]\n",
      "[#bd67e4 132GiB/133GiB(99%) CN:4 DL:154MiB ETA:7s]\n",
      "[#bd67e4 132GiB/133GiB(99%) CN:4 DL:156MiB ETA:6s]\n",
      "[#bd67e4 133GiB/133GiB(99%) CN:4 DL:157MiB ETA:5s]\n",
      "[#bd67e4 133GiB/133GiB(99%) CN:4 DL:157MiB ETA:4s]\n",
      "[#bd67e4 133GiB/133GiB(99%) CN:4 DL:157MiB ETA:3s]\n",
      "[#bd67e4 133GiB/133GiB(99%) CN:4 DL:155MiB ETA:2s]\n",
      "[#bd67e4 133GiB/133GiB(99%) CN:4 DL:154MiB ETA:1s]\n",
      "[#bd67e4 133GiB/133GiB(99%) CN:4 DL:154MiB]\n",
      "\n",
      "04/22 10:44:19 [\u001b[1;32mNOTICE\u001b[0m] Download complete: /home/qvhilights_videos.tar.gz\n",
      "\n",
      "Download Results:\n",
      "gid   |stat|avg speed  |path/URI\n",
      "======+====+===========+=======================================================\n",
      "bd67e4|OK  |   158MiB/s|/home/qvhilights_videos.tar.gz\n",
      "\n",
      "Status Legend:\n",
      "(OK):download completed.\n"
     ]
    }
   ],
   "source": [
    "%%bash\n",
    "\n",
    "aria2c -x 4 -s 4 https://nlp.cs.unc.edu/data/jielei/qvh/qvhilights_videos.tar.gz"
   ]
  },
  {
   "cell_type": "code",
   "execution_count": 99,
   "id": "8274bcf8-996c-4296-bf6c-31b7543961ae",
   "metadata": {},
   "outputs": [],
   "source": [
    "%%bash\n",
    "mkdir qvhighlights_videos\n",
    "tar -xzf qvhilights_videos.tar.gz -C qvhighlights_videos"
   ]
  },
  {
   "cell_type": "code",
   "execution_count": 102,
   "id": "2874caea-1a27-4d51-97dc-7493b2ff82ef",
   "metadata": {},
   "outputs": [
    {
     "name": "stdout",
     "output_type": "stream",
     "text": [
      "12562\n"
     ]
    }
   ],
   "source": [
    "%%bash\n",
    "ls -1 qvhighlights_videos/videos | wc -l"
   ]
  },
  {
   "cell_type": "code",
   "execution_count": 103,
   "id": "675a45f4-ddcd-4ebb-97ba-fea503b4ca45",
   "metadata": {},
   "outputs": [],
   "source": [
    "!rm qvhilights_videos.tar.gz"
   ]
  },
  {
   "cell_type": "markdown",
   "id": "c5901c50-d9d3-4415-a3a4-6a3b7ff3a6e0",
   "metadata": {},
   "source": [
    "## Val Split"
   ]
  },
  {
   "cell_type": "code",
   "execution_count": 1,
   "id": "609a8b36-ecdd-48b4-a12a-90a763f8d781",
   "metadata": {},
   "outputs": [],
   "source": [
    "import json\n",
    "with open('highlight_val_release.json', 'r') as f:\n",
    "    highlight_val_release = json.load(f)"
   ]
  },
  {
   "cell_type": "code",
   "execution_count": 2,
   "id": "3e75a67d-7f94-4961-abe0-568dc124d7d2",
   "metadata": {
    "scrolled": true
   },
   "outputs": [
    {
     "data": {
      "text/plain": [
       "{'qid': 2579,\n",
       " 'query': 'A girl and her mother cooked while talking with each other on facetime.',\n",
       " 'duration': 150,\n",
       " 'vid': 'NUsG9BgSes0_210.0_360.0',\n",
       " 'relevant_clip_ids': [41,\n",
       "  42,\n",
       "  43,\n",
       "  44,\n",
       "  45,\n",
       "  46,\n",
       "  47,\n",
       "  48,\n",
       "  49,\n",
       "  50,\n",
       "  51,\n",
       "  52,\n",
       "  53,\n",
       "  54,\n",
       "  55,\n",
       "  56,\n",
       "  57,\n",
       "  58,\n",
       "  59,\n",
       "  60,\n",
       "  61,\n",
       "  62,\n",
       "  63,\n",
       "  64,\n",
       "  65,\n",
       "  66,\n",
       "  67,\n",
       "  68,\n",
       "  69,\n",
       "  70,\n",
       "  71,\n",
       "  72,\n",
       "  73,\n",
       "  74],\n",
       " 'saliency_scores': [[1, 1, 2],\n",
       "  [1, 1, 3],\n",
       "  [1, 1, 3],\n",
       "  [1, 1, 3],\n",
       "  [1, 1, 3],\n",
       "  [1, 1, 2],\n",
       "  [1, 1, 3],\n",
       "  [2, 1, 4],\n",
       "  [2, 1, 4],\n",
       "  [2, 1, 4],\n",
       "  [2, 2, 4],\n",
       "  [2, 2, 3],\n",
       "  [3, 2, 2],\n",
       "  [4, 2, 2],\n",
       "  [4, 2, 2],\n",
       "  [4, 2, 2],\n",
       "  [3, 2, 2],\n",
       "  [3, 2, 3],\n",
       "  [3, 2, 3],\n",
       "  [4, 2, 3],\n",
       "  [3, 2, 3],\n",
       "  [3, 2, 3],\n",
       "  [3, 2, 3],\n",
       "  [3, 2, 3],\n",
       "  [3, 2, 2],\n",
       "  [3, 2, 2],\n",
       "  [3, 2, 2],\n",
       "  [3, 2, 3],\n",
       "  [3, 2, 4],\n",
       "  [3, 2, 3],\n",
       "  [3, 2, 4],\n",
       "  [3, 2, 4],\n",
       "  [3, 1, 3],\n",
       "  [3, 1, 4]],\n",
       " 'relevant_windows': [[82, 150]]}"
      ]
     },
     "execution_count": 2,
     "metadata": {},
     "output_type": "execute_result"
    }
   ],
   "source": [
    "highlight_val_release[0]"
   ]
  },
  {
   "cell_type": "code",
   "execution_count": 9,
   "id": "38f9d204-77b5-4fd8-bfcb-683d02f8fdce",
   "metadata": {},
   "outputs": [
    {
     "name": "stderr",
     "output_type": "stream",
     "text": [
      "100%|██████████| 1550/1550 [00:00<00:00, 312241.06it/s]\n"
     ]
    }
   ],
   "source": [
    "from tqdm import tqdm\n",
    "val_videos = set()\n",
    "for h in tqdm(highlight_val_release):\n",
    "    val_videos.add(h['vid'])"
   ]
  },
  {
   "cell_type": "code",
   "execution_count": 5,
   "id": "3737f4ca-c722-4171-8f07-a6a54be065ab",
   "metadata": {},
   "outputs": [],
   "source": [
    "!mkdir -p train test val"
   ]
  },
  {
   "cell_type": "code",
   "execution_count": 10,
   "id": "9596be45-cba2-49bc-b262-8643d6b1bb2b",
   "metadata": {},
   "outputs": [
    {
     "data": {
      "text/plain": [
       "'AW6IgzeMjpE_210.0_360.0'"
      ]
     },
     "execution_count": 10,
     "metadata": {},
     "output_type": "execute_result"
    }
   ],
   "source": [
    "next(iter(val_videos))"
   ]
  },
  {
   "cell_type": "code",
   "execution_count": 11,
   "id": "a6163d57-990e-46a4-8fdb-8f83f834b94e",
   "metadata": {},
   "outputs": [
    {
     "name": "stderr",
     "output_type": "stream",
     "text": [
      "100%|██████████| 1519/1519 [00:06<00:00, 249.28it/s]\n"
     ]
    }
   ],
   "source": [
    "import shutil\n",
    "for vid in tqdm(val_videos):\n",
    "    shutil.copy2(f\"qvhighlights_videos/videos/{vid}.mp4\", f\"val/{vid}.mp4\")"
   ]
  },
  {
   "cell_type": "code",
   "execution_count": 13,
   "id": "029b4f79-5ac7-4f9d-a256-505ee2fc4e10",
   "metadata": {},
   "outputs": [
    {
     "name": "stdout",
     "output_type": "stream",
     "text": [
      "17G\tval\n"
     ]
    }
   ],
   "source": [
    "!du -sh val"
   ]
  },
  {
   "cell_type": "code",
   "execution_count": 14,
   "id": "d87ab862-c131-435b-87e3-a0cb0944a0c2",
   "metadata": {},
   "outputs": [],
   "source": [
    "%%bash\n",
    "tar -czf videos.tar.gz -C val ."
   ]
  },
  {
   "cell_type": "code",
   "execution_count": 15,
   "id": "17402c35-092a-451f-889b-ac425ffb6c78",
   "metadata": {},
   "outputs": [],
   "source": [
    "%%bash\n",
    "rm -rf val/"
   ]
  },
  {
   "cell_type": "code",
   "execution_count": 16,
   "id": "60fe0f27-bac8-4990-9c90-0f908fe514d8",
   "metadata": {},
   "outputs": [
    {
     "data": {
      "application/vnd.jupyter.widget-view+json": {
       "model_id": "06c4e7f402024d8a8b6976f2ee65ec4d",
       "version_major": 2,
       "version_minor": 0
      },
      "text/plain": [
       "videos.tar.gz:   0%|          | 0.00/17.6G [00:00<?, ?B/s]"
      ]
     },
     "metadata": {},
     "output_type": "display_data"
    },
    {
     "data": {
      "text/plain": [
       "CommitInfo(commit_url='https://huggingface.co/datasets/jwnt4/qvhighlights-val/commit/cf06c803b84768c2b20602100a98beb0c4ab0e11', commit_message='Upload videos.tar.gz with huggingface_hub', commit_description='', oid='cf06c803b84768c2b20602100a98beb0c4ab0e11', pr_url=None, repo_url=RepoUrl('https://huggingface.co/datasets/jwnt4/qvhighlights-val', endpoint='https://huggingface.co', repo_type='dataset', repo_id='jwnt4/qvhighlights-val'), pr_revision=None, pr_num=None)"
      ]
     },
     "execution_count": 16,
     "metadata": {},
     "output_type": "execute_result"
    }
   ],
   "source": [
    "from huggingface_hub import HfApi\n",
    "api = HfApi()\n",
    "api.upload_file(\n",
    "    path_or_fileobj=\"videos.tar.gz\",\n",
    "    path_in_repo=\"videos.tar.gz\",\n",
    "    repo_id=\"jwnt4/qvhighlights-val\",\n",
    "    repo_type=\"dataset\",\n",
    ")"
   ]
  },
  {
   "cell_type": "code",
   "execution_count": 18,
   "id": "07e00f6f-3896-44cf-a241-5837c1590caa",
   "metadata": {},
   "outputs": [],
   "source": [
    "%%bash\n",
    "rm videos.tar.gz"
   ]
  },
  {
   "cell_type": "markdown",
   "id": "32926186-885a-4cff-a814-e78ccfa23f34",
   "metadata": {},
   "source": [
    "## Test Split"
   ]
  },
  {
   "cell_type": "code",
   "execution_count": 17,
   "id": "fef561fe-c435-4e91-84cf-03720d56a040",
   "metadata": {},
   "outputs": [
    {
     "name": "stderr",
     "output_type": "stream",
     "text": [
      "100%|██████████| 1542/1542 [00:00<00:00, 997781.05it/s]\n",
      "100%|██████████| 1529/1529 [00:06<00:00, 250.33it/s]\n"
     ]
    }
   ],
   "source": [
    "with open('highlight_test_release.json', 'r') as f:\n",
    "    highlight_test_release = json.load(f)\n",
    "\n",
    "test_videos = set()\n",
    "for h in tqdm(highlight_test_release):\n",
    "    test_videos.add(h['vid'])\n",
    "\n",
    "for vid in tqdm(test_videos):\n",
    "    shutil.copy2(f\"qvhighlights_videos/videos/{vid}.mp4\", f\"test/{vid}.mp4\")"
   ]
  },
  {
   "cell_type": "code",
   "execution_count": 19,
   "id": "8cfd01bd-ac33-4b67-88d7-9c1c1b19a0ff",
   "metadata": {},
   "outputs": [],
   "source": [
    "%%bash\n",
    "tar -czf videos.tar.gz -C test ."
   ]
  },
  {
   "cell_type": "code",
   "execution_count": 20,
   "id": "97875499-6847-47d7-ab2c-3161e4f3b4d8",
   "metadata": {},
   "outputs": [
    {
     "data": {
      "application/vnd.jupyter.widget-view+json": {
       "model_id": "5569b9eabdf54134bd8b9efb3270ba29",
       "version_major": 2,
       "version_minor": 0
      },
      "text/plain": [
       "videos.tar.gz:   0%|          | 0.00/17.6G [00:00<?, ?B/s]"
      ]
     },
     "metadata": {},
     "output_type": "display_data"
    },
    {
     "data": {
      "text/plain": [
       "CommitInfo(commit_url='https://huggingface.co/datasets/jwnt4/qvhighlights-test/commit/39bef27936c09b535048ff07689aedd634dbc737', commit_message='Upload videos.tar.gz with huggingface_hub', commit_description='', oid='39bef27936c09b535048ff07689aedd634dbc737', pr_url=None, repo_url=RepoUrl('https://huggingface.co/datasets/jwnt4/qvhighlights-test', endpoint='https://huggingface.co', repo_type='dataset', repo_id='jwnt4/qvhighlights-test'), pr_revision=None, pr_num=None)"
      ]
     },
     "execution_count": 20,
     "metadata": {},
     "output_type": "execute_result"
    }
   ],
   "source": [
    "from huggingface_hub import HfApi\n",
    "api = HfApi()\n",
    "api.upload_file(\n",
    "    path_or_fileobj=\"videos.tar.gz\",\n",
    "    path_in_repo=\"videos.tar.gz\",\n",
    "    repo_id=\"jwnt4/qvhighlights-test\",\n",
    "    repo_type=\"dataset\",\n",
    ")"
   ]
  },
  {
   "cell_type": "code",
   "execution_count": 21,
   "id": "23bd52c4-da72-4fd7-b75e-4bbf61bb0fb5",
   "metadata": {},
   "outputs": [],
   "source": [
    "%%bash\n",
    "rm -rf test\n",
    "rm videos.tar.gz"
   ]
  },
  {
   "cell_type": "markdown",
   "id": "64e33b7c-fc83-4639-901b-ca1a203b776c",
   "metadata": {},
   "source": [
    "## Train Split"
   ]
  },
  {
   "cell_type": "code",
   "execution_count": 24,
   "id": "adff49c1-f6f7-4d2d-86e1-9530d0979905",
   "metadata": {},
   "outputs": [
    {
     "name": "stderr",
     "output_type": "stream",
     "text": [
      "100%|██████████| 7218/7218 [00:00<00:00, 2726939.86it/s]\n",
      "100%|██████████| 7100/7100 [00:36<00:00, 195.59it/s]\n"
     ]
    }
   ],
   "source": [
    "with open('highlight_train_release.json', 'r') as f:\n",
    "    highlight_train_release = json.load(f)\n",
    "\n",
    "train_videos = set()\n",
    "for h in tqdm(highlight_train_release):\n",
    "    train_videos.add(h['vid'])\n",
    "\n",
    "for vid in tqdm(train_videos):\n",
    "    shutil.copy2(f\"qvhighlights_videos/videos/{vid}.mp4\", f\"train/{vid}.mp4\")"
   ]
  },
  {
   "cell_type": "code",
   "execution_count": 25,
   "id": "98d78821-96b3-4687-972e-e925dc962748",
   "metadata": {},
   "outputs": [
    {
     "name": "stdout",
     "output_type": "stream",
     "text": [
      "77G\ttrain/\n"
     ]
    }
   ],
   "source": [
    "%%bash\n",
    "rm -rf qvhighlights_videos\n",
    "du -sh train/"
   ]
  },
  {
   "cell_type": "code",
   "execution_count": null,
   "id": "71ec6580-14d8-436c-a0a8-244df05cc858",
   "metadata": {},
   "outputs": [],
   "source": [
    "%%bash\n",
    "tar -czf videos.tar.gz -C train ."
   ]
  },
  {
   "cell_type": "code",
   "execution_count": 1,
   "id": "1b49a73d-c9af-43f9-a0fb-dcb3732bb11e",
   "metadata": {},
   "outputs": [],
   "source": [
    "%%bash\n",
    "rm -rf train/"
   ]
  },
  {
   "cell_type": "code",
   "execution_count": 2,
   "id": "ca988803-d802-449b-8ca5-31c4ca227ac5",
   "metadata": {},
   "outputs": [
    {
     "ename": "HfHubHTTPError",
     "evalue": "422 Client Error: Unprocessable Entity for url: https://huggingface.co/api/datasets/jwnt4/qvhighlights-train/preupload/main (Request ID: Root=1-6807e722-7b5d73a772f2c881416b7d51;9b452e76-0517-47a6-bea2-f9f6641c4415)\n\nMaximum individual file size is 50.0GB",
     "output_type": "error",
     "traceback": [
      "\u001b[0;31m---------------------------------------------------------------------------\u001b[0m",
      "\u001b[0;31mHTTPError\u001b[0m                                 Traceback (most recent call last)",
      "File \u001b[0;32m/opt/conda/lib/python3.11/site-packages/huggingface_hub/utils/_http.py:409\u001b[0m, in \u001b[0;36mhf_raise_for_status\u001b[0;34m(response, endpoint_name)\u001b[0m\n\u001b[1;32m    408\u001b[0m \u001b[38;5;28;01mtry\u001b[39;00m:\n\u001b[0;32m--> 409\u001b[0m     \u001b[43mresponse\u001b[49m\u001b[38;5;241;43m.\u001b[39;49m\u001b[43mraise_for_status\u001b[49m\u001b[43m(\u001b[49m\u001b[43m)\u001b[49m\n\u001b[1;32m    410\u001b[0m \u001b[38;5;28;01mexcept\u001b[39;00m HTTPError \u001b[38;5;28;01mas\u001b[39;00m e:\n",
      "File \u001b[0;32m/opt/conda/lib/python3.11/site-packages/requests/models.py:1024\u001b[0m, in \u001b[0;36mResponse.raise_for_status\u001b[0;34m(self)\u001b[0m\n\u001b[1;32m   1023\u001b[0m \u001b[38;5;28;01mif\u001b[39;00m http_error_msg:\n\u001b[0;32m-> 1024\u001b[0m     \u001b[38;5;28;01mraise\u001b[39;00m HTTPError(http_error_msg, response\u001b[38;5;241m=\u001b[39m\u001b[38;5;28mself\u001b[39m)\n",
      "\u001b[0;31mHTTPError\u001b[0m: 422 Client Error: Unprocessable Entity for url: https://huggingface.co/api/datasets/jwnt4/qvhighlights-train/preupload/main",
      "\nThe above exception was the direct cause of the following exception:\n",
      "\u001b[0;31mHfHubHTTPError\u001b[0m                            Traceback (most recent call last)",
      "Cell \u001b[0;32mIn[2], line 3\u001b[0m\n\u001b[1;32m      1\u001b[0m \u001b[38;5;28;01mfrom\u001b[39;00m \u001b[38;5;21;01mhuggingface_hub\u001b[39;00m \u001b[38;5;28;01mimport\u001b[39;00m HfApi\n\u001b[1;32m      2\u001b[0m api \u001b[38;5;241m=\u001b[39m HfApi()\n\u001b[0;32m----> 3\u001b[0m \u001b[43mapi\u001b[49m\u001b[38;5;241;43m.\u001b[39;49m\u001b[43mupload_file\u001b[49m\u001b[43m(\u001b[49m\n\u001b[1;32m      4\u001b[0m \u001b[43m    \u001b[49m\u001b[43mpath_or_fileobj\u001b[49m\u001b[38;5;241;43m=\u001b[39;49m\u001b[38;5;124;43m\"\u001b[39;49m\u001b[38;5;124;43mvideos.tar.gz\u001b[39;49m\u001b[38;5;124;43m\"\u001b[39;49m\u001b[43m,\u001b[49m\n\u001b[1;32m      5\u001b[0m \u001b[43m    \u001b[49m\u001b[43mpath_in_repo\u001b[49m\u001b[38;5;241;43m=\u001b[39;49m\u001b[38;5;124;43m\"\u001b[39;49m\u001b[38;5;124;43mvideos.tar.gz\u001b[39;49m\u001b[38;5;124;43m\"\u001b[39;49m\u001b[43m,\u001b[49m\n\u001b[1;32m      6\u001b[0m \u001b[43m    \u001b[49m\u001b[43mrepo_id\u001b[49m\u001b[38;5;241;43m=\u001b[39;49m\u001b[38;5;124;43m\"\u001b[39;49m\u001b[38;5;124;43mjwnt4/qvhighlights-train\u001b[39;49m\u001b[38;5;124;43m\"\u001b[39;49m\u001b[43m,\u001b[49m\n\u001b[1;32m      7\u001b[0m \u001b[43m    \u001b[49m\u001b[43mrepo_type\u001b[49m\u001b[38;5;241;43m=\u001b[39;49m\u001b[38;5;124;43m\"\u001b[39;49m\u001b[38;5;124;43mdataset\u001b[39;49m\u001b[38;5;124;43m\"\u001b[39;49m\u001b[43m,\u001b[49m\n\u001b[1;32m      8\u001b[0m \u001b[43m)\u001b[49m\n",
      "File \u001b[0;32m/opt/conda/lib/python3.11/site-packages/huggingface_hub/utils/_validators.py:114\u001b[0m, in \u001b[0;36mvalidate_hf_hub_args.<locals>._inner_fn\u001b[0;34m(*args, **kwargs)\u001b[0m\n\u001b[1;32m    111\u001b[0m \u001b[38;5;28;01mif\u001b[39;00m check_use_auth_token:\n\u001b[1;32m    112\u001b[0m     kwargs \u001b[38;5;241m=\u001b[39m smoothly_deprecate_use_auth_token(fn_name\u001b[38;5;241m=\u001b[39mfn\u001b[38;5;241m.\u001b[39m\u001b[38;5;18m__name__\u001b[39m, has_token\u001b[38;5;241m=\u001b[39mhas_token, kwargs\u001b[38;5;241m=\u001b[39mkwargs)\n\u001b[0;32m--> 114\u001b[0m \u001b[38;5;28;01mreturn\u001b[39;00m \u001b[43mfn\u001b[49m\u001b[43m(\u001b[49m\u001b[38;5;241;43m*\u001b[39;49m\u001b[43margs\u001b[49m\u001b[43m,\u001b[49m\u001b[43m \u001b[49m\u001b[38;5;241;43m*\u001b[39;49m\u001b[38;5;241;43m*\u001b[39;49m\u001b[43mkwargs\u001b[49m\u001b[43m)\u001b[49m\n",
      "File \u001b[0;32m/opt/conda/lib/python3.11/site-packages/huggingface_hub/hf_api.py:1624\u001b[0m, in \u001b[0;36mfuture_compatible.<locals>._inner\u001b[0;34m(self, *args, **kwargs)\u001b[0m\n\u001b[1;32m   1621\u001b[0m     \u001b[38;5;28;01mreturn\u001b[39;00m \u001b[38;5;28mself\u001b[39m\u001b[38;5;241m.\u001b[39mrun_as_future(fn, \u001b[38;5;28mself\u001b[39m, \u001b[38;5;241m*\u001b[39margs, \u001b[38;5;241m*\u001b[39m\u001b[38;5;241m*\u001b[39mkwargs)\n\u001b[1;32m   1623\u001b[0m \u001b[38;5;66;03m# Otherwise, call the function normally\u001b[39;00m\n\u001b[0;32m-> 1624\u001b[0m \u001b[38;5;28;01mreturn\u001b[39;00m \u001b[43mfn\u001b[49m\u001b[43m(\u001b[49m\u001b[38;5;28;43mself\u001b[39;49m\u001b[43m,\u001b[49m\u001b[43m \u001b[49m\u001b[38;5;241;43m*\u001b[39;49m\u001b[43margs\u001b[49m\u001b[43m,\u001b[49m\u001b[43m \u001b[49m\u001b[38;5;241;43m*\u001b[39;49m\u001b[38;5;241;43m*\u001b[39;49m\u001b[43mkwargs\u001b[49m\u001b[43m)\u001b[49m\n",
      "File \u001b[0;32m/opt/conda/lib/python3.11/site-packages/huggingface_hub/hf_api.py:4662\u001b[0m, in \u001b[0;36mHfApi.upload_file\u001b[0;34m(self, path_or_fileobj, path_in_repo, repo_id, token, repo_type, revision, commit_message, commit_description, create_pr, parent_commit, run_as_future)\u001b[0m\n\u001b[1;32m   4654\u001b[0m commit_message \u001b[38;5;241m=\u001b[39m (\n\u001b[1;32m   4655\u001b[0m     commit_message \u001b[38;5;28;01mif\u001b[39;00m commit_message \u001b[38;5;129;01mis\u001b[39;00m \u001b[38;5;129;01mnot\u001b[39;00m \u001b[38;5;28;01mNone\u001b[39;00m \u001b[38;5;28;01melse\u001b[39;00m \u001b[38;5;124mf\u001b[39m\u001b[38;5;124m\"\u001b[39m\u001b[38;5;124mUpload \u001b[39m\u001b[38;5;132;01m{\u001b[39;00mpath_in_repo\u001b[38;5;132;01m}\u001b[39;00m\u001b[38;5;124m with huggingface_hub\u001b[39m\u001b[38;5;124m\"\u001b[39m\n\u001b[1;32m   4656\u001b[0m )\n\u001b[1;32m   4657\u001b[0m operation \u001b[38;5;241m=\u001b[39m CommitOperationAdd(\n\u001b[1;32m   4658\u001b[0m     path_or_fileobj\u001b[38;5;241m=\u001b[39mpath_or_fileobj,\n\u001b[1;32m   4659\u001b[0m     path_in_repo\u001b[38;5;241m=\u001b[39mpath_in_repo,\n\u001b[1;32m   4660\u001b[0m )\n\u001b[0;32m-> 4662\u001b[0m commit_info \u001b[38;5;241m=\u001b[39m \u001b[38;5;28;43mself\u001b[39;49m\u001b[38;5;241;43m.\u001b[39;49m\u001b[43mcreate_commit\u001b[49m\u001b[43m(\u001b[49m\n\u001b[1;32m   4663\u001b[0m \u001b[43m    \u001b[49m\u001b[43mrepo_id\u001b[49m\u001b[38;5;241;43m=\u001b[39;49m\u001b[43mrepo_id\u001b[49m\u001b[43m,\u001b[49m\n\u001b[1;32m   4664\u001b[0m \u001b[43m    \u001b[49m\u001b[43mrepo_type\u001b[49m\u001b[38;5;241;43m=\u001b[39;49m\u001b[43mrepo_type\u001b[49m\u001b[43m,\u001b[49m\n\u001b[1;32m   4665\u001b[0m \u001b[43m    \u001b[49m\u001b[43moperations\u001b[49m\u001b[38;5;241;43m=\u001b[39;49m\u001b[43m[\u001b[49m\u001b[43moperation\u001b[49m\u001b[43m]\u001b[49m\u001b[43m,\u001b[49m\n\u001b[1;32m   4666\u001b[0m \u001b[43m    \u001b[49m\u001b[43mcommit_message\u001b[49m\u001b[38;5;241;43m=\u001b[39;49m\u001b[43mcommit_message\u001b[49m\u001b[43m,\u001b[49m\n\u001b[1;32m   4667\u001b[0m \u001b[43m    \u001b[49m\u001b[43mcommit_description\u001b[49m\u001b[38;5;241;43m=\u001b[39;49m\u001b[43mcommit_description\u001b[49m\u001b[43m,\u001b[49m\n\u001b[1;32m   4668\u001b[0m \u001b[43m    \u001b[49m\u001b[43mtoken\u001b[49m\u001b[38;5;241;43m=\u001b[39;49m\u001b[43mtoken\u001b[49m\u001b[43m,\u001b[49m\n\u001b[1;32m   4669\u001b[0m \u001b[43m    \u001b[49m\u001b[43mrevision\u001b[49m\u001b[38;5;241;43m=\u001b[39;49m\u001b[43mrevision\u001b[49m\u001b[43m,\u001b[49m\n\u001b[1;32m   4670\u001b[0m \u001b[43m    \u001b[49m\u001b[43mcreate_pr\u001b[49m\u001b[38;5;241;43m=\u001b[39;49m\u001b[43mcreate_pr\u001b[49m\u001b[43m,\u001b[49m\n\u001b[1;32m   4671\u001b[0m \u001b[43m    \u001b[49m\u001b[43mparent_commit\u001b[49m\u001b[38;5;241;43m=\u001b[39;49m\u001b[43mparent_commit\u001b[49m\u001b[43m,\u001b[49m\n\u001b[1;32m   4672\u001b[0m \u001b[43m\u001b[49m\u001b[43m)\u001b[49m\n\u001b[1;32m   4674\u001b[0m \u001b[38;5;28;01mif\u001b[39;00m commit_info\u001b[38;5;241m.\u001b[39mpr_url \u001b[38;5;129;01mis\u001b[39;00m \u001b[38;5;129;01mnot\u001b[39;00m \u001b[38;5;28;01mNone\u001b[39;00m:\n\u001b[1;32m   4675\u001b[0m     revision \u001b[38;5;241m=\u001b[39m quote(_parse_revision_from_pr_url(commit_info\u001b[38;5;241m.\u001b[39mpr_url), safe\u001b[38;5;241m=\u001b[39m\u001b[38;5;124m\"\u001b[39m\u001b[38;5;124m\"\u001b[39m)\n",
      "File \u001b[0;32m/opt/conda/lib/python3.11/site-packages/huggingface_hub/utils/_validators.py:114\u001b[0m, in \u001b[0;36mvalidate_hf_hub_args.<locals>._inner_fn\u001b[0;34m(*args, **kwargs)\u001b[0m\n\u001b[1;32m    111\u001b[0m \u001b[38;5;28;01mif\u001b[39;00m check_use_auth_token:\n\u001b[1;32m    112\u001b[0m     kwargs \u001b[38;5;241m=\u001b[39m smoothly_deprecate_use_auth_token(fn_name\u001b[38;5;241m=\u001b[39mfn\u001b[38;5;241m.\u001b[39m\u001b[38;5;18m__name__\u001b[39m, has_token\u001b[38;5;241m=\u001b[39mhas_token, kwargs\u001b[38;5;241m=\u001b[39mkwargs)\n\u001b[0;32m--> 114\u001b[0m \u001b[38;5;28;01mreturn\u001b[39;00m \u001b[43mfn\u001b[49m\u001b[43m(\u001b[49m\u001b[38;5;241;43m*\u001b[39;49m\u001b[43margs\u001b[49m\u001b[43m,\u001b[49m\u001b[43m \u001b[49m\u001b[38;5;241;43m*\u001b[39;49m\u001b[38;5;241;43m*\u001b[39;49m\u001b[43mkwargs\u001b[49m\u001b[43m)\u001b[49m\n",
      "File \u001b[0;32m/opt/conda/lib/python3.11/site-packages/huggingface_hub/hf_api.py:1624\u001b[0m, in \u001b[0;36mfuture_compatible.<locals>._inner\u001b[0;34m(self, *args, **kwargs)\u001b[0m\n\u001b[1;32m   1621\u001b[0m     \u001b[38;5;28;01mreturn\u001b[39;00m \u001b[38;5;28mself\u001b[39m\u001b[38;5;241m.\u001b[39mrun_as_future(fn, \u001b[38;5;28mself\u001b[39m, \u001b[38;5;241m*\u001b[39margs, \u001b[38;5;241m*\u001b[39m\u001b[38;5;241m*\u001b[39mkwargs)\n\u001b[1;32m   1623\u001b[0m \u001b[38;5;66;03m# Otherwise, call the function normally\u001b[39;00m\n\u001b[0;32m-> 1624\u001b[0m \u001b[38;5;28;01mreturn\u001b[39;00m \u001b[43mfn\u001b[49m\u001b[43m(\u001b[49m\u001b[38;5;28;43mself\u001b[39;49m\u001b[43m,\u001b[49m\u001b[43m \u001b[49m\u001b[38;5;241;43m*\u001b[39;49m\u001b[43margs\u001b[49m\u001b[43m,\u001b[49m\u001b[43m \u001b[49m\u001b[38;5;241;43m*\u001b[39;49m\u001b[38;5;241;43m*\u001b[39;49m\u001b[43mkwargs\u001b[49m\u001b[43m)\u001b[49m\n",
      "File \u001b[0;32m/opt/conda/lib/python3.11/site-packages/huggingface_hub/hf_api.py:4193\u001b[0m, in \u001b[0;36mHfApi.create_commit\u001b[0;34m(self, repo_id, operations, commit_message, commit_description, token, repo_type, revision, create_pr, num_threads, parent_commit, run_as_future)\u001b[0m\n\u001b[1;32m   4190\u001b[0m \u001b[38;5;66;03m# If updating twice the same file or update then delete a file in a single commit\u001b[39;00m\n\u001b[1;32m   4191\u001b[0m _warn_on_overwriting_operations(operations)\n\u001b[0;32m-> 4193\u001b[0m \u001b[38;5;28;43mself\u001b[39;49m\u001b[38;5;241;43m.\u001b[39;49m\u001b[43mpreupload_lfs_files\u001b[49m\u001b[43m(\u001b[49m\n\u001b[1;32m   4194\u001b[0m \u001b[43m    \u001b[49m\u001b[43mrepo_id\u001b[49m\u001b[38;5;241;43m=\u001b[39;49m\u001b[43mrepo_id\u001b[49m\u001b[43m,\u001b[49m\n\u001b[1;32m   4195\u001b[0m \u001b[43m    \u001b[49m\u001b[43madditions\u001b[49m\u001b[38;5;241;43m=\u001b[39;49m\u001b[43madditions\u001b[49m\u001b[43m,\u001b[49m\n\u001b[1;32m   4196\u001b[0m \u001b[43m    \u001b[49m\u001b[43mtoken\u001b[49m\u001b[38;5;241;43m=\u001b[39;49m\u001b[43mtoken\u001b[49m\u001b[43m,\u001b[49m\n\u001b[1;32m   4197\u001b[0m \u001b[43m    \u001b[49m\u001b[43mrepo_type\u001b[49m\u001b[38;5;241;43m=\u001b[39;49m\u001b[43mrepo_type\u001b[49m\u001b[43m,\u001b[49m\n\u001b[1;32m   4198\u001b[0m \u001b[43m    \u001b[49m\u001b[43mrevision\u001b[49m\u001b[38;5;241;43m=\u001b[39;49m\u001b[43munquoted_revision\u001b[49m\u001b[43m,\u001b[49m\u001b[43m  \u001b[49m\u001b[38;5;66;43;03m# first-class methods take unquoted revision\u001b[39;49;00m\n\u001b[1;32m   4199\u001b[0m \u001b[43m    \u001b[49m\u001b[43mcreate_pr\u001b[49m\u001b[38;5;241;43m=\u001b[39;49m\u001b[43mcreate_pr\u001b[49m\u001b[43m,\u001b[49m\n\u001b[1;32m   4200\u001b[0m \u001b[43m    \u001b[49m\u001b[43mnum_threads\u001b[49m\u001b[38;5;241;43m=\u001b[39;49m\u001b[43mnum_threads\u001b[49m\u001b[43m,\u001b[49m\n\u001b[1;32m   4201\u001b[0m \u001b[43m    \u001b[49m\u001b[43mfree_memory\u001b[49m\u001b[38;5;241;43m=\u001b[39;49m\u001b[38;5;28;43;01mFalse\u001b[39;49;00m\u001b[43m,\u001b[49m\u001b[43m  \u001b[49m\u001b[38;5;66;43;03m# do not remove `CommitOperationAdd.path_or_fileobj` on LFS files for \"normal\" users\u001b[39;49;00m\n\u001b[1;32m   4202\u001b[0m \u001b[43m\u001b[49m\u001b[43m)\u001b[49m\n\u001b[1;32m   4204\u001b[0m files_to_copy \u001b[38;5;241m=\u001b[39m _fetch_files_to_copy(\n\u001b[1;32m   4205\u001b[0m     copies\u001b[38;5;241m=\u001b[39mcopies,\n\u001b[1;32m   4206\u001b[0m     repo_type\u001b[38;5;241m=\u001b[39mrepo_type,\n\u001b[0;32m   (...)\u001b[0m\n\u001b[1;32m   4210\u001b[0m     endpoint\u001b[38;5;241m=\u001b[39m\u001b[38;5;28mself\u001b[39m\u001b[38;5;241m.\u001b[39mendpoint,\n\u001b[1;32m   4211\u001b[0m )\n\u001b[1;32m   4212\u001b[0m \u001b[38;5;66;03m# Remove no-op operations (files that have not changed)\u001b[39;00m\n",
      "File \u001b[0;32m/opt/conda/lib/python3.11/site-packages/huggingface_hub/hf_api.py:4416\u001b[0m, in \u001b[0;36mHfApi.preupload_lfs_files\u001b[0;34m(self, repo_id, additions, token, repo_type, revision, create_pr, num_threads, free_memory, gitignore_content)\u001b[0m\n\u001b[1;32m   4414\u001b[0m \u001b[38;5;66;03m# Check which new files are LFS\u001b[39;00m\n\u001b[1;32m   4415\u001b[0m \u001b[38;5;28;01mtry\u001b[39;00m:\n\u001b[0;32m-> 4416\u001b[0m     \u001b[43m_fetch_upload_modes\u001b[49m\u001b[43m(\u001b[49m\n\u001b[1;32m   4417\u001b[0m \u001b[43m        \u001b[49m\u001b[43madditions\u001b[49m\u001b[38;5;241;43m=\u001b[39;49m\u001b[43mnew_additions\u001b[49m\u001b[43m,\u001b[49m\n\u001b[1;32m   4418\u001b[0m \u001b[43m        \u001b[49m\u001b[43mrepo_type\u001b[49m\u001b[38;5;241;43m=\u001b[39;49m\u001b[43mrepo_type\u001b[49m\u001b[43m,\u001b[49m\n\u001b[1;32m   4419\u001b[0m \u001b[43m        \u001b[49m\u001b[43mrepo_id\u001b[49m\u001b[38;5;241;43m=\u001b[39;49m\u001b[43mrepo_id\u001b[49m\u001b[43m,\u001b[49m\n\u001b[1;32m   4420\u001b[0m \u001b[43m        \u001b[49m\u001b[43mheaders\u001b[49m\u001b[38;5;241;43m=\u001b[39;49m\u001b[43mheaders\u001b[49m\u001b[43m,\u001b[49m\n\u001b[1;32m   4421\u001b[0m \u001b[43m        \u001b[49m\u001b[43mrevision\u001b[49m\u001b[38;5;241;43m=\u001b[39;49m\u001b[43mrevision\u001b[49m\u001b[43m,\u001b[49m\n\u001b[1;32m   4422\u001b[0m \u001b[43m        \u001b[49m\u001b[43mendpoint\u001b[49m\u001b[38;5;241;43m=\u001b[39;49m\u001b[38;5;28;43mself\u001b[39;49m\u001b[38;5;241;43m.\u001b[39;49m\u001b[43mendpoint\u001b[49m\u001b[43m,\u001b[49m\n\u001b[1;32m   4423\u001b[0m \u001b[43m        \u001b[49m\u001b[43mcreate_pr\u001b[49m\u001b[38;5;241;43m=\u001b[39;49m\u001b[43mcreate_pr\u001b[49m\u001b[43m \u001b[49m\u001b[38;5;129;43;01mor\u001b[39;49;00m\u001b[43m \u001b[49m\u001b[38;5;28;43;01mFalse\u001b[39;49;00m\u001b[43m,\u001b[49m\n\u001b[1;32m   4424\u001b[0m \u001b[43m        \u001b[49m\u001b[43mgitignore_content\u001b[49m\u001b[38;5;241;43m=\u001b[39;49m\u001b[43mgitignore_content\u001b[49m\u001b[43m,\u001b[49m\n\u001b[1;32m   4425\u001b[0m \u001b[43m    \u001b[49m\u001b[43m)\u001b[49m\n\u001b[1;32m   4426\u001b[0m \u001b[38;5;28;01mexcept\u001b[39;00m RepositoryNotFoundError \u001b[38;5;28;01mas\u001b[39;00m e:\n\u001b[1;32m   4427\u001b[0m     e\u001b[38;5;241m.\u001b[39mappend_to_message(_CREATE_COMMIT_NO_REPO_ERROR_MESSAGE)\n",
      "File \u001b[0;32m/opt/conda/lib/python3.11/site-packages/huggingface_hub/utils/_validators.py:114\u001b[0m, in \u001b[0;36mvalidate_hf_hub_args.<locals>._inner_fn\u001b[0;34m(*args, **kwargs)\u001b[0m\n\u001b[1;32m    111\u001b[0m \u001b[38;5;28;01mif\u001b[39;00m check_use_auth_token:\n\u001b[1;32m    112\u001b[0m     kwargs \u001b[38;5;241m=\u001b[39m smoothly_deprecate_use_auth_token(fn_name\u001b[38;5;241m=\u001b[39mfn\u001b[38;5;241m.\u001b[39m\u001b[38;5;18m__name__\u001b[39m, has_token\u001b[38;5;241m=\u001b[39mhas_token, kwargs\u001b[38;5;241m=\u001b[39mkwargs)\n\u001b[0;32m--> 114\u001b[0m \u001b[38;5;28;01mreturn\u001b[39;00m \u001b[43mfn\u001b[49m\u001b[43m(\u001b[49m\u001b[38;5;241;43m*\u001b[39;49m\u001b[43margs\u001b[49m\u001b[43m,\u001b[49m\u001b[43m \u001b[49m\u001b[38;5;241;43m*\u001b[39;49m\u001b[38;5;241;43m*\u001b[39;49m\u001b[43mkwargs\u001b[49m\u001b[43m)\u001b[49m\n",
      "File \u001b[0;32m/opt/conda/lib/python3.11/site-packages/huggingface_hub/_commit_api.py:680\u001b[0m, in \u001b[0;36m_fetch_upload_modes\u001b[0;34m(additions, repo_type, repo_id, headers, revision, endpoint, create_pr, gitignore_content)\u001b[0m\n\u001b[1;32m    672\u001b[0m     payload[\u001b[38;5;124m\"\u001b[39m\u001b[38;5;124mgitIgnore\u001b[39m\u001b[38;5;124m\"\u001b[39m] \u001b[38;5;241m=\u001b[39m gitignore_content\n\u001b[1;32m    674\u001b[0m resp \u001b[38;5;241m=\u001b[39m get_session()\u001b[38;5;241m.\u001b[39mpost(\n\u001b[1;32m    675\u001b[0m     \u001b[38;5;124mf\u001b[39m\u001b[38;5;124m\"\u001b[39m\u001b[38;5;132;01m{\u001b[39;00mendpoint\u001b[38;5;132;01m}\u001b[39;00m\u001b[38;5;124m/api/\u001b[39m\u001b[38;5;132;01m{\u001b[39;00mrepo_type\u001b[38;5;132;01m}\u001b[39;00m\u001b[38;5;124ms/\u001b[39m\u001b[38;5;132;01m{\u001b[39;00mrepo_id\u001b[38;5;132;01m}\u001b[39;00m\u001b[38;5;124m/preupload/\u001b[39m\u001b[38;5;132;01m{\u001b[39;00mrevision\u001b[38;5;132;01m}\u001b[39;00m\u001b[38;5;124m\"\u001b[39m,\n\u001b[1;32m    676\u001b[0m     json\u001b[38;5;241m=\u001b[39mpayload,\n\u001b[1;32m    677\u001b[0m     headers\u001b[38;5;241m=\u001b[39mheaders,\n\u001b[1;32m    678\u001b[0m     params\u001b[38;5;241m=\u001b[39m{\u001b[38;5;124m\"\u001b[39m\u001b[38;5;124mcreate_pr\u001b[39m\u001b[38;5;124m\"\u001b[39m: \u001b[38;5;124m\"\u001b[39m\u001b[38;5;124m1\u001b[39m\u001b[38;5;124m\"\u001b[39m} \u001b[38;5;28;01mif\u001b[39;00m create_pr \u001b[38;5;28;01melse\u001b[39;00m \u001b[38;5;28;01mNone\u001b[39;00m,\n\u001b[1;32m    679\u001b[0m )\n\u001b[0;32m--> 680\u001b[0m \u001b[43mhf_raise_for_status\u001b[49m\u001b[43m(\u001b[49m\u001b[43mresp\u001b[49m\u001b[43m)\u001b[49m\n\u001b[1;32m    681\u001b[0m preupload_info \u001b[38;5;241m=\u001b[39m _validate_preupload_info(resp\u001b[38;5;241m.\u001b[39mjson())\n\u001b[1;32m    682\u001b[0m upload_modes\u001b[38;5;241m.\u001b[39mupdate(\u001b[38;5;241m*\u001b[39m\u001b[38;5;241m*\u001b[39m{file[\u001b[38;5;124m\"\u001b[39m\u001b[38;5;124mpath\u001b[39m\u001b[38;5;124m\"\u001b[39m]: file[\u001b[38;5;124m\"\u001b[39m\u001b[38;5;124muploadMode\u001b[39m\u001b[38;5;124m\"\u001b[39m] \u001b[38;5;28;01mfor\u001b[39;00m file \u001b[38;5;129;01min\u001b[39;00m preupload_info[\u001b[38;5;124m\"\u001b[39m\u001b[38;5;124mfiles\u001b[39m\u001b[38;5;124m\"\u001b[39m]})\n",
      "File \u001b[0;32m/opt/conda/lib/python3.11/site-packages/huggingface_hub/utils/_http.py:482\u001b[0m, in \u001b[0;36mhf_raise_for_status\u001b[0;34m(response, endpoint_name)\u001b[0m\n\u001b[1;32m    478\u001b[0m     \u001b[38;5;28;01mraise\u001b[39;00m _format(HfHubHTTPError, message, response) \u001b[38;5;28;01mfrom\u001b[39;00m \u001b[38;5;21;01me\u001b[39;00m\n\u001b[1;32m    480\u001b[0m \u001b[38;5;66;03m# Convert `HTTPError` into a `HfHubHTTPError` to display request information\u001b[39;00m\n\u001b[1;32m    481\u001b[0m \u001b[38;5;66;03m# as well (request id and/or server error message)\u001b[39;00m\n\u001b[0;32m--> 482\u001b[0m \u001b[38;5;28;01mraise\u001b[39;00m _format(HfHubHTTPError, \u001b[38;5;28mstr\u001b[39m(e), response) \u001b[38;5;28;01mfrom\u001b[39;00m \u001b[38;5;21;01me\u001b[39;00m\n",
      "\u001b[0;31mHfHubHTTPError\u001b[0m: 422 Client Error: Unprocessable Entity for url: https://huggingface.co/api/datasets/jwnt4/qvhighlights-train/preupload/main (Request ID: Root=1-6807e722-7b5d73a772f2c881416b7d51;9b452e76-0517-47a6-bea2-f9f6641c4415)\n\nMaximum individual file size is 50.0GB"
     ]
    }
   ],
   "source": [
    "from huggingface_hub import HfApi\n",
    "api = HfApi()\n",
    "api.upload_file(\n",
    "    path_or_fileobj=\"videos.tar.gz\",\n",
    "    path_in_repo=\"videos.tar.gz\",\n",
    "    repo_id=\"jwnt4/qvhighlights-train\",\n",
    "    repo_type=\"dataset\",\n",
    ")"
   ]
  },
  {
   "cell_type": "code",
   "execution_count": 3,
   "id": "cbd05315-faf0-40b7-9945-d84f60735097",
   "metadata": {},
   "outputs": [],
   "source": [
    "!mkdir -p train/\n",
    "!tar -xzf videos.tar.gz -C train/ "
   ]
  },
  {
   "cell_type": "code",
   "execution_count": 6,
   "id": "2e042a5a-661b-4678-b41f-ddd0c8ae29ce",
   "metadata": {
    "scrolled": true
   },
   "outputs": [
    {
     "data": {
      "application/vnd.jupyter.widget-view+json": {
       "model_id": "47f6df80a797420abc11c1fb4b23b4b3",
       "version_major": 2,
       "version_minor": 0
      },
      "text/plain": [
       "NvdnqeL35Kg_360.0_510.0.mp4:   0%|          | 0.00/7.06M [00:00<?, ?B/s]"
      ]
     },
     "metadata": {},
     "output_type": "display_data"
    },
    {
     "data": {
      "application/vnd.jupyter.widget-view+json": {
       "model_id": "83a8a4b29b694ddab68b429f06cd3ff6",
       "version_major": 2,
       "version_minor": 0
      },
      "text/plain": [
       "JC-UBPfmWGs_510.0_660.0.mp4:   0%|          | 0.00/7.81M [00:00<?, ?B/s]"
      ]
     },
     "metadata": {},
     "output_type": "display_data"
    },
    {
     "data": {
      "application/vnd.jupyter.widget-view+json": {
       "model_id": "a83976ed4bfa4aca80939ca7dae7ff3c",
       "version_major": 2,
       "version_minor": 0
      },
      "text/plain": [
       "u6QbH3LC6cs_210.0_360.0.mp4:   0%|          | 0.00/12.8M [00:00<?, ?B/s]"
      ]
     },
     "metadata": {},
     "output_type": "display_data"
    },
    {
     "data": {
      "application/vnd.jupyter.widget-view+json": {
       "model_id": "d525cdc308ca45a8a3dc97cf4c330608",
       "version_major": 2,
       "version_minor": 0
      },
      "text/plain": [
       "SlrSa_8e8mA_660.0_810.0.mp4:   0%|          | 0.00/14.8M [00:00<?, ?B/s]"
      ]
     },
     "metadata": {},
     "output_type": "display_data"
    },
    {
     "data": {
      "application/vnd.jupyter.widget-view+json": {
       "model_id": "4ef3bfb2a4d74ae49301ec1d293edcd1",
       "version_major": 2,
       "version_minor": 0
      },
      "text/plain": [
       "SvUTNEtE9A8_210.0_360.0.mp4:   0%|          | 0.00/14.9M [00:00<?, ?B/s]"
      ]
     },
     "metadata": {},
     "output_type": "display_data"
    },
    {
     "data": {
      "application/vnd.jupyter.widget-view+json": {
       "model_id": "a194110df37d4c00bad560d6d6cfc619",
       "version_major": 2,
       "version_minor": 0
      },
      "text/plain": [
       "xKC24O9ZT6U_360.0_510.0.mp4:   0%|          | 0.00/6.80M [00:00<?, ?B/s]"
      ]
     },
     "metadata": {},
     "output_type": "display_data"
    },
    {
     "data": {
      "application/vnd.jupyter.widget-view+json": {
       "model_id": "a20b907f344241e4a8e461b2a6c552a5",
       "version_major": 2,
       "version_minor": 0
      },
      "text/plain": [
       "hvKZSuD2i2k_360.0_510.0.mp4:   0%|          | 0.00/11.2M [00:00<?, ?B/s]"
      ]
     },
     "metadata": {},
     "output_type": "display_data"
    },
    {
     "data": {
      "application/vnd.jupyter.widget-view+json": {
       "model_id": "fdac13ab6b264251a3c7e8a599d53120",
       "version_major": 2,
       "version_minor": 0
      },
      "text/plain": [
       "rfiwu44cHKs_60.0_210.0.mp4:   0%|          | 0.00/15.0M [00:00<?, ?B/s]"
      ]
     },
     "metadata": {},
     "output_type": "display_data"
    },
    {
     "data": {
      "application/vnd.jupyter.widget-view+json": {
       "model_id": "c804625ce5f34f0d8d7edab30ff6afb9",
       "version_major": 2,
       "version_minor": 0
      },
      "text/plain": [
       "Mt1H_rxlR5Q_360.0_510.0.mp4:   0%|          | 0.00/13.0M [00:00<?, ?B/s]"
      ]
     },
     "metadata": {},
     "output_type": "display_data"
    },
    {
     "data": {
      "application/vnd.jupyter.widget-view+json": {
       "model_id": "5e2982c6580c4ac881b24672076666d3",
       "version_major": 2,
       "version_minor": 0
      },
      "text/plain": [
       "5_mxUnekUyA_510.0_660.0.mp4:   0%|          | 0.00/9.52M [00:00<?, ?B/s]"
      ]
     },
     "metadata": {},
     "output_type": "display_data"
    },
    {
     "data": {
      "application/vnd.jupyter.widget-view+json": {
       "model_id": "86914ac8e2b4437c857fe0fe885dd57f",
       "version_major": 2,
       "version_minor": 0
      },
      "text/plain": [
       "qOG6Dt4nTMY_660.0_810.0.mp4:   0%|          | 0.00/17.8M [00:00<?, ?B/s]"
      ]
     },
     "metadata": {},
     "output_type": "display_data"
    },
    {
     "data": {
      "application/vnd.jupyter.widget-view+json": {
       "model_id": "d96061719a93464ea0e3c5f803ae7fa1",
       "version_major": 2,
       "version_minor": 0
      },
      "text/plain": [
       "Q980C74SdYQ_660.0_810.0.mp4:   0%|          | 0.00/10.9M [00:00<?, ?B/s]"
      ]
     },
     "metadata": {},
     "output_type": "display_data"
    },
    {
     "data": {
      "application/vnd.jupyter.widget-view+json": {
       "model_id": "623ce284f8e342fa9811f9278437c44c",
       "version_major": 2,
       "version_minor": 0
      },
      "text/plain": [
       "iP8cX5hA_Gk_210.0_360.0.mp4:   0%|          | 0.00/11.1M [00:00<?, ?B/s]"
      ]
     },
     "metadata": {},
     "output_type": "display_data"
    },
    {
     "data": {
      "application/vnd.jupyter.widget-view+json": {
       "model_id": "5e8b78f63df24147b3709d529edacd67",
       "version_major": 2,
       "version_minor": 0
      },
      "text/plain": [
       "hnt4RYN9y6s_360.0_510.0.mp4:   0%|          | 0.00/8.44M [00:00<?, ?B/s]"
      ]
     },
     "metadata": {},
     "output_type": "display_data"
    },
    {
     "data": {
      "application/vnd.jupyter.widget-view+json": {
       "model_id": "494cd77920ca4c2292f18a9ac430504d",
       "version_major": 2,
       "version_minor": 0
      },
      "text/plain": [
       "7gJAYy-HbXc_210.0_360.0.mp4:   0%|          | 0.00/12.2M [00:00<?, ?B/s]"
      ]
     },
     "metadata": {},
     "output_type": "display_data"
    },
    {
     "data": {
      "application/vnd.jupyter.widget-view+json": {
       "model_id": "46a3aef65d23469cad418a6ff61b1dcf",
       "version_major": 2,
       "version_minor": 0
      },
      "text/plain": [
       "E4ObVr_zNhI_60.0_210.0.mp4:   0%|          | 0.00/8.28M [00:00<?, ?B/s]"
      ]
     },
     "metadata": {},
     "output_type": "display_data"
    },
    {
     "data": {
      "application/vnd.jupyter.widget-view+json": {
       "model_id": "f4f331b4d25e4aefa4fb9178dd35ce07",
       "version_major": 2,
       "version_minor": 0
      },
      "text/plain": [
       "giU6XQNxDj0_360.0_510.0.mp4:   0%|          | 0.00/17.8M [00:00<?, ?B/s]"
      ]
     },
     "metadata": {},
     "output_type": "display_data"
    },
    {
     "data": {
      "application/vnd.jupyter.widget-view+json": {
       "model_id": "10da9b03902f4b2a9e4e41246b3d2edf",
       "version_major": 2,
       "version_minor": 0
      },
      "text/plain": [
       "GxLn7kFtTwA_60.0_210.0.mp4:   0%|          | 0.00/10.7M [00:00<?, ?B/s]"
      ]
     },
     "metadata": {},
     "output_type": "display_data"
    },
    {
     "data": {
      "application/vnd.jupyter.widget-view+json": {
       "model_id": "e3c3e26fc6aa4d348ec7c54a7facd14f",
       "version_major": 2,
       "version_minor": 0
      },
      "text/plain": [
       "DJSXELLzhIY_60.0_210.0.mp4:   0%|          | 0.00/17.0M [00:00<?, ?B/s]"
      ]
     },
     "metadata": {},
     "output_type": "display_data"
    },
    {
     "data": {
      "application/vnd.jupyter.widget-view+json": {
       "model_id": "88983aba7fbb48a88be64b5b6f061843",
       "version_major": 2,
       "version_minor": 0
      },
      "text/plain": [
       "SPtsFm9DyDk_210.0_360.0.mp4:   0%|          | 0.00/4.70M [00:00<?, ?B/s]"
      ]
     },
     "metadata": {},
     "output_type": "display_data"
    },
    {
     "data": {
      "application/vnd.jupyter.widget-view+json": {
       "model_id": "6e1beb5407f041b3a283bfabcbe0de9e",
       "version_major": 2,
       "version_minor": 0
      },
      "text/plain": [
       "FEc6TEzRfD8_360.0_510.0.mp4:   0%|          | 0.00/10.0M [00:00<?, ?B/s]"
      ]
     },
     "metadata": {},
     "output_type": "display_data"
    },
    {
     "data": {
      "application/vnd.jupyter.widget-view+json": {
       "model_id": "a6c2f70386144f2a9dadcca955c48a26",
       "version_major": 2,
       "version_minor": 0
      },
      "text/plain": [
       "ltSnuMWp2II_210.0_360.0.mp4:   0%|          | 0.00/16.5M [00:00<?, ?B/s]"
      ]
     },
     "metadata": {},
     "output_type": "display_data"
    },
    {
     "data": {
      "application/vnd.jupyter.widget-view+json": {
       "model_id": "52d03b5160f244d2935b0f8b3c0c886c",
       "version_major": 2,
       "version_minor": 0
      },
      "text/plain": [
       "k3POiliC7fk_210.0_360.0.mp4:   0%|          | 0.00/11.5M [00:00<?, ?B/s]"
      ]
     },
     "metadata": {},
     "output_type": "display_data"
    },
    {
     "data": {
      "application/vnd.jupyter.widget-view+json": {
       "model_id": "9033d63291ae4cd8b8bcff53d185089c",
       "version_major": 2,
       "version_minor": 0
      },
      "text/plain": [
       "jeIQ_Z35HZ4_510.0_660.0.mp4:   0%|          | 0.00/13.1M [00:00<?, ?B/s]"
      ]
     },
     "metadata": {},
     "output_type": "display_data"
    },
    {
     "data": {
      "application/vnd.jupyter.widget-view+json": {
       "model_id": "6edd5ee38f4040379af48d0463a9d392",
       "version_major": 2,
       "version_minor": 0
      },
      "text/plain": [
       "odQ4zw3sOSY_210.0_360.0.mp4:   0%|          | 0.00/4.12M [00:00<?, ?B/s]"
      ]
     },
     "metadata": {},
     "output_type": "display_data"
    },
    {
     "data": {
      "application/vnd.jupyter.widget-view+json": {
       "model_id": "fa5b014380bf4b4fb4eb3c26d9ca8bcc",
       "version_major": 2,
       "version_minor": 0
      },
      "text/plain": [
       "I9y_BopoDv8_60.0_210.0.mp4:   0%|          | 0.00/5.54M [00:00<?, ?B/s]"
      ]
     },
     "metadata": {},
     "output_type": "display_data"
    },
    {
     "data": {
      "application/vnd.jupyter.widget-view+json": {
       "model_id": "11b91f78f4e24b75b1eba89b8f342d4a",
       "version_major": 2,
       "version_minor": 0
      },
      "text/plain": [
       "WdSX7IOH6-0_360.0_510.0.mp4:   0%|          | 0.00/10.1M [00:00<?, ?B/s]"
      ]
     },
     "metadata": {},
     "output_type": "display_data"
    },
    {
     "data": {
      "application/vnd.jupyter.widget-view+json": {
       "model_id": "bb1e855680604c31994d85b9eaf99d8e",
       "version_major": 2,
       "version_minor": 0
      },
      "text/plain": [
       "DCscUz4RPh0_510.0_660.0.mp4:   0%|          | 0.00/16.4M [00:00<?, ?B/s]"
      ]
     },
     "metadata": {},
     "output_type": "display_data"
    },
    {
     "data": {
      "application/vnd.jupyter.widget-view+json": {
       "model_id": "0fd89500901f40bb8aa405106f2c2f5f",
       "version_major": 2,
       "version_minor": 0
      },
      "text/plain": [
       "4duJXAG-i_A_210.0_360.0.mp4:   0%|          | 0.00/5.25M [00:00<?, ?B/s]"
      ]
     },
     "metadata": {},
     "output_type": "display_data"
    },
    {
     "data": {
      "application/vnd.jupyter.widget-view+json": {
       "model_id": "82420c3221644e57a9926ad7d1de66af",
       "version_major": 2,
       "version_minor": 0
      },
      "text/plain": [
       "gI2AA4G1yOo_210.0_360.0.mp4:   0%|          | 0.00/12.5M [00:00<?, ?B/s]"
      ]
     },
     "metadata": {},
     "output_type": "display_data"
    },
    {
     "data": {
      "application/vnd.jupyter.widget-view+json": {
       "model_id": "51476ec3293745e48a10b9a98def9bcb",
       "version_major": 2,
       "version_minor": 0
      },
      "text/plain": [
       "yGV2J8Fo2WQ_60.0_210.0.mp4:   0%|          | 0.00/11.5M [00:00<?, ?B/s]"
      ]
     },
     "metadata": {},
     "output_type": "display_data"
    },
    {
     "data": {
      "application/vnd.jupyter.widget-view+json": {
       "model_id": "4cd75315b608441bb841fb7556c5cfca",
       "version_major": 2,
       "version_minor": 0
      },
      "text/plain": [
       "o4Ic8f2htCQ_360.0_510.0.mp4:   0%|          | 0.00/13.6M [00:00<?, ?B/s]"
      ]
     },
     "metadata": {},
     "output_type": "display_data"
    },
    {
     "data": {
      "application/vnd.jupyter.widget-view+json": {
       "model_id": "147b29df0e024013b9c3a8ee850b45db",
       "version_major": 2,
       "version_minor": 0
      },
      "text/plain": [
       "jenYSuatu4o_210.0_360.0.mp4:   0%|          | 0.00/7.26M [00:00<?, ?B/s]"
      ]
     },
     "metadata": {},
     "output_type": "display_data"
    },
    {
     "data": {
      "application/vnd.jupyter.widget-view+json": {
       "model_id": "ad42ac3052e34542b392df8e684f58fa",
       "version_major": 2,
       "version_minor": 0
      },
      "text/plain": [
       "IIvCopV34cs_210.0_360.0.mp4:   0%|          | 0.00/8.13M [00:00<?, ?B/s]"
      ]
     },
     "metadata": {},
     "output_type": "display_data"
    },
    {
     "data": {
      "application/vnd.jupyter.widget-view+json": {
       "model_id": "a2df80eaaf1248cf9884eda903af17d6",
       "version_major": 2,
       "version_minor": 0
      },
      "text/plain": [
       "ozYhZR02ggU_60.0_210.0.mp4:   0%|          | 0.00/6.77M [00:00<?, ?B/s]"
      ]
     },
     "metadata": {},
     "output_type": "display_data"
    },
    {
     "data": {
      "application/vnd.jupyter.widget-view+json": {
       "model_id": "de7adf973bb84d328ffe0214cf100750",
       "version_major": 2,
       "version_minor": 0
      },
      "text/plain": [
       "PXlRV1Zttu8_360.0_510.0.mp4:   0%|          | 0.00/24.1M [00:00<?, ?B/s]"
      ]
     },
     "metadata": {},
     "output_type": "display_data"
    },
    {
     "data": {
      "application/vnd.jupyter.widget-view+json": {
       "model_id": "e33dd68adfa74a9d9e686d621cc2a900",
       "version_major": 2,
       "version_minor": 0
      },
      "text/plain": [
       "eqSDKgVRHqE_60.0_210.0.mp4:   0%|          | 0.00/15.5M [00:00<?, ?B/s]"
      ]
     },
     "metadata": {},
     "output_type": "display_data"
    },
    {
     "data": {
      "application/vnd.jupyter.widget-view+json": {
       "model_id": "40f8e7e236d243dc867ca050019b396f",
       "version_major": 2,
       "version_minor": 0
      },
      "text/plain": [
       "m6_eW4-EO_s_60.0_210.0.mp4:   0%|          | 0.00/9.19M [00:00<?, ?B/s]"
      ]
     },
     "metadata": {},
     "output_type": "display_data"
    },
    {
     "data": {
      "application/vnd.jupyter.widget-view+json": {
       "model_id": "e233d04726094480903c457656a613ca",
       "version_major": 2,
       "version_minor": 0
      },
      "text/plain": [
       "9K6pwiVyI_s_660.0_810.0.mp4:   0%|          | 0.00/7.20M [00:00<?, ?B/s]"
      ]
     },
     "metadata": {},
     "output_type": "display_data"
    },
    {
     "data": {
      "application/vnd.jupyter.widget-view+json": {
       "model_id": "79f2ba2dd7a74f35941ba42f95bfcc97",
       "version_major": 2,
       "version_minor": 0
      },
      "text/plain": [
       "S3Z9shXOBCI_360.0_510.0.mp4:   0%|          | 0.00/13.3M [00:00<?, ?B/s]"
      ]
     },
     "metadata": {},
     "output_type": "display_data"
    },
    {
     "data": {
      "application/vnd.jupyter.widget-view+json": {
       "model_id": "2ccd38318fc1468eb902f9d1ee8e8b8d",
       "version_major": 2,
       "version_minor": 0
      },
      "text/plain": [
       "bUNGaY2oeW8_210.0_360.0.mp4:   0%|          | 0.00/11.0M [00:00<?, ?B/s]"
      ]
     },
     "metadata": {},
     "output_type": "display_data"
    },
    {
     "data": {
      "application/vnd.jupyter.widget-view+json": {
       "model_id": "5c4c1621ead34466a4f5e40a971d4a62",
       "version_major": 2,
       "version_minor": 0
      },
      "text/plain": [
       "pYdzLn8iIO0_360.0_510.0.mp4:   0%|          | 0.00/10.1M [00:00<?, ?B/s]"
      ]
     },
     "metadata": {},
     "output_type": "display_data"
    },
    {
     "data": {
      "application/vnd.jupyter.widget-view+json": {
       "model_id": "15a6cbc63cc74b22b917bf2aa4745e43",
       "version_major": 2,
       "version_minor": 0
      },
      "text/plain": [
       "3uiUHvET_jg_510.0_660.0.mp4:   0%|          | 0.00/8.87M [00:00<?, ?B/s]"
      ]
     },
     "metadata": {},
     "output_type": "display_data"
    },
    {
     "data": {
      "application/vnd.jupyter.widget-view+json": {
       "model_id": "b26be8da694847f8b6189890592e3169",
       "version_major": 2,
       "version_minor": 0
      },
      "text/plain": [
       "4RGZPkJ4BmE_210.0_360.0.mp4:   0%|          | 0.00/16.1M [00:00<?, ?B/s]"
      ]
     },
     "metadata": {},
     "output_type": "display_data"
    },
    {
     "data": {
      "application/vnd.jupyter.widget-view+json": {
       "model_id": "b8a4bb9077e849b581f78a96fd8ff4a5",
       "version_major": 2,
       "version_minor": 0
      },
      "text/plain": [
       "RFpRIq4aZoo_210.0_360.0.mp4:   0%|          | 0.00/11.6M [00:00<?, ?B/s]"
      ]
     },
     "metadata": {},
     "output_type": "display_data"
    },
    {
     "data": {
      "application/vnd.jupyter.widget-view+json": {
       "model_id": "c81f986fad844f93a5a1b93c671f27b3",
       "version_major": 2,
       "version_minor": 0
      },
      "text/plain": [
       "FO6J023Q2LY_60.0_210.0.mp4:   0%|          | 0.00/7.63M [00:00<?, ?B/s]"
      ]
     },
     "metadata": {},
     "output_type": "display_data"
    },
    {
     "data": {
      "application/vnd.jupyter.widget-view+json": {
       "model_id": "ef313e2589a2407c8e7c27237834674e",
       "version_major": 2,
       "version_minor": 0
      },
      "text/plain": [
       "iN7ZL8Wgf8A_510.0_660.0.mp4:   0%|          | 0.00/15.9M [00:00<?, ?B/s]"
      ]
     },
     "metadata": {},
     "output_type": "display_data"
    },
    {
     "data": {
      "application/vnd.jupyter.widget-view+json": {
       "model_id": "3aa5d856ca6b436abfb360b68ec96773",
       "version_major": 2,
       "version_minor": 0
      },
      "text/plain": [
       "5rAW0Z_iGPE_510.0_660.0.mp4:   0%|          | 0.00/7.95M [00:00<?, ?B/s]"
      ]
     },
     "metadata": {},
     "output_type": "display_data"
    },
    {
     "data": {
      "application/vnd.jupyter.widget-view+json": {
       "model_id": "7985290a0b684f0691737a41393c8846",
       "version_major": 2,
       "version_minor": 0
      },
      "text/plain": [
       "Iqc6ZWr5VwM_510.0_660.0.mp4:   0%|          | 0.00/13.2M [00:00<?, ?B/s]"
      ]
     },
     "metadata": {},
     "output_type": "display_data"
    },
    {
     "data": {
      "application/vnd.jupyter.widget-view+json": {
       "model_id": "1f82599633164aa3a2b63ddf1fb49b8f",
       "version_major": 2,
       "version_minor": 0
      },
      "text/plain": [
       "A_UmHia5XTo_360.0_510.0.mp4:   0%|          | 0.00/10.4M [00:00<?, ?B/s]"
      ]
     },
     "metadata": {},
     "output_type": "display_data"
    },
    {
     "data": {
      "application/vnd.jupyter.widget-view+json": {
       "model_id": "b8379562c857434db09a52898be48205",
       "version_major": 2,
       "version_minor": 0
      },
      "text/plain": [
       "qutGiv85z5c_210.0_360.0.mp4:   0%|          | 0.00/9.34M [00:00<?, ?B/s]"
      ]
     },
     "metadata": {},
     "output_type": "display_data"
    },
    {
     "data": {
      "application/vnd.jupyter.widget-view+json": {
       "model_id": "b282a318adcf47f0b959a5b7669b7878",
       "version_major": 2,
       "version_minor": 0
      },
      "text/plain": [
       "VQx4h40Nrss_210.0_360.0.mp4:   0%|          | 0.00/22.9M [00:00<?, ?B/s]"
      ]
     },
     "metadata": {},
     "output_type": "display_data"
    },
    {
     "data": {
      "application/vnd.jupyter.widget-view+json": {
       "model_id": "b5c74ff0cda64222a175d83b135f0229",
       "version_major": 2,
       "version_minor": 0
      },
      "text/plain": [
       "Mq0F9l8bg8M_60.0_210.0.mp4:   0%|          | 0.00/15.8M [00:00<?, ?B/s]"
      ]
     },
     "metadata": {},
     "output_type": "display_data"
    },
    {
     "data": {
      "application/vnd.jupyter.widget-view+json": {
       "model_id": "c26ca60d1e2448caab05126fbb691a16",
       "version_major": 2,
       "version_minor": 0
      },
      "text/plain": [
       "ZweszcvzD_c_60.0_210.0.mp4:   0%|          | 0.00/10.3M [00:00<?, ?B/s]"
      ]
     },
     "metadata": {},
     "output_type": "display_data"
    },
    {
     "data": {
      "application/vnd.jupyter.widget-view+json": {
       "model_id": "1825deee5cc044a2b54e9851ebb8c0eb",
       "version_major": 2,
       "version_minor": 0
      },
      "text/plain": [
       "oSJ_rKL1auI_510.0_660.0.mp4:   0%|          | 0.00/14.5M [00:00<?, ?B/s]"
      ]
     },
     "metadata": {},
     "output_type": "display_data"
    },
    {
     "data": {
      "application/vnd.jupyter.widget-view+json": {
       "model_id": "36cd8e48d30e4b41ad23ea65473cdd3d",
       "version_major": 2,
       "version_minor": 0
      },
      "text/plain": [
       "k_IZbJVYvts_210.0_360.0.mp4:   0%|          | 0.00/8.81M [00:00<?, ?B/s]"
      ]
     },
     "metadata": {},
     "output_type": "display_data"
    },
    {
     "data": {
      "application/vnd.jupyter.widget-view+json": {
       "model_id": "35127bdedc2c468d83b91e27aca58fa9",
       "version_major": 2,
       "version_minor": 0
      },
      "text/plain": [
       "v6391WY0pZE_210.0_360.0.mp4:   0%|          | 0.00/13.5M [00:00<?, ?B/s]"
      ]
     },
     "metadata": {},
     "output_type": "display_data"
    },
    {
     "data": {
      "application/vnd.jupyter.widget-view+json": {
       "model_id": "975b78461d36426998b796801c105593",
       "version_major": 2,
       "version_minor": 0
      },
      "text/plain": [
       "bt4sQVsWQXo_360.0_510.0.mp4:   0%|          | 0.00/11.8M [00:00<?, ?B/s]"
      ]
     },
     "metadata": {},
     "output_type": "display_data"
    },
    {
     "data": {
      "application/vnd.jupyter.widget-view+json": {
       "model_id": "dd836d1edf0d49f3900b7e5a5d09f11b",
       "version_major": 2,
       "version_minor": 0
      },
      "text/plain": [
       "eYTTYnFgKQc_360.0_510.0.mp4:   0%|          | 0.00/11.5M [00:00<?, ?B/s]"
      ]
     },
     "metadata": {},
     "output_type": "display_data"
    },
    {
     "data": {
      "application/vnd.jupyter.widget-view+json": {
       "model_id": "60d09ddac9cd41aa9d64dfefb56d5691",
       "version_major": 2,
       "version_minor": 0
      },
      "text/plain": [
       "jJ4HvIfGFLA_60.0_210.0.mp4:   0%|          | 0.00/9.67M [00:00<?, ?B/s]"
      ]
     },
     "metadata": {},
     "output_type": "display_data"
    },
    {
     "data": {
      "application/vnd.jupyter.widget-view+json": {
       "model_id": "7b70fab40f074194b8885b4ca022dffa",
       "version_major": 2,
       "version_minor": 0
      },
      "text/plain": [
       "-7ECtLfnZDE_510.0_660.0.mp4:   0%|          | 0.00/9.70M [00:00<?, ?B/s]"
      ]
     },
     "metadata": {},
     "output_type": "display_data"
    },
    {
     "data": {
      "application/vnd.jupyter.widget-view+json": {
       "model_id": "653b703f0be541428c27f764e3137f5e",
       "version_major": 2,
       "version_minor": 0
      },
      "text/plain": [
       "oEciZ-tmpT8_210.0_360.0.mp4:   0%|          | 0.00/14.1M [00:00<?, ?B/s]"
      ]
     },
     "metadata": {},
     "output_type": "display_data"
    },
    {
     "data": {
      "application/vnd.jupyter.widget-view+json": {
       "model_id": "76177a2deae343c09ac9315bdc50b7f8",
       "version_major": 2,
       "version_minor": 0
      },
      "text/plain": [
       "rqoyJefmnCo_210.0_360.0.mp4:   0%|          | 0.00/9.69M [00:00<?, ?B/s]"
      ]
     },
     "metadata": {},
     "output_type": "display_data"
    },
    {
     "data": {
      "application/vnd.jupyter.widget-view+json": {
       "model_id": "4a4eed6e7ca04966a297ce5f3f5bb4fd",
       "version_major": 2,
       "version_minor": 0
      },
      "text/plain": [
       "9etQ3iz7Q4M_60.0_210.0.mp4:   0%|          | 0.00/10.5M [00:00<?, ?B/s]"
      ]
     },
     "metadata": {},
     "output_type": "display_data"
    },
    {
     "data": {
      "application/vnd.jupyter.widget-view+json": {
       "model_id": "3398f4a210344b13920b69c6cac9df7f",
       "version_major": 2,
       "version_minor": 0
      },
      "text/plain": [
       "7YKvTvSRbYw_210.0_360.0.mp4:   0%|          | 0.00/13.0M [00:00<?, ?B/s]"
      ]
     },
     "metadata": {},
     "output_type": "display_data"
    },
    {
     "data": {
      "application/vnd.jupyter.widget-view+json": {
       "model_id": "1c5f79f6bda74fa58c20b4b155f194a8",
       "version_major": 2,
       "version_minor": 0
      },
      "text/plain": [
       "aYdponE0IdY_510.0_660.0.mp4:   0%|          | 0.00/16.2M [00:00<?, ?B/s]"
      ]
     },
     "metadata": {},
     "output_type": "display_data"
    },
    {
     "data": {
      "application/vnd.jupyter.widget-view+json": {
       "model_id": "d373e6a1c7cd432cb385fd796d207620",
       "version_major": 2,
       "version_minor": 0
      },
      "text/plain": [
       "WUhO1Z5s7NA_210.0_360.0.mp4:   0%|          | 0.00/12.3M [00:00<?, ?B/s]"
      ]
     },
     "metadata": {},
     "output_type": "display_data"
    },
    {
     "data": {
      "application/vnd.jupyter.widget-view+json": {
       "model_id": "0de73d34c4754efb88685e3a2ec89a65",
       "version_major": 2,
       "version_minor": 0
      },
      "text/plain": [
       "ESFluiKqCYQ_210.0_360.0.mp4:   0%|          | 0.00/13.5M [00:00<?, ?B/s]"
      ]
     },
     "metadata": {},
     "output_type": "display_data"
    },
    {
     "data": {
      "application/vnd.jupyter.widget-view+json": {
       "model_id": "fe9942e292bf471c95371fcadc92039c",
       "version_major": 2,
       "version_minor": 0
      },
      "text/plain": [
       "f9DFVin7FII_60.0_210.0.mp4:   0%|          | 0.00/13.1M [00:00<?, ?B/s]"
      ]
     },
     "metadata": {},
     "output_type": "display_data"
    },
    {
     "data": {
      "application/vnd.jupyter.widget-view+json": {
       "model_id": "ea9aaa9e624d4c1998cff3f02708ed2d",
       "version_major": 2,
       "version_minor": 0
      },
      "text/plain": [
       "irkQ90hLZOg_60.0_210.0.mp4:   0%|          | 0.00/15.5M [00:00<?, ?B/s]"
      ]
     },
     "metadata": {},
     "output_type": "display_data"
    },
    {
     "data": {
      "application/vnd.jupyter.widget-view+json": {
       "model_id": "c4d05f1f6b4f4113bf835632c4bc04d3",
       "version_major": 2,
       "version_minor": 0
      },
      "text/plain": [
       "ueZWLFjEKRo_510.0_660.0.mp4:   0%|          | 0.00/9.06M [00:00<?, ?B/s]"
      ]
     },
     "metadata": {},
     "output_type": "display_data"
    },
    {
     "data": {
      "application/vnd.jupyter.widget-view+json": {
       "model_id": "fe8ca6fd915542dda8aadd1927f1958c",
       "version_major": 2,
       "version_minor": 0
      },
      "text/plain": [
       "uzCqORJ7E1w_210.0_360.0.mp4:   0%|          | 0.00/12.4M [00:00<?, ?B/s]"
      ]
     },
     "metadata": {},
     "output_type": "display_data"
    },
    {
     "data": {
      "application/vnd.jupyter.widget-view+json": {
       "model_id": "0b61f74b679a462bb259df0f2edd1564",
       "version_major": 2,
       "version_minor": 0
      },
      "text/plain": [
       "WOdt5ZMgfRI_660.0_810.0.mp4:   0%|          | 0.00/5.63M [00:00<?, ?B/s]"
      ]
     },
     "metadata": {},
     "output_type": "display_data"
    },
    {
     "data": {
      "application/vnd.jupyter.widget-view+json": {
       "model_id": "1a145ed41420452e83e5a83b4269e9ac",
       "version_major": 2,
       "version_minor": 0
      },
      "text/plain": [
       "iPMdSFM2llw_60.0_210.0.mp4:   0%|          | 0.00/11.4M [00:00<?, ?B/s]"
      ]
     },
     "metadata": {},
     "output_type": "display_data"
    },
    {
     "data": {
      "application/vnd.jupyter.widget-view+json": {
       "model_id": "fa0b61ac1c2442cf9215cdf984b4deb8",
       "version_major": 2,
       "version_minor": 0
      },
      "text/plain": [
       "RiIBIb3oOXE_210.0_360.0.mp4:   0%|          | 0.00/10.3M [00:00<?, ?B/s]"
      ]
     },
     "metadata": {},
     "output_type": "display_data"
    },
    {
     "data": {
      "application/vnd.jupyter.widget-view+json": {
       "model_id": "a5dc2a47fb91427990ff2a4cbfad29d6",
       "version_major": 2,
       "version_minor": 0
      },
      "text/plain": [
       "IYNXljp6F9M_360.0_510.0.mp4:   0%|          | 0.00/8.47M [00:00<?, ?B/s]"
      ]
     },
     "metadata": {},
     "output_type": "display_data"
    },
    {
     "data": {
      "application/vnd.jupyter.widget-view+json": {
       "model_id": "cce1a4ff3feb4c568ec56ac8af8cd2fd",
       "version_major": 2,
       "version_minor": 0
      },
      "text/plain": [
       "bjD9sUN75t0_660.0_810.0.mp4:   0%|          | 0.00/9.17M [00:00<?, ?B/s]"
      ]
     },
     "metadata": {},
     "output_type": "display_data"
    },
    {
     "data": {
      "application/vnd.jupyter.widget-view+json": {
       "model_id": "c7e7ec579544454f832e85d5cd88443b",
       "version_major": 2,
       "version_minor": 0
      },
      "text/plain": [
       "Ztkuej9xZgc_210.0_360.0.mp4:   0%|          | 0.00/9.04M [00:00<?, ?B/s]"
      ]
     },
     "metadata": {},
     "output_type": "display_data"
    },
    {
     "data": {
      "application/vnd.jupyter.widget-view+json": {
       "model_id": "933d1fca76f444099f43b44a9febb241",
       "version_major": 2,
       "version_minor": 0
      },
      "text/plain": [
       "g0GLCAX951A_210.0_360.0.mp4:   0%|          | 0.00/15.3M [00:00<?, ?B/s]"
      ]
     },
     "metadata": {},
     "output_type": "display_data"
    },
    {
     "data": {
      "application/vnd.jupyter.widget-view+json": {
       "model_id": "f7a49fb10e5d4837bd5c59e20731e85f",
       "version_major": 2,
       "version_minor": 0
      },
      "text/plain": [
       "ydDqRfmbY7M_660.0_810.0.mp4:   0%|          | 0.00/15.3M [00:00<?, ?B/s]"
      ]
     },
     "metadata": {},
     "output_type": "display_data"
    },
    {
     "data": {
      "application/vnd.jupyter.widget-view+json": {
       "model_id": "6c39016b27d348378a88c8b9dee2753e",
       "version_major": 2,
       "version_minor": 0
      },
      "text/plain": [
       "viPr5qL86YY_360.0_510.0.mp4:   0%|          | 0.00/5.87M [00:00<?, ?B/s]"
      ]
     },
     "metadata": {},
     "output_type": "display_data"
    },
    {
     "data": {
      "application/vnd.jupyter.widget-view+json": {
       "model_id": "f45d2304e86942b48d37c112eddd94f2",
       "version_major": 2,
       "version_minor": 0
      },
      "text/plain": [
       "3qcHUwbwUUY_210.0_360.0.mp4:   0%|          | 0.00/8.17M [00:00<?, ?B/s]"
      ]
     },
     "metadata": {},
     "output_type": "display_data"
    },
    {
     "data": {
      "application/vnd.jupyter.widget-view+json": {
       "model_id": "601dfce7355d49f5a82e39c0e52a004b",
       "version_major": 2,
       "version_minor": 0
      },
      "text/plain": [
       "HDd5o3PHVxQ_210.0_360.0.mp4:   0%|          | 0.00/15.7M [00:00<?, ?B/s]"
      ]
     },
     "metadata": {},
     "output_type": "display_data"
    },
    {
     "data": {
      "application/vnd.jupyter.widget-view+json": {
       "model_id": "a074062260444c9587c66b55e1e9bdd3",
       "version_major": 2,
       "version_minor": 0
      },
      "text/plain": [
       "M3rYmw7Xndw_60.0_210.0.mp4:   0%|          | 0.00/11.2M [00:00<?, ?B/s]"
      ]
     },
     "metadata": {},
     "output_type": "display_data"
    },
    {
     "data": {
      "application/vnd.jupyter.widget-view+json": {
       "model_id": "ab597fcf31634ac48f0e0a998ffd5674",
       "version_major": 2,
       "version_minor": 0
      },
      "text/plain": [
       "bJovx7VlWCA_360.0_510.0.mp4:   0%|          | 0.00/15.8M [00:00<?, ?B/s]"
      ]
     },
     "metadata": {},
     "output_type": "display_data"
    },
    {
     "data": {
      "application/vnd.jupyter.widget-view+json": {
       "model_id": "9eee5ca2667048a282d4ce78c4a8081c",
       "version_major": 2,
       "version_minor": 0
      },
      "text/plain": [
       "Mvv9vuJW4qY_210.0_360.0.mp4:   0%|          | 0.00/8.99M [00:00<?, ?B/s]"
      ]
     },
     "metadata": {},
     "output_type": "display_data"
    },
    {
     "data": {
      "application/vnd.jupyter.widget-view+json": {
       "model_id": "d1e2e35be8564907a3d47d584fe22c22",
       "version_major": 2,
       "version_minor": 0
      },
      "text/plain": [
       "B6AEPicK9Bk_360.0_510.0.mp4:   0%|          | 0.00/12.8M [00:00<?, ?B/s]"
      ]
     },
     "metadata": {},
     "output_type": "display_data"
    },
    {
     "data": {
      "application/vnd.jupyter.widget-view+json": {
       "model_id": "e7991ee3054942a99fd2fc93407e2921",
       "version_major": 2,
       "version_minor": 0
      },
      "text/plain": [
       "w0XNJn4DEnE_510.0_660.0.mp4:   0%|          | 0.00/13.2M [00:00<?, ?B/s]"
      ]
     },
     "metadata": {},
     "output_type": "display_data"
    },
    {
     "data": {
      "application/vnd.jupyter.widget-view+json": {
       "model_id": "ffbb4af46b93474f9a721435527269c0",
       "version_major": 2,
       "version_minor": 0
      },
      "text/plain": [
       "OM9cxVKNqJ0_360.0_510.0.mp4:   0%|          | 0.00/9.18M [00:00<?, ?B/s]"
      ]
     },
     "metadata": {},
     "output_type": "display_data"
    },
    {
     "data": {
      "application/vnd.jupyter.widget-view+json": {
       "model_id": "f319bea34ffa4ff4863c285053e89ed1",
       "version_major": 2,
       "version_minor": 0
      },
      "text/plain": [
       "d3n7kAOdBBw_60.0_210.0.mp4:   0%|          | 0.00/10.0M [00:00<?, ?B/s]"
      ]
     },
     "metadata": {},
     "output_type": "display_data"
    },
    {
     "data": {
      "application/vnd.jupyter.widget-view+json": {
       "model_id": "39b52b6738864db7a558b7f6f9ac2566",
       "version_major": 2,
       "version_minor": 0
      },
      "text/plain": [
       "IXYIsCaXQ9k_510.0_660.0.mp4:   0%|          | 0.00/11.9M [00:00<?, ?B/s]"
      ]
     },
     "metadata": {},
     "output_type": "display_data"
    },
    {
     "data": {
      "application/vnd.jupyter.widget-view+json": {
       "model_id": "6b3a1f39654145e6917394d162e5aca3",
       "version_major": 2,
       "version_minor": 0
      },
      "text/plain": [
       "vK8NsTFcKww_360.0_510.0.mp4:   0%|          | 0.00/9.04M [00:00<?, ?B/s]"
      ]
     },
     "metadata": {},
     "output_type": "display_data"
    },
    {
     "data": {
      "application/vnd.jupyter.widget-view+json": {
       "model_id": "347db69929874e09b31a7d44fcb239ce",
       "version_major": 2,
       "version_minor": 0
      },
      "text/plain": [
       "nogjtpG6204_210.0_360.0.mp4:   0%|          | 0.00/9.95M [00:00<?, ?B/s]"
      ]
     },
     "metadata": {},
     "output_type": "display_data"
    },
    {
     "data": {
      "application/vnd.jupyter.widget-view+json": {
       "model_id": "9a24d051bfa94fe3a620d2a9a52c325f",
       "version_major": 2,
       "version_minor": 0
      },
      "text/plain": [
       "NzIqIFg_2o4_360.0_510.0.mp4:   0%|          | 0.00/11.6M [00:00<?, ?B/s]"
      ]
     },
     "metadata": {},
     "output_type": "display_data"
    },
    {
     "data": {
      "application/vnd.jupyter.widget-view+json": {
       "model_id": "a69f8be003804d659f5501e0462e4235",
       "version_major": 2,
       "version_minor": 0
      },
      "text/plain": [
       "x-l6vBbHpVk_60.0_210.0.mp4:   0%|          | 0.00/11.0M [00:00<?, ?B/s]"
      ]
     },
     "metadata": {},
     "output_type": "display_data"
    },
    {
     "data": {
      "application/vnd.jupyter.widget-view+json": {
       "model_id": "e91acc40cf10447ea51383cf0f450728",
       "version_major": 2,
       "version_minor": 0
      },
      "text/plain": [
       "3BTgub0Sxno_60.0_210.0.mp4:   0%|          | 0.00/4.64M [00:06<?, ?B/s]"
      ]
     },
     "metadata": {},
     "output_type": "display_data"
    },
    {
     "data": {
      "application/vnd.jupyter.widget-view+json": {
       "model_id": "6e53f781bf104e1ebb4cd7ba7a4c96f0",
       "version_major": 2,
       "version_minor": 0
      },
      "text/plain": [
       "Tpp5wBaNDt8_60.0_210.0.mp4:   0%|          | 0.00/6.87M [00:00<?, ?B/s]"
      ]
     },
     "metadata": {},
     "output_type": "display_data"
    },
    {
     "data": {
      "application/vnd.jupyter.widget-view+json": {
       "model_id": "4d3a1a9e2df340bdb337f1e1f4313960",
       "version_major": 2,
       "version_minor": 0
      },
      "text/plain": [
       "EDwPWnOmotU_360.0_510.0.mp4:   0%|          | 0.00/13.8M [00:00<?, ?B/s]"
      ]
     },
     "metadata": {},
     "output_type": "display_data"
    },
    {
     "data": {
      "application/vnd.jupyter.widget-view+json": {
       "model_id": "8a8b0954b0a74bcba3c1ceda2c7cdafd",
       "version_major": 2,
       "version_minor": 0
      },
      "text/plain": [
       "RFwGqF3QlVc_360.0_510.0.mp4:   0%|          | 0.00/5.24M [00:00<?, ?B/s]"
      ]
     },
     "metadata": {},
     "output_type": "display_data"
    },
    {
     "data": {
      "application/vnd.jupyter.widget-view+json": {
       "model_id": "e160eef2b376496ebb617c773cc40563",
       "version_major": 2,
       "version_minor": 0
      },
      "text/plain": [
       "M1kwtgh8qQU_210.0_360.0.mp4:   0%|          | 0.00/7.32M [00:00<?, ?B/s]"
      ]
     },
     "metadata": {},
     "output_type": "display_data"
    },
    {
     "data": {
      "application/vnd.jupyter.widget-view+json": {
       "model_id": "7729459ac32447a98d824230f38f8450",
       "version_major": 2,
       "version_minor": 0
      },
      "text/plain": [
       "QZHrukMMptA_60.0_210.0.mp4:   0%|          | 0.00/8.53M [00:00<?, ?B/s]"
      ]
     },
     "metadata": {},
     "output_type": "display_data"
    },
    {
     "data": {
      "application/vnd.jupyter.widget-view+json": {
       "model_id": "b1bbc6f4ce9b4b21b4ef96ee761813b6",
       "version_major": 2,
       "version_minor": 0
      },
      "text/plain": [
       "uzCqORJ7E1w_60.0_210.0.mp4:   0%|          | 0.00/12.7M [00:00<?, ?B/s]"
      ]
     },
     "metadata": {},
     "output_type": "display_data"
    },
    {
     "data": {
      "application/vnd.jupyter.widget-view+json": {
       "model_id": "97ad5229361b442ba6c7c6fb642cffbc",
       "version_major": 2,
       "version_minor": 0
      },
      "text/plain": [
       "hqZwmAqpB1k_210.0_360.0.mp4:   0%|          | 0.00/8.12M [00:00<?, ?B/s]"
      ]
     },
     "metadata": {},
     "output_type": "display_data"
    },
    {
     "data": {
      "application/vnd.jupyter.widget-view+json": {
       "model_id": "00330acbe9c64fe082cbf49ddac4ac42",
       "version_major": 2,
       "version_minor": 0
      },
      "text/plain": [
       "T-fOaU6Txzw_210.0_360.0.mp4:   0%|          | 0.00/10.6M [00:00<?, ?B/s]"
      ]
     },
     "metadata": {},
     "output_type": "display_data"
    },
    {
     "data": {
      "application/vnd.jupyter.widget-view+json": {
       "model_id": "8edc3e948b0846fa93e52c82e9248b7d",
       "version_major": 2,
       "version_minor": 0
      },
      "text/plain": [
       "52M2BAuPhaA_210.0_360.0.mp4:   0%|          | 0.00/13.2M [00:00<?, ?B/s]"
      ]
     },
     "metadata": {},
     "output_type": "display_data"
    },
    {
     "data": {
      "application/vnd.jupyter.widget-view+json": {
       "model_id": "2875ce1a5b5647af88b2a4d2677180dc",
       "version_major": 2,
       "version_minor": 0
      },
      "text/plain": [
       "XFg-PaelogA_210.0_360.0.mp4:   0%|          | 0.00/7.54M [00:00<?, ?B/s]"
      ]
     },
     "metadata": {},
     "output_type": "display_data"
    },
    {
     "data": {
      "application/vnd.jupyter.widget-view+json": {
       "model_id": "cbed3e77d0c94e12967135bd9a795c01",
       "version_major": 2,
       "version_minor": 0
      },
      "text/plain": [
       "T0C0i5bxPRs_660.0_810.0.mp4:   0%|          | 0.00/17.8M [00:00<?, ?B/s]"
      ]
     },
     "metadata": {},
     "output_type": "display_data"
    },
    {
     "data": {
      "application/vnd.jupyter.widget-view+json": {
       "model_id": "335c622295444105bbaa5b004ef9f677",
       "version_major": 2,
       "version_minor": 0
      },
      "text/plain": [
       "El8HR-dmEjE_360.0_510.0.mp4:   0%|          | 0.00/14.9M [00:00<?, ?B/s]"
      ]
     },
     "metadata": {},
     "output_type": "display_data"
    },
    {
     "data": {
      "application/vnd.jupyter.widget-view+json": {
       "model_id": "892bd10ed41b44849223b41014dd9512",
       "version_major": 2,
       "version_minor": 0
      },
      "text/plain": [
       "u6qkkpoDwvI_210.0_360.0.mp4:   0%|          | 0.00/7.80M [00:00<?, ?B/s]"
      ]
     },
     "metadata": {},
     "output_type": "display_data"
    },
    {
     "data": {
      "application/vnd.jupyter.widget-view+json": {
       "model_id": "93c1ef2608e44c0eb06cb55668bf06d3",
       "version_major": 2,
       "version_minor": 0
      },
      "text/plain": [
       "PR7WfgREOiU_360.0_510.0.mp4:   0%|          | 0.00/5.96M [00:00<?, ?B/s]"
      ]
     },
     "metadata": {},
     "output_type": "display_data"
    },
    {
     "data": {
      "application/vnd.jupyter.widget-view+json": {
       "model_id": "c846bf24075f4c9194a6588a9eb2bd6a",
       "version_major": 2,
       "version_minor": 0
      },
      "text/plain": [
       "F29xwiqYxMA_360.0_510.0.mp4:   0%|          | 0.00/12.4M [00:00<?, ?B/s]"
      ]
     },
     "metadata": {},
     "output_type": "display_data"
    },
    {
     "data": {
      "application/vnd.jupyter.widget-view+json": {
       "model_id": "e2b6bb363e324ed9a69c6460afd9cd89",
       "version_major": 2,
       "version_minor": 0
      },
      "text/plain": [
       "y9Whbu4J-cs_660.0_810.0.mp4:   0%|          | 0.00/16.8M [00:00<?, ?B/s]"
      ]
     },
     "metadata": {},
     "output_type": "display_data"
    },
    {
     "data": {
      "application/vnd.jupyter.widget-view+json": {
       "model_id": "1e2e2a69157f49cc8501d3b53fea02d8",
       "version_major": 2,
       "version_minor": 0
      },
      "text/plain": [
       "dtedoRPVKCw_210.0_360.0.mp4:   0%|          | 0.00/15.4M [00:00<?, ?B/s]"
      ]
     },
     "metadata": {},
     "output_type": "display_data"
    },
    {
     "data": {
      "application/vnd.jupyter.widget-view+json": {
       "model_id": "e16030371ccf4cb48e2d0528752a20e3",
       "version_major": 2,
       "version_minor": 0
      },
      "text/plain": [
       "yDTVgjU2L_E_210.0_360.0.mp4:   0%|          | 0.00/10.1M [00:00<?, ?B/s]"
      ]
     },
     "metadata": {},
     "output_type": "display_data"
    },
    {
     "data": {
      "application/vnd.jupyter.widget-view+json": {
       "model_id": "e63bafcac2ea480486af351d466711ea",
       "version_major": 2,
       "version_minor": 0
      },
      "text/plain": [
       "NgCMFnarf5U_60.0_210.0.mp4:   0%|          | 0.00/7.68M [00:00<?, ?B/s]"
      ]
     },
     "metadata": {},
     "output_type": "display_data"
    },
    {
     "data": {
      "application/vnd.jupyter.widget-view+json": {
       "model_id": "1251f83a65314187bfd2266247e10073",
       "version_major": 2,
       "version_minor": 0
      },
      "text/plain": [
       "IW05PXxIzH4_210.0_360.0.mp4:   0%|          | 0.00/14.0M [00:00<?, ?B/s]"
      ]
     },
     "metadata": {},
     "output_type": "display_data"
    },
    {
     "data": {
      "application/vnd.jupyter.widget-view+json": {
       "model_id": "7f505310451a4a8da5a25edcd1a9eef8",
       "version_major": 2,
       "version_minor": 0
      },
      "text/plain": [
       "W4VD6VtWsAA_510.0_660.0.mp4:   0%|          | 0.00/10.5M [00:00<?, ?B/s]"
      ]
     },
     "metadata": {},
     "output_type": "display_data"
    },
    {
     "data": {
      "application/vnd.jupyter.widget-view+json": {
       "model_id": "27f84f0949164a1095553359eeb8d2fd",
       "version_major": 2,
       "version_minor": 0
      },
      "text/plain": [
       "cP66oXB3OFk_60.0_210.0.mp4:   0%|          | 0.00/16.9M [00:00<?, ?B/s]"
      ]
     },
     "metadata": {},
     "output_type": "display_data"
    },
    {
     "data": {
      "application/vnd.jupyter.widget-view+json": {
       "model_id": "70def600514c4c949adf0926731660aa",
       "version_major": 2,
       "version_minor": 0
      },
      "text/plain": [
       "hZIfBxyW0YM_210.0_360.0.mp4:   0%|          | 0.00/12.5M [00:00<?, ?B/s]"
      ]
     },
     "metadata": {},
     "output_type": "display_data"
    },
    {
     "data": {
      "application/vnd.jupyter.widget-view+json": {
       "model_id": "a3feac5af13e41e597f3848f61e667fe",
       "version_major": 2,
       "version_minor": 0
      },
      "text/plain": [
       "l3M5l0_dLFg_60.0_210.0.mp4:   0%|          | 0.00/12.8M [00:00<?, ?B/s]"
      ]
     },
     "metadata": {},
     "output_type": "display_data"
    },
    {
     "data": {
      "application/vnd.jupyter.widget-view+json": {
       "model_id": "aac21b53c44e4ed3a2c6b7ccd0df3542",
       "version_major": 2,
       "version_minor": 0
      },
      "text/plain": [
       "EiD10PvM-l0_210.0_360.0.mp4:   0%|          | 0.00/10.3M [00:00<?, ?B/s]"
      ]
     },
     "metadata": {},
     "output_type": "display_data"
    },
    {
     "data": {
      "application/vnd.jupyter.widget-view+json": {
       "model_id": "bceabdfbc7264b7a9d74cd4a078c6362",
       "version_major": 2,
       "version_minor": 0
      },
      "text/plain": [
       "C0IU6ZRVEXk_360.0_510.0.mp4:   0%|          | 0.00/12.9M [00:00<?, ?B/s]"
      ]
     },
     "metadata": {},
     "output_type": "display_data"
    },
    {
     "data": {
      "application/vnd.jupyter.widget-view+json": {
       "model_id": "882adaf94f3d4dacb8a4446fd82ad6ec",
       "version_major": 2,
       "version_minor": 0
      },
      "text/plain": [
       "jeYqepiH670_60.0_210.0.mp4:   0%|          | 0.00/8.03M [00:00<?, ?B/s]"
      ]
     },
     "metadata": {},
     "output_type": "display_data"
    },
    {
     "data": {
      "application/vnd.jupyter.widget-view+json": {
       "model_id": "77622d6476084ded89efff8bd552ad08",
       "version_major": 2,
       "version_minor": 0
      },
      "text/plain": [
       "nCttqSbHIig_60.0_210.0.mp4:   0%|          | 0.00/13.3M [00:00<?, ?B/s]"
      ]
     },
     "metadata": {},
     "output_type": "display_data"
    },
    {
     "data": {
      "application/vnd.jupyter.widget-view+json": {
       "model_id": "44f7a83aa7d440eaacb6caa4d9e48a82",
       "version_major": 2,
       "version_minor": 0
      },
      "text/plain": [
       "X0MF9k9Y7sM_360.0_510.0.mp4:   0%|          | 0.00/14.1M [00:00<?, ?B/s]"
      ]
     },
     "metadata": {},
     "output_type": "display_data"
    },
    {
     "data": {
      "application/vnd.jupyter.widget-view+json": {
       "model_id": "0f5205a8f17e428a9930918a3514fbe7",
       "version_major": 2,
       "version_minor": 0
      },
      "text/plain": [
       "aw982vXnrDk_60.0_210.0.mp4:   0%|          | 0.00/12.6M [00:00<?, ?B/s]"
      ]
     },
     "metadata": {},
     "output_type": "display_data"
    },
    {
     "data": {
      "application/vnd.jupyter.widget-view+json": {
       "model_id": "5312868028124587bbfcd5379df2d6a5",
       "version_major": 2,
       "version_minor": 0
      },
      "text/plain": [
       "D0rWaI3dDFo_360.0_510.0.mp4:   0%|          | 0.00/8.89M [00:00<?, ?B/s]"
      ]
     },
     "metadata": {},
     "output_type": "display_data"
    },
    {
     "data": {
      "application/vnd.jupyter.widget-view+json": {
       "model_id": "e9244dee008b45049957c677c45dd686",
       "version_major": 2,
       "version_minor": 0
      },
      "text/plain": [
       "eLFIrC_W-3A_60.0_210.0.mp4:   0%|          | 0.00/15.7M [00:00<?, ?B/s]"
      ]
     },
     "metadata": {},
     "output_type": "display_data"
    },
    {
     "data": {
      "application/vnd.jupyter.widget-view+json": {
       "model_id": "d36f0c5c0d2d4f5189c210456ed65c1c",
       "version_major": 2,
       "version_minor": 0
      },
      "text/plain": [
       "_RDpKm1hruA_510.0_660.0.mp4:   0%|          | 0.00/19.2M [00:00<?, ?B/s]"
      ]
     },
     "metadata": {},
     "output_type": "display_data"
    },
    {
     "data": {
      "application/vnd.jupyter.widget-view+json": {
       "model_id": "911518f54a4f49e4b33e13208051a34b",
       "version_major": 2,
       "version_minor": 0
      },
      "text/plain": [
       "7ovXhxhYW-8_60.0_210.0.mp4:   0%|          | 0.00/12.3M [00:00<?, ?B/s]"
      ]
     },
     "metadata": {},
     "output_type": "display_data"
    },
    {
     "data": {
      "application/vnd.jupyter.widget-view+json": {
       "model_id": "abd346ac45644dae8ab5f11460690cd6",
       "version_major": 2,
       "version_minor": 0
      },
      "text/plain": [
       "XIWUZlhTbNo_60.0_210.0.mp4:   0%|          | 0.00/10.3M [00:00<?, ?B/s]"
      ]
     },
     "metadata": {},
     "output_type": "display_data"
    },
    {
     "data": {
      "application/vnd.jupyter.widget-view+json": {
       "model_id": "aaaa162a1d534da79910128e65bb0056",
       "version_major": 2,
       "version_minor": 0
      },
      "text/plain": [
       "G9ve1C_yu_8_210.0_360.0.mp4:   0%|          | 0.00/19.4M [00:00<?, ?B/s]"
      ]
     },
     "metadata": {},
     "output_type": "display_data"
    },
    {
     "data": {
      "application/vnd.jupyter.widget-view+json": {
       "model_id": "4d531e5d3f0c4d518c16ff682581c02f",
       "version_major": 2,
       "version_minor": 0
      },
      "text/plain": [
       "751tBO0yDJI_60.0_210.0.mp4:   0%|          | 0.00/9.07M [00:00<?, ?B/s]"
      ]
     },
     "metadata": {},
     "output_type": "display_data"
    },
    {
     "data": {
      "application/vnd.jupyter.widget-view+json": {
       "model_id": "e53dfd4023394f0090e8755b0a3bca7e",
       "version_major": 2,
       "version_minor": 0
      },
      "text/plain": [
       "Wn9t3V88iQU_210.0_360.0.mp4:   0%|          | 0.00/10.8M [00:00<?, ?B/s]"
      ]
     },
     "metadata": {},
     "output_type": "display_data"
    },
    {
     "data": {
      "application/vnd.jupyter.widget-view+json": {
       "model_id": "972a886ddc6d4829b73f7d2f4ba94c0d",
       "version_major": 2,
       "version_minor": 0
      },
      "text/plain": [
       "Wgp6Yzgn7nY_210.0_360.0.mp4:   0%|          | 0.00/3.03M [00:00<?, ?B/s]"
      ]
     },
     "metadata": {},
     "output_type": "display_data"
    },
    {
     "data": {
      "application/vnd.jupyter.widget-view+json": {
       "model_id": "756d038e3d0f458481c9a9ceb28fb883",
       "version_major": 2,
       "version_minor": 0
      },
      "text/plain": [
       "V1O76JCsPg0_210.0_360.0.mp4:   0%|          | 0.00/11.0M [00:00<?, ?B/s]"
      ]
     },
     "metadata": {},
     "output_type": "display_data"
    },
    {
     "data": {
      "application/vnd.jupyter.widget-view+json": {
       "model_id": "8647ccc0504f440b97f335717f82dad9",
       "version_major": 2,
       "version_minor": 0
      },
      "text/plain": [
       "OdHz_GXY7mA_60.0_210.0.mp4:   0%|          | 0.00/9.80M [00:00<?, ?B/s]"
      ]
     },
     "metadata": {},
     "output_type": "display_data"
    },
    {
     "data": {
      "application/vnd.jupyter.widget-view+json": {
       "model_id": "a3608e482dd34633a4061aed2cdfb343",
       "version_major": 2,
       "version_minor": 0
      },
      "text/plain": [
       "jPe0V4TXdsg_60.0_210.0.mp4:   0%|          | 0.00/12.3M [00:00<?, ?B/s]"
      ]
     },
     "metadata": {},
     "output_type": "display_data"
    },
    {
     "data": {
      "application/vnd.jupyter.widget-view+json": {
       "model_id": "ac33b814ba7d448590eed7da7c3f963f",
       "version_major": 2,
       "version_minor": 0
      },
      "text/plain": [
       "6KXwCLAUhfQ_510.0_660.0.mp4:   0%|          | 0.00/10.9M [00:00<?, ?B/s]"
      ]
     },
     "metadata": {},
     "output_type": "display_data"
    },
    {
     "data": {
      "application/vnd.jupyter.widget-view+json": {
       "model_id": "6e99b5e2fe3743109e9539b5095ffb0a",
       "version_major": 2,
       "version_minor": 0
      },
      "text/plain": [
       "lr-De1n7f5g_360.0_510.0.mp4:   0%|          | 0.00/10.7M [00:00<?, ?B/s]"
      ]
     },
     "metadata": {},
     "output_type": "display_data"
    },
    {
     "data": {
      "application/vnd.jupyter.widget-view+json": {
       "model_id": "a325e3c1a8cf44d18e413341a55a0135",
       "version_major": 2,
       "version_minor": 0
      },
      "text/plain": [
       "qW5kJlPJx38_60.0_210.0.mp4:   0%|          | 0.00/12.2M [00:00<?, ?B/s]"
      ]
     },
     "metadata": {},
     "output_type": "display_data"
    },
    {
     "data": {
      "application/vnd.jupyter.widget-view+json": {
       "model_id": "ace97a8757f34e2f8bd3018d609eefa1",
       "version_major": 2,
       "version_minor": 0
      },
      "text/plain": [
       "TWa_ArpQHFg_60.0_210.0.mp4:   0%|          | 0.00/16.1M [00:00<?, ?B/s]"
      ]
     },
     "metadata": {},
     "output_type": "display_data"
    },
    {
     "data": {
      "application/vnd.jupyter.widget-view+json": {
       "model_id": "76f344d142024184bac0a945abf67472",
       "version_major": 2,
       "version_minor": 0
      },
      "text/plain": [
       "GiWq7UJd7qo_510.0_660.0.mp4:   0%|          | 0.00/9.32M [00:00<?, ?B/s]"
      ]
     },
     "metadata": {},
     "output_type": "display_data"
    },
    {
     "data": {
      "application/vnd.jupyter.widget-view+json": {
       "model_id": "7932e43a396c45e09624808861f85987",
       "version_major": 2,
       "version_minor": 0
      },
      "text/plain": [
       "LX3kKPe_glE_360.0_510.0.mp4:   0%|          | 0.00/16.5M [00:00<?, ?B/s]"
      ]
     },
     "metadata": {},
     "output_type": "display_data"
    },
    {
     "data": {
      "application/vnd.jupyter.widget-view+json": {
       "model_id": "986ae9eeb069475096a3fa35a20ce972",
       "version_major": 2,
       "version_minor": 0
      },
      "text/plain": [
       "GcnnAo7NmXA_60.0_210.0.mp4:   0%|          | 0.00/9.76M [00:00<?, ?B/s]"
      ]
     },
     "metadata": {},
     "output_type": "display_data"
    },
    {
     "data": {
      "application/vnd.jupyter.widget-view+json": {
       "model_id": "c11aa82bdade43ce99100b982ae83d4d",
       "version_major": 2,
       "version_minor": 0
      },
      "text/plain": [
       "BqHL8loVCfs_60.0_210.0.mp4:   0%|          | 0.00/5.18M [00:00<?, ?B/s]"
      ]
     },
     "metadata": {},
     "output_type": "display_data"
    },
    {
     "data": {
      "application/vnd.jupyter.widget-view+json": {
       "model_id": "e0c9ded8cc45455b9e22ea8ed3d620a9",
       "version_major": 2,
       "version_minor": 0
      },
      "text/plain": [
       "616-UX_bkM4_360.0_510.0.mp4:   0%|          | 0.00/7.10M [00:00<?, ?B/s]"
      ]
     },
     "metadata": {},
     "output_type": "display_data"
    },
    {
     "data": {
      "application/vnd.jupyter.widget-view+json": {
       "model_id": "35c26dabeda245acbe121e2192fb664c",
       "version_major": 2,
       "version_minor": 0
      },
      "text/plain": [
       "S9MfcsM_bWA_360.0_510.0.mp4:   0%|          | 0.00/12.8M [00:00<?, ?B/s]"
      ]
     },
     "metadata": {},
     "output_type": "display_data"
    },
    {
     "data": {
      "application/vnd.jupyter.widget-view+json": {
       "model_id": "f8c21f01ccd64a0a900775652d866ad8",
       "version_major": 2,
       "version_minor": 0
      },
      "text/plain": [
       "B185sfykx6M_210.0_360.0.mp4:   0%|          | 0.00/4.58M [00:00<?, ?B/s]"
      ]
     },
     "metadata": {},
     "output_type": "display_data"
    },
    {
     "data": {
      "application/vnd.jupyter.widget-view+json": {
       "model_id": "545058f8d0ae463f92a14e7417d9a782",
       "version_major": 2,
       "version_minor": 0
      },
      "text/plain": [
       "ZY_TWwesO-4_210.0_360.0.mp4:   0%|          | 0.00/9.09M [00:00<?, ?B/s]"
      ]
     },
     "metadata": {},
     "output_type": "display_data"
    },
    {
     "data": {
      "application/vnd.jupyter.widget-view+json": {
       "model_id": "652dc0d316a34369b5873e1f5c479639",
       "version_major": 2,
       "version_minor": 0
      },
      "text/plain": [
       "GR5PrRtRakY_360.0_510.0.mp4:   0%|          | 0.00/13.6M [00:00<?, ?B/s]"
      ]
     },
     "metadata": {},
     "output_type": "display_data"
    },
    {
     "data": {
      "application/vnd.jupyter.widget-view+json": {
       "model_id": "4654cf8664c74238a9c2671b5f0aa5f4",
       "version_major": 2,
       "version_minor": 0
      },
      "text/plain": [
       "iN7ZL8Wgf8A_360.0_510.0.mp4:   0%|          | 0.00/18.3M [00:00<?, ?B/s]"
      ]
     },
     "metadata": {},
     "output_type": "display_data"
    },
    {
     "data": {
      "application/vnd.jupyter.widget-view+json": {
       "model_id": "2464eb253bd74d3a900b1756785957d2",
       "version_major": 2,
       "version_minor": 0
      },
      "text/plain": [
       "B6AEPicK9Bk_210.0_360.0.mp4:   0%|          | 0.00/13.1M [00:00<?, ?B/s]"
      ]
     },
     "metadata": {},
     "output_type": "display_data"
    },
    {
     "data": {
      "application/vnd.jupyter.widget-view+json": {
       "model_id": "6154a72b6d354e8c8e957297357a4ce7",
       "version_major": 2,
       "version_minor": 0
      },
      "text/plain": [
       "_CZq9npzLJw_210.0_360.0.mp4:   0%|          | 0.00/9.56M [00:00<?, ?B/s]"
      ]
     },
     "metadata": {},
     "output_type": "display_data"
    },
    {
     "data": {
      "application/vnd.jupyter.widget-view+json": {
       "model_id": "70a6f51c4b9b416e8a14f0d4692c9f67",
       "version_major": 2,
       "version_minor": 0
      },
      "text/plain": [
       "MpVfH5QDbPo_360.0_510.0.mp4:   0%|          | 0.00/10.1M [00:00<?, ?B/s]"
      ]
     },
     "metadata": {},
     "output_type": "display_data"
    },
    {
     "data": {
      "application/vnd.jupyter.widget-view+json": {
       "model_id": "7481e984f5a941fdb302c1b074e347b9",
       "version_major": 2,
       "version_minor": 0
      },
      "text/plain": [
       "oqLC2Jc6IOU_660.0_810.0.mp4:   0%|          | 0.00/13.6M [00:00<?, ?B/s]"
      ]
     },
     "metadata": {},
     "output_type": "display_data"
    },
    {
     "data": {
      "application/vnd.jupyter.widget-view+json": {
       "model_id": "d193b89a9e36417bab917f4347ba819a",
       "version_major": 2,
       "version_minor": 0
      },
      "text/plain": [
       "pYdzLn8iIO0_660.0_810.0.mp4:   0%|          | 0.00/7.39M [00:00<?, ?B/s]"
      ]
     },
     "metadata": {},
     "output_type": "display_data"
    },
    {
     "data": {
      "application/vnd.jupyter.widget-view+json": {
       "model_id": "fbcd0c7fe27f4fabb88aa5f16fcb7291",
       "version_major": 2,
       "version_minor": 0
      },
      "text/plain": [
       "bGbhOSwGH4Q_210.0_360.0.mp4:   0%|          | 0.00/11.0M [00:00<?, ?B/s]"
      ]
     },
     "metadata": {},
     "output_type": "display_data"
    },
    {
     "data": {
      "application/vnd.jupyter.widget-view+json": {
       "model_id": "548571064a34445ab18eb6670c28f05c",
       "version_major": 2,
       "version_minor": 0
      },
      "text/plain": [
       "rS2FoPDXw9M_60.0_210.0.mp4:   0%|          | 0.00/11.0M [00:00<?, ?B/s]"
      ]
     },
     "metadata": {},
     "output_type": "display_data"
    },
    {
     "data": {
      "application/vnd.jupyter.widget-view+json": {
       "model_id": "eed468e24d884078856adc918c0e8717",
       "version_major": 2,
       "version_minor": 0
      },
      "text/plain": [
       "LqBCEuYezJA_210.0_360.0.mp4:   0%|          | 0.00/15.1M [00:00<?, ?B/s]"
      ]
     },
     "metadata": {},
     "output_type": "display_data"
    },
    {
     "data": {
      "application/vnd.jupyter.widget-view+json": {
       "model_id": "ea90208bff8142bc9b7fce4606f806b0",
       "version_major": 2,
       "version_minor": 0
      },
      "text/plain": [
       "I6ER9C4NfZg_360.0_510.0.mp4:   0%|          | 0.00/11.4M [00:00<?, ?B/s]"
      ]
     },
     "metadata": {},
     "output_type": "display_data"
    },
    {
     "data": {
      "application/vnd.jupyter.widget-view+json": {
       "model_id": "0f688aa7d7074fd0abcd528af39ec414",
       "version_major": 2,
       "version_minor": 0
      },
      "text/plain": [
       "mzmRqz7bDYs_210.0_360.0.mp4:   0%|          | 0.00/14.2M [00:00<?, ?B/s]"
      ]
     },
     "metadata": {},
     "output_type": "display_data"
    },
    {
     "data": {
      "application/vnd.jupyter.widget-view+json": {
       "model_id": "2e43d01bee184bf59ce9e2a9bf00e7ab",
       "version_major": 2,
       "version_minor": 0
      },
      "text/plain": [
       "ZZmu51sAC6Q_510.0_660.0.mp4:   0%|          | 0.00/15.8M [00:00<?, ?B/s]"
      ]
     },
     "metadata": {},
     "output_type": "display_data"
    },
    {
     "data": {
      "application/vnd.jupyter.widget-view+json": {
       "model_id": "967cf6b021ec4fdfb6c30ef11cbb7772",
       "version_major": 2,
       "version_minor": 0
      },
      "text/plain": [
       "LofBVk6RN44_660.0_810.0.mp4:   0%|          | 0.00/10.9M [00:00<?, ?B/s]"
      ]
     },
     "metadata": {},
     "output_type": "display_data"
    },
    {
     "data": {
      "application/vnd.jupyter.widget-view+json": {
       "model_id": "a394d507568f4c04b1991dda49c3b5c6",
       "version_major": 2,
       "version_minor": 0
      },
      "text/plain": [
       "5-pHuu3MHPU_210.0_360.0.mp4:   0%|          | 0.00/12.4M [00:00<?, ?B/s]"
      ]
     },
     "metadata": {},
     "output_type": "display_data"
    },
    {
     "data": {
      "application/vnd.jupyter.widget-view+json": {
       "model_id": "ce87e26974ba4dc885f9acf2ca2f4bda",
       "version_major": 2,
       "version_minor": 0
      },
      "text/plain": [
       "4-zKU9KNBfo_660.0_810.0.mp4:   0%|          | 0.00/23.2M [00:00<?, ?B/s]"
      ]
     },
     "metadata": {},
     "output_type": "display_data"
    },
    {
     "data": {
      "application/vnd.jupyter.widget-view+json": {
       "model_id": "7da910d174b34e249860de7f2e1c8408",
       "version_major": 2,
       "version_minor": 0
      },
      "text/plain": [
       "babaYreu8vk_60.0_210.0.mp4:   0%|          | 0.00/11.7M [00:00<?, ?B/s]"
      ]
     },
     "metadata": {},
     "output_type": "display_data"
    },
    {
     "data": {
      "application/vnd.jupyter.widget-view+json": {
       "model_id": "47c4ad00cd74419f921bc54904b7f5f1",
       "version_major": 2,
       "version_minor": 0
      },
      "text/plain": [
       "mMuSsG3OHWk_60.0_210.0.mp4:   0%|          | 0.00/16.3M [00:00<?, ?B/s]"
      ]
     },
     "metadata": {},
     "output_type": "display_data"
    },
    {
     "data": {
      "application/vnd.jupyter.widget-view+json": {
       "model_id": "2b70b2b9301943a0a329e94ee0b504cb",
       "version_major": 2,
       "version_minor": 0
      },
      "text/plain": [
       "Ovwki2mGOS8_60.0_210.0.mp4:   0%|          | 0.00/11.2M [00:00<?, ?B/s]"
      ]
     },
     "metadata": {},
     "output_type": "display_data"
    },
    {
     "data": {
      "application/vnd.jupyter.widget-view+json": {
       "model_id": "3deab0d6879f4d7e9032dd870960ad35",
       "version_major": 2,
       "version_minor": 0
      },
      "text/plain": [
       "MjcV4O9bFSU_60.0_210.0.mp4:   0%|          | 0.00/10.6M [00:00<?, ?B/s]"
      ]
     },
     "metadata": {},
     "output_type": "display_data"
    },
    {
     "data": {
      "application/vnd.jupyter.widget-view+json": {
       "model_id": "e4404be5bf574bde895fd6099c7a1f7c",
       "version_major": 2,
       "version_minor": 0
      },
      "text/plain": [
       "r7LNg3xsGSo_360.0_510.0.mp4:   0%|          | 0.00/10.2M [00:00<?, ?B/s]"
      ]
     },
     "metadata": {},
     "output_type": "display_data"
    },
    {
     "data": {
      "application/vnd.jupyter.widget-view+json": {
       "model_id": "ab0bb696ea144ddca66cf43f86258731",
       "version_major": 2,
       "version_minor": 0
      },
      "text/plain": [
       "vJ8c3TZLuMA_60.0_210.0.mp4:   0%|          | 0.00/9.33M [00:00<?, ?B/s]"
      ]
     },
     "metadata": {},
     "output_type": "display_data"
    },
    {
     "data": {
      "application/vnd.jupyter.widget-view+json": {
       "model_id": "bedc5f49ec6c4536be619564c586efac",
       "version_major": 2,
       "version_minor": 0
      },
      "text/plain": [
       "wVxeBVqVfOc_510.0_660.0.mp4:   0%|          | 0.00/12.0M [00:00<?, ?B/s]"
      ]
     },
     "metadata": {},
     "output_type": "display_data"
    },
    {
     "data": {
      "application/vnd.jupyter.widget-view+json": {
       "model_id": "4ed9051d5b7a4a87bd6108418d348780",
       "version_major": 2,
       "version_minor": 0
      },
      "text/plain": [
       "2hzRhdHbdq4_360.0_510.0.mp4:   0%|          | 0.00/9.21M [00:00<?, ?B/s]"
      ]
     },
     "metadata": {},
     "output_type": "display_data"
    },
    {
     "data": {
      "application/vnd.jupyter.widget-view+json": {
       "model_id": "910d484c1a83479fb8c5c577d73dfbb9",
       "version_major": 2,
       "version_minor": 0
      },
      "text/plain": [
       "8Z3rHMCAEtc_60.0_210.0.mp4:   0%|          | 0.00/10.7M [00:00<?, ?B/s]"
      ]
     },
     "metadata": {},
     "output_type": "display_data"
    },
    {
     "data": {
      "application/vnd.jupyter.widget-view+json": {
       "model_id": "75971a172757410db2d4437a7bca88a3",
       "version_major": 2,
       "version_minor": 0
      },
      "text/plain": [
       "9k1OPiHHBbQ_60.0_210.0.mp4:   0%|          | 0.00/10.9M [00:00<?, ?B/s]"
      ]
     },
     "metadata": {},
     "output_type": "display_data"
    },
    {
     "data": {
      "application/vnd.jupyter.widget-view+json": {
       "model_id": "e51d0a083d434d97bc519a156e775eab",
       "version_major": 2,
       "version_minor": 0
      },
      "text/plain": [
       "Aaxsppoexjg_60.0_210.0.mp4:   0%|          | 0.00/10.1M [00:00<?, ?B/s]"
      ]
     },
     "metadata": {},
     "output_type": "display_data"
    },
    {
     "data": {
      "application/vnd.jupyter.widget-view+json": {
       "model_id": "3b23de56a61b46e7b2afb3a5ddf0e121",
       "version_major": 2,
       "version_minor": 0
      },
      "text/plain": [
       "MmAxijtCYJg_210.0_360.0.mp4:   0%|          | 0.00/9.08M [00:00<?, ?B/s]"
      ]
     },
     "metadata": {},
     "output_type": "display_data"
    },
    {
     "data": {
      "application/vnd.jupyter.widget-view+json": {
       "model_id": "e19154fe51de474db98171a1af84535f",
       "version_major": 2,
       "version_minor": 0
      },
      "text/plain": [
       "sHrR6P792Ls_360.0_510.0.mp4:   0%|          | 0.00/13.2M [00:00<?, ?B/s]"
      ]
     },
     "metadata": {},
     "output_type": "display_data"
    },
    {
     "data": {
      "application/vnd.jupyter.widget-view+json": {
       "model_id": "59ecc70c5d9943e68eb52feeea8b951e",
       "version_major": 2,
       "version_minor": 0
      },
      "text/plain": [
       "_r9H5ZM2SjY_60.0_210.0.mp4:   0%|          | 0.00/19.3M [00:00<?, ?B/s]"
      ]
     },
     "metadata": {},
     "output_type": "display_data"
    },
    {
     "data": {
      "application/vnd.jupyter.widget-view+json": {
       "model_id": "17bc8fa85e4a407e82a768716184184a",
       "version_major": 2,
       "version_minor": 0
      },
      "text/plain": [
       "rqoyJefmnCo_60.0_210.0.mp4:   0%|          | 0.00/13.0M [00:00<?, ?B/s]"
      ]
     },
     "metadata": {},
     "output_type": "display_data"
    },
    {
     "data": {
      "application/vnd.jupyter.widget-view+json": {
       "model_id": "6ed87fd50d0f400fa0fba531f864333e",
       "version_major": 2,
       "version_minor": 0
      },
      "text/plain": [
       "fPQtiKMMKrE_360.0_510.0.mp4:   0%|          | 0.00/5.60M [00:00<?, ?B/s]"
      ]
     },
     "metadata": {},
     "output_type": "display_data"
    },
    {
     "data": {
      "application/vnd.jupyter.widget-view+json": {
       "model_id": "950c8be3581145c880e0b92dcf4e86f3",
       "version_major": 2,
       "version_minor": 0
      },
      "text/plain": [
       "AumoeRSj8xs_60.0_210.0.mp4:   0%|          | 0.00/10.9M [00:00<?, ?B/s]"
      ]
     },
     "metadata": {},
     "output_type": "display_data"
    },
    {
     "data": {
      "application/vnd.jupyter.widget-view+json": {
       "model_id": "6f2e3ff0abc84692980311ec450a8fe4",
       "version_major": 2,
       "version_minor": 0
      },
      "text/plain": [
       "O5kp3Q87cyw_60.0_210.0.mp4:   0%|          | 0.00/12.0M [00:00<?, ?B/s]"
      ]
     },
     "metadata": {},
     "output_type": "display_data"
    },
    {
     "data": {
      "application/vnd.jupyter.widget-view+json": {
       "model_id": "d927368ab64240eb9f9b3ad4739a58c2",
       "version_major": 2,
       "version_minor": 0
      },
      "text/plain": [
       "5WctJg-8Tdo_60.0_210.0.mp4:   0%|          | 0.00/13.7M [00:00<?, ?B/s]"
      ]
     },
     "metadata": {},
     "output_type": "display_data"
    },
    {
     "data": {
      "application/vnd.jupyter.widget-view+json": {
       "model_id": "ce60c19db67c465a8b722234d60d275b",
       "version_major": 2,
       "version_minor": 0
      },
      "text/plain": [
       "8ySfrR3YQHM_360.0_510.0.mp4:   0%|          | 0.00/10.8M [00:00<?, ?B/s]"
      ]
     },
     "metadata": {},
     "output_type": "display_data"
    },
    {
     "data": {
      "application/vnd.jupyter.widget-view+json": {
       "model_id": "0feff7e391854ee5bd90ff679c8151bf",
       "version_major": 2,
       "version_minor": 0
      },
      "text/plain": [
       "s9ZQ6VuoN1c_360.0_510.0.mp4:   0%|          | 0.00/7.78M [00:00<?, ?B/s]"
      ]
     },
     "metadata": {},
     "output_type": "display_data"
    },
    {
     "data": {
      "application/vnd.jupyter.widget-view+json": {
       "model_id": "2b4f6201f38c492e876b2236bffd8d9e",
       "version_major": 2,
       "version_minor": 0
      },
      "text/plain": [
       "uCtYw48bq6M_60.0_210.0.mp4:   0%|          | 0.00/15.6M [00:00<?, ?B/s]"
      ]
     },
     "metadata": {},
     "output_type": "display_data"
    },
    {
     "data": {
      "application/vnd.jupyter.widget-view+json": {
       "model_id": "3e8404642d8f442a9d23aa764e188f60",
       "version_major": 2,
       "version_minor": 0
      },
      "text/plain": [
       "ymriLGKllJo_60.0_210.0.mp4:   0%|          | 0.00/10.6M [00:00<?, ?B/s]"
      ]
     },
     "metadata": {},
     "output_type": "display_data"
    },
    {
     "data": {
      "application/vnd.jupyter.widget-view+json": {
       "model_id": "b10b6961973e40faadb82560fd43dede",
       "version_major": 2,
       "version_minor": 0
      },
      "text/plain": [
       "iBAzSRPdXWQ_360.0_510.0.mp4:   0%|          | 0.00/20.0M [00:00<?, ?B/s]"
      ]
     },
     "metadata": {},
     "output_type": "display_data"
    },
    {
     "data": {
      "application/vnd.jupyter.widget-view+json": {
       "model_id": "e1afbea4d34548eb82f670acba8e5224",
       "version_major": 2,
       "version_minor": 0
      },
      "text/plain": [
       "BLVL41u0aR4_210.0_360.0.mp4:   0%|          | 0.00/17.9M [00:00<?, ?B/s]"
      ]
     },
     "metadata": {},
     "output_type": "display_data"
    },
    {
     "data": {
      "application/vnd.jupyter.widget-view+json": {
       "model_id": "41bf8e83b6c24f7cbedb56d8b5da899d",
       "version_major": 2,
       "version_minor": 0
      },
      "text/plain": [
       "FyIb82iLqQA_60.0_210.0.mp4:   0%|          | 0.00/7.50M [00:00<?, ?B/s]"
      ]
     },
     "metadata": {},
     "output_type": "display_data"
    },
    {
     "data": {
      "application/vnd.jupyter.widget-view+json": {
       "model_id": "2da800754cc74849a95b66567c3e9bef",
       "version_major": 2,
       "version_minor": 0
      },
      "text/plain": [
       "ytVneQUA5-c_510.0_660.0.mp4:   0%|          | 0.00/3.85M [00:00<?, ?B/s]"
      ]
     },
     "metadata": {},
     "output_type": "display_data"
    },
    {
     "data": {
      "application/vnd.jupyter.widget-view+json": {
       "model_id": "7258ba13faf144b49bf3ee312de9cd3c",
       "version_major": 2,
       "version_minor": 0
      },
      "text/plain": [
       "NmFaqrQWBKk_360.0_510.0.mp4:   0%|          | 0.00/9.23M [00:00<?, ?B/s]"
      ]
     },
     "metadata": {},
     "output_type": "display_data"
    },
    {
     "data": {
      "application/vnd.jupyter.widget-view+json": {
       "model_id": "2672116b7e284ac6a1f6ed0b1e105f8f",
       "version_major": 2,
       "version_minor": 0
      },
      "text/plain": [
       "lp5zc5ROtzE_210.0_360.0.mp4:   0%|          | 0.00/9.50M [00:00<?, ?B/s]"
      ]
     },
     "metadata": {},
     "output_type": "display_data"
    },
    {
     "data": {
      "application/vnd.jupyter.widget-view+json": {
       "model_id": "355b3fe821294286af1263af6d46327b",
       "version_major": 2,
       "version_minor": 0
      },
      "text/plain": [
       "LRLAgQZIe6w_60.0_210.0.mp4:   0%|          | 0.00/11.9M [00:00<?, ?B/s]"
      ]
     },
     "metadata": {},
     "output_type": "display_data"
    },
    {
     "data": {
      "application/vnd.jupyter.widget-view+json": {
       "model_id": "4575b6a794634926be2e31098e9d5943",
       "version_major": 2,
       "version_minor": 0
      },
      "text/plain": [
       "ocUC_KlLFb4_60.0_210.0.mp4:   0%|          | 0.00/12.4M [00:00<?, ?B/s]"
      ]
     },
     "metadata": {},
     "output_type": "display_data"
    },
    {
     "data": {
      "application/vnd.jupyter.widget-view+json": {
       "model_id": "50b3f298da6f4a25b2dbd243b8110183",
       "version_major": 2,
       "version_minor": 0
      },
      "text/plain": [
       "IzouSaF80Bw_210.0_360.0.mp4:   0%|          | 0.00/14.4M [00:00<?, ?B/s]"
      ]
     },
     "metadata": {},
     "output_type": "display_data"
    },
    {
     "data": {
      "application/vnd.jupyter.widget-view+json": {
       "model_id": "04011d2b16b0491fa167c690f756b852",
       "version_major": 2,
       "version_minor": 0
      },
      "text/plain": [
       "Q5WFnZfJOfI_60.0_210.0.mp4:   0%|          | 0.00/10.6M [00:00<?, ?B/s]"
      ]
     },
     "metadata": {},
     "output_type": "display_data"
    },
    {
     "data": {
      "application/vnd.jupyter.widget-view+json": {
       "model_id": "f415224f028d44bfb0f9f95788bea6cf",
       "version_major": 2,
       "version_minor": 0
      },
      "text/plain": [
       "o1mwYCzwt4s_60.0_210.0.mp4:   0%|          | 0.00/20.4M [00:00<?, ?B/s]"
      ]
     },
     "metadata": {},
     "output_type": "display_data"
    },
    {
     "data": {
      "application/vnd.jupyter.widget-view+json": {
       "model_id": "f95b8166d50e4063b07e1efc951feb97",
       "version_major": 2,
       "version_minor": 0
      },
      "text/plain": [
       "yRyDYz33EU0_60.0_210.0.mp4:   0%|          | 0.00/12.5M [00:00<?, ?B/s]"
      ]
     },
     "metadata": {},
     "output_type": "display_data"
    },
    {
     "data": {
      "application/vnd.jupyter.widget-view+json": {
       "model_id": "baa0647c94b449c0a98951a93de453ab",
       "version_major": 2,
       "version_minor": 0
      },
      "text/plain": [
       "q7tastD4eYA_60.0_210.0.mp4:   0%|          | 0.00/5.97M [00:00<?, ?B/s]"
      ]
     },
     "metadata": {},
     "output_type": "display_data"
    },
    {
     "data": {
      "application/vnd.jupyter.widget-view+json": {
       "model_id": "02eafa989a414180a54bab0ecfd6c2aa",
       "version_major": 2,
       "version_minor": 0
      },
      "text/plain": [
       "WmId2ZP3h0c_360.0_510.0.mp4:   0%|          | 0.00/7.36M [00:00<?, ?B/s]"
      ]
     },
     "metadata": {},
     "output_type": "display_data"
    },
    {
     "data": {
      "application/vnd.jupyter.widget-view+json": {
       "model_id": "74d4856e194a41d9b3ab22bc7aedb8ed",
       "version_major": 2,
       "version_minor": 0
      },
      "text/plain": [
       "wXVPmgSAJ4U_60.0_210.0.mp4:   0%|          | 0.00/9.92M [00:00<?, ?B/s]"
      ]
     },
     "metadata": {},
     "output_type": "display_data"
    },
    {
     "data": {
      "application/vnd.jupyter.widget-view+json": {
       "model_id": "b5fdfeb562a143698a43f1e1f4ceb8cc",
       "version_major": 2,
       "version_minor": 0
      },
      "text/plain": [
       "1crgYZDNnQc_60.0_210.0.mp4:   0%|          | 0.00/8.69M [00:00<?, ?B/s]"
      ]
     },
     "metadata": {},
     "output_type": "display_data"
    },
    {
     "data": {
      "application/vnd.jupyter.widget-view+json": {
       "model_id": "b4171e3b98824eeab3ee0f9f5206aef2",
       "version_major": 2,
       "version_minor": 0
      },
      "text/plain": [
       "O5HEPxzKCZI_510.0_660.0.mp4:   0%|          | 0.00/12.4M [00:00<?, ?B/s]"
      ]
     },
     "metadata": {},
     "output_type": "display_data"
    },
    {
     "data": {
      "application/vnd.jupyter.widget-view+json": {
       "model_id": "97a86092ce594da3a9920c4b3bc3bd4c",
       "version_major": 2,
       "version_minor": 0
      },
      "text/plain": [
       "qGH8jL8YLGA_210.0_360.0.mp4:   0%|          | 0.00/8.68M [00:00<?, ?B/s]"
      ]
     },
     "metadata": {},
     "output_type": "display_data"
    },
    {
     "data": {
      "application/vnd.jupyter.widget-view+json": {
       "model_id": "b3af256f5ff4485994022c091df3827a",
       "version_major": 2,
       "version_minor": 0
      },
      "text/plain": [
       "Nax7FwI-YgM_60.0_210.0.mp4:   0%|          | 0.00/11.3M [00:00<?, ?B/s]"
      ]
     },
     "metadata": {},
     "output_type": "display_data"
    },
    {
     "data": {
      "application/vnd.jupyter.widget-view+json": {
       "model_id": "ee61076972f1478b88e7926430a602f7",
       "version_major": 2,
       "version_minor": 0
      },
      "text/plain": [
       "1M5a5jCB9eA_660.0_810.0.mp4:   0%|          | 0.00/9.74M [00:00<?, ?B/s]"
      ]
     },
     "metadata": {},
     "output_type": "display_data"
    },
    {
     "data": {
      "application/vnd.jupyter.widget-view+json": {
       "model_id": "0bbda0946bfe4d84bac19011b4b8cd2d",
       "version_major": 2,
       "version_minor": 0
      },
      "text/plain": [
       "5rAW0Z_iGPE_210.0_360.0.mp4:   0%|          | 0.00/9.35M [00:00<?, ?B/s]"
      ]
     },
     "metadata": {},
     "output_type": "display_data"
    },
    {
     "data": {
      "application/vnd.jupyter.widget-view+json": {
       "model_id": "fd2985eb9cd744468b079bc5957faeee",
       "version_major": 2,
       "version_minor": 0
      },
      "text/plain": [
       "zdT66QkmN-U_210.0_360.0.mp4:   0%|          | 0.00/15.3M [00:00<?, ?B/s]"
      ]
     },
     "metadata": {},
     "output_type": "display_data"
    },
    {
     "data": {
      "application/vnd.jupyter.widget-view+json": {
       "model_id": "151525705a714d01aa57f7defcfbff95",
       "version_major": 2,
       "version_minor": 0
      },
      "text/plain": [
       "pRxfkmhDH5Y_210.0_360.0.mp4:   0%|          | 0.00/13.2M [00:00<?, ?B/s]"
      ]
     },
     "metadata": {},
     "output_type": "display_data"
    },
    {
     "data": {
      "application/vnd.jupyter.widget-view+json": {
       "model_id": "8911af4fe2c44525907938f7778e75c2",
       "version_major": 2,
       "version_minor": 0
      },
      "text/plain": [
       "l_s0sBhMprU_660.0_810.0.mp4:   0%|          | 0.00/8.58M [00:00<?, ?B/s]"
      ]
     },
     "metadata": {},
     "output_type": "display_data"
    },
    {
     "data": {
      "application/vnd.jupyter.widget-view+json": {
       "model_id": "fff429e73135479aa70a345840e68183",
       "version_major": 2,
       "version_minor": 0
      },
      "text/plain": [
       "nB6XQUot9xg_210.0_360.0.mp4:   0%|          | 0.00/7.69M [00:00<?, ?B/s]"
      ]
     },
     "metadata": {},
     "output_type": "display_data"
    },
    {
     "data": {
      "application/vnd.jupyter.widget-view+json": {
       "model_id": "6371e4ce87b34a598768e57abbf8a3ff",
       "version_major": 2,
       "version_minor": 0
      },
      "text/plain": [
       "tGry0kxuZjc_360.0_510.0.mp4:   0%|          | 0.00/9.77M [00:00<?, ?B/s]"
      ]
     },
     "metadata": {},
     "output_type": "display_data"
    },
    {
     "data": {
      "application/vnd.jupyter.widget-view+json": {
       "model_id": "5093df4f9a5a4ae9979325b36bfbe91f",
       "version_major": 2,
       "version_minor": 0
      },
      "text/plain": [
       "xGBcGnhs0WA_360.0_510.0.mp4:   0%|          | 0.00/12.2M [00:00<?, ?B/s]"
      ]
     },
     "metadata": {},
     "output_type": "display_data"
    },
    {
     "data": {
      "application/vnd.jupyter.widget-view+json": {
       "model_id": "16ce2969e93444dfaedf678cc1f1580c",
       "version_major": 2,
       "version_minor": 0
      },
      "text/plain": [
       "D4UhaUFmIVs_360.0_510.0.mp4:   0%|          | 0.00/13.0M [00:00<?, ?B/s]"
      ]
     },
     "metadata": {},
     "output_type": "display_data"
    },
    {
     "data": {
      "application/vnd.jupyter.widget-view+json": {
       "model_id": "d556bdf66f8f44799554441e7e654191",
       "version_major": 2,
       "version_minor": 0
      },
      "text/plain": [
       "u7B3CAFvKPc_360.0_510.0.mp4:   0%|          | 0.00/15.0M [00:00<?, ?B/s]"
      ]
     },
     "metadata": {},
     "output_type": "display_data"
    },
    {
     "data": {
      "application/vnd.jupyter.widget-view+json": {
       "model_id": "16112cda0cc8406087f8c5307ca63793",
       "version_major": 2,
       "version_minor": 0
      },
      "text/plain": [
       "k7YgCeqaaWA_60.0_210.0.mp4:   0%|          | 0.00/16.0M [00:00<?, ?B/s]"
      ]
     },
     "metadata": {},
     "output_type": "display_data"
    },
    {
     "data": {
      "application/vnd.jupyter.widget-view+json": {
       "model_id": "3f0cba2229174516a78cb8ef5fa69aaf",
       "version_major": 2,
       "version_minor": 0
      },
      "text/plain": [
       "QBDRPhjJpXM_210.0_360.0.mp4:   0%|          | 0.00/7.60M [00:00<?, ?B/s]"
      ]
     },
     "metadata": {},
     "output_type": "display_data"
    },
    {
     "data": {
      "application/vnd.jupyter.widget-view+json": {
       "model_id": "690ca6b8b5df499d9d769e4e91835ef8",
       "version_major": 2,
       "version_minor": 0
      },
      "text/plain": [
       "k3POiliC7fk_360.0_510.0.mp4:   0%|          | 0.00/7.57M [00:00<?, ?B/s]"
      ]
     },
     "metadata": {},
     "output_type": "display_data"
    },
    {
     "data": {
      "application/vnd.jupyter.widget-view+json": {
       "model_id": "4062fa5c6f64465dbf55e34cd2b571ed",
       "version_major": 2,
       "version_minor": 0
      },
      "text/plain": [
       "C32ByVXgjyQ_360.0_510.0.mp4:   0%|          | 0.00/14.2M [00:00<?, ?B/s]"
      ]
     },
     "metadata": {},
     "output_type": "display_data"
    },
    {
     "data": {
      "application/vnd.jupyter.widget-view+json": {
       "model_id": "120a30258aab4613aef80f244fd86a75",
       "version_major": 2,
       "version_minor": 0
      },
      "text/plain": [
       "uULi2kyBJak_210.0_360.0.mp4:   0%|          | 0.00/8.23M [00:00<?, ?B/s]"
      ]
     },
     "metadata": {},
     "output_type": "display_data"
    },
    {
     "data": {
      "application/vnd.jupyter.widget-view+json": {
       "model_id": "10f0b22868284f1c8f70adf085df46e7",
       "version_major": 2,
       "version_minor": 0
      },
      "text/plain": [
       "PB_6y2IhQs0_210.0_360.0.mp4:   0%|          | 0.00/12.5M [00:00<?, ?B/s]"
      ]
     },
     "metadata": {},
     "output_type": "display_data"
    },
    {
     "data": {
      "application/vnd.jupyter.widget-view+json": {
       "model_id": "b842e28a5ab8486ca3371f76a65f3abd",
       "version_major": 2,
       "version_minor": 0
      },
      "text/plain": [
       "4cYef9-OSao_210.0_360.0.mp4:   0%|          | 0.00/11.3M [00:00<?, ?B/s]"
      ]
     },
     "metadata": {},
     "output_type": "display_data"
    },
    {
     "data": {
      "application/vnd.jupyter.widget-view+json": {
       "model_id": "da449bbbf5bf4e7b9dfee44986fd1788",
       "version_major": 2,
       "version_minor": 0
      },
      "text/plain": [
       "NRjvpWJxuaw_60.0_210.0.mp4:   0%|          | 0.00/12.0M [00:00<?, ?B/s]"
      ]
     },
     "metadata": {},
     "output_type": "display_data"
    },
    {
     "data": {
      "application/vnd.jupyter.widget-view+json": {
       "model_id": "606a388df6944a2883cd3a1e7dbcc72f",
       "version_major": 2,
       "version_minor": 0
      },
      "text/plain": [
       "wtJkHhTLbxs_210.0_360.0.mp4:   0%|          | 0.00/13.3M [00:00<?, ?B/s]"
      ]
     },
     "metadata": {},
     "output_type": "display_data"
    },
    {
     "data": {
      "application/vnd.jupyter.widget-view+json": {
       "model_id": "f119cb858db0406383da734d0e6ac9fe",
       "version_major": 2,
       "version_minor": 0
      },
      "text/plain": [
       "5-pHuu3MHPU_360.0_510.0.mp4:   0%|          | 0.00/17.4M [00:00<?, ?B/s]"
      ]
     },
     "metadata": {},
     "output_type": "display_data"
    },
    {
     "data": {
      "application/vnd.jupyter.widget-view+json": {
       "model_id": "e371de7e4efe4c22b9eb586b62e14167",
       "version_major": 2,
       "version_minor": 0
      },
      "text/plain": [
       "56_yDXk2nIk_60.0_210.0.mp4:   0%|          | 0.00/13.1M [00:00<?, ?B/s]"
      ]
     },
     "metadata": {},
     "output_type": "display_data"
    },
    {
     "data": {
      "application/vnd.jupyter.widget-view+json": {
       "model_id": "65fb37515b524e808c9ddce4a7de2d01",
       "version_major": 2,
       "version_minor": 0
      },
      "text/plain": [
       "vz-5_peNhzo_210.0_360.0.mp4:   0%|          | 0.00/5.13M [00:00<?, ?B/s]"
      ]
     },
     "metadata": {},
     "output_type": "display_data"
    },
    {
     "data": {
      "application/vnd.jupyter.widget-view+json": {
       "model_id": "c76eb226f5a5433f9246b1eb49491c7e",
       "version_major": 2,
       "version_minor": 0
      },
      "text/plain": [
       "QcoFRR_LAbw_360.0_510.0.mp4:   0%|          | 0.00/5.85M [00:00<?, ?B/s]"
      ]
     },
     "metadata": {},
     "output_type": "display_data"
    },
    {
     "data": {
      "application/vnd.jupyter.widget-view+json": {
       "model_id": "d7a739a31610426cb8f6ac654a75c81f",
       "version_major": 2,
       "version_minor": 0
      },
      "text/plain": [
       "qt_z-TPv8zQ_210.0_360.0.mp4:   0%|          | 0.00/12.5M [00:00<?, ?B/s]"
      ]
     },
     "metadata": {},
     "output_type": "display_data"
    },
    {
     "data": {
      "application/vnd.jupyter.widget-view+json": {
       "model_id": "e97878a0fcd14941b5e4d90c99018c09",
       "version_major": 2,
       "version_minor": 0
      },
      "text/plain": [
       "I9y_BopoDv8_210.0_360.0.mp4:   0%|          | 0.00/6.58M [00:00<?, ?B/s]"
      ]
     },
     "metadata": {},
     "output_type": "display_data"
    },
    {
     "data": {
      "application/vnd.jupyter.widget-view+json": {
       "model_id": "1a2bb081c19e460aa84704c45cf3d335",
       "version_major": 2,
       "version_minor": 0
      },
      "text/plain": [
       "gE-xnMu1YRk_60.0_210.0.mp4:   0%|          | 0.00/13.2M [00:00<?, ?B/s]"
      ]
     },
     "metadata": {},
     "output_type": "display_data"
    },
    {
     "data": {
      "application/vnd.jupyter.widget-view+json": {
       "model_id": "22373a054a8f4a45908976b84f961267",
       "version_major": 2,
       "version_minor": 0
      },
      "text/plain": [
       "m6U-5Hck5z0_60.0_210.0.mp4:   0%|          | 0.00/8.04M [00:00<?, ?B/s]"
      ]
     },
     "metadata": {},
     "output_type": "display_data"
    },
    {
     "data": {
      "application/vnd.jupyter.widget-view+json": {
       "model_id": "356f922b21864ad8b59bc4c1a249da3b",
       "version_major": 2,
       "version_minor": 0
      },
      "text/plain": [
       "ocUC_KlLFb4_660.0_810.0.mp4:   0%|          | 0.00/8.68M [00:00<?, ?B/s]"
      ]
     },
     "metadata": {},
     "output_type": "display_data"
    },
    {
     "data": {
      "application/vnd.jupyter.widget-view+json": {
       "model_id": "70c6f8defe734d958fe0272f016fc3aa",
       "version_major": 2,
       "version_minor": 0
      },
      "text/plain": [
       "FuDkiZkJQh0_60.0_210.0.mp4:   0%|          | 0.00/15.5M [00:00<?, ?B/s]"
      ]
     },
     "metadata": {},
     "output_type": "display_data"
    },
    {
     "data": {
      "application/vnd.jupyter.widget-view+json": {
       "model_id": "c959589f93b64d389d0b19ce0936dd4b",
       "version_major": 2,
       "version_minor": 0
      },
      "text/plain": [
       "bB2ms7YWqdU_360.0_510.0.mp4:   0%|          | 0.00/5.13M [00:00<?, ?B/s]"
      ]
     },
     "metadata": {},
     "output_type": "display_data"
    },
    {
     "data": {
      "application/vnd.jupyter.widget-view+json": {
       "model_id": "5ba3c21639f244ef86c5c47aa900e548",
       "version_major": 2,
       "version_minor": 0
      },
      "text/plain": [
       "Z6_jjxZDGV0_660.0_810.0.mp4:   0%|          | 0.00/8.44M [00:00<?, ?B/s]"
      ]
     },
     "metadata": {},
     "output_type": "display_data"
    },
    {
     "data": {
      "application/vnd.jupyter.widget-view+json": {
       "model_id": "08091336b7ee42cc8efccd6909c48e6e",
       "version_major": 2,
       "version_minor": 0
      },
      "text/plain": [
       "mXLeBs0fGa4_60.0_210.0.mp4:   0%|          | 0.00/6.42M [00:00<?, ?B/s]"
      ]
     },
     "metadata": {},
     "output_type": "display_data"
    },
    {
     "data": {
      "application/vnd.jupyter.widget-view+json": {
       "model_id": "2b568d91ae1f4cb0b5d90fbb5c39be15",
       "version_major": 2,
       "version_minor": 0
      },
      "text/plain": [
       "62DoGcXSsN8_60.0_210.0.mp4:   0%|          | 0.00/15.8M [00:00<?, ?B/s]"
      ]
     },
     "metadata": {},
     "output_type": "display_data"
    },
    {
     "data": {
      "application/vnd.jupyter.widget-view+json": {
       "model_id": "a4cefe637f5846409a1f30dc60496dd7",
       "version_major": 2,
       "version_minor": 0
      },
      "text/plain": [
       "lenANJWeH-s_210.0_360.0.mp4:   0%|          | 0.00/6.74M [00:00<?, ?B/s]"
      ]
     },
     "metadata": {},
     "output_type": "display_data"
    },
    {
     "data": {
      "application/vnd.jupyter.widget-view+json": {
       "model_id": "9787c079484747788914c32ac31402b2",
       "version_major": 2,
       "version_minor": 0
      },
      "text/plain": [
       "52M2BAuPhaA_60.0_210.0.mp4:   0%|          | 0.00/10.2M [00:00<?, ?B/s]"
      ]
     },
     "metadata": {},
     "output_type": "display_data"
    },
    {
     "data": {
      "application/vnd.jupyter.widget-view+json": {
       "model_id": "faaa68c8d26549ceb266c64f94cff4d4",
       "version_major": 2,
       "version_minor": 0
      },
      "text/plain": [
       "dYTK_dL68K0_360.0_510.0.mp4:   0%|          | 0.00/6.53M [00:00<?, ?B/s]"
      ]
     },
     "metadata": {},
     "output_type": "display_data"
    },
    {
     "data": {
      "application/vnd.jupyter.widget-view+json": {
       "model_id": "c8f04421d55e4763b4ab6756ee478067",
       "version_major": 2,
       "version_minor": 0
      },
      "text/plain": [
       "t93fXabXxGM_60.0_210.0.mp4:   0%|          | 0.00/6.51M [00:00<?, ?B/s]"
      ]
     },
     "metadata": {},
     "output_type": "display_data"
    },
    {
     "data": {
      "application/vnd.jupyter.widget-view+json": {
       "model_id": "0aa0d7c03ef24dcb94837c9a99af83c7",
       "version_major": 2,
       "version_minor": 0
      },
      "text/plain": [
       "3apbS5OBuaA_360.0_510.0.mp4:   0%|          | 0.00/9.29M [00:00<?, ?B/s]"
      ]
     },
     "metadata": {},
     "output_type": "display_data"
    },
    {
     "data": {
      "application/vnd.jupyter.widget-view+json": {
       "model_id": "de03211ed6104887a04246234e3a1375",
       "version_major": 2,
       "version_minor": 0
      },
      "text/plain": [
       "mcb_rWj0fYA_210.0_360.0.mp4:   0%|          | 0.00/14.2M [00:00<?, ?B/s]"
      ]
     },
     "metadata": {},
     "output_type": "display_data"
    },
    {
     "data": {
      "application/vnd.jupyter.widget-view+json": {
       "model_id": "3c1ef010c47747b4badd6f0ec00033e7",
       "version_major": 2,
       "version_minor": 0
      },
      "text/plain": [
       "WNF9jZCdyYs_210.0_360.0.mp4:   0%|          | 0.00/12.0M [00:00<?, ?B/s]"
      ]
     },
     "metadata": {},
     "output_type": "display_data"
    },
    {
     "data": {
      "application/vnd.jupyter.widget-view+json": {
       "model_id": "3a85fad5b2eb403687e8eb0c284e511f",
       "version_major": 2,
       "version_minor": 0
      },
      "text/plain": [
       "gxuDsPaHsA8_510.0_660.0.mp4:   0%|          | 0.00/11.8M [00:00<?, ?B/s]"
      ]
     },
     "metadata": {},
     "output_type": "display_data"
    },
    {
     "data": {
      "application/vnd.jupyter.widget-view+json": {
       "model_id": "7237fb3da950439db83b239b43fcdc5b",
       "version_major": 2,
       "version_minor": 0
      },
      "text/plain": [
       "tdKoQ642cEU_210.0_360.0.mp4:   0%|          | 0.00/17.7M [00:00<?, ?B/s]"
      ]
     },
     "metadata": {},
     "output_type": "display_data"
    },
    {
     "data": {
      "application/vnd.jupyter.widget-view+json": {
       "model_id": "9714c6db6cf44adda57f4fa9f6009a08",
       "version_major": 2,
       "version_minor": 0
      },
      "text/plain": [
       "jxkAf0Irmds_660.0_810.0.mp4:   0%|          | 0.00/10.3M [00:00<?, ?B/s]"
      ]
     },
     "metadata": {},
     "output_type": "display_data"
    },
    {
     "data": {
      "application/vnd.jupyter.widget-view+json": {
       "model_id": "f7a956c77b3243b4b09dfe58de1b4d02",
       "version_major": 2,
       "version_minor": 0
      },
      "text/plain": [
       "nkpR9SG7Ezo_510.0_660.0.mp4:   0%|          | 0.00/18.3M [00:00<?, ?B/s]"
      ]
     },
     "metadata": {},
     "output_type": "display_data"
    },
    {
     "data": {
      "application/vnd.jupyter.widget-view+json": {
       "model_id": "55b5accb97f342dfae65bc9d307918fe",
       "version_major": 2,
       "version_minor": 0
      },
      "text/plain": [
       "qT6BJ4RS1BM_60.0_210.0.mp4:   0%|          | 0.00/5.27M [00:00<?, ?B/s]"
      ]
     },
     "metadata": {},
     "output_type": "display_data"
    },
    {
     "data": {
      "application/vnd.jupyter.widget-view+json": {
       "model_id": "7c0de98fca1b40a0b9943fcebd880e30",
       "version_major": 2,
       "version_minor": 0
      },
      "text/plain": [
       "GcA_FwTZ-xo_210.0_360.0.mp4:   0%|          | 0.00/18.7M [00:00<?, ?B/s]"
      ]
     },
     "metadata": {},
     "output_type": "display_data"
    },
    {
     "data": {
      "application/vnd.jupyter.widget-view+json": {
       "model_id": "08528fc41ff84b058bd6a87f4cb75061",
       "version_major": 2,
       "version_minor": 0
      },
      "text/plain": [
       "0W0KL44OJbY_60.0_210.0.mp4:   0%|          | 0.00/13.7M [00:00<?, ?B/s]"
      ]
     },
     "metadata": {},
     "output_type": "display_data"
    },
    {
     "data": {
      "application/vnd.jupyter.widget-view+json": {
       "model_id": "a1e5e8121e8242b9b7de885f6f9c3812",
       "version_major": 2,
       "version_minor": 0
      },
      "text/plain": [
       "YlRIBEDg_pc_360.0_510.0.mp4:   0%|          | 0.00/15.1M [00:00<?, ?B/s]"
      ]
     },
     "metadata": {},
     "output_type": "display_data"
    },
    {
     "data": {
      "application/vnd.jupyter.widget-view+json": {
       "model_id": "145b0875e8674206a91d01a14c885330",
       "version_major": 2,
       "version_minor": 0
      },
      "text/plain": [
       "YKahVpkAk08_360.0_510.0.mp4:   0%|          | 0.00/14.6M [00:00<?, ?B/s]"
      ]
     },
     "metadata": {},
     "output_type": "display_data"
    },
    {
     "data": {
      "application/vnd.jupyter.widget-view+json": {
       "model_id": "a770cbc2d7904d92afbe465fadef4312",
       "version_major": 2,
       "version_minor": 0
      },
      "text/plain": [
       "20M7EKhhch8_360.0_510.0.mp4:   0%|          | 0.00/9.74M [00:00<?, ?B/s]"
      ]
     },
     "metadata": {},
     "output_type": "display_data"
    },
    {
     "data": {
      "application/vnd.jupyter.widget-view+json": {
       "model_id": "fb84cbc823c74294b8bc79edd461e11c",
       "version_major": 2,
       "version_minor": 0
      },
      "text/plain": [
       "koU-BbRAZWo_210.0_360.0.mp4:   0%|          | 0.00/15.9M [00:00<?, ?B/s]"
      ]
     },
     "metadata": {},
     "output_type": "display_data"
    },
    {
     "data": {
      "application/vnd.jupyter.widget-view+json": {
       "model_id": "e253700183224b03870c984dc5c3e02e",
       "version_major": 2,
       "version_minor": 0
      },
      "text/plain": [
       "3MeHztROCdA_60.0_210.0.mp4:   0%|          | 0.00/13.0M [00:00<?, ?B/s]"
      ]
     },
     "metadata": {},
     "output_type": "display_data"
    },
    {
     "data": {
      "application/vnd.jupyter.widget-view+json": {
       "model_id": "e3314468a3a54f318a4a688d6fc31c6c",
       "version_major": 2,
       "version_minor": 0
      },
      "text/plain": [
       "XSl5FMm2ZBQ_210.0_360.0.mp4:   0%|          | 0.00/13.3M [00:00<?, ?B/s]"
      ]
     },
     "metadata": {},
     "output_type": "display_data"
    },
    {
     "data": {
      "application/vnd.jupyter.widget-view+json": {
       "model_id": "35d0658bff374b0cb0fe7efc08472be2",
       "version_major": 2,
       "version_minor": 0
      },
      "text/plain": [
       "xc-aGzPXf1s_210.0_360.0.mp4:   0%|          | 0.00/13.1M [00:00<?, ?B/s]"
      ]
     },
     "metadata": {},
     "output_type": "display_data"
    },
    {
     "data": {
      "application/vnd.jupyter.widget-view+json": {
       "model_id": "743bf1ca6e194b50b0ab35825564ff32",
       "version_major": 2,
       "version_minor": 0
      },
      "text/plain": [
       "YeooRa2Rsks_360.0_510.0.mp4:   0%|          | 0.00/11.8M [00:00<?, ?B/s]"
      ]
     },
     "metadata": {},
     "output_type": "display_data"
    },
    {
     "data": {
      "application/vnd.jupyter.widget-view+json": {
       "model_id": "94417bab7a914abe84d36b94cc3a9a19",
       "version_major": 2,
       "version_minor": 0
      },
      "text/plain": [
       "Oyk4EfHY9v4_510.0_660.0.mp4:   0%|          | 0.00/10.6M [00:00<?, ?B/s]"
      ]
     },
     "metadata": {},
     "output_type": "display_data"
    },
    {
     "data": {
      "application/vnd.jupyter.widget-view+json": {
       "model_id": "84b2b3efba7348959b137e90f955fb0f",
       "version_major": 2,
       "version_minor": 0
      },
      "text/plain": [
       "zTjnQ0XlAc4_360.0_510.0.mp4:   0%|          | 0.00/9.30M [00:00<?, ?B/s]"
      ]
     },
     "metadata": {},
     "output_type": "display_data"
    },
    {
     "data": {
      "application/vnd.jupyter.widget-view+json": {
       "model_id": "c3b80f4cbb4f43f29e1f84f306ac6f85",
       "version_major": 2,
       "version_minor": 0
      },
      "text/plain": [
       "FEc6TEzRfD8_510.0_660.0.mp4:   0%|          | 0.00/8.73M [00:00<?, ?B/s]"
      ]
     },
     "metadata": {},
     "output_type": "display_data"
    },
    {
     "data": {
      "application/vnd.jupyter.widget-view+json": {
       "model_id": "38ad55d960604950b680b25fd60b2e71",
       "version_major": 2,
       "version_minor": 0
      },
      "text/plain": [
       "Je_j83Tfyhc_360.0_510.0.mp4:   0%|          | 0.00/14.3M [00:00<?, ?B/s]"
      ]
     },
     "metadata": {},
     "output_type": "display_data"
    },
    {
     "data": {
      "application/vnd.jupyter.widget-view+json": {
       "model_id": "d8133208ebe04b969f475983ed79265e",
       "version_major": 2,
       "version_minor": 0
      },
      "text/plain": [
       "URjCOrTPpyo_210.0_360.0.mp4:   0%|          | 0.00/9.69M [00:00<?, ?B/s]"
      ]
     },
     "metadata": {},
     "output_type": "display_data"
    },
    {
     "data": {
      "application/vnd.jupyter.widget-view+json": {
       "model_id": "4df8bd5841ac416ab83338483087fd06",
       "version_major": 2,
       "version_minor": 0
      },
      "text/plain": [
       "2YsfEVPbEg0_60.0_210.0.mp4:   0%|          | 0.00/11.4M [00:00<?, ?B/s]"
      ]
     },
     "metadata": {},
     "output_type": "display_data"
    },
    {
     "data": {
      "application/vnd.jupyter.widget-view+json": {
       "model_id": "31157710698d46f48d638dcc05622e6b",
       "version_major": 2,
       "version_minor": 0
      },
      "text/plain": [
       "Nn8KJ5CUDiw_60.0_210.0.mp4:   0%|          | 0.00/10.5M [00:00<?, ?B/s]"
      ]
     },
     "metadata": {},
     "output_type": "display_data"
    },
    {
     "data": {
      "application/vnd.jupyter.widget-view+json": {
       "model_id": "1d085a26b0b64e3ea437fd9a3492309c",
       "version_major": 2,
       "version_minor": 0
      },
      "text/plain": [
       "Pyd2w4XMvtk_60.0_210.0.mp4:   0%|          | 0.00/10.0M [00:00<?, ?B/s]"
      ]
     },
     "metadata": {},
     "output_type": "display_data"
    },
    {
     "data": {
      "application/vnd.jupyter.widget-view+json": {
       "model_id": "02de9cc288144ba7b16578d831aa3bd5",
       "version_major": 2,
       "version_minor": 0
      },
      "text/plain": [
       "Br9ycYEC9dk_60.0_210.0.mp4:   0%|          | 0.00/15.5M [00:00<?, ?B/s]"
      ]
     },
     "metadata": {},
     "output_type": "display_data"
    },
    {
     "data": {
      "application/vnd.jupyter.widget-view+json": {
       "model_id": "9e4a5318ea4944e09a73edaec05da561",
       "version_major": 2,
       "version_minor": 0
      },
      "text/plain": [
       "jxkAf0Irmds_510.0_660.0.mp4:   0%|          | 0.00/9.31M [00:00<?, ?B/s]"
      ]
     },
     "metadata": {},
     "output_type": "display_data"
    },
    {
     "data": {
      "application/vnd.jupyter.widget-view+json": {
       "model_id": "447c4ec57ebe4553a3efc300ffbe5100",
       "version_major": 2,
       "version_minor": 0
      },
      "text/plain": [
       "cM7mwVxGgXE_210.0_360.0.mp4:   0%|          | 0.00/17.3M [00:00<?, ?B/s]"
      ]
     },
     "metadata": {},
     "output_type": "display_data"
    },
    {
     "data": {
      "application/vnd.jupyter.widget-view+json": {
       "model_id": "b7b1b096bb9041a7868529d1f1f9ba8b",
       "version_major": 2,
       "version_minor": 0
      },
      "text/plain": [
       "hGxw0sudElA_360.0_510.0.mp4:   0%|          | 0.00/19.6M [00:00<?, ?B/s]"
      ]
     },
     "metadata": {},
     "output_type": "display_data"
    },
    {
     "data": {
      "application/vnd.jupyter.widget-view+json": {
       "model_id": "c39e285f5eaf425382b8b73d35a08202",
       "version_major": 2,
       "version_minor": 0
      },
      "text/plain": [
       "-IyAkOKxaXI_60.0_210.0.mp4:   0%|          | 0.00/8.60M [00:00<?, ?B/s]"
      ]
     },
     "metadata": {},
     "output_type": "display_data"
    },
    {
     "data": {
      "application/vnd.jupyter.widget-view+json": {
       "model_id": "841372e434a44419b8b90c03574bc189",
       "version_major": 2,
       "version_minor": 0
      },
      "text/plain": [
       "ISb8LzXs3Hw_360.0_510.0.mp4:   0%|          | 0.00/12.1M [00:00<?, ?B/s]"
      ]
     },
     "metadata": {},
     "output_type": "display_data"
    },
    {
     "data": {
      "application/vnd.jupyter.widget-view+json": {
       "model_id": "8f32ac2da3854827b2818d86d0338354",
       "version_major": 2,
       "version_minor": 0
      },
      "text/plain": [
       "mcIeNUsyn3o_60.0_210.0.mp4:   0%|          | 0.00/20.0M [00:21<?, ?B/s]"
      ]
     },
     "metadata": {},
     "output_type": "display_data"
    },
    {
     "data": {
      "application/vnd.jupyter.widget-view+json": {
       "model_id": "faee9340afd149629d484888ea18b572",
       "version_major": 2,
       "version_minor": 0
      },
      "text/plain": [
       "fssoZaWJs88_60.0_210.0.mp4:   0%|          | 0.00/14.9M [00:00<?, ?B/s]"
      ]
     },
     "metadata": {},
     "output_type": "display_data"
    },
    {
     "data": {
      "application/vnd.jupyter.widget-view+json": {
       "model_id": "107490c1bb994df7bee80dcf6d9a9b96",
       "version_major": 2,
       "version_minor": 0
      },
      "text/plain": [
       "ltvwVhqdsn4_360.0_510.0.mp4:   0%|          | 0.00/20.4M [00:00<?, ?B/s]"
      ]
     },
     "metadata": {},
     "output_type": "display_data"
    },
    {
     "data": {
      "application/vnd.jupyter.widget-view+json": {
       "model_id": "9471e1a7119b47b8bc4fc075a51795f7",
       "version_major": 2,
       "version_minor": 0
      },
      "text/plain": [
       "lGjPPNDKt68_210.0_360.0.mp4:   0%|          | 0.00/20.3M [00:00<?, ?B/s]"
      ]
     },
     "metadata": {},
     "output_type": "display_data"
    },
    {
     "data": {
      "application/vnd.jupyter.widget-view+json": {
       "model_id": "419cf038b10642ed82ec912de407423f",
       "version_major": 2,
       "version_minor": 0
      },
      "text/plain": [
       "nK1-FNE3P-U_510.0_660.0.mp4:   0%|          | 0.00/10.7M [00:00<?, ?B/s]"
      ]
     },
     "metadata": {},
     "output_type": "display_data"
    },
    {
     "data": {
      "application/vnd.jupyter.widget-view+json": {
       "model_id": "bec4f8f49de0466d994f327832ea0513",
       "version_major": 2,
       "version_minor": 0
      },
      "text/plain": [
       "RQEcPe647no_210.0_360.0.mp4:   0%|          | 0.00/14.3M [00:00<?, ?B/s]"
      ]
     },
     "metadata": {},
     "output_type": "display_data"
    },
    {
     "data": {
      "application/vnd.jupyter.widget-view+json": {
       "model_id": "c6de53addb7d4c75adb4e1d5638af012",
       "version_major": 2,
       "version_minor": 0
      },
      "text/plain": [
       "H6OLZExMebU_510.0_660.0.mp4:   0%|          | 0.00/13.1M [00:00<?, ?B/s]"
      ]
     },
     "metadata": {},
     "output_type": "display_data"
    },
    {
     "data": {
      "application/vnd.jupyter.widget-view+json": {
       "model_id": "6a3ec27077bf461d842117950ae3d3ad",
       "version_major": 2,
       "version_minor": 0
      },
      "text/plain": [
       "QcUrSzhWaJw_60.0_210.0.mp4:   0%|          | 0.00/14.8M [00:00<?, ?B/s]"
      ]
     },
     "metadata": {},
     "output_type": "display_data"
    },
    {
     "data": {
      "application/vnd.jupyter.widget-view+json": {
       "model_id": "d24636ce6a1141838d1fc0e9864987c4",
       "version_major": 2,
       "version_minor": 0
      },
      "text/plain": [
       "aXsljpVHESc_210.0_360.0.mp4:   0%|          | 0.00/8.93M [00:00<?, ?B/s]"
      ]
     },
     "metadata": {},
     "output_type": "display_data"
    },
    {
     "data": {
      "application/vnd.jupyter.widget-view+json": {
       "model_id": "18a69c5bfb8a43dc8b5f5049697fb317",
       "version_major": 2,
       "version_minor": 0
      },
      "text/plain": [
       "270F8s5TEKY_60.0_210.0.mp4:   0%|          | 0.00/19.4M [00:00<?, ?B/s]"
      ]
     },
     "metadata": {},
     "output_type": "display_data"
    },
    {
     "data": {
      "application/vnd.jupyter.widget-view+json": {
       "model_id": "19c7ca1400e84d9d923be95fdf46f895",
       "version_major": 2,
       "version_minor": 0
      },
      "text/plain": [
       "3L9uBOjr8SI_360.0_510.0.mp4:   0%|          | 0.00/6.98M [00:00<?, ?B/s]"
      ]
     },
     "metadata": {},
     "output_type": "display_data"
    },
    {
     "data": {
      "application/vnd.jupyter.widget-view+json": {
       "model_id": "4365607604f9477a94562f4736d741cd",
       "version_major": 2,
       "version_minor": 0
      },
      "text/plain": [
       "kZSibF8uTfQ_360.0_510.0.mp4:   0%|          | 0.00/7.23M [00:00<?, ?B/s]"
      ]
     },
     "metadata": {},
     "output_type": "display_data"
    },
    {
     "data": {
      "application/vnd.jupyter.widget-view+json": {
       "model_id": "06e4a44aa09f4ceaaa2519cc1f4944de",
       "version_major": 2,
       "version_minor": 0
      },
      "text/plain": [
       "ZfU78lFGmKU_360.0_510.0.mp4:   0%|          | 0.00/8.40M [00:00<?, ?B/s]"
      ]
     },
     "metadata": {},
     "output_type": "display_data"
    },
    {
     "data": {
      "application/vnd.jupyter.widget-view+json": {
       "model_id": "41abe23646314c28940dd188411f35dc",
       "version_major": 2,
       "version_minor": 0
      },
      "text/plain": [
       "idjsaMj-22Y_60.0_210.0.mp4:   0%|          | 0.00/12.8M [00:00<?, ?B/s]"
      ]
     },
     "metadata": {},
     "output_type": "display_data"
    },
    {
     "data": {
      "application/vnd.jupyter.widget-view+json": {
       "model_id": "5f9c67e6081f402e9bd68ac9951353aa",
       "version_major": 2,
       "version_minor": 0
      },
      "text/plain": [
       "oCPVNLLo-mI_210.0_360.0.mp4:   0%|          | 0.00/10.4M [00:00<?, ?B/s]"
      ]
     },
     "metadata": {},
     "output_type": "display_data"
    },
    {
     "data": {
      "application/vnd.jupyter.widget-view+json": {
       "model_id": "763036fe8919496e90a76686021467c3",
       "version_major": 2,
       "version_minor": 0
      },
      "text/plain": [
       "lPPcj49I9lg_210.0_360.0.mp4:   0%|          | 0.00/13.1M [00:00<?, ?B/s]"
      ]
     },
     "metadata": {},
     "output_type": "display_data"
    },
    {
     "data": {
      "application/vnd.jupyter.widget-view+json": {
       "model_id": "b9975ae2977a44d19c76c32ee1109a33",
       "version_major": 2,
       "version_minor": 0
      },
      "text/plain": [
       "SYuZmjguaY8_210.0_360.0.mp4:   0%|          | 0.00/10.4M [00:00<?, ?B/s]"
      ]
     },
     "metadata": {},
     "output_type": "display_data"
    },
    {
     "data": {
      "application/vnd.jupyter.widget-view+json": {
       "model_id": "2d2e1f4f3c7e443da4457a8489f7b5f7",
       "version_major": 2,
       "version_minor": 0
      },
      "text/plain": [
       "b5KfadfFgfU_210.0_360.0.mp4:   0%|          | 0.00/15.4M [00:00<?, ?B/s]"
      ]
     },
     "metadata": {},
     "output_type": "display_data"
    },
    {
     "data": {
      "application/vnd.jupyter.widget-view+json": {
       "model_id": "671e3e850d774652bc878c38e1a5580a",
       "version_major": 2,
       "version_minor": 0
      },
      "text/plain": [
       "oq_GMEBnDqA_210.0_360.0.mp4:   0%|          | 0.00/8.47M [00:00<?, ?B/s]"
      ]
     },
     "metadata": {},
     "output_type": "display_data"
    },
    {
     "data": {
      "application/vnd.jupyter.widget-view+json": {
       "model_id": "1f169aaad89143c588b8747613132409",
       "version_major": 2,
       "version_minor": 0
      },
      "text/plain": [
       "uMc_B7RSays_360.0_510.0.mp4:   0%|          | 0.00/11.8M [00:00<?, ?B/s]"
      ]
     },
     "metadata": {},
     "output_type": "display_data"
    },
    {
     "data": {
      "application/vnd.jupyter.widget-view+json": {
       "model_id": "1cd612ca7fb24c6dbbd34c662683b23c",
       "version_major": 2,
       "version_minor": 0
      },
      "text/plain": [
       "KhMwd4vIewA_360.0_510.0.mp4:   0%|          | 0.00/11.5M [00:00<?, ?B/s]"
      ]
     },
     "metadata": {},
     "output_type": "display_data"
    },
    {
     "data": {
      "application/vnd.jupyter.widget-view+json": {
       "model_id": "19d78587c92d4105af9a6f9f210661a4",
       "version_major": 2,
       "version_minor": 0
      },
      "text/plain": [
       "R9bkOg5VNXE_60.0_210.0.mp4:   0%|          | 0.00/11.9M [00:00<?, ?B/s]"
      ]
     },
     "metadata": {},
     "output_type": "display_data"
    },
    {
     "data": {
      "application/vnd.jupyter.widget-view+json": {
       "model_id": "9ad76526c9ad4a0fb8363f45ed5f0237",
       "version_major": 2,
       "version_minor": 0
      },
      "text/plain": [
       "RfZXJW6jSGc_510.0_660.0.mp4:   0%|          | 0.00/11.2M [00:00<?, ?B/s]"
      ]
     },
     "metadata": {},
     "output_type": "display_data"
    },
    {
     "data": {
      "application/vnd.jupyter.widget-view+json": {
       "model_id": "5cd0455fa5e24fdda211d6f8740f7ed0",
       "version_major": 2,
       "version_minor": 0
      },
      "text/plain": [
       "DU10U74E-vE_360.0_510.0.mp4:   0%|          | 0.00/15.8M [00:00<?, ?B/s]"
      ]
     },
     "metadata": {},
     "output_type": "display_data"
    },
    {
     "data": {
      "application/vnd.jupyter.widget-view+json": {
       "model_id": "fa389b18112b48b5ab0d9ac6d91b0040",
       "version_major": 2,
       "version_minor": 0
      },
      "text/plain": [
       "hgVHo7fv8cg_510.0_660.0.mp4:   0%|          | 0.00/17.2M [00:00<?, ?B/s]"
      ]
     },
     "metadata": {},
     "output_type": "display_data"
    },
    {
     "data": {
      "application/vnd.jupyter.widget-view+json": {
       "model_id": "c61c9bd1723f4833a8dd8e2af290ec35",
       "version_major": 2,
       "version_minor": 0
      },
      "text/plain": [
       "qOhrTbJRZHA_210.0_360.0.mp4:   0%|          | 0.00/16.2M [00:00<?, ?B/s]"
      ]
     },
     "metadata": {},
     "output_type": "display_data"
    },
    {
     "data": {
      "application/vnd.jupyter.widget-view+json": {
       "model_id": "5568aa726df44af9b6bd0a55516829e0",
       "version_major": 2,
       "version_minor": 0
      },
      "text/plain": [
       "S1MHHgJNSuY_60.0_210.0.mp4:   0%|          | 0.00/8.83M [00:00<?, ?B/s]"
      ]
     },
     "metadata": {},
     "output_type": "display_data"
    },
    {
     "data": {
      "application/vnd.jupyter.widget-view+json": {
       "model_id": "e3a851ef98e04fe88c5464dbcd3f5afb",
       "version_major": 2,
       "version_minor": 0
      },
      "text/plain": [
       "_0ipsQzLdzA_60.0_210.0.mp4:   0%|          | 0.00/7.39M [00:00<?, ?B/s]"
      ]
     },
     "metadata": {},
     "output_type": "display_data"
    },
    {
     "data": {
      "application/vnd.jupyter.widget-view+json": {
       "model_id": "d4b287fc65904b1eb03ce455b9052646",
       "version_major": 2,
       "version_minor": 0
      },
      "text/plain": [
       "lTLMs2S6avY_210.0_360.0.mp4:   0%|          | 0.00/9.75M [00:00<?, ?B/s]"
      ]
     },
     "metadata": {},
     "output_type": "display_data"
    },
    {
     "data": {
      "application/vnd.jupyter.widget-view+json": {
       "model_id": "4a6995b16f0240ecb953bc0692687f27",
       "version_major": 2,
       "version_minor": 0
      },
      "text/plain": [
       "EDdPOELyP9o_210.0_360.0.mp4:   0%|          | 0.00/12.0M [00:00<?, ?B/s]"
      ]
     },
     "metadata": {},
     "output_type": "display_data"
    },
    {
     "data": {
      "application/vnd.jupyter.widget-view+json": {
       "model_id": "8d2b880777624878bdeff94d4496c7be",
       "version_major": 2,
       "version_minor": 0
      },
      "text/plain": [
       "ZDbNe3mS0aw_360.0_510.0.mp4:   0%|          | 0.00/9.70M [00:00<?, ?B/s]"
      ]
     },
     "metadata": {},
     "output_type": "display_data"
    },
    {
     "data": {
      "application/vnd.jupyter.widget-view+json": {
       "model_id": "3b01d2138019454d90da90056ee9b0c2",
       "version_major": 2,
       "version_minor": 0
      },
      "text/plain": [
       "EDdPOELyP9o_60.0_210.0.mp4:   0%|          | 0.00/12.8M [00:00<?, ?B/s]"
      ]
     },
     "metadata": {},
     "output_type": "display_data"
    },
    {
     "data": {
      "application/vnd.jupyter.widget-view+json": {
       "model_id": "fe28cf2e60f046bab6750d86d2293a24",
       "version_major": 2,
       "version_minor": 0
      },
      "text/plain": [
       "ltvwVhqdsn4_210.0_360.0.mp4:   0%|          | 0.00/18.2M [00:00<?, ?B/s]"
      ]
     },
     "metadata": {},
     "output_type": "display_data"
    },
    {
     "data": {
      "application/vnd.jupyter.widget-view+json": {
       "model_id": "ddd612541b3b42028fc6322bf74b6cb0",
       "version_major": 2,
       "version_minor": 0
      },
      "text/plain": [
       "TzdjEviN9JQ_510.0_660.0.mp4:   0%|          | 0.00/8.66M [00:00<?, ?B/s]"
      ]
     },
     "metadata": {},
     "output_type": "display_data"
    },
    {
     "data": {
      "application/vnd.jupyter.widget-view+json": {
       "model_id": "16bb90ada64349d29876d85b580295a3",
       "version_major": 2,
       "version_minor": 0
      },
      "text/plain": [
       "qhcSDJOEXA4_60.0_210.0.mp4:   0%|          | 0.00/15.3M [00:00<?, ?B/s]"
      ]
     },
     "metadata": {},
     "output_type": "display_data"
    },
    {
     "data": {
      "application/vnd.jupyter.widget-view+json": {
       "model_id": "337a308783564695b2fab0abaa11fb0a",
       "version_major": 2,
       "version_minor": 0
      },
      "text/plain": [
       "QPcwfuStFnU_360.0_510.0.mp4:   0%|          | 0.00/19.0M [00:00<?, ?B/s]"
      ]
     },
     "metadata": {},
     "output_type": "display_data"
    },
    {
     "data": {
      "application/vnd.jupyter.widget-view+json": {
       "model_id": "77c979b33fe84de7acc140fea7fb9d5b",
       "version_major": 2,
       "version_minor": 0
      },
      "text/plain": [
       "Ig8ccDocgdY_60.0_210.0.mp4:   0%|          | 0.00/13.5M [00:00<?, ?B/s]"
      ]
     },
     "metadata": {},
     "output_type": "display_data"
    },
    {
     "data": {
      "application/vnd.jupyter.widget-view+json": {
       "model_id": "5f364a6fac1e40caac5756a649e145cc",
       "version_major": 2,
       "version_minor": 0
      },
      "text/plain": [
       "iaZQD-WiogA_60.0_210.0.mp4:   0%|          | 0.00/13.6M [00:00<?, ?B/s]"
      ]
     },
     "metadata": {},
     "output_type": "display_data"
    },
    {
     "data": {
      "application/vnd.jupyter.widget-view+json": {
       "model_id": "3fa1f58835284105bcab68fe9bcb5916",
       "version_major": 2,
       "version_minor": 0
      },
      "text/plain": [
       "KW47eT6W2BE_210.0_360.0.mp4:   0%|          | 0.00/16.7M [00:00<?, ?B/s]"
      ]
     },
     "metadata": {},
     "output_type": "display_data"
    },
    {
     "data": {
      "application/vnd.jupyter.widget-view+json": {
       "model_id": "e59aa6ee1e964119a0e85ffb21c4f632",
       "version_major": 2,
       "version_minor": 0
      },
      "text/plain": [
       "3UmJ5REzbRk_60.0_210.0.mp4:   0%|          | 0.00/9.36M [00:00<?, ?B/s]"
      ]
     },
     "metadata": {},
     "output_type": "display_data"
    },
    {
     "data": {
      "application/vnd.jupyter.widget-view+json": {
       "model_id": "71a85dbb2706497491cb3915728306cf",
       "version_major": 2,
       "version_minor": 0
      },
      "text/plain": [
       "UTR7dmtJpG8_210.0_360.0.mp4:   0%|          | 0.00/11.9M [00:00<?, ?B/s]"
      ]
     },
     "metadata": {},
     "output_type": "display_data"
    },
    {
     "data": {
      "application/vnd.jupyter.widget-view+json": {
       "model_id": "841bc60a92e44d8991dbaac46204c7c4",
       "version_major": 2,
       "version_minor": 0
      },
      "text/plain": [
       "A9Cwni4fSuQ_210.0_360.0.mp4:   0%|          | 0.00/22.9M [00:00<?, ?B/s]"
      ]
     },
     "metadata": {},
     "output_type": "display_data"
    },
    {
     "data": {
      "application/vnd.jupyter.widget-view+json": {
       "model_id": "f056337cf27548da80a6bdfa914bd9d2",
       "version_major": 2,
       "version_minor": 0
      },
      "text/plain": [
       "6gSMri5uNas_60.0_210.0.mp4:   0%|          | 0.00/10.7M [00:00<?, ?B/s]"
      ]
     },
     "metadata": {},
     "output_type": "display_data"
    },
    {
     "data": {
      "application/vnd.jupyter.widget-view+json": {
       "model_id": "26f765327ed343288ff3f00af6066f00",
       "version_major": 2,
       "version_minor": 0
      },
      "text/plain": [
       "PUspDiGfqYU_210.0_360.0.mp4:   0%|          | 0.00/20.4M [00:00<?, ?B/s]"
      ]
     },
     "metadata": {},
     "output_type": "display_data"
    },
    {
     "data": {
      "application/vnd.jupyter.widget-view+json": {
       "model_id": "1d1546e3ce23463f89f2d1280683517c",
       "version_major": 2,
       "version_minor": 0
      },
      "text/plain": [
       "F71YVsoAf1A_60.0_210.0.mp4:   0%|          | 0.00/8.55M [00:00<?, ?B/s]"
      ]
     },
     "metadata": {},
     "output_type": "display_data"
    },
    {
     "data": {
      "application/vnd.jupyter.widget-view+json": {
       "model_id": "a8d70ee566654b2ea96337961c4b6e93",
       "version_major": 2,
       "version_minor": 0
      },
      "text/plain": [
       "mdUMDk9Geks_510.0_660.0.mp4:   0%|          | 0.00/10.1M [00:00<?, ?B/s]"
      ]
     },
     "metadata": {},
     "output_type": "display_data"
    },
    {
     "data": {
      "application/vnd.jupyter.widget-view+json": {
       "model_id": "45895eb34e2e43ce9f35b96c7ae445ba",
       "version_major": 2,
       "version_minor": 0
      },
      "text/plain": [
       "l6nk_fbGXeo_60.0_210.0.mp4:   0%|          | 0.00/14.2M [00:00<?, ?B/s]"
      ]
     },
     "metadata": {},
     "output_type": "display_data"
    },
    {
     "data": {
      "application/vnd.jupyter.widget-view+json": {
       "model_id": "91d200596fe0438a8e3c84e20dcbab79",
       "version_major": 2,
       "version_minor": 0
      },
      "text/plain": [
       "FMYeeqjsTg8_60.0_210.0.mp4:   0%|          | 0.00/20.4M [00:00<?, ?B/s]"
      ]
     },
     "metadata": {},
     "output_type": "display_data"
    },
    {
     "data": {
      "application/vnd.jupyter.widget-view+json": {
       "model_id": "a556f1338e714ebcaf2609c98ebc0224",
       "version_major": 2,
       "version_minor": 0
      },
      "text/plain": [
       "XnKUlE7OSjk_510.0_660.0.mp4:   0%|          | 0.00/10.6M [00:00<?, ?B/s]"
      ]
     },
     "metadata": {},
     "output_type": "display_data"
    },
    {
     "data": {
      "application/vnd.jupyter.widget-view+json": {
       "model_id": "aebbc0feedb04b13b51a6484c7594297",
       "version_major": 2,
       "version_minor": 0
      },
      "text/plain": [
       "3qB7zXw4o_I_210.0_360.0.mp4:   0%|          | 0.00/10.3M [00:00<?, ?B/s]"
      ]
     },
     "metadata": {},
     "output_type": "display_data"
    },
    {
     "data": {
      "application/vnd.jupyter.widget-view+json": {
       "model_id": "aaf13289e35e4b9384b8a6f320e76a49",
       "version_major": 2,
       "version_minor": 0
      },
      "text/plain": [
       "7Q9ifIujoGM_660.0_810.0.mp4:   0%|          | 0.00/18.0M [00:00<?, ?B/s]"
      ]
     },
     "metadata": {},
     "output_type": "display_data"
    },
    {
     "data": {
      "application/vnd.jupyter.widget-view+json": {
       "model_id": "4b835f544301487e94b2b99b735f3d32",
       "version_major": 2,
       "version_minor": 0
      },
      "text/plain": [
       "i5_6hrzBPC8_210.0_360.0.mp4:   0%|          | 0.00/11.8M [00:00<?, ?B/s]"
      ]
     },
     "metadata": {},
     "output_type": "display_data"
    },
    {
     "data": {
      "application/vnd.jupyter.widget-view+json": {
       "model_id": "55f0889548734c85942c3ef62bca76a5",
       "version_major": 2,
       "version_minor": 0
      },
      "text/plain": [
       "t_9gaLdfc_Y_510.0_660.0.mp4:   0%|          | 0.00/7.36M [00:00<?, ?B/s]"
      ]
     },
     "metadata": {},
     "output_type": "display_data"
    },
    {
     "data": {
      "application/vnd.jupyter.widget-view+json": {
       "model_id": "8f08a88726f44e5b80729b79d9dde815",
       "version_major": 2,
       "version_minor": 0
      },
      "text/plain": [
       "aWzIzYKmgig_210.0_360.0.mp4:   0%|          | 0.00/12.9M [00:00<?, ?B/s]"
      ]
     },
     "metadata": {},
     "output_type": "display_data"
    },
    {
     "data": {
      "application/vnd.jupyter.widget-view+json": {
       "model_id": "5eef641ec5bc488bb123a253912be0cf",
       "version_major": 2,
       "version_minor": 0
      },
      "text/plain": [
       "wtJkHhTLbxs_60.0_210.0.mp4:   0%|          | 0.00/24.0M [00:00<?, ?B/s]"
      ]
     },
     "metadata": {},
     "output_type": "display_data"
    },
    {
     "data": {
      "application/vnd.jupyter.widget-view+json": {
       "model_id": "d7b81f1480984efcac576d6fb2fa941b",
       "version_major": 2,
       "version_minor": 0
      },
      "text/plain": [
       "eSbPJx_eH8E_210.0_360.0.mp4:   0%|          | 0.00/14.7M [00:00<?, ?B/s]"
      ]
     },
     "metadata": {},
     "output_type": "display_data"
    },
    {
     "data": {
      "application/vnd.jupyter.widget-view+json": {
       "model_id": "4ae72c0a9db04a179bcca71fc4d3a8db",
       "version_major": 2,
       "version_minor": 0
      },
      "text/plain": [
       "NvdnqeL35Kg_660.0_810.0.mp4:   0%|          | 0.00/5.76M [00:00<?, ?B/s]"
      ]
     },
     "metadata": {},
     "output_type": "display_data"
    },
    {
     "name": "stdout",
     "output_type": "stream",
     "text": [
      "\u001b[K\u001b[F\n",
      "---------- 2025-04-22 19:34:02 (0:17:20) ----------\n",
      "Files:   hashed 7100/7100 (82.0G/82.0G) | pre-uploaded: 6863/7100 (79.2G/82.0G) | committed: 6750/7100 (77.9G/82.0G) | ignored: 0\n",
      "Workers: hashing: 0 | get upload mode: 0 | pre-uploading: 30 | committing: 0 | waiting: 0\n",
      "---------------------------------------------------\n",
      "                             "
     ]
    },
    {
     "data": {
      "application/vnd.jupyter.widget-view+json": {
       "model_id": "8c803e0a0b95404c85b9c5c14fdc8d77",
       "version_major": 2,
       "version_minor": 0
      },
      "text/plain": [
       "MbkinIfE6mg_360.0_510.0.mp4:   0%|          | 0.00/14.0M [00:00<?, ?B/s]"
      ]
     },
     "metadata": {},
     "output_type": "display_data"
    },
    {
     "data": {
      "application/vnd.jupyter.widget-view+json": {
       "model_id": "df1aea71a9544b208012d5acc505e83c",
       "version_major": 2,
       "version_minor": 0
      },
      "text/plain": [
       "_-vRAyh0p8w_210.0_360.0.mp4:   0%|          | 0.00/12.2M [00:00<?, ?B/s]"
      ]
     },
     "metadata": {},
     "output_type": "display_data"
    },
    {
     "data": {
      "application/vnd.jupyter.widget-view+json": {
       "model_id": "95db73597b05434f99afdde62dbaf2ac",
       "version_major": 2,
       "version_minor": 0
      },
      "text/plain": [
       "ZtQt63CC8Ig_360.0_510.0.mp4:   0%|          | 0.00/7.08M [00:00<?, ?B/s]"
      ]
     },
     "metadata": {},
     "output_type": "display_data"
    },
    {
     "data": {
      "application/vnd.jupyter.widget-view+json": {
       "model_id": "d705f3274cb04b958d3f60a4e5b72400",
       "version_major": 2,
       "version_minor": 0
      },
      "text/plain": [
       "LJJ_iAZLTMA_60.0_210.0.mp4:   0%|          | 0.00/7.54M [00:00<?, ?B/s]"
      ]
     },
     "metadata": {},
     "output_type": "display_data"
    },
    {
     "data": {
      "application/vnd.jupyter.widget-view+json": {
       "model_id": "93e14d0763144c4f9ca0bdcb7539415f",
       "version_major": 2,
       "version_minor": 0
      },
      "text/plain": [
       "rLskr16V8gw_210.0_360.0.mp4:   0%|          | 0.00/11.9M [00:00<?, ?B/s]"
      ]
     },
     "metadata": {},
     "output_type": "display_data"
    },
    {
     "data": {
      "application/vnd.jupyter.widget-view+json": {
       "model_id": "a80f543f244247bf8ebffed98838d12f",
       "version_major": 2,
       "version_minor": 0
      },
      "text/plain": [
       "mXLeBs0fGa4_360.0_510.0.mp4:   0%|          | 0.00/7.44M [00:00<?, ?B/s]"
      ]
     },
     "metadata": {},
     "output_type": "display_data"
    },
    {
     "data": {
      "application/vnd.jupyter.widget-view+json": {
       "model_id": "b1279f139947498199ca19ff6bf5d83d",
       "version_major": 2,
       "version_minor": 0
      },
      "text/plain": [
       "2Cedj7nVxy0_210.0_360.0.mp4:   0%|          | 0.00/8.71M [00:00<?, ?B/s]"
      ]
     },
     "metadata": {},
     "output_type": "display_data"
    },
    {
     "data": {
      "application/vnd.jupyter.widget-view+json": {
       "model_id": "cdc4650421ab421598d28dcee98a6a56",
       "version_major": 2,
       "version_minor": 0
      },
      "text/plain": [
       "muswSWYM_GI_210.0_360.0.mp4:   0%|          | 0.00/14.4M [00:00<?, ?B/s]"
      ]
     },
     "metadata": {},
     "output_type": "display_data"
    },
    {
     "data": {
      "application/vnd.jupyter.widget-view+json": {
       "model_id": "82d6a80a434243b09c870cb5fcaf1ae7",
       "version_major": 2,
       "version_minor": 0
      },
      "text/plain": [
       "oQGkzsTGMPg_360.0_510.0.mp4:   0%|          | 0.00/12.7M [00:00<?, ?B/s]"
      ]
     },
     "metadata": {},
     "output_type": "display_data"
    },
    {
     "data": {
      "application/vnd.jupyter.widget-view+json": {
       "model_id": "5d39c5712fa043228b4ee8fd98ee8e0f",
       "version_major": 2,
       "version_minor": 0
      },
      "text/plain": [
       "fm5i4fqWkqU_660.0_810.0.mp4:   0%|          | 0.00/13.3M [00:00<?, ?B/s]"
      ]
     },
     "metadata": {},
     "output_type": "display_data"
    },
    {
     "data": {
      "application/vnd.jupyter.widget-view+json": {
       "model_id": "c16e77d1afc841ba8d3767406ca65bf9",
       "version_major": 2,
       "version_minor": 0
      },
      "text/plain": [
       "WcMY9hjwN58_60.0_210.0.mp4:   0%|          | 0.00/13.4M [00:00<?, ?B/s]"
      ]
     },
     "metadata": {},
     "output_type": "display_data"
    },
    {
     "data": {
      "application/vnd.jupyter.widget-view+json": {
       "model_id": "05f4a5e00ad941b59f4aaef3fc66140d",
       "version_major": 2,
       "version_minor": 0
      },
      "text/plain": [
       "FOuHczVkyL4_60.0_210.0.mp4:   0%|          | 0.00/4.04M [00:00<?, ?B/s]"
      ]
     },
     "metadata": {},
     "output_type": "display_data"
    },
    {
     "data": {
      "application/vnd.jupyter.widget-view+json": {
       "model_id": "7bf5f91c61ef476b81aabc7ac6af94b2",
       "version_major": 2,
       "version_minor": 0
      },
      "text/plain": [
       "hft1vshfVUQ_360.0_510.0.mp4:   0%|          | 0.00/12.5M [00:00<?, ?B/s]"
      ]
     },
     "metadata": {},
     "output_type": "display_data"
    },
    {
     "data": {
      "application/vnd.jupyter.widget-view+json": {
       "model_id": "34b66b69cd0f402eb2ed8dfaf9f35f6e",
       "version_major": 2,
       "version_minor": 0
      },
      "text/plain": [
       "Aa7o08i2wKg_510.0_660.0.mp4:   0%|          | 0.00/11.9M [00:00<?, ?B/s]"
      ]
     },
     "metadata": {},
     "output_type": "display_data"
    },
    {
     "data": {
      "application/vnd.jupyter.widget-view+json": {
       "model_id": "9443cbc7f82c47a8b2ffbf0ece42bfb1",
       "version_major": 2,
       "version_minor": 0
      },
      "text/plain": [
       "8jyLunJXuwI_60.0_210.0.mp4:   0%|          | 0.00/8.63M [00:00<?, ?B/s]"
      ]
     },
     "metadata": {},
     "output_type": "display_data"
    },
    {
     "data": {
      "application/vnd.jupyter.widget-view+json": {
       "model_id": "c108c046a81546a49ee820e41a7b7b37",
       "version_major": 2,
       "version_minor": 0
      },
      "text/plain": [
       "3OIOCz5U-e0_60.0_210.0.mp4:   0%|          | 0.00/8.82M [00:00<?, ?B/s]"
      ]
     },
     "metadata": {},
     "output_type": "display_data"
    },
    {
     "data": {
      "application/vnd.jupyter.widget-view+json": {
       "model_id": "e232dd150b1641d3b5523de986d02872",
       "version_major": 2,
       "version_minor": 0
      },
      "text/plain": [
       "AOUKbe1-Jk4_660.0_810.0.mp4:   0%|          | 0.00/12.4M [00:00<?, ?B/s]"
      ]
     },
     "metadata": {},
     "output_type": "display_data"
    },
    {
     "data": {
      "application/vnd.jupyter.widget-view+json": {
       "model_id": "a3a47f94090442aeaf9511fea8495c44",
       "version_major": 2,
       "version_minor": 0
      },
      "text/plain": [
       "FpNQqtWd9Eo_360.0_510.0.mp4:   0%|          | 0.00/10.2M [00:00<?, ?B/s]"
      ]
     },
     "metadata": {},
     "output_type": "display_data"
    },
    {
     "data": {
      "application/vnd.jupyter.widget-view+json": {
       "model_id": "bd1a3e249fa1475b9cc958fac98ded46",
       "version_major": 2,
       "version_minor": 0
      },
      "text/plain": [
       "qAl4xbCQ2c4_360.0_510.0.mp4:   0%|          | 0.00/12.8M [00:00<?, ?B/s]"
      ]
     },
     "metadata": {},
     "output_type": "display_data"
    },
    {
     "data": {
      "application/vnd.jupyter.widget-view+json": {
       "model_id": "eddabcdee87a4cf9897f4e07b0a27d29",
       "version_major": 2,
       "version_minor": 0
      },
      "text/plain": [
       "pHeKu3tw5kc_60.0_210.0.mp4:   0%|          | 0.00/7.41M [00:00<?, ?B/s]"
      ]
     },
     "metadata": {},
     "output_type": "display_data"
    },
    {
     "data": {
      "application/vnd.jupyter.widget-view+json": {
       "model_id": "d2941d6f14524afc9962ce1aab3be83a",
       "version_major": 2,
       "version_minor": 0
      },
      "text/plain": [
       "qpe1IE1BIso_60.0_210.0.mp4:   0%|          | 0.00/5.92M [00:00<?, ?B/s]"
      ]
     },
     "metadata": {},
     "output_type": "display_data"
    },
    {
     "data": {
      "application/vnd.jupyter.widget-view+json": {
       "model_id": "fffaaa5fb1764c82b7f54648a5debb5c",
       "version_major": 2,
       "version_minor": 0
      },
      "text/plain": [
       "MP7PizDdwWU_210.0_360.0.mp4:   0%|          | 0.00/13.9M [00:00<?, ?B/s]"
      ]
     },
     "metadata": {},
     "output_type": "display_data"
    },
    {
     "data": {
      "application/vnd.jupyter.widget-view+json": {
       "model_id": "2dbb337c44fa4c3683a619b01f659d03",
       "version_major": 2,
       "version_minor": 0
      },
      "text/plain": [
       "ucKLjH9OLo4_210.0_360.0.mp4:   0%|          | 0.00/10.5M [00:00<?, ?B/s]"
      ]
     },
     "metadata": {},
     "output_type": "display_data"
    },
    {
     "data": {
      "application/vnd.jupyter.widget-view+json": {
       "model_id": "cbd1fceebb45462bb80d1c896d6af880",
       "version_major": 2,
       "version_minor": 0
      },
      "text/plain": [
       "VD1cP8SK3Q0_210.0_360.0.mp4:   0%|          | 0.00/6.94M [00:00<?, ?B/s]"
      ]
     },
     "metadata": {},
     "output_type": "display_data"
    },
    {
     "data": {
      "application/vnd.jupyter.widget-view+json": {
       "model_id": "403a6e2a11ff4374a5d52948061a388d",
       "version_major": 2,
       "version_minor": 0
      },
      "text/plain": [
       "x8aosUR29Sc_60.0_210.0.mp4:   0%|          | 0.00/9.52M [00:00<?, ?B/s]"
      ]
     },
     "metadata": {},
     "output_type": "display_data"
    },
    {
     "data": {
      "application/vnd.jupyter.widget-view+json": {
       "model_id": "e8c6f001023543789a49e4826c3580ed",
       "version_major": 2,
       "version_minor": 0
      },
      "text/plain": [
       "iFx-hrwAODM_60.0_210.0.mp4:   0%|          | 0.00/11.2M [00:00<?, ?B/s]"
      ]
     },
     "metadata": {},
     "output_type": "display_data"
    },
    {
     "data": {
      "application/vnd.jupyter.widget-view+json": {
       "model_id": "ba404c79f1b04a239c482e35cee88b35",
       "version_major": 2,
       "version_minor": 0
      },
      "text/plain": [
       "kVzwzkdJejs_210.0_360.0.mp4:   0%|          | 0.00/13.8M [00:00<?, ?B/s]"
      ]
     },
     "metadata": {},
     "output_type": "display_data"
    },
    {
     "data": {
      "application/vnd.jupyter.widget-view+json": {
       "model_id": "79accd3ba0874a2e979466a358715204",
       "version_major": 2,
       "version_minor": 0
      },
      "text/plain": [
       "QE-ngPmSj7k_210.0_360.0.mp4:   0%|          | 0.00/15.6M [00:00<?, ?B/s]"
      ]
     },
     "metadata": {},
     "output_type": "display_data"
    },
    {
     "data": {
      "application/vnd.jupyter.widget-view+json": {
       "model_id": "725f0e5b18534e1f9be5bdd4950a4e9f",
       "version_major": 2,
       "version_minor": 0
      },
      "text/plain": [
       "bNFxTTCdeRQ_60.0_210.0.mp4:   0%|          | 0.00/9.42M [00:00<?, ?B/s]"
      ]
     },
     "metadata": {},
     "output_type": "display_data"
    },
    {
     "data": {
      "application/vnd.jupyter.widget-view+json": {
       "model_id": "67e53717308b450d83c230cb093480da",
       "version_major": 2,
       "version_minor": 0
      },
      "text/plain": [
       "-d3Oru5Mj_A_60.0_210.0.mp4:   0%|          | 0.00/7.99M [00:00<?, ?B/s]"
      ]
     },
     "metadata": {},
     "output_type": "display_data"
    },
    {
     "data": {
      "application/vnd.jupyter.widget-view+json": {
       "model_id": "d0fb3ba84fa8460ab7f82d46eb3dfe84",
       "version_major": 2,
       "version_minor": 0
      },
      "text/plain": [
       "kPXkhETvTPg_660.0_810.0.mp4:   0%|          | 0.00/10.5M [00:00<?, ?B/s]"
      ]
     },
     "metadata": {},
     "output_type": "display_data"
    },
    {
     "data": {
      "application/vnd.jupyter.widget-view+json": {
       "model_id": "30eab326409b44db803758e3b0d3077c",
       "version_major": 2,
       "version_minor": 0
      },
      "text/plain": [
       "rh2Z9rpPfOY_210.0_360.0.mp4:   0%|          | 0.00/12.8M [00:00<?, ?B/s]"
      ]
     },
     "metadata": {},
     "output_type": "display_data"
    },
    {
     "data": {
      "application/vnd.jupyter.widget-view+json": {
       "model_id": "7ed937a992974d1ebeb9f98d6106e254",
       "version_major": 2,
       "version_minor": 0
      },
      "text/plain": [
       "dEuxoRj0G5Y_210.0_360.0.mp4:   0%|          | 0.00/14.5M [00:00<?, ?B/s]"
      ]
     },
     "metadata": {},
     "output_type": "display_data"
    },
    {
     "data": {
      "application/vnd.jupyter.widget-view+json": {
       "model_id": "b07d82548c69461e85e707031a917195",
       "version_major": 2,
       "version_minor": 0
      },
      "text/plain": [
       "3L-J5LTR0vY_360.0_510.0.mp4:   0%|          | 0.00/10.5M [00:00<?, ?B/s]"
      ]
     },
     "metadata": {},
     "output_type": "display_data"
    },
    {
     "data": {
      "application/vnd.jupyter.widget-view+json": {
       "model_id": "586cbd2f91ea467085b6fe7b5ef327cc",
       "version_major": 2,
       "version_minor": 0
      },
      "text/plain": [
       "vwiTwcV6mOE_210.0_360.0.mp4:   0%|          | 0.00/8.77M [00:00<?, ?B/s]"
      ]
     },
     "metadata": {},
     "output_type": "display_data"
    },
    {
     "data": {
      "application/vnd.jupyter.widget-view+json": {
       "model_id": "82b0bed086a74ee3bef04ea477a6b102",
       "version_major": 2,
       "version_minor": 0
      },
      "text/plain": [
       "T2O2eC8SdDk_660.0_810.0.mp4:   0%|          | 0.00/12.6M [00:00<?, ?B/s]"
      ]
     },
     "metadata": {},
     "output_type": "display_data"
    },
    {
     "data": {
      "application/vnd.jupyter.widget-view+json": {
       "model_id": "4ae86d4686274031b193c813ca61c2ce",
       "version_major": 2,
       "version_minor": 0
      },
      "text/plain": [
       "iFx-hrwAODM_360.0_510.0.mp4:   0%|          | 0.00/10.3M [00:00<?, ?B/s]"
      ]
     },
     "metadata": {},
     "output_type": "display_data"
    },
    {
     "data": {
      "application/vnd.jupyter.widget-view+json": {
       "model_id": "83bdc351cb654be1ba8dd46e581de000",
       "version_major": 2,
       "version_minor": 0
      },
      "text/plain": [
       "cHALLl_G35k_60.0_210.0.mp4:   0%|          | 0.00/15.5M [00:00<?, ?B/s]"
      ]
     },
     "metadata": {},
     "output_type": "display_data"
    },
    {
     "data": {
      "application/vnd.jupyter.widget-view+json": {
       "model_id": "6ff54092f6024180b4750319d6e0f019",
       "version_major": 2,
       "version_minor": 0
      },
      "text/plain": [
       "UWjgV9nYBi4_210.0_360.0.mp4:   0%|          | 0.00/12.3M [00:00<?, ?B/s]"
      ]
     },
     "metadata": {},
     "output_type": "display_data"
    },
    {
     "data": {
      "application/vnd.jupyter.widget-view+json": {
       "model_id": "86718b23fa9a4922b29ff04fe7e3fc58",
       "version_major": 2,
       "version_minor": 0
      },
      "text/plain": [
       "4i2PG-H4N-o_60.0_210.0.mp4:   0%|          | 0.00/3.98M [00:00<?, ?B/s]"
      ]
     },
     "metadata": {},
     "output_type": "display_data"
    },
    {
     "data": {
      "application/vnd.jupyter.widget-view+json": {
       "model_id": "e7eb155c2ecd4166b5b2390424fcb12c",
       "version_major": 2,
       "version_minor": 0
      },
      "text/plain": [
       "yJB0P9YgPj0_210.0_360.0.mp4:   0%|          | 0.00/12.9M [00:00<?, ?B/s]"
      ]
     },
     "metadata": {},
     "output_type": "display_data"
    },
    {
     "data": {
      "application/vnd.jupyter.widget-view+json": {
       "model_id": "9e65aec6a6124e4283a213954b51a4dd",
       "version_major": 2,
       "version_minor": 0
      },
      "text/plain": [
       "q6oB5aCImGo_60.0_210.0.mp4:   0%|          | 0.00/12.2M [00:00<?, ?B/s]"
      ]
     },
     "metadata": {},
     "output_type": "display_data"
    },
    {
     "data": {
      "application/vnd.jupyter.widget-view+json": {
       "model_id": "803920e90f6d421ea184bae1d1e78c5c",
       "version_major": 2,
       "version_minor": 0
      },
      "text/plain": [
       "Ie5BHEiT73I_360.0_510.0.mp4:   0%|          | 0.00/18.0M [00:00<?, ?B/s]"
      ]
     },
     "metadata": {},
     "output_type": "display_data"
    },
    {
     "data": {
      "application/vnd.jupyter.widget-view+json": {
       "model_id": "59740ae361cf4fc1bb58c65574fc5405",
       "version_major": 2,
       "version_minor": 0
      },
      "text/plain": [
       "lp5zc5ROtzE_60.0_210.0.mp4:   0%|          | 0.00/11.6M [00:00<?, ?B/s]"
      ]
     },
     "metadata": {},
     "output_type": "display_data"
    },
    {
     "data": {
      "application/vnd.jupyter.widget-view+json": {
       "model_id": "5171d73213eb45abb5aaeb45f0b748de",
       "version_major": 2,
       "version_minor": 0
      },
      "text/plain": [
       "p8FS8kq5YIU_60.0_210.0.mp4:   0%|          | 0.00/14.1M [00:00<?, ?B/s]"
      ]
     },
     "metadata": {},
     "output_type": "display_data"
    },
    {
     "data": {
      "application/vnd.jupyter.widget-view+json": {
       "model_id": "1d6ce84f941b4026ac1da22626d58355",
       "version_major": 2,
       "version_minor": 0
      },
      "text/plain": [
       "ROLHnN9SfCw_60.0_210.0.mp4:   0%|          | 0.00/12.1M [00:00<?, ?B/s]"
      ]
     },
     "metadata": {},
     "output_type": "display_data"
    },
    {
     "data": {
      "application/vnd.jupyter.widget-view+json": {
       "model_id": "1194eefa61424caab90139006e6b58a8",
       "version_major": 2,
       "version_minor": 0
      },
      "text/plain": [
       "DUBk97BTdM4_60.0_210.0.mp4:   0%|          | 0.00/16.4M [00:00<?, ?B/s]"
      ]
     },
     "metadata": {},
     "output_type": "display_data"
    },
    {
     "data": {
      "application/vnd.jupyter.widget-view+json": {
       "model_id": "e63275106ce8407c9dfbcffbaf67e113",
       "version_major": 2,
       "version_minor": 0
      },
      "text/plain": [
       "CU8VP6eIzFI_510.0_660.0.mp4:   0%|          | 0.00/8.91M [00:00<?, ?B/s]"
      ]
     },
     "metadata": {},
     "output_type": "display_data"
    },
    {
     "data": {
      "application/vnd.jupyter.widget-view+json": {
       "model_id": "7dc515556cfc4eef9e1cc9c6583692d2",
       "version_major": 2,
       "version_minor": 0
      },
      "text/plain": [
       "flh-VKKs600_360.0_510.0.mp4:   0%|          | 0.00/18.2M [00:00<?, ?B/s]"
      ]
     },
     "metadata": {},
     "output_type": "display_data"
    },
    {
     "data": {
      "application/vnd.jupyter.widget-view+json": {
       "model_id": "e174b353b5854c269488bfee930ee195",
       "version_major": 2,
       "version_minor": 0
      },
      "text/plain": [
       "_C5vCGB8Xx0_360.0_510.0.mp4:   0%|          | 0.00/4.95M [00:00<?, ?B/s]"
      ]
     },
     "metadata": {},
     "output_type": "display_data"
    },
    {
     "data": {
      "application/vnd.jupyter.widget-view+json": {
       "model_id": "0bbefc27686141adaf35300b1caedf66",
       "version_major": 2,
       "version_minor": 0
      },
      "text/plain": [
       "VrBuIvZapwI_60.0_210.0.mp4:   0%|          | 0.00/9.84M [00:00<?, ?B/s]"
      ]
     },
     "metadata": {},
     "output_type": "display_data"
    },
    {
     "data": {
      "application/vnd.jupyter.widget-view+json": {
       "model_id": "56a64f8cd39c461bb9aba81f656055d4",
       "version_major": 2,
       "version_minor": 0
      },
      "text/plain": [
       "YR4UGOVLuT0_60.0_210.0.mp4:   0%|          | 0.00/12.0M [00:00<?, ?B/s]"
      ]
     },
     "metadata": {},
     "output_type": "display_data"
    },
    {
     "data": {
      "application/vnd.jupyter.widget-view+json": {
       "model_id": "96ab55ccd12b4a338504e381786b13e6",
       "version_major": 2,
       "version_minor": 0
      },
      "text/plain": [
       "khwl9EjMqWI_60.0_210.0.mp4:   0%|          | 0.00/13.3M [00:00<?, ?B/s]"
      ]
     },
     "metadata": {},
     "output_type": "display_data"
    },
    {
     "data": {
      "application/vnd.jupyter.widget-view+json": {
       "model_id": "cacbe47e9fd54d04b342087e6ccd81e7",
       "version_major": 2,
       "version_minor": 0
      },
      "text/plain": [
       "dLQiXYW7opc_510.0_660.0.mp4:   0%|          | 0.00/6.77M [00:00<?, ?B/s]"
      ]
     },
     "metadata": {},
     "output_type": "display_data"
    },
    {
     "data": {
      "application/vnd.jupyter.widget-view+json": {
       "model_id": "7ae9fde5557540ea8f174032087516ad",
       "version_major": 2,
       "version_minor": 0
      },
      "text/plain": [
       "PBJ_luqN5Sc_210.0_360.0.mp4:   0%|          | 0.00/8.82M [00:00<?, ?B/s]"
      ]
     },
     "metadata": {},
     "output_type": "display_data"
    },
    {
     "data": {
      "application/vnd.jupyter.widget-view+json": {
       "model_id": "9589f143c38147a486cea6f5ac6ddc09",
       "version_major": 2,
       "version_minor": 0
      },
      "text/plain": [
       "a4d5CbK0b3A_360.0_510.0.mp4:   0%|          | 0.00/13.8M [00:00<?, ?B/s]"
      ]
     },
     "metadata": {},
     "output_type": "display_data"
    },
    {
     "data": {
      "application/vnd.jupyter.widget-view+json": {
       "model_id": "ac14a70c56044827a109dfbc8e3575e3",
       "version_major": 2,
       "version_minor": 0
      },
      "text/plain": [
       "Bb_nosd2RMo_210.0_360.0.mp4:   0%|          | 0.00/15.1M [00:00<?, ?B/s]"
      ]
     },
     "metadata": {},
     "output_type": "display_data"
    },
    {
     "data": {
      "application/vnd.jupyter.widget-view+json": {
       "model_id": "38c5b5c0bf4c43ccb498456a680d29a8",
       "version_major": 2,
       "version_minor": 0
      },
      "text/plain": [
       "xRSpDGgd8eI_60.0_210.0.mp4:   0%|          | 0.00/13.9M [00:00<?, ?B/s]"
      ]
     },
     "metadata": {},
     "output_type": "display_data"
    },
    {
     "data": {
      "application/vnd.jupyter.widget-view+json": {
       "model_id": "cd338ecc2911467d8d04f649dd2aa1e5",
       "version_major": 2,
       "version_minor": 0
      },
      "text/plain": [
       "XSi9PFacbgA_60.0_210.0.mp4:   0%|          | 0.00/9.59M [00:00<?, ?B/s]"
      ]
     },
     "metadata": {},
     "output_type": "display_data"
    },
    {
     "data": {
      "application/vnd.jupyter.widget-view+json": {
       "model_id": "7bd673252a324f97a0c63deb4fdecb59",
       "version_major": 2,
       "version_minor": 0
      },
      "text/plain": [
       "fqtHFwlPRCI_510.0_660.0.mp4:   0%|          | 0.00/12.4M [00:00<?, ?B/s]"
      ]
     },
     "metadata": {},
     "output_type": "display_data"
    },
    {
     "data": {
      "application/vnd.jupyter.widget-view+json": {
       "model_id": "15e0da3cf4954a69a258216d96d25c2a",
       "version_major": 2,
       "version_minor": 0
      },
      "text/plain": [
       "iryfzukMuDc_510.0_660.0.mp4:   0%|          | 0.00/17.6M [00:00<?, ?B/s]"
      ]
     },
     "metadata": {},
     "output_type": "display_data"
    },
    {
     "data": {
      "application/vnd.jupyter.widget-view+json": {
       "model_id": "83530ced679c4bfabf8f704053fbfade",
       "version_major": 2,
       "version_minor": 0
      },
      "text/plain": [
       "qOG6Dt4nTMY_360.0_510.0.mp4:   0%|          | 0.00/17.3M [00:00<?, ?B/s]"
      ]
     },
     "metadata": {},
     "output_type": "display_data"
    },
    {
     "data": {
      "application/vnd.jupyter.widget-view+json": {
       "model_id": "44cea7b583894aa0a57645d569b32273",
       "version_major": 2,
       "version_minor": 0
      },
      "text/plain": [
       "-J-BCVTnbDo_210.0_360.0.mp4:   0%|          | 0.00/6.28M [00:00<?, ?B/s]"
      ]
     },
     "metadata": {},
     "output_type": "display_data"
    },
    {
     "data": {
      "application/vnd.jupyter.widget-view+json": {
       "model_id": "652b9863e4b245e89482fb4e6cf08d24",
       "version_major": 2,
       "version_minor": 0
      },
      "text/plain": [
       "s9ZQ6VuoN1c_210.0_360.0.mp4:   0%|          | 0.00/8.04M [00:00<?, ?B/s]"
      ]
     },
     "metadata": {},
     "output_type": "display_data"
    },
    {
     "data": {
      "application/vnd.jupyter.widget-view+json": {
       "model_id": "8db64f60525247f482e55cfb9b5fef38",
       "version_major": 2,
       "version_minor": 0
      },
      "text/plain": [
       "hMqNYjcOJFQ_510.0_660.0.mp4:   0%|          | 0.00/14.4M [00:00<?, ?B/s]"
      ]
     },
     "metadata": {},
     "output_type": "display_data"
    },
    {
     "data": {
      "application/vnd.jupyter.widget-view+json": {
       "model_id": "4df1576959ea432caf4282123b2c1ba3",
       "version_major": 2,
       "version_minor": 0
      },
      "text/plain": [
       "FTojpMgJ2xg_660.0_810.0.mp4:   0%|          | 0.00/10.3M [00:00<?, ?B/s]"
      ]
     },
     "metadata": {},
     "output_type": "display_data"
    },
    {
     "data": {
      "application/vnd.jupyter.widget-view+json": {
       "model_id": "91ab052d194043ae929b76492bd51ee8",
       "version_major": 2,
       "version_minor": 0
      },
      "text/plain": [
       "VBbtcAfmE6s_210.0_360.0.mp4:   0%|          | 0.00/5.24M [00:00<?, ?B/s]"
      ]
     },
     "metadata": {},
     "output_type": "display_data"
    },
    {
     "data": {
      "application/vnd.jupyter.widget-view+json": {
       "model_id": "94fe7441619c47a1a0e009c5ec1ba445",
       "version_major": 2,
       "version_minor": 0
      },
      "text/plain": [
       "zDrihcXzuw8_360.0_510.0.mp4:   0%|          | 0.00/17.1M [00:00<?, ?B/s]"
      ]
     },
     "metadata": {},
     "output_type": "display_data"
    },
    {
     "data": {
      "application/vnd.jupyter.widget-view+json": {
       "model_id": "0472a94ae3fd48b2b0d717f33de22dd4",
       "version_major": 2,
       "version_minor": 0
      },
      "text/plain": [
       "MwlMQov_K3Q_360.0_510.0.mp4:   0%|          | 0.00/12.1M [00:00<?, ?B/s]"
      ]
     },
     "metadata": {},
     "output_type": "display_data"
    },
    {
     "data": {
      "application/vnd.jupyter.widget-view+json": {
       "model_id": "95350a4333604b6c84340f723e3e2c9f",
       "version_major": 2,
       "version_minor": 0
      },
      "text/plain": [
       "idV3IjG656Q_660.0_810.0.mp4:   0%|          | 0.00/5.97M [00:00<?, ?B/s]"
      ]
     },
     "metadata": {},
     "output_type": "display_data"
    },
    {
     "data": {
      "application/vnd.jupyter.widget-view+json": {
       "model_id": "b98c4a711e574772a7d641f1e7100fbc",
       "version_major": 2,
       "version_minor": 0
      },
      "text/plain": [
       "T5B4I5TzNWI_60.0_210.0.mp4:   0%|          | 0.00/11.2M [00:00<?, ?B/s]"
      ]
     },
     "metadata": {},
     "output_type": "display_data"
    },
    {
     "data": {
      "application/vnd.jupyter.widget-view+json": {
       "model_id": "3f91af4b73934f808a0be15282a1078c",
       "version_major": 2,
       "version_minor": 0
      },
      "text/plain": [
       "5xA4WYkq60Y_210.0_360.0.mp4:   0%|          | 0.00/7.68M [00:00<?, ?B/s]"
      ]
     },
     "metadata": {},
     "output_type": "display_data"
    },
    {
     "data": {
      "application/vnd.jupyter.widget-view+json": {
       "model_id": "7862240a051c4fe38059ea14ec771721",
       "version_major": 2,
       "version_minor": 0
      },
      "text/plain": [
       "pdA4FrHB9vM_60.0_210.0.mp4:   0%|          | 0.00/13.4M [00:00<?, ?B/s]"
      ]
     },
     "metadata": {},
     "output_type": "display_data"
    },
    {
     "data": {
      "application/vnd.jupyter.widget-view+json": {
       "model_id": "024a96e468e14d228d7602eb2a30c053",
       "version_major": 2,
       "version_minor": 0
      },
      "text/plain": [
       "bbzOf8wzo20_60.0_210.0.mp4:   0%|          | 0.00/23.6M [00:00<?, ?B/s]"
      ]
     },
     "metadata": {},
     "output_type": "display_data"
    },
    {
     "data": {
      "application/vnd.jupyter.widget-view+json": {
       "model_id": "78c8447b7ef845d9bf81d36ef0054f23",
       "version_major": 2,
       "version_minor": 0
      },
      "text/plain": [
       "VeTk_-R8LPg_60.0_210.0.mp4:   0%|          | 0.00/14.8M [00:00<?, ?B/s]"
      ]
     },
     "metadata": {},
     "output_type": "display_data"
    },
    {
     "data": {
      "application/vnd.jupyter.widget-view+json": {
       "model_id": "615a247ea2e349a2a97aeef85356844b",
       "version_major": 2,
       "version_minor": 0
      },
      "text/plain": [
       "-lDQc1mGAvY_510.0_660.0.mp4:   0%|          | 0.00/10.6M [00:00<?, ?B/s]"
      ]
     },
     "metadata": {},
     "output_type": "display_data"
    },
    {
     "data": {
      "application/vnd.jupyter.widget-view+json": {
       "model_id": "a25698974aad47908485b1406d6dd13b",
       "version_major": 2,
       "version_minor": 0
      },
      "text/plain": [
       "2VoSBxvhMVA_360.0_510.0.mp4:   0%|          | 0.00/22.2M [00:00<?, ?B/s]"
      ]
     },
     "metadata": {},
     "output_type": "display_data"
    },
    {
     "data": {
      "application/vnd.jupyter.widget-view+json": {
       "model_id": "86eca9854a2e42cc9f767a43b14fe0a8",
       "version_major": 2,
       "version_minor": 0
      },
      "text/plain": [
       "NJpmjlwthHY_360.0_510.0.mp4:   0%|          | 0.00/9.63M [00:00<?, ?B/s]"
      ]
     },
     "metadata": {},
     "output_type": "display_data"
    },
    {
     "data": {
      "application/vnd.jupyter.widget-view+json": {
       "model_id": "27f0bce325fe4b0b97746bb824625ea6",
       "version_major": 2,
       "version_minor": 0
      },
      "text/plain": [
       "FfFT0foMRj4_210.0_360.0.mp4:   0%|          | 0.00/10.6M [00:00<?, ?B/s]"
      ]
     },
     "metadata": {},
     "output_type": "display_data"
    },
    {
     "data": {
      "application/vnd.jupyter.widget-view+json": {
       "model_id": "cb036a09c7d14d4dbc679ff7ecde10b9",
       "version_major": 2,
       "version_minor": 0
      },
      "text/plain": [
       "XIWUZlhTbNo_210.0_360.0.mp4:   0%|          | 0.00/12.1M [00:00<?, ?B/s]"
      ]
     },
     "metadata": {},
     "output_type": "display_data"
    },
    {
     "data": {
      "application/vnd.jupyter.widget-view+json": {
       "model_id": "4ff4817c63494241a9051a229ebd3c6b",
       "version_major": 2,
       "version_minor": 0
      },
      "text/plain": [
       "YjkmGXncSGA_210.0_360.0.mp4:   0%|          | 0.00/6.23M [00:00<?, ?B/s]"
      ]
     },
     "metadata": {},
     "output_type": "display_data"
    },
    {
     "data": {
      "application/vnd.jupyter.widget-view+json": {
       "model_id": "ebaedce53b674e26a9b7050eb7d71e36",
       "version_major": 2,
       "version_minor": 0
      },
      "text/plain": [
       "BhIiUkq_8CI_60.0_210.0.mp4:   0%|          | 0.00/6.60M [00:00<?, ?B/s]"
      ]
     },
     "metadata": {},
     "output_type": "display_data"
    },
    {
     "data": {
      "application/vnd.jupyter.widget-view+json": {
       "model_id": "8d64ce736038415c8c001a2dab3e8972",
       "version_major": 2,
       "version_minor": 0
      },
      "text/plain": [
       "E_dRc1GzyQY_60.0_210.0.mp4:   0%|          | 0.00/13.0M [00:00<?, ?B/s]"
      ]
     },
     "metadata": {},
     "output_type": "display_data"
    },
    {
     "data": {
      "application/vnd.jupyter.widget-view+json": {
       "model_id": "eb24045079854c939fe46d044693d95f",
       "version_major": 2,
       "version_minor": 0
      },
      "text/plain": [
       "lcCNNkxdsHE_210.0_360.0.mp4:   0%|          | 0.00/6.55M [00:00<?, ?B/s]"
      ]
     },
     "metadata": {},
     "output_type": "display_data"
    },
    {
     "data": {
      "application/vnd.jupyter.widget-view+json": {
       "model_id": "89fa1badcec24840b285635337a40e06",
       "version_major": 2,
       "version_minor": 0
      },
      "text/plain": [
       "zhcy2ZxmkEk_60.0_210.0.mp4:   0%|          | 0.00/12.2M [00:00<?, ?B/s]"
      ]
     },
     "metadata": {},
     "output_type": "display_data"
    },
    {
     "data": {
      "application/vnd.jupyter.widget-view+json": {
       "model_id": "ed4045b06d5c4a6b89f1848247ff014b",
       "version_major": 2,
       "version_minor": 0
      },
      "text/plain": [
       "2hzRhdHbdq4_60.0_210.0.mp4:   0%|          | 0.00/11.3M [00:00<?, ?B/s]"
      ]
     },
     "metadata": {},
     "output_type": "display_data"
    },
    {
     "data": {
      "application/vnd.jupyter.widget-view+json": {
       "model_id": "b4cb21a24b8247beb70a5df633238cf3",
       "version_major": 2,
       "version_minor": 0
      },
      "text/plain": [
       "ItPcptkTeBo_360.0_510.0.mp4:   0%|          | 0.00/9.07M [00:00<?, ?B/s]"
      ]
     },
     "metadata": {},
     "output_type": "display_data"
    },
    {
     "data": {
      "application/vnd.jupyter.widget-view+json": {
       "model_id": "1b610d3cee0840c2a1f69f66291ce730",
       "version_major": 2,
       "version_minor": 0
      },
      "text/plain": [
       "AumoeRSj8xs_510.0_660.0.mp4:   0%|          | 0.00/10.6M [00:00<?, ?B/s]"
      ]
     },
     "metadata": {},
     "output_type": "display_data"
    },
    {
     "data": {
      "application/vnd.jupyter.widget-view+json": {
       "model_id": "132f99a3666c4a039b040c7529896000",
       "version_major": 2,
       "version_minor": 0
      },
      "text/plain": [
       "RQeZNFfEaBY_360.0_510.0.mp4:   0%|          | 0.00/12.8M [00:00<?, ?B/s]"
      ]
     },
     "metadata": {},
     "output_type": "display_data"
    },
    {
     "data": {
      "application/vnd.jupyter.widget-view+json": {
       "model_id": "b58f0b3b63d44fa8b6519d2f236b22f3",
       "version_major": 2,
       "version_minor": 0
      },
      "text/plain": [
       "-jLUEGASVeE_210.0_360.0.mp4:   0%|          | 0.00/11.7M [00:00<?, ?B/s]"
      ]
     },
     "metadata": {},
     "output_type": "display_data"
    },
    {
     "data": {
      "application/vnd.jupyter.widget-view+json": {
       "model_id": "61f4841cb9ae4dbd8046be9b880734fb",
       "version_major": 2,
       "version_minor": 0
      },
      "text/plain": [
       "3GA-AXmARwE_60.0_210.0.mp4:   0%|          | 0.00/11.8M [00:00<?, ?B/s]"
      ]
     },
     "metadata": {},
     "output_type": "display_data"
    },
    {
     "data": {
      "application/vnd.jupyter.widget-view+json": {
       "model_id": "c0108ed4d6cc484e9c52be0d16709648",
       "version_major": 2,
       "version_minor": 0
      },
      "text/plain": [
       "3p4srkNsWI8_210.0_360.0.mp4:   0%|          | 0.00/6.27M [00:00<?, ?B/s]"
      ]
     },
     "metadata": {},
     "output_type": "display_data"
    },
    {
     "data": {
      "application/vnd.jupyter.widget-view+json": {
       "model_id": "9476c7e41a59445e9cf124f217aa9c8f",
       "version_major": 2,
       "version_minor": 0
      },
      "text/plain": [
       "T-fOaU6Txzw_510.0_660.0.mp4:   0%|          | 0.00/19.9M [00:00<?, ?B/s]"
      ]
     },
     "metadata": {},
     "output_type": "display_data"
    },
    {
     "data": {
      "application/vnd.jupyter.widget-view+json": {
       "model_id": "82c2125baba845dc86713bac58e161e1",
       "version_major": 2,
       "version_minor": 0
      },
      "text/plain": [
       "4QDcEYJJ7wU_360.0_510.0.mp4:   0%|          | 0.00/13.7M [00:00<?, ?B/s]"
      ]
     },
     "metadata": {},
     "output_type": "display_data"
    },
    {
     "data": {
      "application/vnd.jupyter.widget-view+json": {
       "model_id": "30931a00f5be469984f6e5065dd6f7a2",
       "version_major": 2,
       "version_minor": 0
      },
      "text/plain": [
       "J6X6sbqEUHM_660.0_810.0.mp4:   0%|          | 0.00/16.1M [00:00<?, ?B/s]"
      ]
     },
     "metadata": {},
     "output_type": "display_data"
    },
    {
     "data": {
      "application/vnd.jupyter.widget-view+json": {
       "model_id": "1a8fdaffe56b446a931bc0a581554da2",
       "version_major": 2,
       "version_minor": 0
      },
      "text/plain": [
       "DU10U74E-vE_60.0_210.0.mp4:   0%|          | 0.00/12.5M [00:00<?, ?B/s]"
      ]
     },
     "metadata": {},
     "output_type": "display_data"
    },
    {
     "data": {
      "application/vnd.jupyter.widget-view+json": {
       "model_id": "397b83483dee40da8afc92a66f5e57ca",
       "version_major": 2,
       "version_minor": 0
      },
      "text/plain": [
       "8bLGf3a72y4_210.0_360.0.mp4:   0%|          | 0.00/10.0M [00:00<?, ?B/s]"
      ]
     },
     "metadata": {},
     "output_type": "display_data"
    },
    {
     "data": {
      "application/vnd.jupyter.widget-view+json": {
       "model_id": "826c2138c87d4c9ba48bdfb51ef40dd5",
       "version_major": 2,
       "version_minor": 0
      },
      "text/plain": [
       "qPWKCtTFdrk_60.0_210.0.mp4:   0%|          | 0.00/10.2M [00:10<?, ?B/s]"
      ]
     },
     "metadata": {},
     "output_type": "display_data"
    },
    {
     "data": {
      "application/vnd.jupyter.widget-view+json": {
       "model_id": "f4fa08df1a6d46f2a2b6f7b751215ef7",
       "version_major": 2,
       "version_minor": 0
      },
      "text/plain": [
       "Wfyuia-N510_660.0_810.0.mp4:   0%|          | 0.00/9.21M [00:00<?, ?B/s]"
      ]
     },
     "metadata": {},
     "output_type": "display_data"
    },
    {
     "data": {
      "application/vnd.jupyter.widget-view+json": {
       "model_id": "b3c9971cd2d7488181ed46cd38ff549a",
       "version_major": 2,
       "version_minor": 0
      },
      "text/plain": [
       "Wn0ReF54Gvc_510.0_660.0.mp4:   0%|          | 0.00/8.77M [00:00<?, ?B/s]"
      ]
     },
     "metadata": {},
     "output_type": "display_data"
    },
    {
     "data": {
      "application/vnd.jupyter.widget-view+json": {
       "model_id": "a914b7a016fb408683e96de9ee795b77",
       "version_major": 2,
       "version_minor": 0
      },
      "text/plain": [
       "blkLYe1ubYw_360.0_510.0.mp4:   0%|          | 0.00/9.29M [00:00<?, ?B/s]"
      ]
     },
     "metadata": {},
     "output_type": "display_data"
    },
    {
     "data": {
      "application/vnd.jupyter.widget-view+json": {
       "model_id": "af2887407e8c4910a8d464e1d4c73b83",
       "version_major": 2,
       "version_minor": 0
      },
      "text/plain": [
       "LoLqz33MJNU_360.0_510.0.mp4:   0%|          | 0.00/9.95M [00:00<?, ?B/s]"
      ]
     },
     "metadata": {},
     "output_type": "display_data"
    },
    {
     "data": {
      "application/vnd.jupyter.widget-view+json": {
       "model_id": "96dc3a018a5f45a5a2d1613b84a01419",
       "version_major": 2,
       "version_minor": 0
      },
      "text/plain": [
       "WX7NFYeNgn0_360.0_510.0.mp4:   0%|          | 0.00/7.48M [00:00<?, ?B/s]"
      ]
     },
     "metadata": {},
     "output_type": "display_data"
    },
    {
     "data": {
      "application/vnd.jupyter.widget-view+json": {
       "model_id": "da7215f348514d7e936750b48a510f0e",
       "version_major": 2,
       "version_minor": 0
      },
      "text/plain": [
       "NJpmjlwthHY_210.0_360.0.mp4:   0%|          | 0.00/9.60M [00:00<?, ?B/s]"
      ]
     },
     "metadata": {},
     "output_type": "display_data"
    },
    {
     "data": {
      "application/vnd.jupyter.widget-view+json": {
       "model_id": "ee41eb1dfecc41a19e66e74ec71a4d40",
       "version_major": 2,
       "version_minor": 0
      },
      "text/plain": [
       "IADKQKCwosM_210.0_360.0.mp4:   0%|          | 0.00/7.94M [00:00<?, ?B/s]"
      ]
     },
     "metadata": {},
     "output_type": "display_data"
    },
    {
     "data": {
      "application/vnd.jupyter.widget-view+json": {
       "model_id": "0ec90f1413fc43a49827cf42c81bba6d",
       "version_major": 2,
       "version_minor": 0
      },
      "text/plain": [
       "kHYOzrXB5E8_60.0_210.0.mp4:   0%|          | 0.00/6.93M [00:00<?, ?B/s]"
      ]
     },
     "metadata": {},
     "output_type": "display_data"
    },
    {
     "data": {
      "application/vnd.jupyter.widget-view+json": {
       "model_id": "6c604407dad74a20bde7680b7ef273bf",
       "version_major": 2,
       "version_minor": 0
      },
      "text/plain": [
       "S4Wr9-29sGQ_60.0_210.0.mp4:   0%|          | 0.00/11.9M [00:00<?, ?B/s]"
      ]
     },
     "metadata": {},
     "output_type": "display_data"
    },
    {
     "data": {
      "application/vnd.jupyter.widget-view+json": {
       "model_id": "3e4672fb69284c93a043eb8e79fd542d",
       "version_major": 2,
       "version_minor": 0
      },
      "text/plain": [
       "LSsrkwqOoFU_60.0_210.0.mp4:   0%|          | 0.00/12.4M [00:00<?, ?B/s]"
      ]
     },
     "metadata": {},
     "output_type": "display_data"
    },
    {
     "data": {
      "application/vnd.jupyter.widget-view+json": {
       "model_id": "04bff29e44ef41d19ba21f94b42865f5",
       "version_major": 2,
       "version_minor": 0
      },
      "text/plain": [
       "c5ZBc2Ukn2k_60.0_210.0.mp4:   0%|          | 0.00/21.2M [00:00<?, ?B/s]"
      ]
     },
     "metadata": {},
     "output_type": "display_data"
    },
    {
     "data": {
      "application/vnd.jupyter.widget-view+json": {
       "model_id": "cdc7314ac4fd498fb1c4a6c63d377308",
       "version_major": 2,
       "version_minor": 0
      },
      "text/plain": [
       "o9Kv6A3fTqA_360.0_510.0.mp4:   0%|          | 0.00/7.88M [00:00<?, ?B/s]"
      ]
     },
     "metadata": {},
     "output_type": "display_data"
    },
    {
     "data": {
      "application/vnd.jupyter.widget-view+json": {
       "model_id": "1caa5f4ff88a4b32ac03b152e1f7f9b5",
       "version_major": 2,
       "version_minor": 0
      },
      "text/plain": [
       "7IdstUKKMKc_660.0_810.0.mp4:   0%|          | 0.00/10.3M [00:00<?, ?B/s]"
      ]
     },
     "metadata": {},
     "output_type": "display_data"
    },
    {
     "data": {
      "application/vnd.jupyter.widget-view+json": {
       "model_id": "463e485d4d5249dba55c528818dd4401",
       "version_major": 2,
       "version_minor": 0
      },
      "text/plain": [
       "r7e61SpUy2w_360.0_510.0.mp4:   0%|          | 0.00/11.4M [00:00<?, ?B/s]"
      ]
     },
     "metadata": {},
     "output_type": "display_data"
    },
    {
     "data": {
      "application/vnd.jupyter.widget-view+json": {
       "model_id": "0858e281782b451ead69ba66b32eb98b",
       "version_major": 2,
       "version_minor": 0
      },
      "text/plain": [
       "NucPQEbHFMI_60.0_210.0.mp4:   0%|          | 0.00/13.4M [00:00<?, ?B/s]"
      ]
     },
     "metadata": {},
     "output_type": "display_data"
    },
    {
     "data": {
      "application/vnd.jupyter.widget-view+json": {
       "model_id": "f1e68b6fd0f04d8b90ed67dd04be186c",
       "version_major": 2,
       "version_minor": 0
      },
      "text/plain": [
       "k7YgCeqaaWA_360.0_510.0.mp4:   0%|          | 0.00/13.6M [00:00<?, ?B/s]"
      ]
     },
     "metadata": {},
     "output_type": "display_data"
    },
    {
     "data": {
      "application/vnd.jupyter.widget-view+json": {
       "model_id": "a791bb7bae394daead35c76e8a885634",
       "version_major": 2,
       "version_minor": 0
      },
      "text/plain": [
       "MJISzA_deyA_660.0_810.0.mp4:   0%|          | 0.00/18.7M [00:00<?, ?B/s]"
      ]
     },
     "metadata": {},
     "output_type": "display_data"
    },
    {
     "data": {
      "application/vnd.jupyter.widget-view+json": {
       "model_id": "3142844e50e6406b8524c30bf19ddb46",
       "version_major": 2,
       "version_minor": 0
      },
      "text/plain": [
       "yuihc2tdekM_210.0_360.0.mp4:   0%|          | 0.00/18.9M [00:00<?, ?B/s]"
      ]
     },
     "metadata": {},
     "output_type": "display_data"
    },
    {
     "data": {
      "application/vnd.jupyter.widget-view+json": {
       "model_id": "81b93c3faf594e23aa43e877954f3660",
       "version_major": 2,
       "version_minor": 0
      },
      "text/plain": [
       "aYovZYJY9Wo_360.0_510.0.mp4:   0%|          | 0.00/12.0M [00:00<?, ?B/s]"
      ]
     },
     "metadata": {},
     "output_type": "display_data"
    },
    {
     "data": {
      "application/vnd.jupyter.widget-view+json": {
       "model_id": "dc9d01944e7b4e15a1bbd25330923e79",
       "version_major": 2,
       "version_minor": 0
      },
      "text/plain": [
       "0dTbYbfa5Zs_360.0_510.0.mp4:   0%|          | 0.00/13.2M [00:00<?, ?B/s]"
      ]
     },
     "metadata": {},
     "output_type": "display_data"
    },
    {
     "data": {
      "application/vnd.jupyter.widget-view+json": {
       "model_id": "8a08f072ddd441c6b24cb810c7a99cdd",
       "version_major": 2,
       "version_minor": 0
      },
      "text/plain": [
       "zzWIB6kuuAQ_360.0_510.0.mp4:   0%|          | 0.00/12.4M [00:00<?, ?B/s]"
      ]
     },
     "metadata": {},
     "output_type": "display_data"
    },
    {
     "data": {
      "application/vnd.jupyter.widget-view+json": {
       "model_id": "e91738126c134ac5a17cca50a799292c",
       "version_major": 2,
       "version_minor": 0
      },
      "text/plain": [
       "d5mpNbgVU5s_660.0_810.0.mp4:   0%|          | 0.00/19.3M [00:00<?, ?B/s]"
      ]
     },
     "metadata": {},
     "output_type": "display_data"
    },
    {
     "data": {
      "application/vnd.jupyter.widget-view+json": {
       "model_id": "9cf8c9014e52452abcb9306e2eaad3e1",
       "version_major": 2,
       "version_minor": 0
      },
      "text/plain": [
       "MCbNZBY0aWc_360.0_510.0.mp4:   0%|          | 0.00/14.2M [00:00<?, ?B/s]"
      ]
     },
     "metadata": {},
     "output_type": "display_data"
    },
    {
     "data": {
      "application/vnd.jupyter.widget-view+json": {
       "model_id": "1c78165ac9b94209a07190c146ce6dd6",
       "version_major": 2,
       "version_minor": 0
      },
      "text/plain": [
       "OY3YapsB4Qo_510.0_660.0.mp4:   0%|          | 0.00/14.7M [00:00<?, ?B/s]"
      ]
     },
     "metadata": {},
     "output_type": "display_data"
    },
    {
     "data": {
      "application/vnd.jupyter.widget-view+json": {
       "model_id": "9051bb0dd2b340dd9375270333676eae",
       "version_major": 2,
       "version_minor": 0
      },
      "text/plain": [
       "Dlh6REu0aXs_60.0_210.0.mp4:   0%|          | 0.00/12.1M [00:00<?, ?B/s]"
      ]
     },
     "metadata": {},
     "output_type": "display_data"
    },
    {
     "data": {
      "application/vnd.jupyter.widget-view+json": {
       "model_id": "6f2d25f95df947198e037bed181890de",
       "version_major": 2,
       "version_minor": 0
      },
      "text/plain": [
       "SSz9FuoukIg_660.0_810.0.mp4:   0%|          | 0.00/15.4M [00:00<?, ?B/s]"
      ]
     },
     "metadata": {},
     "output_type": "display_data"
    },
    {
     "data": {
      "application/vnd.jupyter.widget-view+json": {
       "model_id": "7fb89c35d6644eec93f62ed08983ae98",
       "version_major": 2,
       "version_minor": 0
      },
      "text/plain": [
       "oIqhU556H7k_60.0_210.0.mp4:   0%|          | 0.00/7.14M [00:00<?, ?B/s]"
      ]
     },
     "metadata": {},
     "output_type": "display_data"
    },
    {
     "data": {
      "application/vnd.jupyter.widget-view+json": {
       "model_id": "ad3057f28951446188f8e9fda933e295",
       "version_major": 2,
       "version_minor": 0
      },
      "text/plain": [
       "GtJXHRFhm0E_210.0_360.0.mp4:   0%|          | 0.00/13.8M [00:00<?, ?B/s]"
      ]
     },
     "metadata": {},
     "output_type": "display_data"
    },
    {
     "data": {
      "application/vnd.jupyter.widget-view+json": {
       "model_id": "f2d5738d93ec499c98fa6b75de6f008c",
       "version_major": 2,
       "version_minor": 0
      },
      "text/plain": [
       "N-6veyj1FZE_60.0_210.0.mp4:   0%|          | 0.00/11.1M [00:00<?, ?B/s]"
      ]
     },
     "metadata": {},
     "output_type": "display_data"
    },
    {
     "data": {
      "application/vnd.jupyter.widget-view+json": {
       "model_id": "0467e330b834417192c2e0dc354e384e",
       "version_major": 2,
       "version_minor": 0
      },
      "text/plain": [
       "ye90muj-Vyw_360.0_510.0.mp4:   0%|          | 0.00/12.9M [00:00<?, ?B/s]"
      ]
     },
     "metadata": {},
     "output_type": "display_data"
    },
    {
     "data": {
      "application/vnd.jupyter.widget-view+json": {
       "model_id": "031c5a2b31354a04b230bf26642172ec",
       "version_major": 2,
       "version_minor": 0
      },
      "text/plain": [
       "TNkHgO68F6U_660.0_810.0.mp4:   0%|          | 0.00/14.8M [00:00<?, ?B/s]"
      ]
     },
     "metadata": {},
     "output_type": "display_data"
    },
    {
     "data": {
      "application/vnd.jupyter.widget-view+json": {
       "model_id": "a75a9bd1410341a6af17bad264fe6be4",
       "version_major": 2,
       "version_minor": 0
      },
      "text/plain": [
       "d_-6Qz0621o_60.0_210.0.mp4:   0%|          | 0.00/10.7M [00:00<?, ?B/s]"
      ]
     },
     "metadata": {},
     "output_type": "display_data"
    },
    {
     "data": {
      "application/vnd.jupyter.widget-view+json": {
       "model_id": "1f41492627be4d07baecf7725ddadd55",
       "version_major": 2,
       "version_minor": 0
      },
      "text/plain": [
       "vqrq9ruZzHM_60.0_210.0.mp4:   0%|          | 0.00/8.86M [00:00<?, ?B/s]"
      ]
     },
     "metadata": {},
     "output_type": "display_data"
    },
    {
     "data": {
      "application/vnd.jupyter.widget-view+json": {
       "model_id": "b8f2372ad6324664a49d011836a9ce63",
       "version_major": 2,
       "version_minor": 0
      },
      "text/plain": [
       "bDqmqax9FCE_360.0_510.0.mp4:   0%|          | 0.00/6.36M [00:00<?, ?B/s]"
      ]
     },
     "metadata": {},
     "output_type": "display_data"
    },
    {
     "data": {
      "application/vnd.jupyter.widget-view+json": {
       "model_id": "63b8c1aba4d8437c81cc4dd97eefc7fb",
       "version_major": 2,
       "version_minor": 0
      },
      "text/plain": [
       "wKcAHozjvzo_60.0_210.0.mp4:   0%|          | 0.00/17.2M [00:00<?, ?B/s]"
      ]
     },
     "metadata": {},
     "output_type": "display_data"
    },
    {
     "data": {
      "application/vnd.jupyter.widget-view+json": {
       "model_id": "7b049b21125b499ca7369251db65f4c8",
       "version_major": 2,
       "version_minor": 0
      },
      "text/plain": [
       "0nQgqIJbCZw_510.0_660.0.mp4:   0%|          | 0.00/7.13M [00:00<?, ?B/s]"
      ]
     },
     "metadata": {},
     "output_type": "display_data"
    },
    {
     "data": {
      "application/vnd.jupyter.widget-view+json": {
       "model_id": "a2128764f83b464eb17f887edae91bc7",
       "version_major": 2,
       "version_minor": 0
      },
      "text/plain": [
       "ODuEl4oNae0_60.0_210.0.mp4:   0%|          | 0.00/11.8M [00:00<?, ?B/s]"
      ]
     },
     "metadata": {},
     "output_type": "display_data"
    },
    {
     "data": {
      "application/vnd.jupyter.widget-view+json": {
       "model_id": "29fb2d0838f6418ebce6f2ee5bd159ac",
       "version_major": 2,
       "version_minor": 0
      },
      "text/plain": [
       "jBZnY21JbiY_360.0_510.0.mp4:   0%|          | 0.00/12.2M [00:00<?, ?B/s]"
      ]
     },
     "metadata": {},
     "output_type": "display_data"
    },
    {
     "data": {
      "application/vnd.jupyter.widget-view+json": {
       "model_id": "8f2b4bf3946d43128dff5e08753eaa3d",
       "version_major": 2,
       "version_minor": 0
      },
      "text/plain": [
       "XdADTZ27wQE_360.0_510.0.mp4:   0%|          | 0.00/14.4M [00:00<?, ?B/s]"
      ]
     },
     "metadata": {},
     "output_type": "display_data"
    },
    {
     "data": {
      "application/vnd.jupyter.widget-view+json": {
       "model_id": "ac91eac865124f8caf7916f2aa3e4f1a",
       "version_major": 2,
       "version_minor": 0
      },
      "text/plain": [
       "UAdDmRNdvaU_60.0_210.0.mp4:   0%|          | 0.00/9.73M [00:00<?, ?B/s]"
      ]
     },
     "metadata": {},
     "output_type": "display_data"
    },
    {
     "data": {
      "application/vnd.jupyter.widget-view+json": {
       "model_id": "f4a6c0f487314118a42d55120ae4b623",
       "version_major": 2,
       "version_minor": 0
      },
      "text/plain": [
       "frdkTV58-B8_360.0_510.0.mp4:   0%|          | 0.00/7.91M [00:00<?, ?B/s]"
      ]
     },
     "metadata": {},
     "output_type": "display_data"
    },
    {
     "data": {
      "application/vnd.jupyter.widget-view+json": {
       "model_id": "7dc37cf939f54ed2a95d64a63d5cbbb6",
       "version_major": 2,
       "version_minor": 0
      },
      "text/plain": [
       "EyZXViJiTOg_210.0_360.0.mp4:   0%|          | 0.00/15.0M [00:00<?, ?B/s]"
      ]
     },
     "metadata": {},
     "output_type": "display_data"
    },
    {
     "data": {
      "application/vnd.jupyter.widget-view+json": {
       "model_id": "715aa9d45617402ab6590a0cb2008ea9",
       "version_major": 2,
       "version_minor": 0
      },
      "text/plain": [
       "Oo_Y_gFvTak_60.0_210.0.mp4:   0%|          | 0.00/10.7M [00:00<?, ?B/s]"
      ]
     },
     "metadata": {},
     "output_type": "display_data"
    },
    {
     "data": {
      "application/vnd.jupyter.widget-view+json": {
       "model_id": "9c71eed05ae94332a4bdd61f3be44d1c",
       "version_major": 2,
       "version_minor": 0
      },
      "text/plain": [
       "rSEN4055eOU_60.0_210.0.mp4:   0%|          | 0.00/6.57M [00:00<?, ?B/s]"
      ]
     },
     "metadata": {},
     "output_type": "display_data"
    },
    {
     "data": {
      "application/vnd.jupyter.widget-view+json": {
       "model_id": "6f1e647b54844ea990abde23ff1cacad",
       "version_major": 2,
       "version_minor": 0
      },
      "text/plain": [
       "--euWZ-mcOg_210.0_360.0.mp4:   0%|          | 0.00/8.59M [00:00<?, ?B/s]"
      ]
     },
     "metadata": {},
     "output_type": "display_data"
    },
    {
     "data": {
      "application/vnd.jupyter.widget-view+json": {
       "model_id": "e67ae3dfca4d49128cb557480047a052",
       "version_major": 2,
       "version_minor": 0
      },
      "text/plain": [
       "XOkfOLbSE6o_360.0_510.0.mp4:   0%|          | 0.00/10.6M [00:00<?, ?B/s]"
      ]
     },
     "metadata": {},
     "output_type": "display_data"
    },
    {
     "data": {
      "application/vnd.jupyter.widget-view+json": {
       "model_id": "1aec39bdb04f4c30b5ae87b318e34e2b",
       "version_major": 2,
       "version_minor": 0
      },
      "text/plain": [
       "9bQ98HLDQ38_210.0_360.0.mp4:   0%|          | 0.00/18.3M [00:00<?, ?B/s]"
      ]
     },
     "metadata": {},
     "output_type": "display_data"
    },
    {
     "data": {
      "application/vnd.jupyter.widget-view+json": {
       "model_id": "5e56bd07414a4d599e7189f25507b43f",
       "version_major": 2,
       "version_minor": 0
      },
      "text/plain": [
       "A5i_pxq3PKI_60.0_210.0.mp4:   0%|          | 0.00/6.21M [00:00<?, ?B/s]"
      ]
     },
     "metadata": {},
     "output_type": "display_data"
    },
    {
     "data": {
      "application/vnd.jupyter.widget-view+json": {
       "model_id": "11de8c757bc543a1960fe5287df735bc",
       "version_major": 2,
       "version_minor": 0
      },
      "text/plain": [
       "Mvv9vuJW4qY_660.0_810.0.mp4:   0%|          | 0.00/11.5M [00:00<?, ?B/s]"
      ]
     },
     "metadata": {},
     "output_type": "display_data"
    },
    {
     "data": {
      "application/vnd.jupyter.widget-view+json": {
       "model_id": "a81a28f66e554227a5c0082dfea467bd",
       "version_major": 2,
       "version_minor": 0
      },
      "text/plain": [
       "bRWIqrmiTN0_210.0_360.0.mp4:   0%|          | 0.00/9.92M [00:00<?, ?B/s]"
      ]
     },
     "metadata": {},
     "output_type": "display_data"
    },
    {
     "data": {
      "application/vnd.jupyter.widget-view+json": {
       "model_id": "044c445ec1084279999253029315ec71",
       "version_major": 2,
       "version_minor": 0
      },
      "text/plain": [
       "tfng_FBuKQI_60.0_210.0.mp4:   0%|          | 0.00/9.00M [00:00<?, ?B/s]"
      ]
     },
     "metadata": {},
     "output_type": "display_data"
    },
    {
     "data": {
      "application/vnd.jupyter.widget-view+json": {
       "model_id": "6598a10e81504a6e847b5d17c82e8df3",
       "version_major": 2,
       "version_minor": 0
      },
      "text/plain": [
       "iQCvMfh5RC0_510.0_660.0.mp4:   0%|          | 0.00/13.7M [00:00<?, ?B/s]"
      ]
     },
     "metadata": {},
     "output_type": "display_data"
    },
    {
     "data": {
      "application/vnd.jupyter.widget-view+json": {
       "model_id": "6d5855ed7d3442ca96e655608420fc31",
       "version_major": 2,
       "version_minor": 0
      },
      "text/plain": [
       "F9uLl4Ak400_60.0_210.0.mp4:   0%|          | 0.00/16.5M [00:00<?, ?B/s]"
      ]
     },
     "metadata": {},
     "output_type": "display_data"
    },
    {
     "data": {
      "application/vnd.jupyter.widget-view+json": {
       "model_id": "7b7a87e7a13b412195e0f2a3dff3b104",
       "version_major": 2,
       "version_minor": 0
      },
      "text/plain": [
       "Zg3euh8V70I_60.0_210.0.mp4:   0%|          | 0.00/14.7M [00:00<?, ?B/s]"
      ]
     },
     "metadata": {},
     "output_type": "display_data"
    },
    {
     "data": {
      "application/vnd.jupyter.widget-view+json": {
       "model_id": "cade8c55591841d98cfcf5e2cbf2a539",
       "version_major": 2,
       "version_minor": 0
      },
      "text/plain": [
       "--a6qL3eL0c_510.0_660.0.mp4:   0%|          | 0.00/12.2M [00:00<?, ?B/s]"
      ]
     },
     "metadata": {},
     "output_type": "display_data"
    },
    {
     "data": {
      "application/vnd.jupyter.widget-view+json": {
       "model_id": "05525e9c55414881bbd55f95ea7c2fc8",
       "version_major": 2,
       "version_minor": 0
      },
      "text/plain": [
       "IjEjR5lI7us_60.0_210.0.mp4:   0%|          | 0.00/12.9M [00:00<?, ?B/s]"
      ]
     },
     "metadata": {},
     "output_type": "display_data"
    },
    {
     "data": {
      "application/vnd.jupyter.widget-view+json": {
       "model_id": "3702fa2384ba41eb94192d9e24ca9030",
       "version_major": 2,
       "version_minor": 0
      },
      "text/plain": [
       "PXlRV1Zttu8_510.0_660.0.mp4:   0%|          | 0.00/12.6M [00:00<?, ?B/s]"
      ]
     },
     "metadata": {},
     "output_type": "display_data"
    },
    {
     "data": {
      "application/vnd.jupyter.widget-view+json": {
       "model_id": "15afff35db5146678f3e73fbd04f07de",
       "version_major": 2,
       "version_minor": 0
      },
      "text/plain": [
       "g7nUxybj6gM_510.0_660.0.mp4:   0%|          | 0.00/8.04M [00:00<?, ?B/s]"
      ]
     },
     "metadata": {},
     "output_type": "display_data"
    },
    {
     "data": {
      "application/vnd.jupyter.widget-view+json": {
       "model_id": "97a9d54c6a614e1e9aff79b8c748834a",
       "version_major": 2,
       "version_minor": 0
      },
      "text/plain": [
       "GToHEIpuRkU_510.0_660.0.mp4:   0%|          | 0.00/16.4M [00:00<?, ?B/s]"
      ]
     },
     "metadata": {},
     "output_type": "display_data"
    },
    {
     "data": {
      "application/vnd.jupyter.widget-view+json": {
       "model_id": "57dfd32500934824b4c7be413e89a7aa",
       "version_major": 2,
       "version_minor": 0
      },
      "text/plain": [
       "vOCXMt0yWYc_210.0_360.0.mp4:   0%|          | 0.00/22.1M [00:00<?, ?B/s]"
      ]
     },
     "metadata": {},
     "output_type": "display_data"
    },
    {
     "data": {
      "application/vnd.jupyter.widget-view+json": {
       "model_id": "5f9df25df2974dd9b3894715a04161b4",
       "version_major": 2,
       "version_minor": 0
      },
      "text/plain": [
       "0W0KL44OJbY_360.0_510.0.mp4:   0%|          | 0.00/13.9M [00:00<?, ?B/s]"
      ]
     },
     "metadata": {},
     "output_type": "display_data"
    },
    {
     "data": {
      "application/vnd.jupyter.widget-view+json": {
       "model_id": "4c66cd8ac63840b296a0801c42457608",
       "version_major": 2,
       "version_minor": 0
      },
      "text/plain": [
       "oqkZ22RsvYQ_210.0_360.0.mp4:   0%|          | 0.00/15.0M [00:00<?, ?B/s]"
      ]
     },
     "metadata": {},
     "output_type": "display_data"
    },
    {
     "data": {
      "application/vnd.jupyter.widget-view+json": {
       "model_id": "9fe28c4a9f5a42b59b680ee1ab1a15eb",
       "version_major": 2,
       "version_minor": 0
      },
      "text/plain": [
       "7lJayZ13GVg_660.0_810.0.mp4:   0%|          | 0.00/11.2M [00:00<?, ?B/s]"
      ]
     },
     "metadata": {},
     "output_type": "display_data"
    },
    {
     "data": {
      "application/vnd.jupyter.widget-view+json": {
       "model_id": "a8db3ba375d34bd2b25e48281ead7be1",
       "version_major": 2,
       "version_minor": 0
      },
      "text/plain": [
       "WF5szli1nCY_510.0_660.0.mp4:   0%|          | 0.00/9.99M [00:00<?, ?B/s]"
      ]
     },
     "metadata": {},
     "output_type": "display_data"
    },
    {
     "data": {
      "application/vnd.jupyter.widget-view+json": {
       "model_id": "59d2090086334be185fc23255ed17ff1",
       "version_major": 2,
       "version_minor": 0
      },
      "text/plain": [
       "8QGVfoWA0qc_210.0_360.0.mp4:   0%|          | 0.00/11.3M [00:00<?, ?B/s]"
      ]
     },
     "metadata": {},
     "output_type": "display_data"
    },
    {
     "data": {
      "application/vnd.jupyter.widget-view+json": {
       "model_id": "f144fec66a6d467085b08569b13eed56",
       "version_major": 2,
       "version_minor": 0
      },
      "text/plain": [
       "T2t1_b9qPyQ_60.0_210.0.mp4:   0%|          | 0.00/13.7M [00:00<?, ?B/s]"
      ]
     },
     "metadata": {},
     "output_type": "display_data"
    },
    {
     "data": {
      "application/vnd.jupyter.widget-view+json": {
       "model_id": "d968d4d2e4354423955e5f34c4e0aa30",
       "version_major": 2,
       "version_minor": 0
      },
      "text/plain": [
       "xid-wvevX8g_60.0_210.0.mp4:   0%|          | 0.00/11.1M [00:00<?, ?B/s]"
      ]
     },
     "metadata": {},
     "output_type": "display_data"
    },
    {
     "data": {
      "application/vnd.jupyter.widget-view+json": {
       "model_id": "581708231a8641e6837a83f433bc2a97",
       "version_major": 2,
       "version_minor": 0
      },
      "text/plain": [
       "mjV8VDvy-Cs_210.0_360.0.mp4:   0%|          | 0.00/13.0M [00:00<?, ?B/s]"
      ]
     },
     "metadata": {},
     "output_type": "display_data"
    },
    {
     "data": {
      "application/vnd.jupyter.widget-view+json": {
       "model_id": "3728f238582b46509c951c14f310edb5",
       "version_major": 2,
       "version_minor": 0
      },
      "text/plain": [
       "m9b_Y6EYgrc_360.0_510.0.mp4:   0%|          | 0.00/14.4M [00:00<?, ?B/s]"
      ]
     },
     "metadata": {},
     "output_type": "display_data"
    },
    {
     "data": {
      "application/vnd.jupyter.widget-view+json": {
       "model_id": "e1fdafc926f04de2860ae4655a1f10ff",
       "version_major": 2,
       "version_minor": 0
      },
      "text/plain": [
       "iKK8DNZjJl0_210.0_360.0.mp4:   0%|          | 0.00/14.0M [00:00<?, ?B/s]"
      ]
     },
     "metadata": {},
     "output_type": "display_data"
    },
    {
     "data": {
      "application/vnd.jupyter.widget-view+json": {
       "model_id": "cffa0aed01ba48a6b649725fce5b24f0",
       "version_major": 2,
       "version_minor": 0
      },
      "text/plain": [
       "wmQ7lsm7S4k_510.0_660.0.mp4:   0%|          | 0.00/6.98M [00:00<?, ?B/s]"
      ]
     },
     "metadata": {},
     "output_type": "display_data"
    },
    {
     "data": {
      "application/vnd.jupyter.widget-view+json": {
       "model_id": "5fe77985c69d4a5ca2f5fa43658b01b5",
       "version_major": 2,
       "version_minor": 0
      },
      "text/plain": [
       "9R8o735z6uU_210.0_360.0.mp4:   0%|          | 0.00/12.7M [00:00<?, ?B/s]"
      ]
     },
     "metadata": {},
     "output_type": "display_data"
    },
    {
     "data": {
      "application/vnd.jupyter.widget-view+json": {
       "model_id": "9dfcf568c12a4d0ab7ed0312a6894f06",
       "version_major": 2,
       "version_minor": 0
      },
      "text/plain": [
       "RhURz5m4YOI_60.0_210.0.mp4:   0%|          | 0.00/8.57M [00:00<?, ?B/s]"
      ]
     },
     "metadata": {},
     "output_type": "display_data"
    },
    {
     "data": {
      "application/vnd.jupyter.widget-view+json": {
       "model_id": "fd4d1e2274e14da4bdce12d2c2e0ca0f",
       "version_major": 2,
       "version_minor": 0
      },
      "text/plain": [
       "MbkinIfE6mg_60.0_210.0.mp4:   0%|          | 0.00/11.4M [00:00<?, ?B/s]"
      ]
     },
     "metadata": {},
     "output_type": "display_data"
    },
    {
     "data": {
      "application/vnd.jupyter.widget-view+json": {
       "model_id": "aad21069e1ec40d2b1909c2a4d180df9",
       "version_major": 2,
       "version_minor": 0
      },
      "text/plain": [
       "Bw1PzwBZdto_210.0_360.0.mp4:   0%|          | 0.00/13.8M [00:00<?, ?B/s]"
      ]
     },
     "metadata": {},
     "output_type": "display_data"
    },
    {
     "data": {
      "application/vnd.jupyter.widget-view+json": {
       "model_id": "b95a85d4b44f4f04b0f1d121ba30a7f2",
       "version_major": 2,
       "version_minor": 0
      },
      "text/plain": [
       "wZM3Fo-ukdM_360.0_510.0.mp4:   0%|          | 0.00/12.0M [00:00<?, ?B/s]"
      ]
     },
     "metadata": {},
     "output_type": "display_data"
    },
    {
     "data": {
      "application/vnd.jupyter.widget-view+json": {
       "model_id": "bb83acb1c828435687d7d6059f85ec0c",
       "version_major": 2,
       "version_minor": 0
      },
      "text/plain": [
       "ZzGSP0ySLD0_660.0_810.0.mp4:   0%|          | 0.00/10.6M [00:00<?, ?B/s]"
      ]
     },
     "metadata": {},
     "output_type": "display_data"
    },
    {
     "data": {
      "application/vnd.jupyter.widget-view+json": {
       "model_id": "a79365a7a35d4f2982d6f04d177e92cb",
       "version_major": 2,
       "version_minor": 0
      },
      "text/plain": [
       "3jKR914gudc_60.0_210.0.mp4:   0%|          | 0.00/12.2M [00:00<?, ?B/s]"
      ]
     },
     "metadata": {},
     "output_type": "display_data"
    },
    {
     "data": {
      "application/vnd.jupyter.widget-view+json": {
       "model_id": "5b75afdfc5f54d8094770d7f4864d575",
       "version_major": 2,
       "version_minor": 0
      },
      "text/plain": [
       "NzIqIFg_2o4_60.0_210.0.mp4:   0%|          | 0.00/14.7M [00:00<?, ?B/s]"
      ]
     },
     "metadata": {},
     "output_type": "display_data"
    },
    {
     "data": {
      "application/vnd.jupyter.widget-view+json": {
       "model_id": "6f9b225e38224b858cce886476782217",
       "version_major": 2,
       "version_minor": 0
      },
      "text/plain": [
       "Es62jjYSQ3Q_210.0_360.0.mp4:   0%|          | 0.00/9.26M [00:00<?, ?B/s]"
      ]
     },
     "metadata": {},
     "output_type": "display_data"
    },
    {
     "data": {
      "application/vnd.jupyter.widget-view+json": {
       "model_id": "2b087becdd874b6f97e4729b67a18232",
       "version_major": 2,
       "version_minor": 0
      },
      "text/plain": [
       "eSbPJx_eH8E_660.0_810.0.mp4:   0%|          | 0.00/14.9M [00:00<?, ?B/s]"
      ]
     },
     "metadata": {},
     "output_type": "display_data"
    },
    {
     "data": {
      "application/vnd.jupyter.widget-view+json": {
       "model_id": "a349905cb19843a99445490a3c53acd0",
       "version_major": 2,
       "version_minor": 0
      },
      "text/plain": [
       "QndZGvTthvY_660.0_810.0.mp4:   0%|          | 0.00/12.8M [00:00<?, ?B/s]"
      ]
     },
     "metadata": {},
     "output_type": "display_data"
    },
    {
     "data": {
      "application/vnd.jupyter.widget-view+json": {
       "model_id": "c0f182181a484016b02d3c095e32dafa",
       "version_major": 2,
       "version_minor": 0
      },
      "text/plain": [
       "S4Wr9-29sGQ_660.0_810.0.mp4:   0%|          | 0.00/11.9M [00:00<?, ?B/s]"
      ]
     },
     "metadata": {},
     "output_type": "display_data"
    },
    {
     "data": {
      "application/vnd.jupyter.widget-view+json": {
       "model_id": "36121402fc7f4517bbb51a1b02c572ce",
       "version_major": 2,
       "version_minor": 0
      },
      "text/plain": [
       "P-uLZof7vPA_210.0_360.0.mp4:   0%|          | 0.00/5.68M [00:00<?, ?B/s]"
      ]
     },
     "metadata": {},
     "output_type": "display_data"
    },
    {
     "data": {
      "application/vnd.jupyter.widget-view+json": {
       "model_id": "e82eea64765142efb3b5b049a7789cf5",
       "version_major": 2,
       "version_minor": 0
      },
      "text/plain": [
       "j7rJstUseKg_210.0_360.0.mp4:   0%|          | 0.00/8.87M [00:00<?, ?B/s]"
      ]
     },
     "metadata": {},
     "output_type": "display_data"
    },
    {
     "data": {
      "application/vnd.jupyter.widget-view+json": {
       "model_id": "8db0ab9ce4b041469043a7354527e78e",
       "version_major": 2,
       "version_minor": 0
      },
      "text/plain": [
       "SSz9FuoukIg_360.0_510.0.mp4:   0%|          | 0.00/14.9M [00:00<?, ?B/s]"
      ]
     },
     "metadata": {},
     "output_type": "display_data"
    },
    {
     "data": {
      "application/vnd.jupyter.widget-view+json": {
       "model_id": "4e7f48d4f79948acaa2966f66132f940",
       "version_major": 2,
       "version_minor": 0
      },
      "text/plain": [
       "_64diyTtjwQ_210.0_360.0.mp4:   0%|          | 0.00/13.7M [00:00<?, ?B/s]"
      ]
     },
     "metadata": {},
     "output_type": "display_data"
    },
    {
     "data": {
      "application/vnd.jupyter.widget-view+json": {
       "model_id": "436131d457374bd68123fa353f9e56c5",
       "version_major": 2,
       "version_minor": 0
      },
      "text/plain": [
       "-MZ4curG4oo_60.0_210.0.mp4:   0%|          | 0.00/7.98M [00:00<?, ?B/s]"
      ]
     },
     "metadata": {},
     "output_type": "display_data"
    },
    {
     "data": {
      "application/vnd.jupyter.widget-view+json": {
       "model_id": "ca90900ca672446eb269213bade73a74",
       "version_major": 2,
       "version_minor": 0
      },
      "text/plain": [
       "OPx4nTUfmW4_60.0_210.0.mp4:   0%|          | 0.00/9.32M [00:00<?, ?B/s]"
      ]
     },
     "metadata": {},
     "output_type": "display_data"
    },
    {
     "data": {
      "application/vnd.jupyter.widget-view+json": {
       "model_id": "c26b44cbed5d4b5198482b65d30ab2e0",
       "version_major": 2,
       "version_minor": 0
      },
      "text/plain": [
       "iQCvMfh5RC0_660.0_810.0.mp4:   0%|          | 0.00/17.7M [00:00<?, ?B/s]"
      ]
     },
     "metadata": {},
     "output_type": "display_data"
    },
    {
     "data": {
      "application/vnd.jupyter.widget-view+json": {
       "model_id": "43159a0b31e44a9aabc2e0c3b690d00b",
       "version_major": 2,
       "version_minor": 0
      },
      "text/plain": [
       "WhLTN3Pta40_60.0_210.0.mp4:   0%|          | 0.00/14.7M [00:00<?, ?B/s]"
      ]
     },
     "metadata": {},
     "output_type": "display_data"
    },
    {
     "data": {
      "application/vnd.jupyter.widget-view+json": {
       "model_id": "e47c097d77b447038fb10e789ad3be05",
       "version_major": 2,
       "version_minor": 0
      },
      "text/plain": [
       "9X2hS3hWePg_210.0_360.0.mp4:   0%|          | 0.00/18.6M [00:00<?, ?B/s]"
      ]
     },
     "metadata": {},
     "output_type": "display_data"
    },
    {
     "data": {
      "application/vnd.jupyter.widget-view+json": {
       "model_id": "ca66e61784b84fd9b1676bb736c1911a",
       "version_major": 2,
       "version_minor": 0
      },
      "text/plain": [
       "2eLqrZ5jReQ_60.0_210.0.mp4:   0%|          | 0.00/14.6M [00:00<?, ?B/s]"
      ]
     },
     "metadata": {},
     "output_type": "display_data"
    },
    {
     "data": {
      "application/vnd.jupyter.widget-view+json": {
       "model_id": "df8d5c680e3d4bc4819dc221e8bd7afb",
       "version_major": 2,
       "version_minor": 0
      },
      "text/plain": [
       "5y9XrsvtTuk_510.0_660.0.mp4:   0%|          | 0.00/14.4M [00:00<?, ?B/s]"
      ]
     },
     "metadata": {},
     "output_type": "display_data"
    },
    {
     "data": {
      "application/vnd.jupyter.widget-view+json": {
       "model_id": "f5834876cb8c4c13abb8e39c23183021",
       "version_major": 2,
       "version_minor": 0
      },
      "text/plain": [
       "Qmi-Xwq-MEc_210.0_360.0.mp4:   0%|          | 0.00/13.5M [00:00<?, ?B/s]"
      ]
     },
     "metadata": {},
     "output_type": "display_data"
    },
    {
     "data": {
      "application/vnd.jupyter.widget-view+json": {
       "model_id": "72278d7e2e9c412abb5b08957cb4057e",
       "version_major": 2,
       "version_minor": 0
      },
      "text/plain": [
       "_DpRE5hVgb0_60.0_210.0.mp4:   0%|          | 0.00/22.8M [00:00<?, ?B/s]"
      ]
     },
     "metadata": {},
     "output_type": "display_data"
    },
    {
     "data": {
      "application/vnd.jupyter.widget-view+json": {
       "model_id": "6561fcea83af43fab3a384f322864579",
       "version_major": 2,
       "version_minor": 0
      },
      "text/plain": [
       "9gb6KJYFJiw_60.0_210.0.mp4:   0%|          | 0.00/4.84M [00:00<?, ?B/s]"
      ]
     },
     "metadata": {},
     "output_type": "display_data"
    },
    {
     "data": {
      "application/vnd.jupyter.widget-view+json": {
       "model_id": "d5afad72d4cf41eeb225f80fd018c12e",
       "version_major": 2,
       "version_minor": 0
      },
      "text/plain": [
       "SBC1ouj4oOQ_210.0_360.0.mp4:   0%|          | 0.00/9.30M [00:00<?, ?B/s]"
      ]
     },
     "metadata": {},
     "output_type": "display_data"
    },
    {
     "data": {
      "application/vnd.jupyter.widget-view+json": {
       "model_id": "1b2daed5934a4f89b82f344cb561c5b6",
       "version_major": 2,
       "version_minor": 0
      },
      "text/plain": [
       "IjEjR5lI7us_210.0_360.0.mp4:   0%|          | 0.00/14.8M [00:00<?, ?B/s]"
      ]
     },
     "metadata": {},
     "output_type": "display_data"
    },
    {
     "data": {
      "application/vnd.jupyter.widget-view+json": {
       "model_id": "36eea39baf6f466b86189a04e5644d49",
       "version_major": 2,
       "version_minor": 0
      },
      "text/plain": [
       "_RiDsBJNJo8_510.0_660.0.mp4:   0%|          | 0.00/10.9M [00:00<?, ?B/s]"
      ]
     },
     "metadata": {},
     "output_type": "display_data"
    },
    {
     "data": {
      "application/vnd.jupyter.widget-view+json": {
       "model_id": "ebe05e466b13426e9984f32200aa8932",
       "version_major": 2,
       "version_minor": 0
      },
      "text/plain": [
       "-YoS2o-teho_60.0_210.0.mp4:   0%|          | 0.00/13.6M [00:00<?, ?B/s]"
      ]
     },
     "metadata": {},
     "output_type": "display_data"
    },
    {
     "data": {
      "application/vnd.jupyter.widget-view+json": {
       "model_id": "a487e9f5f6c64673a8683283f2dd7895",
       "version_major": 2,
       "version_minor": 0
      },
      "text/plain": [
       "PlZyS7heG18_360.0_510.0.mp4:   0%|          | 0.00/8.58M [00:00<?, ?B/s]"
      ]
     },
     "metadata": {},
     "output_type": "display_data"
    },
    {
     "data": {
      "application/vnd.jupyter.widget-view+json": {
       "model_id": "81ea8c4e6095491e9205d4def1190b58",
       "version_major": 2,
       "version_minor": 0
      },
      "text/plain": [
       "8sR5BHbB5pg_360.0_510.0.mp4:   0%|          | 0.00/7.08M [00:00<?, ?B/s]"
      ]
     },
     "metadata": {},
     "output_type": "display_data"
    },
    {
     "data": {
      "application/vnd.jupyter.widget-view+json": {
       "model_id": "5c46cae9425a4b07b57c83864fbfc694",
       "version_major": 2,
       "version_minor": 0
      },
      "text/plain": [
       "YApuGU65csY_210.0_360.0.mp4:   0%|          | 0.00/6.38M [00:00<?, ?B/s]"
      ]
     },
     "metadata": {},
     "output_type": "display_data"
    },
    {
     "data": {
      "application/vnd.jupyter.widget-view+json": {
       "model_id": "5833bd13b461455e92ab2e3d4cce7951",
       "version_major": 2,
       "version_minor": 0
      },
      "text/plain": [
       "0RiXJ_jU9bg_60.0_210.0.mp4:   0%|          | 0.00/14.7M [00:00<?, ?B/s]"
      ]
     },
     "metadata": {},
     "output_type": "display_data"
    },
    {
     "data": {
      "application/vnd.jupyter.widget-view+json": {
       "model_id": "cccc8d07bc1e42a5ac9367cc935904d3",
       "version_major": 2,
       "version_minor": 0
      },
      "text/plain": [
       "NnL8Xh7iSxs_60.0_210.0.mp4:   0%|          | 0.00/9.96M [00:00<?, ?B/s]"
      ]
     },
     "metadata": {},
     "output_type": "display_data"
    },
    {
     "data": {
      "application/vnd.jupyter.widget-view+json": {
       "model_id": "313436aaf8a7413a94aa48fc385fbb50",
       "version_major": 2,
       "version_minor": 0
      },
      "text/plain": [
       "l6nk_fbGXeo_360.0_510.0.mp4:   0%|          | 0.00/11.6M [00:00<?, ?B/s]"
      ]
     },
     "metadata": {},
     "output_type": "display_data"
    },
    {
     "data": {
      "application/vnd.jupyter.widget-view+json": {
       "model_id": "fbd72f2fa8bc4aef86af7347c053e963",
       "version_major": 2,
       "version_minor": 0
      },
      "text/plain": [
       "D80pTAVFU4w_510.0_660.0.mp4:   0%|          | 0.00/6.64M [00:00<?, ?B/s]"
      ]
     },
     "metadata": {},
     "output_type": "display_data"
    },
    {
     "data": {
      "application/vnd.jupyter.widget-view+json": {
       "model_id": "1177ec489085403b9447e33b5fe18e41",
       "version_major": 2,
       "version_minor": 0
      },
      "text/plain": [
       "ROLHnN9SfCw_210.0_360.0.mp4:   0%|          | 0.00/14.8M [00:00<?, ?B/s]"
      ]
     },
     "metadata": {},
     "output_type": "display_data"
    },
    {
     "data": {
      "application/vnd.jupyter.widget-view+json": {
       "model_id": "3606785a96244aa5a8724609f753968c",
       "version_major": 2,
       "version_minor": 0
      },
      "text/plain": [
       "xe-H8FGZAPg_510.0_660.0.mp4:   0%|          | 0.00/8.84M [00:00<?, ?B/s]"
      ]
     },
     "metadata": {},
     "output_type": "display_data"
    },
    {
     "data": {
      "application/vnd.jupyter.widget-view+json": {
       "model_id": "bbe49e7009b14a0b830feed864a7a8ee",
       "version_major": 2,
       "version_minor": 0
      },
      "text/plain": [
       "JZRjf7rC-gk_210.0_360.0.mp4:   0%|          | 0.00/4.86M [00:00<?, ?B/s]"
      ]
     },
     "metadata": {},
     "output_type": "display_data"
    },
    {
     "data": {
      "application/vnd.jupyter.widget-view+json": {
       "model_id": "ed80b28f77e84d0d83b7fe1350f4fe99",
       "version_major": 2,
       "version_minor": 0
      },
      "text/plain": [
       "G7AhoscYnxg_360.0_510.0.mp4:   0%|          | 0.00/10.6M [00:00<?, ?B/s]"
      ]
     },
     "metadata": {},
     "output_type": "display_data"
    },
    {
     "data": {
      "application/vnd.jupyter.widget-view+json": {
       "model_id": "09c81511c8fb4c53a3bb1dcc456104c2",
       "version_major": 2,
       "version_minor": 0
      },
      "text/plain": [
       "FzsVbQr0seA_210.0_360.0.mp4:   0%|          | 0.00/7.96M [00:00<?, ?B/s]"
      ]
     },
     "metadata": {},
     "output_type": "display_data"
    }
   ],
   "source": [
    "api.upload_large_folder(\n",
    "    folder_path='videos',\n",
    "    repo_id=\"jwnt4/qvhighlights-train\",\n",
    "    repo_type=\"dataset\",\n",
    ")"
   ]
  },
  {
   "cell_type": "markdown",
   "id": "aec3dc0e",
   "metadata": {},
   "source": [
    "# Make small dataset for quick evaluation"
   ]
  },
  {
   "cell_type": "code",
   "execution_count": 11,
   "id": "874d5ec5",
   "metadata": {},
   "outputs": [],
   "source": [
    "import random \n",
    "import os\n",
    "from tqdm import tqdm\n",
    "import pandas as pd\n",
    "from huggingface_hub import HfApi\n",
    "from kaggle_secrets import UserSecretsClient\n",
    "from huggingface_hub import hf_hub_download\n",
    "user_secrets = UserSecretsClient()\n"
   ]
  },
  {
   "cell_type": "code",
   "execution_count": 6,
   "id": "31848526",
   "metadata": {},
   "outputs": [],
   "source": [
    "api = HfApi(token=user_secrets.get_secret(\"HF_TOKEN\"))"
   ]
  },
  {
   "cell_type": "code",
   "execution_count": 1,
   "id": "9d273fb7",
   "metadata": {},
   "outputs": [],
   "source": [
    "!mkdir -p charades-sta-test qvhighlights-val"
   ]
  },
  {
   "cell_type": "code",
   "execution_count": 4,
   "id": "bd4d1fd5-e909-4e3d-b25c-f6562de2466a",
   "metadata": {},
   "outputs": [
    {
     "data": {
      "application/vnd.jupyter.widget-view+json": {
       "model_id": "b915185254614012b45b8815892597f1",
       "version_major": 2,
       "version_minor": 0
      },
      "text/plain": [
       "videos.zip:   2%|1         | 126M/6.64G [00:00<?, ?B/s]"
      ]
     },
     "metadata": {},
     "output_type": "display_data"
    },
    {
     "data": {
      "text/plain": [
       "'/kaggle/working/videos.zip'"
      ]
     },
     "execution_count": 4,
     "metadata": {},
     "output_type": "execute_result"
    }
   ],
   "source": [
    "from huggingface_hub import hf_hub_download\n",
    "\n",
    "download_path = hf_hub_download(repo_id=\"jwnt4/charades-sta-test\", filename=\"videos.zip\", repo_type=\"dataset\", local_dir='/kaggle/working/')\n",
    "download_path"
   ]
  },
  {
   "cell_type": "code",
   "execution_count": 5,
   "id": "4d527474",
   "metadata": {},
   "outputs": [],
   "source": [
    "import shutil\n",
    "shutil.unpack_archive(download_path, 'charades-sta-test', 'zip')"
   ]
  },
  {
   "cell_type": "code",
   "execution_count": 9,
   "id": "cb1b72be",
   "metadata": {},
   "outputs": [],
   "source": [
    "!rm videos.zip"
   ]
  },
  {
   "cell_type": "code",
   "execution_count": 10,
   "id": "46f6bb77",
   "metadata": {},
   "outputs": [
    {
     "data": {
      "application/vnd.jupyter.widget-view+json": {
       "model_id": "370aa203a4a848e8aa1b613e16df9736",
       "version_major": 2,
       "version_minor": 0
      },
      "text/plain": [
       "charades_sta_test.txt:   0%|          | 0.00/187k [00:00<?, ?B/s]"
      ]
     },
     "metadata": {},
     "output_type": "display_data"
    }
   ],
   "source": [
    "txt_path = hf_hub_download(repo_id=\"jwnt4/charades-sta-test\", filename=\"charades_sta_test.txt\", repo_type=\"dataset\")"
   ]
  },
  {
   "cell_type": "code",
   "execution_count": 16,
   "id": "5b0d3ec7",
   "metadata": {},
   "outputs": [],
   "source": [
    "with open(txt_path, 'r') as f:\n",
    "    charades_sta_test = f.read()\n",
    "\n",
    "charades_sta_test = charades_sta_test.strip().split('\\n')"
   ]
  },
  {
   "cell_type": "code",
   "execution_count": 27,
   "id": "b7ba2072",
   "metadata": {},
   "outputs": [
    {
     "data": {
      "text/plain": [
       "'3MSZA 24.3 30.4##person turn a light on.'"
      ]
     },
     "execution_count": 27,
     "metadata": {},
     "output_type": "execute_result"
    }
   ],
   "source": [
    "charades_sta_test[0]"
   ]
  },
  {
   "cell_type": "code",
   "execution_count": 32,
   "id": "74b03c66",
   "metadata": {},
   "outputs": [],
   "source": [
    "charades_sta_test = random.sample(charades_sta_test, k=150)\n",
    "charades_sta_small_test = []\n",
    "for c in charades_sta_test:\n",
    "    feat = c.split('##')\n",
    "    vid, start, end = tuple(feat[0].split(' '))\n",
    "    row = (vid, float(start), float(end), feat[1]) \n",
    "    charades_sta_small_test.append(row)"
   ]
  },
  {
   "cell_type": "code",
   "execution_count": 33,
   "id": "52532c0c",
   "metadata": {},
   "outputs": [
    {
     "data": {
      "text/html": [
       "<div>\n",
       "<style scoped>\n",
       "    .dataframe tbody tr th:only-of-type {\n",
       "        vertical-align: middle;\n",
       "    }\n",
       "\n",
       "    .dataframe tbody tr th {\n",
       "        vertical-align: top;\n",
       "    }\n",
       "\n",
       "    .dataframe thead th {\n",
       "        text-align: right;\n",
       "    }\n",
       "</style>\n",
       "<table border=\"1\" class=\"dataframe\">\n",
       "  <thead>\n",
       "    <tr style=\"text-align: right;\">\n",
       "      <th></th>\n",
       "      <th>video</th>\n",
       "      <th>start</th>\n",
       "      <th>end</th>\n",
       "      <th>query</th>\n",
       "    </tr>\n",
       "  </thead>\n",
       "  <tbody>\n",
       "    <tr>\n",
       "      <th>0</th>\n",
       "      <td>WM2J7</td>\n",
       "      <td>0.0</td>\n",
       "      <td>9.0</td>\n",
       "      <td>a person washes a window.</td>\n",
       "    </tr>\n",
       "    <tr>\n",
       "      <th>1</th>\n",
       "      <td>FAO7J</td>\n",
       "      <td>37.3</td>\n",
       "      <td>43.6</td>\n",
       "      <td>person closing the door behind them.</td>\n",
       "    </tr>\n",
       "    <tr>\n",
       "      <th>2</th>\n",
       "      <td>KCRQU</td>\n",
       "      <td>17.2</td>\n",
       "      <td>24.3</td>\n",
       "      <td>the person opens the refrigerator.</td>\n",
       "    </tr>\n",
       "    <tr>\n",
       "      <th>3</th>\n",
       "      <td>SW5TC</td>\n",
       "      <td>13.1</td>\n",
       "      <td>18.9</td>\n",
       "      <td>person laughs at the television.</td>\n",
       "    </tr>\n",
       "    <tr>\n",
       "      <th>4</th>\n",
       "      <td>4BEZX</td>\n",
       "      <td>39.6</td>\n",
       "      <td>44.0</td>\n",
       "      <td>the person sits down in a chair.</td>\n",
       "    </tr>\n",
       "    <tr>\n",
       "      <th>...</th>\n",
       "      <td>...</td>\n",
       "      <td>...</td>\n",
       "      <td>...</td>\n",
       "      <td>...</td>\n",
       "    </tr>\n",
       "    <tr>\n",
       "      <th>145</th>\n",
       "      <td>PC7H2</td>\n",
       "      <td>4.7</td>\n",
       "      <td>18.2</td>\n",
       "      <td>person sits down on couch.</td>\n",
       "    </tr>\n",
       "    <tr>\n",
       "      <th>146</th>\n",
       "      <td>6TC5G</td>\n",
       "      <td>14.0</td>\n",
       "      <td>18.0</td>\n",
       "      <td>the person turns off the light.</td>\n",
       "    </tr>\n",
       "    <tr>\n",
       "      <th>147</th>\n",
       "      <td>OVFR0</td>\n",
       "      <td>0.0</td>\n",
       "      <td>8.5</td>\n",
       "      <td>a person was looking at a book.</td>\n",
       "    </tr>\n",
       "    <tr>\n",
       "      <th>148</th>\n",
       "      <td>4CAB5</td>\n",
       "      <td>0.0</td>\n",
       "      <td>14.5</td>\n",
       "      <td>a person is cooking on a stove.</td>\n",
       "    </tr>\n",
       "    <tr>\n",
       "      <th>149</th>\n",
       "      <td>W8CWW</td>\n",
       "      <td>16.8</td>\n",
       "      <td>30.4</td>\n",
       "      <td>a person opens a door.</td>\n",
       "    </tr>\n",
       "  </tbody>\n",
       "</table>\n",
       "<p>150 rows × 4 columns</p>\n",
       "</div>"
      ],
      "text/plain": [
       "     video  start   end                                 query\n",
       "0    WM2J7    0.0   9.0             a person washes a window.\n",
       "1    FAO7J   37.3  43.6  person closing the door behind them.\n",
       "2    KCRQU   17.2  24.3    the person opens the refrigerator.\n",
       "3    SW5TC   13.1  18.9      person laughs at the television.\n",
       "4    4BEZX   39.6  44.0      the person sits down in a chair.\n",
       "..     ...    ...   ...                                   ...\n",
       "145  PC7H2    4.7  18.2            person sits down on couch.\n",
       "146  6TC5G   14.0  18.0       the person turns off the light.\n",
       "147  OVFR0    0.0   8.5       a person was looking at a book.\n",
       "148  4CAB5    0.0  14.5       a person is cooking on a stove.\n",
       "149  W8CWW   16.8  30.4                a person opens a door.\n",
       "\n",
       "[150 rows x 4 columns]"
      ]
     },
     "execution_count": 33,
     "metadata": {},
     "output_type": "execute_result"
    }
   ],
   "source": [
    "df = pd.DataFrame(charades_sta_small_test, columns=['video', 'start', 'end', 'query'])\n",
    "df"
   ]
  },
  {
   "cell_type": "code",
   "execution_count": 34,
   "id": "ad8e061c",
   "metadata": {},
   "outputs": [
    {
     "data": {
      "text/html": [
       "<div>\n",
       "<style scoped>\n",
       "    .dataframe tbody tr th:only-of-type {\n",
       "        vertical-align: middle;\n",
       "    }\n",
       "\n",
       "    .dataframe tbody tr th {\n",
       "        vertical-align: top;\n",
       "    }\n",
       "\n",
       "    .dataframe thead th {\n",
       "        text-align: right;\n",
       "    }\n",
       "</style>\n",
       "<table border=\"1\" class=\"dataframe\">\n",
       "  <thead>\n",
       "    <tr style=\"text-align: right;\">\n",
       "      <th></th>\n",
       "      <th>start</th>\n",
       "      <th>end</th>\n",
       "    </tr>\n",
       "  </thead>\n",
       "  <tbody>\n",
       "    <tr>\n",
       "      <th>count</th>\n",
       "      <td>150.000000</td>\n",
       "      <td>150.000000</td>\n",
       "    </tr>\n",
       "    <tr>\n",
       "      <th>mean</th>\n",
       "      <td>9.807333</td>\n",
       "      <td>17.806000</td>\n",
       "    </tr>\n",
       "    <tr>\n",
       "      <th>std</th>\n",
       "      <td>10.015190</td>\n",
       "      <td>10.608634</td>\n",
       "    </tr>\n",
       "    <tr>\n",
       "      <th>min</th>\n",
       "      <td>0.000000</td>\n",
       "      <td>3.200000</td>\n",
       "    </tr>\n",
       "    <tr>\n",
       "      <th>25%</th>\n",
       "      <td>0.000000</td>\n",
       "      <td>9.400000</td>\n",
       "    </tr>\n",
       "    <tr>\n",
       "      <th>50%</th>\n",
       "      <td>7.050000</td>\n",
       "      <td>15.900000</td>\n",
       "    </tr>\n",
       "    <tr>\n",
       "      <th>75%</th>\n",
       "      <td>17.075000</td>\n",
       "      <td>24.300000</td>\n",
       "    </tr>\n",
       "    <tr>\n",
       "      <th>max</th>\n",
       "      <td>46.500000</td>\n",
       "      <td>55.000000</td>\n",
       "    </tr>\n",
       "  </tbody>\n",
       "</table>\n",
       "</div>"
      ],
      "text/plain": [
       "            start         end\n",
       "count  150.000000  150.000000\n",
       "mean     9.807333   17.806000\n",
       "std     10.015190   10.608634\n",
       "min      0.000000    3.200000\n",
       "25%      0.000000    9.400000\n",
       "50%      7.050000   15.900000\n",
       "75%     17.075000   24.300000\n",
       "max     46.500000   55.000000"
      ]
     },
     "execution_count": 34,
     "metadata": {},
     "output_type": "execute_result"
    }
   ],
   "source": [
    "df.describe()"
   ]
  },
  {
   "cell_type": "code",
   "execution_count": 35,
   "id": "9f7b773b",
   "metadata": {},
   "outputs": [],
   "source": [
    "df.to_csv('charades_sta_small_test.csv')"
   ]
  },
  {
   "cell_type": "code",
   "execution_count": 40,
   "id": "ab29842e",
   "metadata": {},
   "outputs": [
    {
     "name": "stderr",
     "output_type": "stream",
     "text": [
      "100%|██████████| 150/150 [00:01<00:00, 82.40it/s]\n"
     ]
    }
   ],
   "source": [
    "os.mkdir('videos_small/')\n",
    "for vid in tqdm(df['video']):\n",
    "    shutil.copy2(f\"charades-sta-test/{vid}.mp4\", f\"videos_small/{vid}.mp4\")"
   ]
  },
  {
   "cell_type": "code",
   "execution_count": 45,
   "id": "eae0de31",
   "metadata": {},
   "outputs": [
    {
     "data": {
      "text/plain": [
       "'/kaggle/working/videos_small.zip'"
      ]
     },
     "execution_count": 45,
     "metadata": {},
     "output_type": "execute_result"
    }
   ],
   "source": [
    "shutil.make_archive(\"videos_small\", \"zip\", \"videos_small\")"
   ]
  },
  {
   "cell_type": "code",
   "execution_count": 56,
   "id": "be4dae4f",
   "metadata": {},
   "outputs": [
    {
     "data": {
      "application/vnd.jupyter.widget-view+json": {
       "model_id": "070ef79236a54fbcb730961886fa1531",
       "version_major": 2,
       "version_minor": 0
      },
      "text/plain": [
       "videos_small.zip:   0%|          | 0.00/713M [00:00<?, ?B/s]"
      ]
     },
     "metadata": {},
     "output_type": "display_data"
    },
    {
     "data": {
      "text/plain": [
       "CommitInfo(commit_url='https://huggingface.co/datasets/jwnt4/charades-sta-test/commit/9323cbb76e23a63fc545ea198ef5fc9a31729bf8', commit_message='Upload videos_small.zip with huggingface_hub', commit_description='', oid='9323cbb76e23a63fc545ea198ef5fc9a31729bf8', pr_url=None, repo_url=RepoUrl('https://huggingface.co/datasets/jwnt4/charades-sta-test', endpoint='https://huggingface.co', repo_type='dataset', repo_id='jwnt4/charades-sta-test'), pr_revision=None, pr_num=None)"
      ]
     },
     "execution_count": 56,
     "metadata": {},
     "output_type": "execute_result"
    }
   ],
   "source": [
    "api.upload_file(\n",
    "    path_or_fileobj=\"videos_small.zip\",\n",
    "    path_in_repo=\"videos_small.zip\",\n",
    "    repo_id=\"jwnt4/charades-sta-test\",\n",
    "    repo_type=\"dataset\",\n",
    ")"
   ]
  },
  {
   "cell_type": "code",
   "execution_count": 57,
   "id": "3b3971fe",
   "metadata": {},
   "outputs": [
    {
     "data": {
      "text/plain": [
       "CommitInfo(commit_url='https://huggingface.co/datasets/jwnt4/charades-sta-test/commit/433d5181c4319cffcbbef4841bc856ecc494195f', commit_message='Upload charades-sta-test-small.csv with huggingface_hub', commit_description='', oid='433d5181c4319cffcbbef4841bc856ecc494195f', pr_url=None, repo_url=RepoUrl('https://huggingface.co/datasets/jwnt4/charades-sta-test', endpoint='https://huggingface.co', repo_type='dataset', repo_id='jwnt4/charades-sta-test'), pr_revision=None, pr_num=None)"
      ]
     },
     "execution_count": 57,
     "metadata": {},
     "output_type": "execute_result"
    }
   ],
   "source": [
    "api.upload_file(\n",
    "    path_or_fileobj='charades_sta_small_test.csv',\n",
    "    path_in_repo='charades-sta-test-small.csv',\n",
    "    repo_id=\"jwnt4/charades-sta-test\", repo_type='dataset'\n",
    ")"
   ]
  },
  {
   "cell_type": "code",
   "execution_count": 59,
   "id": "f6dda72f",
   "metadata": {},
   "outputs": [],
   "source": [
    "!rm videos_small.zip charades_sta_small_test.csv"
   ]
  },
  {
   "cell_type": "code",
   "execution_count": 62,
   "id": "506b283d",
   "metadata": {},
   "outputs": [],
   "source": [
    "!rm -rf charades-sta-test/ videos_small"
   ]
  },
  {
   "cell_type": "code",
   "execution_count": 65,
   "id": "7c0c961a",
   "metadata": {},
   "outputs": [
    {
     "data": {
      "application/vnd.jupyter.widget-view+json": {
       "model_id": "baba1ce285504dd5a54dfd01d2e3f699",
       "version_major": 2,
       "version_minor": 0
      },
      "text/plain": [
       "videos.tar.gz:   0%|          | 0.00/17.6G [00:00<?, ?B/s]"
      ]
     },
     "metadata": {},
     "output_type": "display_data"
    },
    {
     "data": {
      "text/plain": [
       "'/root/.cache/huggingface/hub/datasets--jwnt4--qvhighlights-val/snapshots/ac8c31f36434b501996dc8ff73f225f4492f40ed/videos.tar.gz'"
      ]
     },
     "execution_count": 65,
     "metadata": {},
     "output_type": "execute_result"
    }
   ],
   "source": [
    "download_path = hf_hub_download(repo_id=\"jwnt4/qvhighlights-val\", filename=\"videos.tar.gz\", repo_type=\"dataset\")\n",
    "download_path"
   ]
  },
  {
   "cell_type": "code",
   "execution_count": 8,
   "id": "b5b42bae",
   "metadata": {},
   "outputs": [],
   "source": [
    "!tar -xzf /root/.cache/huggingface/hub/datasets--jwnt4--qvhighlights-val/snapshots/ac8c31f36434b501996dc8ff73f225f4492f40ed/videos.tar.gz -C qvhighlights-val/"
   ]
  },
  {
   "cell_type": "code",
   "execution_count": 13,
   "id": "b9436d90",
   "metadata": {},
   "outputs": [
    {
     "data": {
      "text/plain": [
       "'highlight_val_release.json'"
      ]
     },
     "execution_count": 13,
     "metadata": {},
     "output_type": "execute_result"
    }
   ],
   "source": [
    "json_path = hf_hub_download(repo_id=\"jwnt4/qvhighlights-val\", filename=\"highlight_val_release.json\", repo_type=\"dataset\", local_dir='.')\n",
    "json_path"
   ]
  },
  {
   "cell_type": "code",
   "execution_count": 14,
   "id": "89d741b3",
   "metadata": {},
   "outputs": [],
   "source": [
    "import json\n",
    "with open(json_path, 'r') as f:\n",
    "    highlight_val_release = json.load(f)"
   ]
  },
  {
   "cell_type": "code",
   "execution_count": 16,
   "id": "4002c117",
   "metadata": {},
   "outputs": [],
   "source": [
    "highlight_val_small = random.sample(highlight_val_release, k=150)"
   ]
  },
  {
   "cell_type": "code",
   "execution_count": 18,
   "id": "566c2011",
   "metadata": {},
   "outputs": [
    {
     "data": {
      "text/plain": [
       "150"
      ]
     },
     "execution_count": 18,
     "metadata": {},
     "output_type": "execute_result"
    }
   ],
   "source": [
    "len(highlight_val_small)"
   ]
  },
  {
   "cell_type": "code",
   "execution_count": 19,
   "id": "ee2950db",
   "metadata": {},
   "outputs": [
    {
     "data": {
      "text/html": [
       "<div>\n",
       "<style scoped>\n",
       "    .dataframe tbody tr th:only-of-type {\n",
       "        vertical-align: middle;\n",
       "    }\n",
       "\n",
       "    .dataframe tbody tr th {\n",
       "        vertical-align: top;\n",
       "    }\n",
       "\n",
       "    .dataframe thead th {\n",
       "        text-align: right;\n",
       "    }\n",
       "</style>\n",
       "<table border=\"1\" class=\"dataframe\">\n",
       "  <thead>\n",
       "    <tr style=\"text-align: right;\">\n",
       "      <th></th>\n",
       "      <th>qid</th>\n",
       "      <th>query</th>\n",
       "      <th>duration</th>\n",
       "      <th>vid</th>\n",
       "      <th>relevant_clip_ids</th>\n",
       "      <th>saliency_scores</th>\n",
       "      <th>relevant_windows</th>\n",
       "    </tr>\n",
       "  </thead>\n",
       "  <tbody>\n",
       "    <tr>\n",
       "      <th>0</th>\n",
       "      <td>3279</td>\n",
       "      <td>A black woman wears gold sunglasses while in a...</td>\n",
       "      <td>150</td>\n",
       "      <td>8v4IP_PI8AE_60.0_210.0</td>\n",
       "      <td>[32, 33, 34, 35, 36, 37, 38, 39, 40, 41, 42, 4...</td>\n",
       "      <td>[[3, 4, 1], [3, 4, 3], [2, 4, 3], [3, 4, 2], [...</td>\n",
       "      <td>[[64, 92], [94, 96]]</td>\n",
       "    </tr>\n",
       "    <tr>\n",
       "      <th>1</th>\n",
       "      <td>4326</td>\n",
       "      <td>A girl exploring a hotel room</td>\n",
       "      <td>150</td>\n",
       "      <td>ACMKgn5w2HY_60.0_210.0</td>\n",
       "      <td>[55, 56, 57, 58, 59, 60, 61, 62, 63, 64, 65, 6...</td>\n",
       "      <td>[[4, 3, 1], [4, 3, 2], [4, 3, 1], [4, 1, 3], [...</td>\n",
       "      <td>[[110, 148]]</td>\n",
       "    </tr>\n",
       "  </tbody>\n",
       "</table>\n",
       "</div>"
      ],
      "text/plain": [
       "    qid                                              query  duration  \\\n",
       "0  3279  A black woman wears gold sunglasses while in a...       150   \n",
       "1  4326                      A girl exploring a hotel room       150   \n",
       "\n",
       "                      vid                                  relevant_clip_ids  \\\n",
       "0  8v4IP_PI8AE_60.0_210.0  [32, 33, 34, 35, 36, 37, 38, 39, 40, 41, 42, 4...   \n",
       "1  ACMKgn5w2HY_60.0_210.0  [55, 56, 57, 58, 59, 60, 61, 62, 63, 64, 65, 6...   \n",
       "\n",
       "                                     saliency_scores      relevant_windows  \n",
       "0  [[3, 4, 1], [3, 4, 3], [2, 4, 3], [3, 4, 2], [...  [[64, 92], [94, 96]]  \n",
       "1  [[4, 3, 1], [4, 3, 2], [4, 3, 1], [4, 1, 3], [...          [[110, 148]]  "
      ]
     },
     "execution_count": 19,
     "metadata": {},
     "output_type": "execute_result"
    }
   ],
   "source": [
    "df = pd.DataFrame(highlight_val_small)\n",
    "df.head(2)"
   ]
  },
  {
   "cell_type": "code",
   "execution_count": 20,
   "id": "b7fb4dbf",
   "metadata": {},
   "outputs": [
    {
     "data": {
      "text/plain": [
       "150"
      ]
     },
     "execution_count": 20,
     "metadata": {},
     "output_type": "execute_result"
    }
   ],
   "source": [
    "df['qid'].nunique()"
   ]
  },
  {
   "cell_type": "code",
   "execution_count": 36,
   "id": "d8a3f3ff",
   "metadata": {},
   "outputs": [],
   "source": [
    "vids150 = set(df['vid'].to_list())\n",
    "vids = set()\n",
    "for file in os.listdir('qvhighlights-val'):\n",
    "    vids.add(file[:-4])\n",
    "    "
   ]
  },
  {
   "cell_type": "code",
   "execution_count": 45,
   "id": "8c261f1d",
   "metadata": {},
   "outputs": [
    {
     "name": "stderr",
     "output_type": "stream",
     "text": [
      "100%|██████████| 1369/1369 [00:01<00:00, 878.45it/s] \n"
     ]
    }
   ],
   "source": [
    "deleted = vids - vids150\n",
    "for del_vid in tqdm(deleted):\n",
    "    os.remove(f\"qvhighlights-val/{del_vid}.mp4\")\n",
    "    "
   ]
  },
  {
   "cell_type": "code",
   "execution_count": 47,
   "id": "cc7910d7",
   "metadata": {},
   "outputs": [
    {
     "data": {
      "text/plain": [
       "'/kaggle/working/videos_small.zip'"
      ]
     },
     "execution_count": 47,
     "metadata": {},
     "output_type": "execute_result"
    }
   ],
   "source": [
    "shutil.make_archive(\"videos_small\", \"zip\", \"qvhighlights-val\")"
   ]
  },
  {
   "cell_type": "code",
   "execution_count": 48,
   "id": "32df00d3",
   "metadata": {},
   "outputs": [],
   "source": [
    "df.to_csv('qvhighlights-val-small.csv')"
   ]
  },
  {
   "cell_type": "code",
   "execution_count": 50,
   "id": "c82dc5c6",
   "metadata": {},
   "outputs": [
    {
     "data": {
      "application/vnd.jupyter.widget-view+json": {
       "model_id": "5b735a9606b947759e9bd8845a192481",
       "version_major": 2,
       "version_minor": 0
      },
      "text/plain": [
       "videos_small.zip:   0%|          | 0.00/1.74G [00:00<?, ?B/s]"
      ]
     },
     "metadata": {},
     "output_type": "display_data"
    },
    {
     "data": {
      "text/plain": [
       "CommitInfo(commit_url='https://huggingface.co/datasets/jwnt4/qvhighlights-val/commit/5d7957b226ee564e442c91e1a6ffe60d2635fbb7', commit_message='Upload highlight_val_release_small.csv with huggingface_hub', commit_description='', oid='5d7957b226ee564e442c91e1a6ffe60d2635fbb7', pr_url=None, repo_url=RepoUrl('https://huggingface.co/datasets/jwnt4/qvhighlights-val', endpoint='https://huggingface.co', repo_type='dataset', repo_id='jwnt4/qvhighlights-val'), pr_revision=None, pr_num=None)"
      ]
     },
     "execution_count": 50,
     "metadata": {},
     "output_type": "execute_result"
    }
   ],
   "source": [
    "api.upload_file(\n",
    "    path_or_fileobj=\"videos_small.zip\",\n",
    "    path_in_repo=\"videos_small.zip\",\n",
    "    repo_id=\"jwnt4/qvhighlights-val\",\n",
    "    repo_type=\"dataset\",\n",
    ")\n",
    "\n",
    "api.upload_file(\n",
    "    path_or_fileobj='qvhighlights-val-small.csv',\n",
    "    path_in_repo='highlight_val_release_small.csv',\n",
    "    repo_id=\"jwnt4/qvhighlights-val\", repo_type='dataset'\n",
    ")"
   ]
  },
  {
   "cell_type": "code",
   "execution_count": null,
   "id": "a674e35b",
   "metadata": {},
   "outputs": [],
   "source": []
  }
 ],
 "metadata": {
  "kernelspec": {
   "display_name": "Python 3 (ipykernel)",
   "language": "python",
   "name": "python3"
  }
 },
 "nbformat": 4,
 "nbformat_minor": 5
}
