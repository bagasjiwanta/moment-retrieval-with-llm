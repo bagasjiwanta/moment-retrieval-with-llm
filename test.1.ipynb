{
 "cells": [
  {
   "cell_type": "code",
   "execution_count": 1,
   "id": "94eeddab",
   "metadata": {},
   "outputs": [
    {
     "name": "stderr",
     "output_type": "stream",
     "text": [
      "--2025-05-05 13:36:05--  https://huggingface.co/datasets/jwnt4/qvhighlights-val/resolve/main/highlight_val_release.jsonl\n",
      "Resolving huggingface.co (huggingface.co)... 3.164.240.38, 3.164.240.43, 3.164.240.65, ...\n",
      "Connecting to huggingface.co (huggingface.co)|3.164.240.38|:443... connected.\n",
      "HTTP request sent, awaiting response... 200 OK\n",
      "Length: 821101 (802K) [text/plain]\n",
      "Saving to: ‘highlight_val_release.jsonl’\n",
      "\n",
      "     0K .......... .......... .......... .......... ..........  6% 39.7M 0s\n",
      "    50K .......... .......... .......... .......... .......... 12% 30.7M 0s\n",
      "   100K .......... .......... .......... .......... .......... 18% 74.9M 0s\n",
      "   150K .......... .......... .......... .......... .......... 24% 66.0M 0s\n",
      "   200K .......... .......... .......... .......... .......... 31% 84.0M 0s\n",
      "   250K .......... .......... .......... .......... .......... 37% 91.3M 0s\n",
      "   300K .......... .......... .......... .......... .......... 43% 24.3M 0s\n",
      "   350K .......... .......... .......... .......... .......... 49% 25.1M 0s\n",
      "   400K .......... .......... .......... .......... .......... 56% 81.0M 0s\n",
      "   450K .......... .......... .......... .......... .......... 62% 78.8M 0s\n",
      "   500K .......... .......... .......... .......... .......... 68% 75.4M 0s\n",
      "   550K .......... .......... .......... .......... .......... 74% 72.1M 0s\n",
      "   600K .......... .......... .......... .......... .......... 81% 90.2M 0s\n",
      "   650K .......... .......... .......... .......... .......... 87% 33.7M 0s\n",
      "   700K .......... .......... .......... .......... .......... 93% 61.8M 0s\n",
      "   750K .......... .......... .......... .......... .......... 99% 50.5M 0s\n",
      "   800K .                                                     100% 3.46T=0.02s\n",
      "\n",
      "2025-05-05 13:36:09 (50.3 MB/s) - ‘highlight_val_release.jsonl’ saved [821101/821101]\n",
      "\n"
     ]
    }
   ],
   "source": [
    "%%bash\n",
    "wget https://huggingface.co/datasets/jwnt4/qvhighlights-val/resolve/main/highlight_val_release.jsonl"
   ]
  },
  {
   "cell_type": "code",
   "execution_count": 2,
   "id": "157ae240",
   "metadata": {},
   "outputs": [],
   "source": [
    "import json\n",
    "import numpy as np"
   ]
  },
  {
   "cell_type": "code",
   "execution_count": 23,
   "id": "aa0f8bda",
   "metadata": {},
   "outputs": [],
   "source": [
    "with open('highlight_val_release.jsonl', 'r') as f_in:\n",
    "    all_data = [line for line in f_in.readlines()]"
   ]
  },
  {
   "cell_type": "code",
   "execution_count": 24,
   "id": "7c6935c2",
   "metadata": {},
   "outputs": [
    {
     "data": {
      "text/plain": [
       "1550"
      ]
     },
     "execution_count": 24,
     "metadata": {},
     "output_type": "execute_result"
    }
   ],
   "source": [
    "len(all_data)"
   ]
  },
  {
   "cell_type": "code",
   "execution_count": 25,
   "id": "14e44286",
   "metadata": {},
   "outputs": [
    {
     "data": {
      "text/plain": [
       "'{\"qid\": 2579, \"query\": \"A girl and her mother cooked while talking with each other on facetime.\", \"duration\": 150, \"vid\": \"NUsG9BgSes0_210.0_360.0\", \"relevant_clip_ids\": [41, 42, 43, 44, 45, 46, 47, 48, 49, 50, 51, 52, 53, 54, 55, 56, 57, 58, 59, 60, 61, 62, 63, 64, 65, 66, 67, 68, 69, 70, 71, 72, 73, 74], \"saliency_scores\": [[1, 1, 2], [1, 1, 3], [1, 1, 3], [1, 1, 3], [1, 1, 3], [1, 1, 2], [1, 1, 3], [2, 1, 4], [2, 1, 4], [2, 1, 4], [2, 2, 4], [2, 2, 3], [3, 2, 2], [4, 2, 2], [4, 2, 2], [4, 2, 2], [3, 2, 2], [3, 2, 3], [3, 2, 3], [4, 2, 3], [3, 2, 3], [3, 2, 3], [3, 2, 3], [3, 2, 3], [3, 2, 2], [3, 2, 2], [3, 2, 2], [3, 2, 3], [3, 2, 4], [3, 2, 3], [3, 2, 4], [3, 2, 4], [3, 1, 3], [3, 1, 4]], \"relevant_windows\": [[82, 150]]}\\n'"
      ]
     },
     "execution_count": 25,
     "metadata": {},
     "output_type": "execute_result"
    }
   ],
   "source": [
    "all_data[0]"
   ]
  },
  {
   "cell_type": "code",
   "execution_count": 26,
   "id": "d2a5ebc2",
   "metadata": {},
   "outputs": [],
   "source": [
    "train = 1085\n",
    "test = 232\n",
    "val = 233"
   ]
  },
  {
   "cell_type": "code",
   "execution_count": 27,
   "id": "d0c4e118",
   "metadata": {},
   "outputs": [
    {
     "data": {
      "text/plain": [
       "1550"
      ]
     },
     "execution_count": 27,
     "metadata": {},
     "output_type": "execute_result"
    }
   ],
   "source": [
    "train + test + val"
   ]
  },
  {
   "cell_type": "code",
   "execution_count": 31,
   "id": "fff94fbe",
   "metadata": {},
   "outputs": [
    {
     "data": {
      "text/plain": [
       "(1085, 232, 233)"
      ]
     },
     "execution_count": 31,
     "metadata": {},
     "output_type": "execute_result"
    }
   ],
   "source": [
    "train_data = all_data[:train]\n",
    "test_data = all_data[train: train+test]\n",
    "val_data = all_data[train+test:]\n",
    "data = {\n",
    "    \"train\": train_data,\n",
    "    \"test\": test_data,\n",
    "    \"val\": val_data\n",
    "}\n",
    "len(train_data), len(test_data), len(val_data)\n"
   ]
  },
  {
   "cell_type": "code",
   "execution_count": 34,
   "id": "faba398e",
   "metadata": {},
   "outputs": [],
   "source": [
    "for split in ['train', 'test', 'val']:\n",
    "    with open(f\"datasets/qvhighlights/annotations/raw/highlights_{split}_release.jsonl\", 'w') as f_out:\n",
    "        f_out.writelines(data[split])"
   ]
  },
  {
   "cell_type": "code",
   "execution_count": 2,
   "id": "082e73b4",
   "metadata": {},
   "outputs": [],
   "source": [
    "from huggingface_hub import hf_hub_download"
   ]
  },
  {
   "cell_type": "code",
   "execution_count": 37,
   "id": "4c3d634a",
   "metadata": {},
   "outputs": [
    {
     "data": {
      "application/vnd.jupyter.widget-view+json": {
       "model_id": "87eb430053d049b49e0aa5bdb4d371dd",
       "version_major": 2,
       "version_minor": 0
      },
      "text/plain": [
       "videos.tar.gz:   0%|          | 0.00/17.6G [00:00<?, ?B/s]"
      ]
     },
     "metadata": {},
     "output_type": "display_data"
    },
    {
     "data": {
      "text/plain": [
       "'/root/.cache/huggingface/hub/datasets--jwnt4--qvhighlights-val/snapshots/830b7416b72181aba579ff691440a34814f328ce/videos.tar.gz'"
      ]
     },
     "execution_count": 37,
     "metadata": {},
     "output_type": "execute_result"
    }
   ],
   "source": [
    "hf_hub_download(\n",
    "    repo_id=\"jwnt4/qvhighlights-val\", repo_type='dataset',\n",
    "    filename='videos.tar.gz', \n",
    ")"
   ]
  },
  {
   "cell_type": "code",
   "execution_count": null,
   "id": "3d03c052",
   "metadata": {},
   "outputs": [],
   "source": [
    "!mv '/root/.cache/huggingface/hub/datasets--jwnt4--qvhighlights-val/snapshots/830b7416b72181aba579ff691440a34814f328ce/videos.tar.gz' \"videos.tar.gz\""
   ]
  },
  {
   "cell_type": "code",
   "execution_count": null,
   "id": "3da5a4db",
   "metadata": {},
   "outputs": [],
   "source": [
    "print('e')"
   ]
  },
  {
   "cell_type": "code",
   "execution_count": 4,
   "id": "4f611fdb",
   "metadata": {},
   "outputs": [
    {
     "data": {
      "application/vnd.jupyter.widget-view+json": {
       "model_id": "175d3ed70de84c4c8268c2a95d4c736f",
       "version_major": 2,
       "version_minor": 0
      },
      "text/plain": [
       "videos.tar.gz:   0%|          | 0.00/17.6G [00:00<?, ?B/s]"
      ]
     },
     "metadata": {},
     "output_type": "display_data"
    },
    {
     "data": {
      "text/plain": [
       "'/workspace/videos.tar.gz'"
      ]
     },
     "execution_count": 4,
     "metadata": {},
     "output_type": "execute_result"
    }
   ],
   "source": [
    "hf_hub_download(\n",
    "    repo_id=\"jwnt4/qvhighlights-val\", repo_type='dataset',\n",
    "    filename='videos.tar.gz', local_dir=\"/workspace/\"\n",
    ")"
   ]
  },
  {
   "cell_type": "code",
   "execution_count": null,
   "id": "69c5c77b",
   "metadata": {},
   "outputs": [],
   "source": [
    "import json\n",
    "import re\n",
    "\n",
    "def json_dumps(data, indent=2, max_inline_length=120):\n",
    "    json_str = json.dumps(data, indent=indent)\n",
    "    # regex to find lists with no nested braces/brackets\n",
    "    pattern = re.compile(r\"\\[\\s*([^\\[\\]\\{\\}]+?)\\s*\\]\", re.DOTALL)\n",
    "\n",
    "    def replacer(match):\n",
    "        content = match.group(1)\n",
    "        # remove whitespace and newlines inside the list\n",
    "        inline = \" \".join(content.split())\n",
    "        if len(inline) <= max_inline_length:\n",
    "            return f\"[ {inline} ]\"\n",
    "        else:\n",
    "            return match.group(0)\n",
    "\n",
    "    return pattern.sub(replacer, json_str)"
   ]
  }
 ],
 "metadata": {
  "kernelspec": {
   "display_name": "Python 3",
   "language": "python",
   "name": "python3"
  },
  "language_info": {
   "codemirror_mode": {
    "name": "ipython",
    "version": 3
   },
   "file_extension": ".py",
   "mimetype": "text/x-python",
   "name": "python",
   "nbconvert_exporter": "python",
   "pygments_lexer": "ipython3",
   "version": "3.10.12"
  }
 },
 "nbformat": 4,
 "nbformat_minor": 5
}
