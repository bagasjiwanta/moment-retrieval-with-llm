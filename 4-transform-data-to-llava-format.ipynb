{
 "cells": [
  {
   "cell_type": "code",
   "execution_count": 2,
   "id": "a385ea7e",
   "metadata": {},
   "outputs": [],
   "source": [
    "%%bash\n",
    "mkdir -p datasets/qvhighlights/videos/processed"
   ]
  },
  {
   "cell_type": "code",
   "execution_count": 3,
   "id": "63ea6199",
   "metadata": {},
   "outputs": [
    {
     "name": "stdout",
     "output_type": "stream",
     "text": [
      "Processing qvhighlights\n",
      "\n",
      "Args:\n",
      " - prompt_style: 1\n",
      " - dataset_dir: datasets\n",
      " - dataset_name: qvhighlights\n",
      " - num_frames: 15\n",
      " - num_workers: 2\n",
      " - pretty_json: True\n",
      " - vid_in_dir: datasets/qvhighlights/videos/raw\n",
      " - ann_input_dir: datasets/qvhighlights/annotations/raw\n",
      " - vid_out_dir: datasets/qvhighlights/videos/processed\n",
      " - ann_out_dir: datasets/qvhighlights/annotations/processed\n",
      "\n",
      "\n"
     ]
    },
    {
     "name": "stderr",
     "output_type": "stream",
     "text": [
      "Processing 1062 videos:  11%|█▏        | 121/1062 [01:39<12:55,  1.21it/s]\n"
     ]
    },
    {
     "name": "stdout",
     "output_type": "stream",
     "text": [
      "Error while terminating subprocess (pid=6303): \n"
     ]
    },
    {
     "name": "stderr",
     "output_type": "stream",
     "text": [
      "Traceback (most recent call last):\n",
      "  File \"/usr/lib/python3.10/multiprocessing/pool.py\", line 856, in next\n",
      "    item = self._items.popleft()\n",
      "IndexError: pop from an empty deque\n"
     ]
    },
    {
     "name": "stderr",
     "output_type": "stream",
     "text": [
      "\n",
      "During handling of the above exception, another exception occurred:\n",
      "\n",
      "Traceback (most recent call last):\n",
      "  File \"/workspace/moment-retrieval-with-llm/project/make_dataset.py\", line 282, in <module>\n",
      "    main()\n",
      "  File \"/workspace/moment-retrieval-with-llm/project/make_dataset.py\", line 274, in main\n",
      "    process_qvh(\n",
      "  File \"/workspace/moment-retrieval-with-llm/project/make_dataset.py\", line 226, in process_qvh\n",
      "    for vid, summary in iterator:\n",
      "  File \"/usr/local/lib/python3.10/dist-packages/tqdm/std.py\", line 1181, in __iter__\n",
      "    for obj in iterable:\n",
      "  File \"/usr/lib/python3.10/multiprocessing/pool.py\", line 861, in next\n",
      "    self._cond.wait(timeout)\n",
      "  File \"/usr/lib/python3.10/threading.py\", line 320, in wait\n",
      "    waiter.acquire()\n",
      "KeyboardInterrupt\n"
     ]
    }
   ],
   "source": [
    "%%bash\n",
    "python project/make_dataset.py \\\n",
    "    --prompt_style 1 \\\n",
    "    --dataset_dir datasets \\\n",
    "    --num_frames 15 \\\n",
    "    --num_workers 2 \\\n",
    "    --pretty_json"
   ]
  },
  {
   "cell_type": "code",
   "execution_count": 7,
   "id": "27c9c8b9",
   "metadata": {},
   "outputs": [],
   "source": [
    "import os"
   ]
  },
  {
   "cell_type": "code",
   "execution_count": 8,
   "id": "b311e64e",
   "metadata": {},
   "outputs": [
    {
     "data": {
      "text/plain": [
       "'c:\\\\ai\\\\moment-retrieval-with-llm'"
      ]
     },
     "execution_count": 8,
     "metadata": {},
     "output_type": "execute_result"
    }
   ],
   "source": [
    "os.getcwd()"
   ]
  },
  {
   "cell_type": "code",
   "execution_count": null,
   "id": "198ffe1d",
   "metadata": {},
   "outputs": [],
   "source": [
    "import json\n",
    "import numpy as np\n",
    "import pandas as pd\n",
    "import random"
   ]
  },
  {
   "cell_type": "code",
   "execution_count": 9,
   "id": "ff9270d9",
   "metadata": {},
   "outputs": [],
   "source": [
    "with open(\"datasets/raw/highlight_train_release.jsonl\", \"r\") as f_in:\n",
    "    qvh_train = [json.loads(line) for line in f_in.readlines()]\n",
    "\n",
    "with open(\"datasets/raw/highlight_val_release.jsonl\", \"r\") as f_in:\n",
    "    qvh_val = [json.loads(line) for line in f_in.readlines()]\n",
    "\n",
    "with open(\"datasets/raw/highlight_test_release.jsonl\", \"r\") as f_in:\n",
    "    qvh_test = [json.loads(line) for line in f_in.readlines()]\n"
   ]
  },
  {
   "cell_type": "code",
   "execution_count": 10,
   "id": "bcb6a61f",
   "metadata": {},
   "outputs": [
    {
     "data": {
      "text/plain": [
       "(7218, 1550, 1542)"
      ]
     },
     "execution_count": 10,
     "metadata": {},
     "output_type": "execute_result"
    }
   ],
   "source": [
    "len(qvh_train), len(qvh_val), len(qvh_test)"
   ]
  },
  {
   "cell_type": "code",
   "execution_count": 13,
   "id": "9fc5f88d",
   "metadata": {},
   "outputs": [
    {
     "data": {
      "text/plain": [
       "{'qid': 9769,\n",
       " 'query': 'some military patriots takes us through their safety procedures and measures.',\n",
       " 'duration': 150,\n",
       " 'vid': 'j7rJstUseKg_360.0_510.0',\n",
       " 'relevant_clip_ids': [36,\n",
       "  37,\n",
       "  38,\n",
       "  39,\n",
       "  40,\n",
       "  42,\n",
       "  43,\n",
       "  44,\n",
       "  45,\n",
       "  46,\n",
       "  48,\n",
       "  49,\n",
       "  50,\n",
       "  51,\n",
       "  52,\n",
       "  54,\n",
       "  55,\n",
       "  56,\n",
       "  57,\n",
       "  58,\n",
       "  60,\n",
       "  61,\n",
       "  62,\n",
       "  63,\n",
       "  64,\n",
       "  68,\n",
       "  69,\n",
       "  70,\n",
       "  72],\n",
       " 'saliency_scores': [[4, 3, 2],\n",
       "  [4, 1, 3],\n",
       "  [4, 3, 4],\n",
       "  [4, 1, 2],\n",
       "  [4, 2, 2],\n",
       "  [4, 2, 2],\n",
       "  [4, 2, 2],\n",
       "  [4, 2, 2],\n",
       "  [4, 1, 2],\n",
       "  [4, 1, 3],\n",
       "  [4, 3, 4],\n",
       "  [4, 3, 3],\n",
       "  [4, 3, 3],\n",
       "  [4, 3, 4],\n",
       "  [4, 3, 2],\n",
       "  [4, 1, 2],\n",
       "  [4, 3, 2],\n",
       "  [4, 1, 2],\n",
       "  [4, 1, 2],\n",
       "  [4, 1, 2],\n",
       "  [4, 1, 2],\n",
       "  [3, 3, 3],\n",
       "  [4, 3, 4],\n",
       "  [4, 1, 3],\n",
       "  [4, 1, 2],\n",
       "  [4, 1, 2],\n",
       "  [4, 1, 2],\n",
       "  [4, 1, 2],\n",
       "  [4, 1, 2]],\n",
       " 'relevant_windows': [[72, 82],\n",
       "  [84, 94],\n",
       "  [96, 106],\n",
       "  [108, 118],\n",
       "  [120, 130],\n",
       "  [136, 142],\n",
       "  [144, 146]]}"
      ]
     },
     "execution_count": 13,
     "metadata": {},
     "output_type": "execute_result"
    }
   ],
   "source": [
    "qvh_train[0]"
   ]
  },
  {
   "cell_type": "code",
   "execution_count": null,
   "id": "a3bdda91",
   "metadata": {},
   "outputs": [],
   "source": [
    "prompt_example = '''<image><image><image><image><image><image><image><image><image><image><image><image><image><image><image>\n",
    "Example: frames=15, activity=\"man sitting down in Bus\", answer=000000011111111\n",
    "You are given 15 images sampled from a video in order from image 1 to image 15.\n",
    "Identify the frames where A black woman wears gold sunglasses while in a airport lobby is seen happening.\n",
    "Output exactly 15 characters using 0 or 1: write 1 if the activity appears, and 0 if it does not.\n",
    "No quotes, no extra text, no line breaks.'''"
   ]
  }
 ],
 "metadata": {
  "kernelspec": {
   "display_name": "env311",
   "language": "python",
   "name": "python3"
  },
  "language_info": {
   "codemirror_mode": {
    "name": "ipython",
    "version": 3
   },
   "file_extension": ".py",
   "mimetype": "text/x-python",
   "name": "python",
   "nbconvert_exporter": "python",
   "pygments_lexer": "ipython3",
   "version": "3.11.9"
  }
 },
 "nbformat": 4,
 "nbformat_minor": 5
}
