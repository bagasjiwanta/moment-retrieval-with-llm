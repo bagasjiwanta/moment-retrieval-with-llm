{
 "cells": [
  {
   "cell_type": "code",
   "execution_count": 4,
   "id": "63ea6199",
   "metadata": {},
   "outputs": [
    {
     "name": "stderr",
     "output_type": "stream",
     "text": [
      "  % Total    % Received % Xferd  Average Speed   Time    Time     Time  Current\n",
      "                                 Dload  Upload   Total   Spent    Left  Speed\n",
      "\n",
      "  0     0    0     0    0     0      0      0 --:--:-- --:--:-- --:--:--     0\n",
      "100  801k  100  801k    0     0  1151k      0 --:--:-- --:--:-- --:--:-- 1157k\n",
      "  % Total    % Received % Xferd  Average Speed   Time    Time     Time  Current\n",
      "                                 Dload  Upload   Total   Spent    Left  Speed\n",
      "\n",
      "  0     0    0     0    0     0      0      0 --:--:-- --:--:-- --:--:--     0\n",
      " 25 3863k   25  984k    0     0   990k      0  0:00:03 --:--:--  0:00:03  994k\n",
      "100 3863k  100 3863k    0     0  2621k      0  0:00:01  0:00:01 --:--:-- 2630k\n",
      "  % Total    % Received % Xferd  Average Speed   Time    Time     Time  Current\n",
      "                                 Dload  Upload   Total   Spent    Left  Speed\n",
      "\n",
      "  0     0    0     0    0     0      0      0 --:--:-- --:--:-- --:--:--     0\n",
      "  0     0    0     0    0     0      0      0 --:--:-- --:--:-- --:--:--     0\n",
      "100  199k  100  199k    0     0   337k      0 --:--:-- --:--:-- --:--:--  338k\n"
     ]
    }
   ],
   "source": [
    "!curl https://huggingface.co/datasets/jwnt4/qvhighlights-val/resolve/main/highlight_val_release.jsonl -o ./datasets/raw/highlight_val_release.jsonl\n",
    "!curl https://huggingface.co/datasets/jwnt4/qvhighlights-train/resolve/main/highlight_train_release.jsonl -o ./datasets/raw/highlight_train_release.jsonl\n",
    "!curl https://huggingface.co/datasets/jwnt4/qvhighlights-test/resolve/main/highlight_test_release.jsonl -o ./datasets/raw/highlight_test_release.jsonl"
   ]
  },
  {
   "cell_type": "code",
   "execution_count": 7,
   "id": "27c9c8b9",
   "metadata": {},
   "outputs": [],
   "source": [
    "import os"
   ]
  },
  {
   "cell_type": "code",
   "execution_count": 8,
   "id": "b311e64e",
   "metadata": {},
   "outputs": [
    {
     "data": {
      "text/plain": [
       "'c:\\\\ai\\\\moment-retrieval-with-llm'"
      ]
     },
     "execution_count": 8,
     "metadata": {},
     "output_type": "execute_result"
    }
   ],
   "source": [
    "os.getcwd()"
   ]
  },
  {
   "cell_type": "code",
   "execution_count": null,
   "id": "198ffe1d",
   "metadata": {},
   "outputs": [],
   "source": [
    "import json\n",
    "import numpy as np\n",
    "import pandas as pd\n",
    "import random"
   ]
  },
  {
   "cell_type": "code",
   "execution_count": 9,
   "id": "ff9270d9",
   "metadata": {},
   "outputs": [],
   "source": [
    "with open(\"datasets/raw/highlight_train_release.jsonl\", \"r\") as f_in:\n",
    "    qvh_train = [json.loads(line) for line in f_in.readlines()]\n",
    "\n",
    "with open(\"datasets/raw/highlight_val_release.jsonl\", \"r\") as f_in:\n",
    "    qvh_val = [json.loads(line) for line in f_in.readlines()]\n",
    "\n",
    "with open(\"datasets/raw/highlight_test_release.jsonl\", \"r\") as f_in:\n",
    "    qvh_test = [json.loads(line) for line in f_in.readlines()]\n"
   ]
  },
  {
   "cell_type": "code",
   "execution_count": 10,
   "id": "bcb6a61f",
   "metadata": {},
   "outputs": [
    {
     "data": {
      "text/plain": [
       "(7218, 1550, 1542)"
      ]
     },
     "execution_count": 10,
     "metadata": {},
     "output_type": "execute_result"
    }
   ],
   "source": [
    "len(qvh_train), len(qvh_val), len(qvh_test)"
   ]
  },
  {
   "cell_type": "code",
   "execution_count": 13,
   "id": "9fc5f88d",
   "metadata": {},
   "outputs": [
    {
     "data": {
      "text/plain": [
       "{'qid': 9769,\n",
       " 'query': 'some military patriots takes us through their safety procedures and measures.',\n",
       " 'duration': 150,\n",
       " 'vid': 'j7rJstUseKg_360.0_510.0',\n",
       " 'relevant_clip_ids': [36,\n",
       "  37,\n",
       "  38,\n",
       "  39,\n",
       "  40,\n",
       "  42,\n",
       "  43,\n",
       "  44,\n",
       "  45,\n",
       "  46,\n",
       "  48,\n",
       "  49,\n",
       "  50,\n",
       "  51,\n",
       "  52,\n",
       "  54,\n",
       "  55,\n",
       "  56,\n",
       "  57,\n",
       "  58,\n",
       "  60,\n",
       "  61,\n",
       "  62,\n",
       "  63,\n",
       "  64,\n",
       "  68,\n",
       "  69,\n",
       "  70,\n",
       "  72],\n",
       " 'saliency_scores': [[4, 3, 2],\n",
       "  [4, 1, 3],\n",
       "  [4, 3, 4],\n",
       "  [4, 1, 2],\n",
       "  [4, 2, 2],\n",
       "  [4, 2, 2],\n",
       "  [4, 2, 2],\n",
       "  [4, 2, 2],\n",
       "  [4, 1, 2],\n",
       "  [4, 1, 3],\n",
       "  [4, 3, 4],\n",
       "  [4, 3, 3],\n",
       "  [4, 3, 3],\n",
       "  [4, 3, 4],\n",
       "  [4, 3, 2],\n",
       "  [4, 1, 2],\n",
       "  [4, 3, 2],\n",
       "  [4, 1, 2],\n",
       "  [4, 1, 2],\n",
       "  [4, 1, 2],\n",
       "  [4, 1, 2],\n",
       "  [3, 3, 3],\n",
       "  [4, 3, 4],\n",
       "  [4, 1, 3],\n",
       "  [4, 1, 2],\n",
       "  [4, 1, 2],\n",
       "  [4, 1, 2],\n",
       "  [4, 1, 2],\n",
       "  [4, 1, 2]],\n",
       " 'relevant_windows': [[72, 82],\n",
       "  [84, 94],\n",
       "  [96, 106],\n",
       "  [108, 118],\n",
       "  [120, 130],\n",
       "  [136, 142],\n",
       "  [144, 146]]}"
      ]
     },
     "execution_count": 13,
     "metadata": {},
     "output_type": "execute_result"
    }
   ],
   "source": [
    "qvh_train[0]"
   ]
  },
  {
   "cell_type": "code",
   "execution_count": null,
   "id": "a3bdda91",
   "metadata": {},
   "outputs": [],
   "source": [
    "prompt_example = '''<image><image><image><image><image><image><image><image><image><image><image><image><image><image><image>\n",
    "Example: frames=15, activity=\"man sitting down in Bus\", answer=000000011111111\n",
    "You are given 15 images sampled from a video in order from image 1 to image 15.\n",
    "Identify the frames where A black woman wears gold sunglasses while in a airport lobby is seen happening.\n",
    "Output exactly 15 characters using 0 or 1: write 1 if the activity appears, and 0 if it does not.\n",
    "No quotes, no extra text, no line breaks.'''"
   ]
  }
 ],
 "metadata": {
  "kernelspec": {
   "display_name": "env311",
   "language": "python",
   "name": "python3"
  },
  "language_info": {
   "codemirror_mode": {
    "name": "ipython",
    "version": 3
   },
   "file_extension": ".py",
   "mimetype": "text/x-python",
   "name": "python",
   "nbconvert_exporter": "python",
   "pygments_lexer": "ipython3",
   "version": "3.11.9"
  }
 },
 "nbformat": 4,
 "nbformat_minor": 5
}
